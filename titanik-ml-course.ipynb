{
 "cells": [
  {
   "cell_type": "code",
   "execution_count": null,
   "id": "dfbb9b6f",
   "metadata": {
    "papermill": {
     "duration": 0.015748,
     "end_time": "2023-12-26T23:07:29.743829",
     "exception": false,
     "start_time": "2023-12-26T23:07:29.728081",
     "status": "completed"
    },
    "tags": []
   },
   "outputs": [],
   "source": [
    "\n"
   ]
  },
  {
   "cell_type": "markdown",
   "id": "8473d797",
   "metadata": {
    "_kg_hide-input": true,
    "papermill": {
     "duration": 0.014692,
     "end_time": "2023-12-26T23:07:29.774246",
     "exception": false,
     "start_time": "2023-12-26T23:07:29.759554",
     "status": "completed"
    },
    "tags": []
   },
   "source": [
    "# Introduction\n",
    "I am doing this work for ML education.\n",
    "\n",
    "\n",
    "***Content:***\n",
    "\n",
    "\n",
    "\n",
    "1. [**Load and Check Data**](#1)\n",
    "1.  [**Variable Description**](#2)\n",
    "     * [**Variable Analysis**](#3)\n",
    "       * [**Categorical Analysis**](#4)  \n",
    "       * [**Numerical Analysis**](#5)\n",
    "1.  [**Basic Data Analysis**](#6) \n",
    "1.  [**Outlier Derection**](#7)\n",
    "1.  [**Missing Value**](#8) \n",
    "     * [**Find Missing Value**](#9) \n",
    "     * [**Fill Missing Value**](#10)\n",
    "1.  [**Visulization**](#11) \n",
    "     * [ **Correlation Between Sibsp -- Parch -- Age -- Fare -- Survived**](#12)\n",
    "     * [ **SibSp -- Survived**](#13)\n",
    "     * [ **Parch -- Survived**](#14)\n",
    "     * [ **Pclass -- Survived**](#15)\n",
    "     * [ **Age -- Survived**](#16)\n",
    "     * [ **Pclass -- Survived -- Age**](#17)\n",
    "     * [ **Embarked -- Sex -- Pclass -- Survived**](#18)\n",
    "     * [ **Embarked -- Sex -- Fare -- Survived**](#19)\n",
    "     * [ **Fill Missing: Age Feature**](#20)\n",
    "1.  [**Feature Engineering**](#21)\n",
    "     * [**Name -- Title**](#22)\n",
    "     * [**Family Size**](#23)\n",
    "     * [**Embarked**](#24)\n",
    "     * [**Ticket**](#25)\n",
    "     * [**Pclass**](#26)\n",
    "     * [**Sex**](#27)\n",
    "     * [**Drop Passenger ID and Cabin**](#28)\n",
    "1.  [**Modeling**](#29) \n",
    "     * [**Train - Test Split**](#30)\n",
    "     * [**Simple Logistic Regression**](#31)\n"
   ]
  },
  {
   "cell_type": "code",
   "execution_count": 1,
   "id": "024c15ee",
   "metadata": {
    "_cell_guid": "b1076dfc-b9ad-4769-8c92-a6c4dae69d19",
    "_uuid": "8f2839f25d086af736a60e9eeb907d3b93b6e0e5",
    "execution": {
     "iopub.execute_input": "2023-12-26T23:07:29.807538Z",
     "iopub.status.busy": "2023-12-26T23:07:29.807177Z",
     "iopub.status.idle": "2023-12-26T23:07:31.566230Z",
     "shell.execute_reply": "2023-12-26T23:07:31.565360Z"
    },
    "papermill": {
     "duration": 1.778939,
     "end_time": "2023-12-26T23:07:31.568256",
     "exception": false,
     "start_time": "2023-12-26T23:07:29.789317",
     "status": "completed"
    },
    "tags": []
   },
   "outputs": [
    {
     "name": "stdout",
     "output_type": "stream",
     "text": [
      "/kaggle/input/titanic/train.csv\n",
      "/kaggle/input/titanic/test.csv\n",
      "/kaggle/input/titanic/gender_submission.csv\n"
     ]
    }
   ],
   "source": [
    "# This Python 3 environment comes with many helpful analytics libraries installed\n",
    "# It is defined by the kaggle/python Docker image: https://github.com/kaggle/docker-python\n",
    "# For example, here's several helpful packages to load\n",
    "\n",
    "import numpy as np # linear algebra\n",
    "import pandas as pd # data processing, CSV file I/O (e.g. pd.read_csv)\n",
    "import matplotlib.pyplot as plt\n",
    "plt.style.use(\"seaborn-v0_8-whitegrid\")\n",
    "\n",
    "import seaborn as sns\n",
    "\n",
    "from collections import Counter\n",
    "\n",
    "\n",
    "# Input data files are available in the read-only \"../input/\" directory\n",
    "# For example, running this (by clicking run or pressing Shift+Enter) will list all files under the input directory\n",
    "\n",
    "import os\n",
    "for dirname, _, filenames in os.walk('/kaggle/input'):\n",
    "    for filename in filenames:\n",
    "        print(os.path.join(dirname, filename))\n",
    "\n",
    "# You can write up to 20GB to the current directory (/kaggle/working/) that gets preserved as output when you create a version using \"Save & Run All\" \n",
    "# You can also write temporary files to /kaggle/temp/, but they won't be saved outside of the current session"
   ]
  },
  {
   "cell_type": "code",
   "execution_count": 2,
   "id": "c334ea43",
   "metadata": {
    "execution": {
     "iopub.execute_input": "2023-12-26T23:07:31.601913Z",
     "iopub.status.busy": "2023-12-26T23:07:31.600443Z",
     "iopub.status.idle": "2023-12-26T23:07:31.609388Z",
     "shell.execute_reply": "2023-12-26T23:07:31.608241Z"
    },
    "papermill": {
     "duration": 0.027307,
     "end_time": "2023-12-26T23:07:31.611275",
     "exception": false,
     "start_time": "2023-12-26T23:07:31.583968",
     "status": "completed"
    },
    "tags": []
   },
   "outputs": [
    {
     "data": {
      "text/plain": [
       "'0.12.2'"
      ]
     },
     "execution_count": 2,
     "metadata": {},
     "output_type": "execute_result"
    }
   ],
   "source": [
    "sns.__version__"
   ]
  },
  {
   "cell_type": "code",
   "execution_count": 3,
   "id": "206c3158",
   "metadata": {
    "execution": {
     "iopub.execute_input": "2023-12-26T23:07:31.644006Z",
     "iopub.status.busy": "2023-12-26T23:07:31.643675Z",
     "iopub.status.idle": "2023-12-26T23:07:31.651482Z",
     "shell.execute_reply": "2023-12-26T23:07:31.649966Z"
    },
    "papermill": {
     "duration": 0.026677,
     "end_time": "2023-12-26T23:07:31.653449",
     "exception": false,
     "start_time": "2023-12-26T23:07:31.626772",
     "status": "completed"
    },
    "tags": []
   },
   "outputs": [
    {
     "data": {
      "text/plain": [
       "['Solarize_Light2',\n",
       " '_classic_test_patch',\n",
       " '_mpl-gallery',\n",
       " '_mpl-gallery-nogrid',\n",
       " 'bmh',\n",
       " 'classic',\n",
       " 'dark_background',\n",
       " 'fast',\n",
       " 'fivethirtyeight',\n",
       " 'ggplot',\n",
       " 'grayscale',\n",
       " 'seaborn-v0_8',\n",
       " 'seaborn-v0_8-bright',\n",
       " 'seaborn-v0_8-colorblind',\n",
       " 'seaborn-v0_8-dark',\n",
       " 'seaborn-v0_8-dark-palette',\n",
       " 'seaborn-v0_8-darkgrid',\n",
       " 'seaborn-v0_8-deep',\n",
       " 'seaborn-v0_8-muted',\n",
       " 'seaborn-v0_8-notebook',\n",
       " 'seaborn-v0_8-paper',\n",
       " 'seaborn-v0_8-pastel',\n",
       " 'seaborn-v0_8-poster',\n",
       " 'seaborn-v0_8-talk',\n",
       " 'seaborn-v0_8-ticks',\n",
       " 'seaborn-v0_8-white',\n",
       " 'seaborn-v0_8-whitegrid',\n",
       " 'tableau-colorblind10']"
      ]
     },
     "execution_count": 3,
     "metadata": {},
     "output_type": "execute_result"
    }
   ],
   "source": [
    "plt.style.available"
   ]
  },
  {
   "cell_type": "markdown",
   "id": "e09e8ee0",
   "metadata": {
    "papermill": {
     "duration": 0.016051,
     "end_time": "2023-12-26T23:07:31.685380",
     "exception": false,
     "start_time": "2023-12-26T23:07:31.669329",
     "status": "completed"
    },
    "tags": []
   },
   "source": [
    "<a id= \"1\"><a/><br>\n",
    "# **1-Load and Check Data**\n"
   ]
  },
  {
   "cell_type": "code",
   "execution_count": 4,
   "id": "36f1a67a",
   "metadata": {
    "execution": {
     "iopub.execute_input": "2023-12-26T23:07:31.718915Z",
     "iopub.status.busy": "2023-12-26T23:07:31.718510Z",
     "iopub.status.idle": "2023-12-26T23:07:31.759438Z",
     "shell.execute_reply": "2023-12-26T23:07:31.757618Z"
    },
    "papermill": {
     "duration": 0.06105,
     "end_time": "2023-12-26T23:07:31.762144",
     "exception": false,
     "start_time": "2023-12-26T23:07:31.701094",
     "status": "completed"
    },
    "tags": []
   },
   "outputs": [],
   "source": [
    "train_df = pd.read_csv(\"/kaggle/input/titanic/train.csv\")                                \n",
    "test_df = pd.read_csv(\"/kaggle/input/titanic/test.csv\")                                    \n",
    "test_PassengerId = test_df[\"PassengerId\"]"
   ]
  },
  {
   "cell_type": "code",
   "execution_count": 5,
   "id": "3075f2da",
   "metadata": {
    "execution": {
     "iopub.execute_input": "2023-12-26T23:07:31.795179Z",
     "iopub.status.busy": "2023-12-26T23:07:31.794835Z",
     "iopub.status.idle": "2023-12-26T23:07:31.801817Z",
     "shell.execute_reply": "2023-12-26T23:07:31.800582Z"
    },
    "papermill": {
     "duration": 0.025147,
     "end_time": "2023-12-26T23:07:31.803421",
     "exception": false,
     "start_time": "2023-12-26T23:07:31.778274",
     "status": "completed"
    },
    "tags": []
   },
   "outputs": [
    {
     "data": {
      "text/plain": [
       "Index(['PassengerId', 'Survived', 'Pclass', 'Name', 'Sex', 'Age', 'SibSp',\n",
       "       'Parch', 'Ticket', 'Fare', 'Cabin', 'Embarked'],\n",
       "      dtype='object')"
      ]
     },
     "execution_count": 5,
     "metadata": {},
     "output_type": "execute_result"
    }
   ],
   "source": [
    "train_df.columns"
   ]
  },
  {
   "cell_type": "code",
   "execution_count": 6,
   "id": "c4d23c77",
   "metadata": {
    "execution": {
     "iopub.execute_input": "2023-12-26T23:07:31.894042Z",
     "iopub.status.busy": "2023-12-26T23:07:31.893390Z",
     "iopub.status.idle": "2023-12-26T23:07:31.917376Z",
     "shell.execute_reply": "2023-12-26T23:07:31.916120Z"
    },
    "papermill": {
     "duration": 0.042892,
     "end_time": "2023-12-26T23:07:31.919441",
     "exception": false,
     "start_time": "2023-12-26T23:07:31.876549",
     "status": "completed"
    },
    "tags": []
   },
   "outputs": [
    {
     "data": {
      "text/html": [
       "<div>\n",
       "<style scoped>\n",
       "    .dataframe tbody tr th:only-of-type {\n",
       "        vertical-align: middle;\n",
       "    }\n",
       "\n",
       "    .dataframe tbody tr th {\n",
       "        vertical-align: top;\n",
       "    }\n",
       "\n",
       "    .dataframe thead th {\n",
       "        text-align: right;\n",
       "    }\n",
       "</style>\n",
       "<table border=\"1\" class=\"dataframe\">\n",
       "  <thead>\n",
       "    <tr style=\"text-align: right;\">\n",
       "      <th></th>\n",
       "      <th>PassengerId</th>\n",
       "      <th>Survived</th>\n",
       "      <th>Pclass</th>\n",
       "      <th>Name</th>\n",
       "      <th>Sex</th>\n",
       "      <th>Age</th>\n",
       "      <th>SibSp</th>\n",
       "      <th>Parch</th>\n",
       "      <th>Ticket</th>\n",
       "      <th>Fare</th>\n",
       "      <th>Cabin</th>\n",
       "      <th>Embarked</th>\n",
       "    </tr>\n",
       "  </thead>\n",
       "  <tbody>\n",
       "    <tr>\n",
       "      <th>0</th>\n",
       "      <td>1</td>\n",
       "      <td>0</td>\n",
       "      <td>3</td>\n",
       "      <td>Braund, Mr. Owen Harris</td>\n",
       "      <td>male</td>\n",
       "      <td>22.0</td>\n",
       "      <td>1</td>\n",
       "      <td>0</td>\n",
       "      <td>A/5 21171</td>\n",
       "      <td>7.2500</td>\n",
       "      <td>NaN</td>\n",
       "      <td>S</td>\n",
       "    </tr>\n",
       "    <tr>\n",
       "      <th>1</th>\n",
       "      <td>2</td>\n",
       "      <td>1</td>\n",
       "      <td>1</td>\n",
       "      <td>Cumings, Mrs. John Bradley (Florence Briggs Th...</td>\n",
       "      <td>female</td>\n",
       "      <td>38.0</td>\n",
       "      <td>1</td>\n",
       "      <td>0</td>\n",
       "      <td>PC 17599</td>\n",
       "      <td>71.2833</td>\n",
       "      <td>C85</td>\n",
       "      <td>C</td>\n",
       "    </tr>\n",
       "    <tr>\n",
       "      <th>2</th>\n",
       "      <td>3</td>\n",
       "      <td>1</td>\n",
       "      <td>3</td>\n",
       "      <td>Heikkinen, Miss. Laina</td>\n",
       "      <td>female</td>\n",
       "      <td>26.0</td>\n",
       "      <td>0</td>\n",
       "      <td>0</td>\n",
       "      <td>STON/O2. 3101282</td>\n",
       "      <td>7.9250</td>\n",
       "      <td>NaN</td>\n",
       "      <td>S</td>\n",
       "    </tr>\n",
       "    <tr>\n",
       "      <th>3</th>\n",
       "      <td>4</td>\n",
       "      <td>1</td>\n",
       "      <td>1</td>\n",
       "      <td>Futrelle, Mrs. Jacques Heath (Lily May Peel)</td>\n",
       "      <td>female</td>\n",
       "      <td>35.0</td>\n",
       "      <td>1</td>\n",
       "      <td>0</td>\n",
       "      <td>113803</td>\n",
       "      <td>53.1000</td>\n",
       "      <td>C123</td>\n",
       "      <td>S</td>\n",
       "    </tr>\n",
       "    <tr>\n",
       "      <th>4</th>\n",
       "      <td>5</td>\n",
       "      <td>0</td>\n",
       "      <td>3</td>\n",
       "      <td>Allen, Mr. William Henry</td>\n",
       "      <td>male</td>\n",
       "      <td>35.0</td>\n",
       "      <td>0</td>\n",
       "      <td>0</td>\n",
       "      <td>373450</td>\n",
       "      <td>8.0500</td>\n",
       "      <td>NaN</td>\n",
       "      <td>S</td>\n",
       "    </tr>\n",
       "  </tbody>\n",
       "</table>\n",
       "</div>"
      ],
      "text/plain": [
       "   PassengerId  Survived  Pclass  \\\n",
       "0            1         0       3   \n",
       "1            2         1       1   \n",
       "2            3         1       3   \n",
       "3            4         1       1   \n",
       "4            5         0       3   \n",
       "\n",
       "                                                Name     Sex   Age  SibSp  \\\n",
       "0                            Braund, Mr. Owen Harris    male  22.0      1   \n",
       "1  Cumings, Mrs. John Bradley (Florence Briggs Th...  female  38.0      1   \n",
       "2                             Heikkinen, Miss. Laina  female  26.0      0   \n",
       "3       Futrelle, Mrs. Jacques Heath (Lily May Peel)  female  35.0      1   \n",
       "4                           Allen, Mr. William Henry    male  35.0      0   \n",
       "\n",
       "   Parch            Ticket     Fare Cabin Embarked  \n",
       "0      0         A/5 21171   7.2500   NaN        S  \n",
       "1      0          PC 17599  71.2833   C85        C  \n",
       "2      0  STON/O2. 3101282   7.9250   NaN        S  \n",
       "3      0            113803  53.1000  C123        S  \n",
       "4      0            373450   8.0500   NaN        S  "
      ]
     },
     "execution_count": 6,
     "metadata": {},
     "output_type": "execute_result"
    }
   ],
   "source": [
    "train_df.head()"
   ]
  },
  {
   "cell_type": "code",
   "execution_count": 7,
   "id": "7c62bbec",
   "metadata": {
    "execution": {
     "iopub.execute_input": "2023-12-26T23:07:31.956048Z",
     "iopub.status.busy": "2023-12-26T23:07:31.955620Z",
     "iopub.status.idle": "2023-12-26T23:07:32.074067Z",
     "shell.execute_reply": "2023-12-26T23:07:32.073319Z"
    },
    "papermill": {
     "duration": 0.139723,
     "end_time": "2023-12-26T23:07:32.076266",
     "exception": false,
     "start_time": "2023-12-26T23:07:31.936543",
     "status": "completed"
    },
    "tags": []
   },
   "outputs": [
    {
     "data": {
      "text/html": [
       "<div>\n",
       "<style scoped>\n",
       "    .dataframe tbody tr th:only-of-type {\n",
       "        vertical-align: middle;\n",
       "    }\n",
       "\n",
       "    .dataframe tbody tr th {\n",
       "        vertical-align: top;\n",
       "    }\n",
       "\n",
       "    .dataframe thead th {\n",
       "        text-align: right;\n",
       "    }\n",
       "</style>\n",
       "<table border=\"1\" class=\"dataframe\">\n",
       "  <thead>\n",
       "    <tr style=\"text-align: right;\">\n",
       "      <th></th>\n",
       "      <th>count</th>\n",
       "      <th>mean</th>\n",
       "      <th>std</th>\n",
       "      <th>min</th>\n",
       "      <th>25%</th>\n",
       "      <th>50%</th>\n",
       "      <th>75%</th>\n",
       "      <th>max</th>\n",
       "    </tr>\n",
       "  </thead>\n",
       "  <tbody>\n",
       "    <tr>\n",
       "      <th>PassengerId</th>\n",
       "      <td>891.0</td>\n",
       "      <td>446.000000</td>\n",
       "      <td>257.353842</td>\n",
       "      <td>1.00</td>\n",
       "      <td>223.5000</td>\n",
       "      <td>446.0000</td>\n",
       "      <td>668.5</td>\n",
       "      <td>891.0000</td>\n",
       "    </tr>\n",
       "    <tr>\n",
       "      <th>Survived</th>\n",
       "      <td>891.0</td>\n",
       "      <td>0.383838</td>\n",
       "      <td>0.486592</td>\n",
       "      <td>0.00</td>\n",
       "      <td>0.0000</td>\n",
       "      <td>0.0000</td>\n",
       "      <td>1.0</td>\n",
       "      <td>1.0000</td>\n",
       "    </tr>\n",
       "    <tr>\n",
       "      <th>Pclass</th>\n",
       "      <td>891.0</td>\n",
       "      <td>2.308642</td>\n",
       "      <td>0.836071</td>\n",
       "      <td>1.00</td>\n",
       "      <td>2.0000</td>\n",
       "      <td>3.0000</td>\n",
       "      <td>3.0</td>\n",
       "      <td>3.0000</td>\n",
       "    </tr>\n",
       "    <tr>\n",
       "      <th>Age</th>\n",
       "      <td>714.0</td>\n",
       "      <td>29.699118</td>\n",
       "      <td>14.526497</td>\n",
       "      <td>0.42</td>\n",
       "      <td>20.1250</td>\n",
       "      <td>28.0000</td>\n",
       "      <td>38.0</td>\n",
       "      <td>80.0000</td>\n",
       "    </tr>\n",
       "    <tr>\n",
       "      <th>SibSp</th>\n",
       "      <td>891.0</td>\n",
       "      <td>0.523008</td>\n",
       "      <td>1.102743</td>\n",
       "      <td>0.00</td>\n",
       "      <td>0.0000</td>\n",
       "      <td>0.0000</td>\n",
       "      <td>1.0</td>\n",
       "      <td>8.0000</td>\n",
       "    </tr>\n",
       "    <tr>\n",
       "      <th>Parch</th>\n",
       "      <td>891.0</td>\n",
       "      <td>0.381594</td>\n",
       "      <td>0.806057</td>\n",
       "      <td>0.00</td>\n",
       "      <td>0.0000</td>\n",
       "      <td>0.0000</td>\n",
       "      <td>0.0</td>\n",
       "      <td>6.0000</td>\n",
       "    </tr>\n",
       "    <tr>\n",
       "      <th>Fare</th>\n",
       "      <td>891.0</td>\n",
       "      <td>32.204208</td>\n",
       "      <td>49.693429</td>\n",
       "      <td>0.00</td>\n",
       "      <td>7.9104</td>\n",
       "      <td>14.4542</td>\n",
       "      <td>31.0</td>\n",
       "      <td>512.3292</td>\n",
       "    </tr>\n",
       "  </tbody>\n",
       "</table>\n",
       "</div>"
      ],
      "text/plain": [
       "             count        mean         std   min       25%       50%    75%  \\\n",
       "PassengerId  891.0  446.000000  257.353842  1.00  223.5000  446.0000  668.5   \n",
       "Survived     891.0    0.383838    0.486592  0.00    0.0000    0.0000    1.0   \n",
       "Pclass       891.0    2.308642    0.836071  1.00    2.0000    3.0000    3.0   \n",
       "Age          714.0   29.699118   14.526497  0.42   20.1250   28.0000   38.0   \n",
       "SibSp        891.0    0.523008    1.102743  0.00    0.0000    0.0000    1.0   \n",
       "Parch        891.0    0.381594    0.806057  0.00    0.0000    0.0000    0.0   \n",
       "Fare         891.0   32.204208   49.693429  0.00    7.9104   14.4542   31.0   \n",
       "\n",
       "                  max  \n",
       "PassengerId  891.0000  \n",
       "Survived       1.0000  \n",
       "Pclass         3.0000  \n",
       "Age           80.0000  \n",
       "SibSp          8.0000  \n",
       "Parch          6.0000  \n",
       "Fare         512.3292  "
      ]
     },
     "execution_count": 7,
     "metadata": {},
     "output_type": "execute_result"
    }
   ],
   "source": [
    "train_df.describe().T"
   ]
  },
  {
   "cell_type": "code",
   "execution_count": 8,
   "id": "3a15f299",
   "metadata": {
    "execution": {
     "iopub.execute_input": "2023-12-26T23:07:32.111066Z",
     "iopub.status.busy": "2023-12-26T23:07:32.110673Z",
     "iopub.status.idle": "2023-12-26T23:07:32.139858Z",
     "shell.execute_reply": "2023-12-26T23:07:32.138033Z"
    },
    "papermill": {
     "duration": 0.049578,
     "end_time": "2023-12-26T23:07:32.142377",
     "exception": false,
     "start_time": "2023-12-26T23:07:32.092799",
     "status": "completed"
    },
    "tags": []
   },
   "outputs": [
    {
     "name": "stdout",
     "output_type": "stream",
     "text": [
      "<class 'pandas.core.frame.DataFrame'>\n",
      "RangeIndex: 891 entries, 0 to 890\n",
      "Data columns (total 12 columns):\n",
      " #   Column       Non-Null Count  Dtype  \n",
      "---  ------       --------------  -----  \n",
      " 0   PassengerId  891 non-null    int64  \n",
      " 1   Survived     891 non-null    int64  \n",
      " 2   Pclass       891 non-null    int64  \n",
      " 3   Name         891 non-null    object \n",
      " 4   Sex          891 non-null    object \n",
      " 5   Age          714 non-null    float64\n",
      " 6   SibSp        891 non-null    int64  \n",
      " 7   Parch        891 non-null    int64  \n",
      " 8   Ticket       891 non-null    object \n",
      " 9   Fare         891 non-null    float64\n",
      " 10  Cabin        204 non-null    object \n",
      " 11  Embarked     889 non-null    object \n",
      "dtypes: float64(2), int64(5), object(5)\n",
      "memory usage: 83.7+ KB\n"
     ]
    }
   ],
   "source": [
    "train_df.info()"
   ]
  },
  {
   "cell_type": "code",
   "execution_count": 9,
   "id": "0775456a",
   "metadata": {
    "execution": {
     "iopub.execute_input": "2023-12-26T23:07:32.177187Z",
     "iopub.status.busy": "2023-12-26T23:07:32.176772Z",
     "iopub.status.idle": "2023-12-26T23:07:32.185028Z",
     "shell.execute_reply": "2023-12-26T23:07:32.184185Z"
    },
    "papermill": {
     "duration": 0.027871,
     "end_time": "2023-12-26T23:07:32.186801",
     "exception": false,
     "start_time": "2023-12-26T23:07:32.158930",
     "status": "completed"
    },
    "tags": []
   },
   "outputs": [
    {
     "data": {
      "text/plain": [
       "True"
      ]
     },
     "execution_count": 9,
     "metadata": {},
     "output_type": "execute_result"
    }
   ],
   "source": [
    "train_df.isnull().values.any()"
   ]
  },
  {
   "cell_type": "markdown",
   "id": "ee4a9f53",
   "metadata": {
    "papermill": {
     "duration": 0.015853,
     "end_time": "2023-12-26T23:07:32.220362",
     "exception": false,
     "start_time": "2023-12-26T23:07:32.204509",
     "status": "completed"
    },
    "tags": []
   },
   "source": [
    "<a id= \"2\"><a/><br>\n",
    "# **2-Variable Description**\n",
    "    \n",
    "    \n",
    "1-PassengerId: unique id number to each passenger<br>\n",
    "2-Survived: passenger survive(1) or died(0)<br>\n",
    "3-Pclass: passenger class<br>\n",
    "4-Name: name<br>\n",
    "5-Sex: gender of passenger<br>\n",
    "6-Age: age of passenger<br>\n",
    "7-SibSp: number of siblings/spouses<br>\n",
    "8-Parch: number of parents/children<br>\n",
    "9-Ticket: ticket number<br>\n",
    "10-Fare: amount of money spent on ticket<br>\n",
    "11-Cabin: cabin category<br>\n",
    "12-Embarked: port where passenger embarked (C = Cherbourg, Q = Queenstown, S = Southampton)<br>"
   ]
  },
  {
   "cell_type": "markdown",
   "id": "0c14ddaa",
   "metadata": {
    "papermill": {
     "duration": 0.015982,
     "end_time": "2023-12-26T23:07:32.252002",
     "exception": false,
     "start_time": "2023-12-26T23:07:32.236020",
     "status": "completed"
    },
    "tags": []
   },
   "source": [
    "<a id= \"3\"><a/><br>\n",
    "# Variable Analysis                                        \n",
    "\n",
    "**Categorical Variable:** Survived, Pclass,Name, Sex,Sibsp,Embarked, Cabin,  Ticket,and Parch\n",
    "\n",
    "\n",
    "**Numerical Variable:** Fare, age and passengerId"
   ]
  },
  {
   "cell_type": "code",
   "execution_count": 10,
   "id": "6daf8a2b",
   "metadata": {
    "execution": {
     "iopub.execute_input": "2023-12-26T23:07:32.287199Z",
     "iopub.status.busy": "2023-12-26T23:07:32.286852Z",
     "iopub.status.idle": "2023-12-26T23:07:32.293922Z",
     "shell.execute_reply": "2023-12-26T23:07:32.293038Z"
    },
    "papermill": {
     "duration": 0.026753,
     "end_time": "2023-12-26T23:07:32.295683",
     "exception": false,
     "start_time": "2023-12-26T23:07:32.268930",
     "status": "completed"
    },
    "tags": []
   },
   "outputs": [
    {
     "data": {
      "text/plain": [
       "array(['male', 'female'], dtype=object)"
      ]
     },
     "execution_count": 10,
     "metadata": {},
     "output_type": "execute_result"
    }
   ],
   "source": [
    "\n",
    "train_df.Sex.value_counts()\n",
    "train_df.Sex.unique()\n"
   ]
  },
  {
   "cell_type": "markdown",
   "id": "e894b5ba",
   "metadata": {
    "papermill": {
     "duration": 0.017205,
     "end_time": "2023-12-26T23:07:32.329767",
     "exception": false,
     "start_time": "2023-12-26T23:07:32.312562",
     "status": "completed"
    },
    "tags": []
   },
   "source": [
    "<a id= \"4\"><a/><br>\n",
    "# Categorical Variable"
   ]
  },
  {
   "cell_type": "code",
   "execution_count": 11,
   "id": "a0cde0f4",
   "metadata": {
    "execution": {
     "iopub.execute_input": "2023-12-26T23:07:32.364802Z",
     "iopub.status.busy": "2023-12-26T23:07:32.364041Z",
     "iopub.status.idle": "2023-12-26T23:07:32.369886Z",
     "shell.execute_reply": "2023-12-26T23:07:32.369293Z"
    },
    "papermill": {
     "duration": 0.02548,
     "end_time": "2023-12-26T23:07:32.371799",
     "exception": false,
     "start_time": "2023-12-26T23:07:32.346319",
     "status": "completed"
    },
    "tags": []
   },
   "outputs": [],
   "source": [
    "def bar_plot(variable):\n",
    "    \"\"\"\n",
    "        input: variable ex: \"Sex\"\n",
    "        output: bar plot & value count\n",
    "    \"\"\"\n",
    "    # get feature\n",
    "    var = train_df[variable]\n",
    "    # count number of categorical variable(value/sample)\n",
    "    varValue = var.value_counts()\n",
    "    \n",
    "    # visualize\n",
    "    plt.figure(figsize = (9,3))\n",
    "    plt.bar(varValue.index, varValue)\n",
    "    plt.xticks(varValue.index, varValue.index.values)\n",
    "    plt.ylabel(\"Frequency\")\n",
    "    plt.title(variable)\n",
    "    plt.show()\n",
    "    print(f\"{variable}: \\n {varValue}\")\n",
    "    "
   ]
  },
  {
   "cell_type": "code",
   "execution_count": 12,
   "id": "9c645e13",
   "metadata": {
    "execution": {
     "iopub.execute_input": "2023-12-26T23:07:32.406505Z",
     "iopub.status.busy": "2023-12-26T23:07:32.406073Z",
     "iopub.status.idle": "2023-12-26T23:07:33.440275Z",
     "shell.execute_reply": "2023-12-26T23:07:33.439240Z"
    },
    "papermill": {
     "duration": 1.054058,
     "end_time": "2023-12-26T23:07:33.442401",
     "exception": false,
     "start_time": "2023-12-26T23:07:32.388343",
     "status": "completed"
    },
    "tags": []
   },
   "outputs": [
    {
     "data": {
      "image/png": "[encoded data removed]",
      "text/plain": [
       "<Figure size 900x300 with 1 Axes>"
      ]
     },
     "metadata": {},
     "output_type": "display_data"
    },
    {
     "name": "stdout",
     "output_type": "stream",
     "text": [
      "Survived: \n",
      " Survived\n",
      "0    549\n",
      "1    342\n",
      "Name: count, dtype: int64\n"
     ]
    },
    {
     "data": {
      "image/png": "[encoded data removed]",
      "text/plain": [
       "<Figure size 900x300 with 1 Axes>"
      ]
     },
     "metadata": {},
     "output_type": "display_data"
    },
    {
     "name": "stdout",
     "output_type": "stream",
     "text": [
      "Sex: \n",
      " Sex\n",
      "male      577\n",
      "female    314\n",
      "Name: count, dtype: int64\n"
     ]
    },
    {
     "data": {
      "image/png": "[encoded data removed]",
      "text/plain": [
       "<Figure size 900x300 with 1 Axes>"
      ]
     },
     "metadata": {},
     "output_type": "display_data"
    },
    {
     "name": "stdout",
     "output_type": "stream",
     "text": [
      "Pclass: \n",
      " Pclass\n",
      "3    491\n",
      "1    216\n",
      "2    184\n",
      "Name: count, dtype: int64\n"
     ]
    },
    {
     "data": {
      "image/png": "[encoded data removed]",
      "text/plain": [
       "<Figure size 900x300 with 1 Axes>"
      ]
     },
     "metadata": {},
     "output_type": "display_data"
    },
    {
     "name": "stdout",
     "output_type": "stream",
     "text": [
      "Embarked: \n",
      " Embarked\n",
      "S    644\n",
      "C    168\n",
      "Q     77\n",
      "Name: count, dtype: int64\n"
     ]
    },
    {
     "data": {
      "image/png": "[encoded data removed]",
      "text/plain": [
       "<Figure size 900x300 with 1 Axes>"
      ]
     },
     "metadata": {},
     "output_type": "display_data"
    },
    {
     "name": "stdout",
     "output_type": "stream",
     "text": [
      "SibSp: \n",
      " SibSp\n",
      "0    608\n",
      "1    209\n",
      "2     28\n",
      "4     18\n",
      "3     16\n",
      "8      7\n",
      "5      5\n",
      "Name: count, dtype: int64\n"
     ]
    },
    {
     "data": {
      "image/png": "[encoded data removed]",
      "text/plain": [
       "<Figure size 900x300 with 1 Axes>"
      ]
     },
     "metadata": {},
     "output_type": "display_data"
    },
    {
     "name": "stdout",
     "output_type": "stream",
     "text": [
      "Parch: \n",
      " Parch\n",
      "0    678\n",
      "1    118\n",
      "2     80\n",
      "5      5\n",
      "3      5\n",
      "4      4\n",
      "6      1\n",
      "Name: count, dtype: int64\n"
     ]
    }
   ],
   "source": [
    "category1 = [\"Survived\",\"Sex\",\"Pclass\",\"Embarked\",\"SibSp\", \"Parch\"]\n",
    "for c in category1:\n",
    "    bar_plot(c)"
   ]
  },
  {
   "cell_type": "markdown",
   "id": "ca292b30",
   "metadata": {
    "papermill": {
     "duration": 0.018676,
     "end_time": "2023-12-26T23:07:33.479808",
     "exception": false,
     "start_time": "2023-12-26T23:07:33.461132",
     "status": "completed"
    },
    "tags": []
   },
   "source": [
    "<a id= \"5\"><a/><br>\n",
    "# Numerical Variable"
   ]
  },
  {
   "cell_type": "code",
   "execution_count": 13,
   "id": "e1dc26d0",
   "metadata": {
    "execution": {
     "iopub.execute_input": "2023-12-26T23:07:33.519564Z",
     "iopub.status.busy": "2023-12-26T23:07:33.518900Z",
     "iopub.status.idle": "2023-12-26T23:07:33.523715Z",
     "shell.execute_reply": "2023-12-26T23:07:33.522848Z"
    },
    "papermill": {
     "duration": 0.027437,
     "end_time": "2023-12-26T23:07:33.526262",
     "exception": false,
     "start_time": "2023-12-26T23:07:33.498825",
     "status": "completed"
    },
    "tags": []
   },
   "outputs": [],
   "source": [
    "def plot_hist(variable):\n",
    "    plt.figure(figsize = (9,3))\n",
    "    plt.hist(train_df[variable], bins = 50)\n",
    "    plt.xlabel(variable)\n",
    "    plt.ylabel(\"Frequency\")\n",
    "    plt.title(\"{} distribution with hist\".format(variable))\n",
    "    plt.show()\n"
   ]
  },
  {
   "cell_type": "code",
   "execution_count": 14,
   "id": "41dab110",
   "metadata": {
    "execution": {
     "iopub.execute_input": "2023-12-26T23:07:33.565127Z",
     "iopub.status.busy": "2023-12-26T23:07:33.564752Z",
     "iopub.status.idle": "2023-12-26T23:07:34.322391Z",
     "shell.execute_reply": "2023-12-26T23:07:34.321345Z"
    },
    "papermill": {
     "duration": 0.779574,
     "end_time": "2023-12-26T23:07:34.324444",
     "exception": false,
     "start_time": "2023-12-26T23:07:33.544870",
     "status": "completed"
    },
    "tags": []
   },
   "outputs": [
    {
     "data": {
      "image/png": "[encoded data removed]",
      "text/plain": [
       "<Figure size 900x300 with 1 Axes>"
      ]
     },
     "metadata": {},
     "output_type": "display_data"
    },
    {
     "data": {
      "image/png": "[encoded data removed]",
      "text/plain": [
       "<Figure size 900x300 with 1 Axes>"
      ]
     },
     "metadata": {},
     "output_type": "display_data"
    },
    {
     "data": {
      "image/png": "[encoded data removed]",
      "text/plain": [
       "<Figure size 900x300 with 1 Axes>"
      ]
     },
     "metadata": {},
     "output_type": "display_data"
    }
   ],
   "source": [
    "numericVar = [\"Fare\", \"Age\",\"PassengerId\"]\n",
    "for n in numericVar:\n",
    "    plot_hist(n)"
   ]
  },
  {
   "cell_type": "markdown",
   "id": "cad4897c",
   "metadata": {
    "papermill": {
     "duration": 0.019827,
     "end_time": "2023-12-26T23:07:34.364713",
     "exception": false,
     "start_time": "2023-12-26T23:07:34.344886",
     "status": "completed"
    },
    "tags": []
   },
   "source": [
    "<a id= \"6\"><a/><br>\n",
    "  # **3-Basic Data Analysis**\n",
    "*     Pclass - Survived\n",
    "*     Sex - Survived\n",
    "*     SibSp - Survived\n",
    "*     Parch - Survived"
   ]
  },
  {
   "cell_type": "code",
   "execution_count": 15,
   "id": "3585237e",
   "metadata": {
    "execution": {
     "iopub.execute_input": "2023-12-26T23:07:34.407350Z",
     "iopub.status.busy": "2023-12-26T23:07:34.406722Z",
     "iopub.status.idle": "2023-12-26T23:07:34.430486Z",
     "shell.execute_reply": "2023-12-26T23:07:34.429098Z"
    },
    "papermill": {
     "duration": 0.047755,
     "end_time": "2023-12-26T23:07:34.433133",
     "exception": false,
     "start_time": "2023-12-26T23:07:34.385378",
     "status": "completed"
    },
    "tags": []
   },
   "outputs": [
    {
     "data": {
      "text/html": [
       "<div>\n",
       "<style scoped>\n",
       "    .dataframe tbody tr th:only-of-type {\n",
       "        vertical-align: middle;\n",
       "    }\n",
       "\n",
       "    .dataframe tbody tr th {\n",
       "        vertical-align: top;\n",
       "    }\n",
       "\n",
       "    .dataframe thead th {\n",
       "        text-align: right;\n",
       "    }\n",
       "</style>\n",
       "<table border=\"1\" class=\"dataframe\">\n",
       "  <thead>\n",
       "    <tr style=\"text-align: right;\">\n",
       "      <th></th>\n",
       "      <th>Pclass</th>\n",
       "      <th>Survived</th>\n",
       "      <th>Age</th>\n",
       "    </tr>\n",
       "  </thead>\n",
       "  <tbody>\n",
       "    <tr>\n",
       "      <th>0</th>\n",
       "      <td>1</td>\n",
       "      <td>0.629630</td>\n",
       "      <td>38.233441</td>\n",
       "    </tr>\n",
       "    <tr>\n",
       "      <th>1</th>\n",
       "      <td>2</td>\n",
       "      <td>0.472826</td>\n",
       "      <td>29.877630</td>\n",
       "    </tr>\n",
       "    <tr>\n",
       "      <th>2</th>\n",
       "      <td>3</td>\n",
       "      <td>0.242363</td>\n",
       "      <td>25.140620</td>\n",
       "    </tr>\n",
       "  </tbody>\n",
       "</table>\n",
       "</div>"
      ],
      "text/plain": [
       "   Pclass  Survived        Age\n",
       "0       1  0.629630  38.233441\n",
       "1       2  0.472826  29.877630\n",
       "2       3  0.242363  25.140620"
      ]
     },
     "execution_count": 15,
     "metadata": {},
     "output_type": "execute_result"
    }
   ],
   "source": [
    "# Plcass vs Survived\n",
    "train_df[[\"Pclass\",\"Survived\",\"Age\"]].groupby([\"Pclass\"], as_index = False).mean().sort_values(by=\"Survived\",ascending = False)\n"
   ]
  },
  {
   "cell_type": "code",
   "execution_count": 16,
   "id": "3e54bebd",
   "metadata": {
    "execution": {
     "iopub.execute_input": "2023-12-26T23:07:34.477796Z",
     "iopub.status.busy": "2023-12-26T23:07:34.476803Z",
     "iopub.status.idle": "2023-12-26T23:07:34.490916Z",
     "shell.execute_reply": "2023-12-26T23:07:34.489447Z"
    },
    "papermill": {
     "duration": 0.039141,
     "end_time": "2023-12-26T23:07:34.492939",
     "exception": false,
     "start_time": "2023-12-26T23:07:34.453798",
     "status": "completed"
    },
    "tags": []
   },
   "outputs": [
    {
     "data": {
      "text/html": [
       "<div>\n",
       "<style scoped>\n",
       "    .dataframe tbody tr th:only-of-type {\n",
       "        vertical-align: middle;\n",
       "    }\n",
       "\n",
       "    .dataframe tbody tr th {\n",
       "        vertical-align: top;\n",
       "    }\n",
       "\n",
       "    .dataframe thead th {\n",
       "        text-align: right;\n",
       "    }\n",
       "</style>\n",
       "<table border=\"1\" class=\"dataframe\">\n",
       "  <thead>\n",
       "    <tr style=\"text-align: right;\">\n",
       "      <th></th>\n",
       "      <th>Sex</th>\n",
       "      <th>Survived</th>\n",
       "    </tr>\n",
       "  </thead>\n",
       "  <tbody>\n",
       "    <tr>\n",
       "      <th>0</th>\n",
       "      <td>female</td>\n",
       "      <td>0.742038</td>\n",
       "    </tr>\n",
       "    <tr>\n",
       "      <th>1</th>\n",
       "      <td>male</td>\n",
       "      <td>0.188908</td>\n",
       "    </tr>\n",
       "  </tbody>\n",
       "</table>\n",
       "</div>"
      ],
      "text/plain": [
       "      Sex  Survived\n",
       "0  female  0.742038\n",
       "1    male  0.188908"
      ]
     },
     "execution_count": 16,
     "metadata": {},
     "output_type": "execute_result"
    }
   ],
   "source": [
    "# Sex vs Survived\n",
    "#as_index -index numara verir\n",
    "train_df[[\"Sex\",\"Survived\"]].groupby([\"Sex\"], as_index = False).mean().sort_values(by=\"Survived\",ascending = False)"
   ]
  },
  {
   "cell_type": "code",
   "execution_count": 17,
   "id": "863cbd12",
   "metadata": {
    "execution": {
     "iopub.execute_input": "2023-12-26T23:07:34.534661Z",
     "iopub.status.busy": "2023-12-26T23:07:34.533667Z",
     "iopub.status.idle": "2023-12-26T23:07:34.549979Z",
     "shell.execute_reply": "2023-12-26T23:07:34.548615Z"
    },
    "papermill": {
     "duration": 0.039986,
     "end_time": "2023-12-26T23:07:34.552586",
     "exception": false,
     "start_time": "2023-12-26T23:07:34.512600",
     "status": "completed"
    },
    "tags": []
   },
   "outputs": [
    {
     "data": {
      "text/html": [
       "<div>\n",
       "<style scoped>\n",
       "    .dataframe tbody tr th:only-of-type {\n",
       "        vertical-align: middle;\n",
       "    }\n",
       "\n",
       "    .dataframe tbody tr th {\n",
       "        vertical-align: top;\n",
       "    }\n",
       "\n",
       "    .dataframe thead th {\n",
       "        text-align: right;\n",
       "    }\n",
       "</style>\n",
       "<table border=\"1\" class=\"dataframe\">\n",
       "  <thead>\n",
       "    <tr style=\"text-align: right;\">\n",
       "      <th></th>\n",
       "      <th>SibSp</th>\n",
       "      <th>Survived</th>\n",
       "    </tr>\n",
       "  </thead>\n",
       "  <tbody>\n",
       "    <tr>\n",
       "      <th>1</th>\n",
       "      <td>1</td>\n",
       "      <td>0.535885</td>\n",
       "    </tr>\n",
       "    <tr>\n",
       "      <th>2</th>\n",
       "      <td>2</td>\n",
       "      <td>0.464286</td>\n",
       "    </tr>\n",
       "    <tr>\n",
       "      <th>0</th>\n",
       "      <td>0</td>\n",
       "      <td>0.345395</td>\n",
       "    </tr>\n",
       "    <tr>\n",
       "      <th>3</th>\n",
       "      <td>3</td>\n",
       "      <td>0.250000</td>\n",
       "    </tr>\n",
       "    <tr>\n",
       "      <th>4</th>\n",
       "      <td>4</td>\n",
       "      <td>0.166667</td>\n",
       "    </tr>\n",
       "    <tr>\n",
       "      <th>5</th>\n",
       "      <td>5</td>\n",
       "      <td>0.000000</td>\n",
       "    </tr>\n",
       "    <tr>\n",
       "      <th>6</th>\n",
       "      <td>8</td>\n",
       "      <td>0.000000</td>\n",
       "    </tr>\n",
       "  </tbody>\n",
       "</table>\n",
       "</div>"
      ],
      "text/plain": [
       "   SibSp  Survived\n",
       "1      1  0.535885\n",
       "2      2  0.464286\n",
       "0      0  0.345395\n",
       "3      3  0.250000\n",
       "4      4  0.166667\n",
       "5      5  0.000000\n",
       "6      8  0.000000"
      ]
     },
     "execution_count": 17,
     "metadata": {},
     "output_type": "execute_result"
    }
   ],
   "source": [
    "# Sibsp vs Survived\n",
    "train_df[[\"SibSp\",\"Survived\"]].groupby([\"SibSp\"], as_index = False).mean().sort_values(by=\"Survived\",ascending = False)"
   ]
  },
  {
   "cell_type": "code",
   "execution_count": 18,
   "id": "9b18da16",
   "metadata": {
    "execution": {
     "iopub.execute_input": "2023-12-26T23:07:34.594853Z",
     "iopub.status.busy": "2023-12-26T23:07:34.594497Z",
     "iopub.status.idle": "2023-12-26T23:07:34.608569Z",
     "shell.execute_reply": "2023-12-26T23:07:34.607562Z"
    },
    "papermill": {
     "duration": 0.037414,
     "end_time": "2023-12-26T23:07:34.610487",
     "exception": false,
     "start_time": "2023-12-26T23:07:34.573073",
     "status": "completed"
    },
    "tags": []
   },
   "outputs": [
    {
     "data": {
      "text/html": [
       "<div>\n",
       "<style scoped>\n",
       "    .dataframe tbody tr th:only-of-type {\n",
       "        vertical-align: middle;\n",
       "    }\n",
       "\n",
       "    .dataframe tbody tr th {\n",
       "        vertical-align: top;\n",
       "    }\n",
       "\n",
       "    .dataframe thead th {\n",
       "        text-align: right;\n",
       "    }\n",
       "</style>\n",
       "<table border=\"1\" class=\"dataframe\">\n",
       "  <thead>\n",
       "    <tr style=\"text-align: right;\">\n",
       "      <th></th>\n",
       "      <th>Parch</th>\n",
       "      <th>Survived</th>\n",
       "    </tr>\n",
       "  </thead>\n",
       "  <tbody>\n",
       "    <tr>\n",
       "      <th>3</th>\n",
       "      <td>3</td>\n",
       "      <td>0.600000</td>\n",
       "    </tr>\n",
       "    <tr>\n",
       "      <th>1</th>\n",
       "      <td>1</td>\n",
       "      <td>0.550847</td>\n",
       "    </tr>\n",
       "    <tr>\n",
       "      <th>2</th>\n",
       "      <td>2</td>\n",
       "      <td>0.500000</td>\n",
       "    </tr>\n",
       "    <tr>\n",
       "      <th>0</th>\n",
       "      <td>0</td>\n",
       "      <td>0.343658</td>\n",
       "    </tr>\n",
       "    <tr>\n",
       "      <th>5</th>\n",
       "      <td>5</td>\n",
       "      <td>0.200000</td>\n",
       "    </tr>\n",
       "    <tr>\n",
       "      <th>4</th>\n",
       "      <td>4</td>\n",
       "      <td>0.000000</td>\n",
       "    </tr>\n",
       "    <tr>\n",
       "      <th>6</th>\n",
       "      <td>6</td>\n",
       "      <td>0.000000</td>\n",
       "    </tr>\n",
       "  </tbody>\n",
       "</table>\n",
       "</div>"
      ],
      "text/plain": [
       "   Parch  Survived\n",
       "3      3  0.600000\n",
       "1      1  0.550847\n",
       "2      2  0.500000\n",
       "0      0  0.343658\n",
       "5      5  0.200000\n",
       "4      4  0.000000\n",
       "6      6  0.000000"
      ]
     },
     "execution_count": 18,
     "metadata": {},
     "output_type": "execute_result"
    }
   ],
   "source": [
    "# Parch vs Survived\n",
    "train_df[[\"Parch\",\"Survived\"]].groupby([\"Parch\"], as_index = False).mean().sort_values(by=\"Survived\",ascending = False)"
   ]
  },
  {
   "cell_type": "markdown",
   "id": "58e16765",
   "metadata": {
    "papermill": {
     "duration": 0.018955,
     "end_time": "2023-12-26T23:07:34.650090",
     "exception": false,
     "start_time": "2023-12-26T23:07:34.631135",
     "status": "completed"
    },
    "tags": []
   },
   "source": [
    "<a id= \"7\"><a/><br>\n",
    "# **4-Outlier Detection**"
   ]
  },
  {
   "cell_type": "markdown",
   "id": "6cd4c9c3",
   "metadata": {
    "papermill": {
     "duration": 0.018677,
     "end_time": "2023-12-26T23:07:34.687878",
     "exception": false,
     "start_time": "2023-12-26T23:07:34.669201",
     "status": "completed"
    },
    "tags": []
   },
   "source": [
    "**\"Aykırı değer\"** "
   ]
  },
  {
   "cell_type": "code",
   "execution_count": 19,
   "id": "6ab4f2fe",
   "metadata": {
    "execution": {
     "iopub.execute_input": "2023-12-26T23:07:34.727488Z",
     "iopub.status.busy": "2023-12-26T23:07:34.727096Z",
     "iopub.status.idle": "2023-12-26T23:07:34.733908Z",
     "shell.execute_reply": "2023-12-26T23:07:34.732881Z"
    },
    "papermill": {
     "duration": 0.029386,
     "end_time": "2023-12-26T23:07:34.736215",
     "exception": false,
     "start_time": "2023-12-26T23:07:34.706829",
     "status": "completed"
    },
    "tags": []
   },
   "outputs": [],
   "source": [
    "def detect_outliers(df,features):\n",
    "    outlier_indices=[]\n",
    "    for  c in features:\n",
    "        #1st Quartile \"yüdeklik dilim\" \n",
    "        Q1=np.percentile(df[c],25)\n",
    "        #3st Quartile\n",
    "        Q3=np.percentile(df[c],75)\n",
    "        #IQR\n",
    "        IQR=Q3-Q1\n",
    "        #Outlier step\n",
    "        outlier_step=IQR *1.5\n",
    "        #detect outlier and their indeces\n",
    "        outlier_list_col=df[(df[c]<Q1 - outlier_step) | (df[c]> Q3 + outlier_step)].index\n",
    "     \n",
    "        #store indeces\n",
    "        outlier_indices.extend(outlier_list_col)\n",
    "        \n",
    "    outlier_indices=Counter(outlier_indices)\n",
    "    multiple_outliers=list(i for i, v in outlier_indices.items() if v>2)\n",
    "    return multiple_outliers\n",
    "    "
   ]
  },
  {
   "cell_type": "code",
   "execution_count": 20,
   "id": "f93c74df",
   "metadata": {
    "execution": {
     "iopub.execute_input": "2023-12-26T23:07:34.778902Z",
     "iopub.status.busy": "2023-12-26T23:07:34.778513Z",
     "iopub.status.idle": "2023-12-26T23:07:34.799250Z",
     "shell.execute_reply": "2023-12-26T23:07:34.798467Z"
    },
    "papermill": {
     "duration": 0.045182,
     "end_time": "2023-12-26T23:07:34.801930",
     "exception": false,
     "start_time": "2023-12-26T23:07:34.756748",
     "status": "completed"
    },
    "tags": []
   },
   "outputs": [
    {
     "data": {
      "text/html": [
       "<div>\n",
       "<style scoped>\n",
       "    .dataframe tbody tr th:only-of-type {\n",
       "        vertical-align: middle;\n",
       "    }\n",
       "\n",
       "    .dataframe tbody tr th {\n",
       "        vertical-align: top;\n",
       "    }\n",
       "\n",
       "    .dataframe thead th {\n",
       "        text-align: right;\n",
       "    }\n",
       "</style>\n",
       "<table border=\"1\" class=\"dataframe\">\n",
       "  <thead>\n",
       "    <tr style=\"text-align: right;\">\n",
       "      <th></th>\n",
       "      <th>PassengerId</th>\n",
       "      <th>Survived</th>\n",
       "      <th>Pclass</th>\n",
       "      <th>Name</th>\n",
       "      <th>Sex</th>\n",
       "      <th>Age</th>\n",
       "      <th>SibSp</th>\n",
       "      <th>Parch</th>\n",
       "      <th>Ticket</th>\n",
       "      <th>Fare</th>\n",
       "      <th>Cabin</th>\n",
       "      <th>Embarked</th>\n",
       "    </tr>\n",
       "  </thead>\n",
       "  <tbody>\n",
       "    <tr>\n",
       "      <th>27</th>\n",
       "      <td>28</td>\n",
       "      <td>0</td>\n",
       "      <td>1</td>\n",
       "      <td>Fortune, Mr. Charles Alexander</td>\n",
       "      <td>male</td>\n",
       "      <td>19.0</td>\n",
       "      <td>3</td>\n",
       "      <td>2</td>\n",
       "      <td>19950</td>\n",
       "      <td>263.00</td>\n",
       "      <td>C23 C25 C27</td>\n",
       "      <td>S</td>\n",
       "    </tr>\n",
       "    <tr>\n",
       "      <th>88</th>\n",
       "      <td>89</td>\n",
       "      <td>1</td>\n",
       "      <td>1</td>\n",
       "      <td>Fortune, Miss. Mabel Helen</td>\n",
       "      <td>female</td>\n",
       "      <td>23.0</td>\n",
       "      <td>3</td>\n",
       "      <td>2</td>\n",
       "      <td>19950</td>\n",
       "      <td>263.00</td>\n",
       "      <td>C23 C25 C27</td>\n",
       "      <td>S</td>\n",
       "    </tr>\n",
       "    <tr>\n",
       "      <th>159</th>\n",
       "      <td>160</td>\n",
       "      <td>0</td>\n",
       "      <td>3</td>\n",
       "      <td>Sage, Master. Thomas Henry</td>\n",
       "      <td>male</td>\n",
       "      <td>NaN</td>\n",
       "      <td>8</td>\n",
       "      <td>2</td>\n",
       "      <td>CA. 2343</td>\n",
       "      <td>69.55</td>\n",
       "      <td>NaN</td>\n",
       "      <td>S</td>\n",
       "    </tr>\n",
       "    <tr>\n",
       "      <th>180</th>\n",
       "      <td>181</td>\n",
       "      <td>0</td>\n",
       "      <td>3</td>\n",
       "      <td>Sage, Miss. Constance Gladys</td>\n",
       "      <td>female</td>\n",
       "      <td>NaN</td>\n",
       "      <td>8</td>\n",
       "      <td>2</td>\n",
       "      <td>CA. 2343</td>\n",
       "      <td>69.55</td>\n",
       "      <td>NaN</td>\n",
       "      <td>S</td>\n",
       "    </tr>\n",
       "    <tr>\n",
       "      <th>201</th>\n",
       "      <td>202</td>\n",
       "      <td>0</td>\n",
       "      <td>3</td>\n",
       "      <td>Sage, Mr. Frederick</td>\n",
       "      <td>male</td>\n",
       "      <td>NaN</td>\n",
       "      <td>8</td>\n",
       "      <td>2</td>\n",
       "      <td>CA. 2343</td>\n",
       "      <td>69.55</td>\n",
       "      <td>NaN</td>\n",
       "      <td>S</td>\n",
       "    </tr>\n",
       "    <tr>\n",
       "      <th>324</th>\n",
       "      <td>325</td>\n",
       "      <td>0</td>\n",
       "      <td>3</td>\n",
       "      <td>Sage, Mr. George John Jr</td>\n",
       "      <td>male</td>\n",
       "      <td>NaN</td>\n",
       "      <td>8</td>\n",
       "      <td>2</td>\n",
       "      <td>CA. 2343</td>\n",
       "      <td>69.55</td>\n",
       "      <td>NaN</td>\n",
       "      <td>S</td>\n",
       "    </tr>\n",
       "    <tr>\n",
       "      <th>341</th>\n",
       "      <td>342</td>\n",
       "      <td>1</td>\n",
       "      <td>1</td>\n",
       "      <td>Fortune, Miss. Alice Elizabeth</td>\n",
       "      <td>female</td>\n",
       "      <td>24.0</td>\n",
       "      <td>3</td>\n",
       "      <td>2</td>\n",
       "      <td>19950</td>\n",
       "      <td>263.00</td>\n",
       "      <td>C23 C25 C27</td>\n",
       "      <td>S</td>\n",
       "    </tr>\n",
       "    <tr>\n",
       "      <th>792</th>\n",
       "      <td>793</td>\n",
       "      <td>0</td>\n",
       "      <td>3</td>\n",
       "      <td>Sage, Miss. Stella Anna</td>\n",
       "      <td>female</td>\n",
       "      <td>NaN</td>\n",
       "      <td>8</td>\n",
       "      <td>2</td>\n",
       "      <td>CA. 2343</td>\n",
       "      <td>69.55</td>\n",
       "      <td>NaN</td>\n",
       "      <td>S</td>\n",
       "    </tr>\n",
       "    <tr>\n",
       "      <th>846</th>\n",
       "      <td>847</td>\n",
       "      <td>0</td>\n",
       "      <td>3</td>\n",
       "      <td>Sage, Mr. Douglas Bullen</td>\n",
       "      <td>male</td>\n",
       "      <td>NaN</td>\n",
       "      <td>8</td>\n",
       "      <td>2</td>\n",
       "      <td>CA. 2343</td>\n",
       "      <td>69.55</td>\n",
       "      <td>NaN</td>\n",
       "      <td>S</td>\n",
       "    </tr>\n",
       "    <tr>\n",
       "      <th>863</th>\n",
       "      <td>864</td>\n",
       "      <td>0</td>\n",
       "      <td>3</td>\n",
       "      <td>Sage, Miss. Dorothy Edith \"Dolly\"</td>\n",
       "      <td>female</td>\n",
       "      <td>NaN</td>\n",
       "      <td>8</td>\n",
       "      <td>2</td>\n",
       "      <td>CA. 2343</td>\n",
       "      <td>69.55</td>\n",
       "      <td>NaN</td>\n",
       "      <td>S</td>\n",
       "    </tr>\n",
       "  </tbody>\n",
       "</table>\n",
       "</div>"
      ],
      "text/plain": [
       "     PassengerId  Survived  Pclass                               Name     Sex  \\\n",
       "27            28         0       1     Fortune, Mr. Charles Alexander    male   \n",
       "88            89         1       1         Fortune, Miss. Mabel Helen  female   \n",
       "159          160         0       3         Sage, Master. Thomas Henry    male   \n",
       "180          181         0       3       Sage, Miss. Constance Gladys  female   \n",
       "201          202         0       3                Sage, Mr. Frederick    male   \n",
       "324          325         0       3           Sage, Mr. George John Jr    male   \n",
       "341          342         1       1     Fortune, Miss. Alice Elizabeth  female   \n",
       "792          793         0       3            Sage, Miss. Stella Anna  female   \n",
       "846          847         0       3           Sage, Mr. Douglas Bullen    male   \n",
       "863          864         0       3  Sage, Miss. Dorothy Edith \"Dolly\"  female   \n",
       "\n",
       "      Age  SibSp  Parch    Ticket    Fare        Cabin Embarked  \n",
       "27   19.0      3      2     19950  263.00  C23 C25 C27        S  \n",
       "88   23.0      3      2     19950  263.00  C23 C25 C27        S  \n",
       "159   NaN      8      2  CA. 2343   69.55          NaN        S  \n",
       "180   NaN      8      2  CA. 2343   69.55          NaN        S  \n",
       "201   NaN      8      2  CA. 2343   69.55          NaN        S  \n",
       "324   NaN      8      2  CA. 2343   69.55          NaN        S  \n",
       "341  24.0      3      2     19950  263.00  C23 C25 C27        S  \n",
       "792   NaN      8      2  CA. 2343   69.55          NaN        S  \n",
       "846   NaN      8      2  CA. 2343   69.55          NaN        S  \n",
       "863   NaN      8      2  CA. 2343   69.55          NaN        S  "
      ]
     },
     "execution_count": 20,
     "metadata": {},
     "output_type": "execute_result"
    }
   ],
   "source": [
    "train_df.loc[detect_outliers(train_df,[\"Age\",\"SibSp\",\"Parch\",\"Fare\"])]"
   ]
  },
  {
   "cell_type": "code",
   "execution_count": 21,
   "id": "a0148644",
   "metadata": {
    "execution": {
     "iopub.execute_input": "2023-12-26T23:07:34.844996Z",
     "iopub.status.busy": "2023-12-26T23:07:34.844591Z",
     "iopub.status.idle": "2023-12-26T23:07:34.855270Z",
     "shell.execute_reply": "2023-12-26T23:07:34.854567Z"
    },
    "papermill": {
     "duration": 0.03464,
     "end_time": "2023-12-26T23:07:34.857422",
     "exception": false,
     "start_time": "2023-12-26T23:07:34.822782",
     "status": "completed"
    },
    "tags": []
   },
   "outputs": [],
   "source": [
    "#drop outliers\n",
    "train_df = train_df.drop(detect_outliers(train_df,[\"Age\",\"SibSp\",\"Parch\",\"Fare\"]),axis = 0).reset_index(drop = True)"
   ]
  },
  {
   "cell_type": "markdown",
   "id": "d3952d9d",
   "metadata": {
    "papermill": {
     "duration": 0.019756,
     "end_time": "2023-12-26T23:07:34.897100",
     "exception": false,
     "start_time": "2023-12-26T23:07:34.877344",
     "status": "completed"
    },
    "tags": []
   },
   "source": [
    "<a id= \"8\"><a/><br>\n",
    "# **5-Missing Value**"
   ]
  },
  {
   "cell_type": "markdown",
   "id": "d0d2f143",
   "metadata": {
    "papermill": {
     "duration": 0.019988,
     "end_time": "2023-12-26T23:07:34.937536",
     "exception": false,
     "start_time": "2023-12-26T23:07:34.917548",
     "status": "completed"
    },
    "tags": []
   },
   "source": [
    "* Find Missing Value\n",
    "* Fill Missing Value"
   ]
  },
  {
   "cell_type": "code",
   "execution_count": 22,
   "id": "765ca3d3",
   "metadata": {
    "execution": {
     "iopub.execute_input": "2023-12-26T23:07:34.981855Z",
     "iopub.status.busy": "2023-12-26T23:07:34.981276Z",
     "iopub.status.idle": "2023-12-26T23:07:34.988823Z",
     "shell.execute_reply": "2023-12-26T23:07:34.987709Z"
    },
    "papermill": {
     "duration": 0.033299,
     "end_time": "2023-12-26T23:07:34.991085",
     "exception": false,
     "start_time": "2023-12-26T23:07:34.957786",
     "status": "completed"
    },
    "tags": []
   },
   "outputs": [],
   "source": [
    "train_df_len = len(train_df)\n",
    "train_df = pd.concat([train_df,test_df],axis = 0).reset_index(drop = True)"
   ]
  },
  {
   "cell_type": "code",
   "execution_count": 23,
   "id": "5e450def",
   "metadata": {
    "execution": {
     "iopub.execute_input": "2023-12-26T23:07:35.033412Z",
     "iopub.status.busy": "2023-12-26T23:07:35.032987Z",
     "iopub.status.idle": "2023-12-26T23:07:35.045930Z",
     "shell.execute_reply": "2023-12-26T23:07:35.045251Z"
    },
    "papermill": {
     "duration": 0.036351,
     "end_time": "2023-12-26T23:07:35.047619",
     "exception": false,
     "start_time": "2023-12-26T23:07:35.011268",
     "status": "completed"
    },
    "tags": []
   },
   "outputs": [
    {
     "data": {
      "text/html": [
       "<div>\n",
       "<style scoped>\n",
       "    .dataframe tbody tr th:only-of-type {\n",
       "        vertical-align: middle;\n",
       "    }\n",
       "\n",
       "    .dataframe tbody tr th {\n",
       "        vertical-align: top;\n",
       "    }\n",
       "\n",
       "    .dataframe thead th {\n",
       "        text-align: right;\n",
       "    }\n",
       "</style>\n",
       "<table border=\"1\" class=\"dataframe\">\n",
       "  <thead>\n",
       "    <tr style=\"text-align: right;\">\n",
       "      <th></th>\n",
       "      <th>PassengerId</th>\n",
       "      <th>Survived</th>\n",
       "      <th>Pclass</th>\n",
       "      <th>Name</th>\n",
       "      <th>Sex</th>\n",
       "      <th>Age</th>\n",
       "      <th>SibSp</th>\n",
       "      <th>Parch</th>\n",
       "      <th>Ticket</th>\n",
       "      <th>Fare</th>\n",
       "      <th>Cabin</th>\n",
       "      <th>Embarked</th>\n",
       "    </tr>\n",
       "  </thead>\n",
       "  <tbody>\n",
       "    <tr>\n",
       "      <th>0</th>\n",
       "      <td>1</td>\n",
       "      <td>0.0</td>\n",
       "      <td>3</td>\n",
       "      <td>Braund, Mr. Owen Harris</td>\n",
       "      <td>male</td>\n",
       "      <td>22.0</td>\n",
       "      <td>1</td>\n",
       "      <td>0</td>\n",
       "      <td>A/5 21171</td>\n",
       "      <td>7.2500</td>\n",
       "      <td>NaN</td>\n",
       "      <td>S</td>\n",
       "    </tr>\n",
       "    <tr>\n",
       "      <th>1</th>\n",
       "      <td>2</td>\n",
       "      <td>1.0</td>\n",
       "      <td>1</td>\n",
       "      <td>Cumings, Mrs. John Bradley (Florence Briggs Th...</td>\n",
       "      <td>female</td>\n",
       "      <td>38.0</td>\n",
       "      <td>1</td>\n",
       "      <td>0</td>\n",
       "      <td>PC 17599</td>\n",
       "      <td>71.2833</td>\n",
       "      <td>C85</td>\n",
       "      <td>C</td>\n",
       "    </tr>\n",
       "    <tr>\n",
       "      <th>2</th>\n",
       "      <td>3</td>\n",
       "      <td>1.0</td>\n",
       "      <td>3</td>\n",
       "      <td>Heikkinen, Miss. Laina</td>\n",
       "      <td>female</td>\n",
       "      <td>26.0</td>\n",
       "      <td>0</td>\n",
       "      <td>0</td>\n",
       "      <td>STON/O2. 3101282</td>\n",
       "      <td>7.9250</td>\n",
       "      <td>NaN</td>\n",
       "      <td>S</td>\n",
       "    </tr>\n",
       "    <tr>\n",
       "      <th>3</th>\n",
       "      <td>4</td>\n",
       "      <td>1.0</td>\n",
       "      <td>1</td>\n",
       "      <td>Futrelle, Mrs. Jacques Heath (Lily May Peel)</td>\n",
       "      <td>female</td>\n",
       "      <td>35.0</td>\n",
       "      <td>1</td>\n",
       "      <td>0</td>\n",
       "      <td>113803</td>\n",
       "      <td>53.1000</td>\n",
       "      <td>C123</td>\n",
       "      <td>S</td>\n",
       "    </tr>\n",
       "    <tr>\n",
       "      <th>4</th>\n",
       "      <td>5</td>\n",
       "      <td>0.0</td>\n",
       "      <td>3</td>\n",
       "      <td>Allen, Mr. William Henry</td>\n",
       "      <td>male</td>\n",
       "      <td>35.0</td>\n",
       "      <td>0</td>\n",
       "      <td>0</td>\n",
       "      <td>373450</td>\n",
       "      <td>8.0500</td>\n",
       "      <td>NaN</td>\n",
       "      <td>S</td>\n",
       "    </tr>\n",
       "  </tbody>\n",
       "</table>\n",
       "</div>"
      ],
      "text/plain": [
       "   PassengerId  Survived  Pclass  \\\n",
       "0            1       0.0       3   \n",
       "1            2       1.0       1   \n",
       "2            3       1.0       3   \n",
       "3            4       1.0       1   \n",
       "4            5       0.0       3   \n",
       "\n",
       "                                                Name     Sex   Age  SibSp  \\\n",
       "0                            Braund, Mr. Owen Harris    male  22.0      1   \n",
       "1  Cumings, Mrs. John Bradley (Florence Briggs Th...  female  38.0      1   \n",
       "2                             Heikkinen, Miss. Laina  female  26.0      0   \n",
       "3       Futrelle, Mrs. Jacques Heath (Lily May Peel)  female  35.0      1   \n",
       "4                           Allen, Mr. William Henry    male  35.0      0   \n",
       "\n",
       "   Parch            Ticket     Fare Cabin Embarked  \n",
       "0      0         A/5 21171   7.2500   NaN        S  \n",
       "1      0          PC 17599  71.2833   C85        C  \n",
       "2      0  STON/O2. 3101282   7.9250   NaN        S  \n",
       "3      0            113803  53.1000  C123        S  \n",
       "4      0            373450   8.0500   NaN        S  "
      ]
     },
     "execution_count": 23,
     "metadata": {},
     "output_type": "execute_result"
    }
   ],
   "source": [
    "train_df.head()"
   ]
  },
  {
   "cell_type": "markdown",
   "id": "7fdd68ca",
   "metadata": {
    "_kg_hide-input": true,
    "papermill": {
     "duration": 0.019924,
     "end_time": "2023-12-26T23:07:35.088112",
     "exception": false,
     "start_time": "2023-12-26T23:07:35.068188",
     "status": "completed"
    },
    "tags": []
   },
   "source": [
    "<a id= \"9\"><a/><br>\n",
    "# Find Missing Value"
   ]
  },
  {
   "cell_type": "code",
   "execution_count": 24,
   "id": "3449234a",
   "metadata": {
    "execution": {
     "iopub.execute_input": "2023-12-26T23:07:35.131143Z",
     "iopub.status.busy": "2023-12-26T23:07:35.130631Z",
     "iopub.status.idle": "2023-12-26T23:07:35.136778Z",
     "shell.execute_reply": "2023-12-26T23:07:35.136087Z"
    },
    "papermill": {
     "duration": 0.030094,
     "end_time": "2023-12-26T23:07:35.138676",
     "exception": false,
     "start_time": "2023-12-26T23:07:35.108582",
     "status": "completed"
    },
    "tags": []
   },
   "outputs": [
    {
     "data": {
      "text/plain": [
       "Index(['Survived', 'Age', 'Fare', 'Cabin', 'Embarked'], dtype='object')"
      ]
     },
     "execution_count": 24,
     "metadata": {},
     "output_type": "execute_result"
    }
   ],
   "source": [
    "train_df.columns[train_df.isnull().any()]"
   ]
  },
  {
   "cell_type": "code",
   "execution_count": 25,
   "id": "82cb18d5",
   "metadata": {
    "_kg_hide-input": true,
    "_kg_hide-output": true,
    "execution": {
     "iopub.execute_input": "2023-12-26T23:07:35.181202Z",
     "iopub.status.busy": "2023-12-26T23:07:35.180869Z",
     "iopub.status.idle": "2023-12-26T23:07:35.189088Z",
     "shell.execute_reply": "2023-12-26T23:07:35.188153Z"
    },
    "papermill": {
     "duration": 0.031751,
     "end_time": "2023-12-26T23:07:35.190726",
     "exception": false,
     "start_time": "2023-12-26T23:07:35.158975",
     "status": "completed"
    },
    "tags": []
   },
   "outputs": [
    {
     "data": {
      "text/plain": [
       "PassengerId       0\n",
       "Survived        418\n",
       "Pclass            0\n",
       "Name              0\n",
       "Sex               0\n",
       "Age             256\n",
       "SibSp             0\n",
       "Parch             0\n",
       "Ticket            0\n",
       "Fare              1\n",
       "Cabin          1007\n",
       "Embarked          2\n",
       "dtype: int64"
      ]
     },
     "execution_count": 25,
     "metadata": {},
     "output_type": "execute_result"
    }
   ],
   "source": [
    "train_df.isnull().sum()"
   ]
  },
  {
   "cell_type": "markdown",
   "id": "3a11fb07",
   "metadata": {
    "papermill": {
     "duration": 0.020836,
     "end_time": "2023-12-26T23:07:35.232989",
     "exception": false,
     "start_time": "2023-12-26T23:07:35.212153",
     "status": "completed"
    },
    "tags": []
   },
   "source": [
    "<a id= \"10\"><a/><br>\n",
    "# Fill Missing Value"
   ]
  },
  {
   "cell_type": "markdown",
   "id": "749f8bb4",
   "metadata": {
    "papermill": {
     "duration": 0.020512,
     "end_time": "2023-12-26T23:07:35.275264",
     "exception": false,
     "start_time": "2023-12-26T23:07:35.254752",
     "status": "completed"
    },
    "tags": []
   },
   "source": [
    "* Embarked has 2 missing value\n",
    "* Fare has only 1"
   ]
  },
  {
   "cell_type": "code",
   "execution_count": 26,
   "id": "40fe519d",
   "metadata": {
    "execution": {
     "iopub.execute_input": "2023-12-26T23:07:35.319069Z",
     "iopub.status.busy": "2023-12-26T23:07:35.318124Z",
     "iopub.status.idle": "2023-12-26T23:07:35.335973Z",
     "shell.execute_reply": "2023-12-26T23:07:35.334641Z"
    },
    "papermill": {
     "duration": 0.041855,
     "end_time": "2023-12-26T23:07:35.337912",
     "exception": false,
     "start_time": "2023-12-26T23:07:35.296057",
     "status": "completed"
    },
    "tags": []
   },
   "outputs": [
    {
     "data": {
      "text/html": [
       "<div>\n",
       "<style scoped>\n",
       "    .dataframe tbody tr th:only-of-type {\n",
       "        vertical-align: middle;\n",
       "    }\n",
       "\n",
       "    .dataframe tbody tr th {\n",
       "        vertical-align: top;\n",
       "    }\n",
       "\n",
       "    .dataframe thead th {\n",
       "        text-align: right;\n",
       "    }\n",
       "</style>\n",
       "<table border=\"1\" class=\"dataframe\">\n",
       "  <thead>\n",
       "    <tr style=\"text-align: right;\">\n",
       "      <th></th>\n",
       "      <th>PassengerId</th>\n",
       "      <th>Survived</th>\n",
       "      <th>Pclass</th>\n",
       "      <th>Name</th>\n",
       "      <th>Sex</th>\n",
       "      <th>Age</th>\n",
       "      <th>SibSp</th>\n",
       "      <th>Parch</th>\n",
       "      <th>Ticket</th>\n",
       "      <th>Fare</th>\n",
       "      <th>Cabin</th>\n",
       "      <th>Embarked</th>\n",
       "    </tr>\n",
       "  </thead>\n",
       "  <tbody>\n",
       "    <tr>\n",
       "      <th>60</th>\n",
       "      <td>62</td>\n",
       "      <td>1.0</td>\n",
       "      <td>1</td>\n",
       "      <td>Icard, Miss. Amelie</td>\n",
       "      <td>female</td>\n",
       "      <td>38.0</td>\n",
       "      <td>0</td>\n",
       "      <td>0</td>\n",
       "      <td>113572</td>\n",
       "      <td>80.0</td>\n",
       "      <td>B28</td>\n",
       "      <td>NaN</td>\n",
       "    </tr>\n",
       "    <tr>\n",
       "      <th>821</th>\n",
       "      <td>830</td>\n",
       "      <td>1.0</td>\n",
       "      <td>1</td>\n",
       "      <td>Stone, Mrs. George Nelson (Martha Evelyn)</td>\n",
       "      <td>female</td>\n",
       "      <td>62.0</td>\n",
       "      <td>0</td>\n",
       "      <td>0</td>\n",
       "      <td>113572</td>\n",
       "      <td>80.0</td>\n",
       "      <td>B28</td>\n",
       "      <td>NaN</td>\n",
       "    </tr>\n",
       "  </tbody>\n",
       "</table>\n",
       "</div>"
      ],
      "text/plain": [
       "     PassengerId  Survived  Pclass                                       Name  \\\n",
       "60            62       1.0       1                        Icard, Miss. Amelie   \n",
       "821          830       1.0       1  Stone, Mrs. George Nelson (Martha Evelyn)   \n",
       "\n",
       "        Sex   Age  SibSp  Parch  Ticket  Fare Cabin Embarked  \n",
       "60   female  38.0      0      0  113572  80.0   B28      NaN  \n",
       "821  female  62.0      0      0  113572  80.0   B28      NaN  "
      ]
     },
     "execution_count": 26,
     "metadata": {},
     "output_type": "execute_result"
    }
   ],
   "source": [
    "train_df[train_df[\"Embarked\"].isnull()]"
   ]
  },
  {
   "cell_type": "code",
   "execution_count": 27,
   "id": "486691d1",
   "metadata": {
    "execution": {
     "iopub.execute_input": "2023-12-26T23:07:35.381370Z",
     "iopub.status.busy": "2023-12-26T23:07:35.380826Z",
     "iopub.status.idle": "2023-12-26T23:07:35.606577Z",
     "shell.execute_reply": "2023-12-26T23:07:35.605134Z"
    },
    "papermill": {
     "duration": 0.250355,
     "end_time": "2023-12-26T23:07:35.609063",
     "exception": false,
     "start_time": "2023-12-26T23:07:35.358708",
     "status": "completed"
    },
    "tags": []
   },
   "outputs": [
    {
     "data": {
      "image/png": "[encoded data removed]",
      "text/plain": [
       "<Figure size 640x480 with 1 Axes>"
      ]
     },
     "metadata": {},
     "output_type": "display_data"
    }
   ],
   "source": [
    "train_df.boxplot(column=\"Fare\",by = \"Embarked\")\n",
    "plt.show()"
   ]
  },
  {
   "cell_type": "code",
   "execution_count": 28,
   "id": "e688db85",
   "metadata": {
    "execution": {
     "iopub.execute_input": "2023-12-26T23:07:35.654637Z",
     "iopub.status.busy": "2023-12-26T23:07:35.654242Z",
     "iopub.status.idle": "2023-12-26T23:07:35.668320Z",
     "shell.execute_reply": "2023-12-26T23:07:35.667017Z"
    },
    "papermill": {
     "duration": 0.039314,
     "end_time": "2023-12-26T23:07:35.670103",
     "exception": false,
     "start_time": "2023-12-26T23:07:35.630789",
     "status": "completed"
    },
    "tags": []
   },
   "outputs": [
    {
     "data": {
      "text/html": [
       "<div>\n",
       "<style scoped>\n",
       "    .dataframe tbody tr th:only-of-type {\n",
       "        vertical-align: middle;\n",
       "    }\n",
       "\n",
       "    .dataframe tbody tr th {\n",
       "        vertical-align: top;\n",
       "    }\n",
       "\n",
       "    .dataframe thead th {\n",
       "        text-align: right;\n",
       "    }\n",
       "</style>\n",
       "<table border=\"1\" class=\"dataframe\">\n",
       "  <thead>\n",
       "    <tr style=\"text-align: right;\">\n",
       "      <th></th>\n",
       "      <th>PassengerId</th>\n",
       "      <th>Survived</th>\n",
       "      <th>Pclass</th>\n",
       "      <th>Name</th>\n",
       "      <th>Sex</th>\n",
       "      <th>Age</th>\n",
       "      <th>SibSp</th>\n",
       "      <th>Parch</th>\n",
       "      <th>Ticket</th>\n",
       "      <th>Fare</th>\n",
       "      <th>Cabin</th>\n",
       "      <th>Embarked</th>\n",
       "    </tr>\n",
       "  </thead>\n",
       "  <tbody>\n",
       "  </tbody>\n",
       "</table>\n",
       "</div>"
      ],
      "text/plain": [
       "Empty DataFrame\n",
       "Columns: [PassengerId, Survived, Pclass, Name, Sex, Age, SibSp, Parch, Ticket, Fare, Cabin, Embarked]\n",
       "Index: []"
      ]
     },
     "execution_count": 28,
     "metadata": {},
     "output_type": "execute_result"
    }
   ],
   "source": [
    "train_df[\"Embarked\"] = train_df[\"Embarked\"].fillna(\"C\")\n",
    "train_df[train_df[\"Embarked\"].isnull()]"
   ]
  },
  {
   "cell_type": "code",
   "execution_count": 29,
   "id": "ed122af9",
   "metadata": {
    "execution": {
     "iopub.execute_input": "2023-12-26T23:07:35.713266Z",
     "iopub.status.busy": "2023-12-26T23:07:35.712843Z",
     "iopub.status.idle": "2023-12-26T23:07:35.730014Z",
     "shell.execute_reply": "2023-12-26T23:07:35.728694Z"
    },
    "papermill": {
     "duration": 0.041706,
     "end_time": "2023-12-26T23:07:35.732646",
     "exception": false,
     "start_time": "2023-12-26T23:07:35.690940",
     "status": "completed"
    },
    "tags": []
   },
   "outputs": [
    {
     "data": {
      "text/html": [
       "<div>\n",
       "<style scoped>\n",
       "    .dataframe tbody tr th:only-of-type {\n",
       "        vertical-align: middle;\n",
       "    }\n",
       "\n",
       "    .dataframe tbody tr th {\n",
       "        vertical-align: top;\n",
       "    }\n",
       "\n",
       "    .dataframe thead th {\n",
       "        text-align: right;\n",
       "    }\n",
       "</style>\n",
       "<table border=\"1\" class=\"dataframe\">\n",
       "  <thead>\n",
       "    <tr style=\"text-align: right;\">\n",
       "      <th></th>\n",
       "      <th>PassengerId</th>\n",
       "      <th>Survived</th>\n",
       "      <th>Pclass</th>\n",
       "      <th>Name</th>\n",
       "      <th>Sex</th>\n",
       "      <th>Age</th>\n",
       "      <th>SibSp</th>\n",
       "      <th>Parch</th>\n",
       "      <th>Ticket</th>\n",
       "      <th>Fare</th>\n",
       "      <th>Cabin</th>\n",
       "      <th>Embarked</th>\n",
       "    </tr>\n",
       "  </thead>\n",
       "  <tbody>\n",
       "    <tr>\n",
       "      <th>1033</th>\n",
       "      <td>1044</td>\n",
       "      <td>NaN</td>\n",
       "      <td>3</td>\n",
       "      <td>Storey, Mr. Thomas</td>\n",
       "      <td>male</td>\n",
       "      <td>60.5</td>\n",
       "      <td>0</td>\n",
       "      <td>0</td>\n",
       "      <td>3701</td>\n",
       "      <td>NaN</td>\n",
       "      <td>NaN</td>\n",
       "      <td>S</td>\n",
       "    </tr>\n",
       "  </tbody>\n",
       "</table>\n",
       "</div>"
      ],
      "text/plain": [
       "      PassengerId  Survived  Pclass                Name   Sex   Age  SibSp  \\\n",
       "1033         1044       NaN       3  Storey, Mr. Thomas  male  60.5      0   \n",
       "\n",
       "      Parch Ticket  Fare Cabin Embarked  \n",
       "1033      0   3701   NaN   NaN        S  "
      ]
     },
     "execution_count": 29,
     "metadata": {},
     "output_type": "execute_result"
    }
   ],
   "source": [
    "train_df[train_df[\"Fare\"].isnull()]"
   ]
  },
  {
   "cell_type": "code",
   "execution_count": 30,
   "id": "26e00a71",
   "metadata": {
    "execution": {
     "iopub.execute_input": "2023-12-26T23:07:35.778419Z",
     "iopub.status.busy": "2023-12-26T23:07:35.778020Z",
     "iopub.status.idle": "2023-12-26T23:07:35.789760Z",
     "shell.execute_reply": "2023-12-26T23:07:35.788348Z"
    },
    "papermill": {
     "duration": 0.037537,
     "end_time": "2023-12-26T23:07:35.792118",
     "exception": false,
     "start_time": "2023-12-26T23:07:35.754581",
     "status": "completed"
    },
    "tags": []
   },
   "outputs": [
    {
     "data": {
      "text/plain": [
       "0        7.2500\n",
       "2        7.9250\n",
       "4        8.0500\n",
       "5        8.4583\n",
       "7       21.0750\n",
       "         ...   \n",
       "1293     7.7750\n",
       "1294     8.0500\n",
       "1296     7.2500\n",
       "1297     8.0500\n",
       "1298    22.3583\n",
       "Name: Fare, Length: 702, dtype: float64"
      ]
     },
     "execution_count": 30,
     "metadata": {},
     "output_type": "execute_result"
    }
   ],
   "source": [
    "train_df[train_df[\"Pclass\"] == 3][\"Fare\"]"
   ]
  },
  {
   "cell_type": "code",
   "execution_count": 31,
   "id": "bf0869da",
   "metadata": {
    "execution": {
     "iopub.execute_input": "2023-12-26T23:07:35.837625Z",
     "iopub.status.busy": "2023-12-26T23:07:35.837238Z",
     "iopub.status.idle": "2023-12-26T23:07:35.844951Z",
     "shell.execute_reply": "2023-12-26T23:07:35.843440Z"
    },
    "papermill": {
     "duration": 0.033396,
     "end_time": "2023-12-26T23:07:35.847537",
     "exception": false,
     "start_time": "2023-12-26T23:07:35.814141",
     "status": "completed"
    },
    "tags": []
   },
   "outputs": [],
   "source": [
    "train_df[\"Fare\"] = train_df[\"Fare\"].fillna(np.mean(train_df[train_df[\"Pclass\"] == 3][\"Fare\"]))"
   ]
  },
  {
   "cell_type": "markdown",
   "id": "1616c752",
   "metadata": {
    "papermill": {
     "duration": 0.02093,
     "end_time": "2023-12-26T23:07:35.890357",
     "exception": false,
     "start_time": "2023-12-26T23:07:35.869427",
     "status": "completed"
    },
    "tags": []
   },
   "source": [
    "<a id= \"11\"><a/><br>\n",
    " # **6-Visulization**"
   ]
  },
  {
   "cell_type": "markdown",
   "id": "e9ed634b",
   "metadata": {
    "papermill": {
     "duration": 0.022634,
     "end_time": "2023-12-26T23:07:35.934788",
     "exception": false,
     "start_time": "2023-12-26T23:07:35.912154",
     "status": "completed"
    },
    "tags": []
   },
   "source": [
    "<a id= \"12\"><a/><br>\n",
    "   ## **Correlation Between Sibsp -- Parch -- Age -- Fare -- Survived**"
   ]
  },
  {
   "cell_type": "code",
   "execution_count": 32,
   "id": "da02644f",
   "metadata": {
    "execution": {
     "iopub.execute_input": "2023-12-26T23:07:35.986814Z",
     "iopub.status.busy": "2023-12-26T23:07:35.986474Z",
     "iopub.status.idle": "2023-12-26T23:07:36.265553Z",
     "shell.execute_reply": "2023-12-26T23:07:36.264589Z"
    },
    "papermill": {
     "duration": 0.308103,
     "end_time": "2023-12-26T23:07:36.268091",
     "exception": false,
     "start_time": "2023-12-26T23:07:35.959988",
     "status": "completed"
    },
    "tags": []
   },
   "outputs": [
    {
     "data": {
      "image/png": "[encoded data removed]",
      "text/plain": [
       "<Figure size 640x480 with 2 Axes>"
      ]
     },
     "metadata": {},
     "output_type": "display_data"
    }
   ],
   "source": [
    "list1=[\"SibSp\",\"Parch\" ,\"Age\" , \"Fare\" ,\"Survived\"]\n",
    "#correlation matrix -aralarındaki ilişki \n",
    "sns.heatmap(train_df[list1].corr(),annot=True,fmt=\".2f\")\n",
    "plt.show()"
   ]
  },
  {
   "cell_type": "raw",
   "id": "acdf79a5",
   "metadata": {
    "papermill": {
     "duration": 0.023458,
     "end_time": "2023-12-26T23:07:36.314525",
     "exception": false,
     "start_time": "2023-12-26T23:07:36.291067",
     "status": "completed"
    },
    "tags": []
   },
   "source": [
    "Fare feature seems to have correlation with survived feature (0.26)."
   ]
  },
  {
   "cell_type": "markdown",
   "id": "dc95dace",
   "metadata": {
    "_kg_hide-input": true,
    "papermill": {
     "duration": 0.022764,
     "end_time": "2023-12-26T23:07:36.359351",
     "exception": false,
     "start_time": "2023-12-26T23:07:36.336587",
     "status": "completed"
    },
    "tags": []
   },
   "source": [
    " <a id= \"13\"><a/><br> \n",
    "##     **SibSp -- Survived**"
   ]
  },
  {
   "cell_type": "code",
   "execution_count": 33,
   "id": "20a9a91a",
   "metadata": {
    "execution": {
     "iopub.execute_input": "2023-12-26T23:07:36.408378Z",
     "iopub.status.busy": "2023-12-26T23:07:36.407889Z",
     "iopub.status.idle": "2023-12-26T23:07:36.989861Z",
     "shell.execute_reply": "2023-12-26T23:07:36.988830Z"
    },
    "papermill": {
     "duration": 0.60975,
     "end_time": "2023-12-26T23:07:36.992240",
     "exception": false,
     "start_time": "2023-12-26T23:07:36.382490",
     "status": "completed"
    },
    "tags": []
   },
   "outputs": [
    {
     "name": "stderr",
     "output_type": "stream",
     "text": [
      "/opt/conda/lib/python3.10/site-packages/seaborn/algorithms.py:98: RuntimeWarning: Mean of empty slice\n",
      "  boot_dist.append(f(*sample, **func_kwargs))\n",
      "/opt/conda/lib/python3.10/site-packages/numpy/lib/nanfunctions.py:1556: RuntimeWarning: All-NaN slice encountered\n",
      "  return function_base._ureduce(a,\n"
     ]
    },
    {
     "data": {
      "image/png": "[encoded data removed]",
      "text/plain": [
       "<Figure size 500x500 with 1 Axes>"
      ]
     },
     "metadata": {},
     "output_type": "display_data"
    }
   ],
   "source": [
    "g = sns.catplot(x = \"SibSp\", y = \"Survived\", data = train_df,\n",
    "    kind=\"bar\",height=5 )\n",
    "g.set_ylabels(\"Survived Probability\")\n",
    "plt.show()"
   ]
  },
  {
   "cell_type": "markdown",
   "id": "c600e8e6",
   "metadata": {
    "papermill": {
     "duration": 0.022701,
     "end_time": "2023-12-26T23:07:37.037840",
     "exception": false,
     "start_time": "2023-12-26T23:07:37.015139",
     "status": "completed"
    },
    "tags": []
   },
   "source": [
    "* Having a lot of SibSp have less chance to survive.\n",
    "* if sibsp == 0 or 1 or 2, passenger has more chance to survive\n",
    "* we can consider a new feature describing these categories."
   ]
  },
  {
   "cell_type": "markdown",
   "id": "3702d17d",
   "metadata": {
    "papermill": {
     "duration": 0.023964,
     "end_time": "2023-12-26T23:07:37.084693",
     "exception": false,
     "start_time": "2023-12-26T23:07:37.060729",
     "status": "completed"
    },
    "tags": []
   },
   "source": [
    "<a id= \"14\"><a/><br> \n",
    "## **Parch -- Survived**"
   ]
  },
  {
   "cell_type": "code",
   "execution_count": 34,
   "id": "5c2d1fdc",
   "metadata": {
    "execution": {
     "iopub.execute_input": "2023-12-26T23:07:37.133127Z",
     "iopub.status.busy": "2023-12-26T23:07:37.132491Z",
     "iopub.status.idle": "2023-12-26T23:07:37.735803Z",
     "shell.execute_reply": "2023-12-26T23:07:37.735007Z"
    },
    "papermill": {
     "duration": 0.62992,
     "end_time": "2023-12-26T23:07:37.737842",
     "exception": false,
     "start_time": "2023-12-26T23:07:37.107922",
     "status": "completed"
    },
    "tags": []
   },
   "outputs": [
    {
     "name": "stderr",
     "output_type": "stream",
     "text": [
      "/opt/conda/lib/python3.10/site-packages/seaborn/algorithms.py:98: RuntimeWarning: Mean of empty slice\n",
      "  boot_dist.append(f(*sample, **func_kwargs))\n",
      "/opt/conda/lib/python3.10/site-packages/numpy/lib/nanfunctions.py:1556: RuntimeWarning: All-NaN slice encountered\n",
      "  return function_base._ureduce(a,\n"
     ]
    },
    {
     "data": {
      "image/png": "[encoded data removed]",
      "text/plain": [
       "<Figure size 500x500 with 1 Axes>"
      ]
     },
     "metadata": {},
     "output_type": "display_data"
    }
   ],
   "source": [
    "g = sns.catplot(x = \"Parch\", y = \"Survived\", data = train_df, kind = \"bar\")\n",
    "g.set_ylabels(\"Survived Probability\")\n",
    "plt.show()"
   ]
  },
  {
   "cell_type": "markdown",
   "id": "65893669",
   "metadata": {
    "papermill": {
     "duration": 0.023333,
     "end_time": "2023-12-26T23:07:37.783776",
     "exception": false,
     "start_time": "2023-12-26T23:07:37.760443",
     "status": "completed"
    },
    "tags": []
   },
   "source": [
    "* Sibsp and parch can be used for new feature extraction with th = 3\n",
    "* small familes have more chance to survive.\n",
    "* there is a std in survival of passenger with parch = 3"
   ]
  },
  {
   "cell_type": "markdown",
   "id": "4d5d7882",
   "metadata": {
    "papermill": {
     "duration": 0.023557,
     "end_time": "2023-12-26T23:07:37.830362",
     "exception": false,
     "start_time": "2023-12-26T23:07:37.806805",
     "status": "completed"
    },
    "tags": []
   },
   "source": [
    "<a id= \"15\"><a/><br> \n",
    "## **Pclass -- Survived**"
   ]
  },
  {
   "cell_type": "code",
   "execution_count": 35,
   "id": "61d13ce8",
   "metadata": {
    "execution": {
     "iopub.execute_input": "2023-12-26T23:07:37.878176Z",
     "iopub.status.busy": "2023-12-26T23:07:37.877620Z",
     "iopub.status.idle": "2023-12-26T23:07:38.255296Z",
     "shell.execute_reply": "2023-12-26T23:07:38.253877Z"
    },
    "papermill": {
     "duration": 0.404298,
     "end_time": "2023-12-26T23:07:38.257788",
     "exception": false,
     "start_time": "2023-12-26T23:07:37.853490",
     "status": "completed"
    },
    "tags": []
   },
   "outputs": [
    {
     "data": {
      "image/png": "[encoded data removed]",
      "text/plain": [
       "<Figure size 500x500 with 1 Axes>"
      ]
     },
     "metadata": {},
     "output_type": "display_data"
    }
   ],
   "source": [
    "g = sns.catplot(x = \"Pclass\", y = \"Survived\", data = train_df, kind = \"bar\")\n",
    "g.set_ylabels(\"Survived Probability\")\n",
    "plt.show()"
   ]
  },
  {
   "cell_type": "markdown",
   "id": "f91668d8",
   "metadata": {
    "papermill": {
     "duration": 0.023286,
     "end_time": "2023-12-26T23:07:38.304388",
     "exception": false,
     "start_time": "2023-12-26T23:07:38.281102",
     "status": "completed"
    },
    "tags": []
   },
   "source": [
    "<a id= \"16\"><a/><br> \n",
    "## **Age -- Survived**"
   ]
  },
  {
   "cell_type": "code",
   "execution_count": 36,
   "id": "c0a5afbe",
   "metadata": {
    "execution": {
     "iopub.execute_input": "2023-12-26T23:07:38.353440Z",
     "iopub.status.busy": "2023-12-26T23:07:38.353071Z",
     "iopub.status.idle": "2023-12-26T23:07:39.051432Z",
     "shell.execute_reply": "2023-12-26T23:07:39.050510Z"
    },
    "papermill": {
     "duration": 0.725717,
     "end_time": "2023-12-26T23:07:39.053255",
     "exception": false,
     "start_time": "2023-12-26T23:07:38.327538",
     "status": "completed"
    },
    "tags": []
   },
   "outputs": [
    {
     "name": "stderr",
     "output_type": "stream",
     "text": [
      "/opt/conda/lib/python3.10/site-packages/seaborn/axisgrid.py:848: UserWarning: \n",
      "\n",
      "`distplot` is a deprecated function and will be removed in seaborn v0.14.0.\n",
      "\n",
      "Please adapt your code to use either `displot` (a figure-level function with\n",
      "similar flexibility) or `histplot` (an axes-level function for histograms).\n",
      "\n",
      "For a guide to updating your code to use the new functions, please see\n",
      "https://gist.github.com/mwaskom/de44147ed2974457ad6372750bbe5751\n",
      "\n",
      "  func(*plot_args, **plot_kwargs)\n",
      "/opt/conda/lib/python3.10/site-packages/seaborn/axisgrid.py:848: UserWarning: \n",
      "\n",
      "`distplot` is a deprecated function and will be removed in seaborn v0.14.0.\n",
      "\n",
      "Please adapt your code to use either `displot` (a figure-level function with\n",
      "similar flexibility) or `histplot` (an axes-level function for histograms).\n",
      "\n",
      "For a guide to updating your code to use the new functions, please see\n",
      "https://gist.github.com/mwaskom/de44147ed2974457ad6372750bbe5751\n",
      "\n",
      "  func(*plot_args, **plot_kwargs)\n"
     ]
    },
    {
     "data": {
      "image/png": "[encoded data removed]",
      "text/plain": [
       "<Figure size 600x300 with 2 Axes>"
      ]
     },
     "metadata": {},
     "output_type": "display_data"
    }
   ],
   "source": [
    "g = sns.FacetGrid(train_df, col = \"Survived\")\n",
    "g.map(sns.distplot, \"Age\", bins = 25)\n",
    "plt.show()"
   ]
  },
  {
   "cell_type": "markdown",
   "id": "1e7ed7ea",
   "metadata": {
    "papermill": {
     "duration": 0.022313,
     "end_time": "2023-12-26T23:07:39.098302",
     "exception": false,
     "start_time": "2023-12-26T23:07:39.075989",
     "status": "completed"
    },
    "tags": []
   },
   "source": [
    "* age <= 10 has a high survival rate,\n",
    "* oldest passengers (80) survived,\n",
    "* large number of 20 years old did not survive,\n",
    "* most passengers are in 15-35 age range,\n",
    "* use age feature in training\n",
    "* use age distribution for missing value of age"
   ]
  },
  {
   "cell_type": "markdown",
   "id": "fb32072e",
   "metadata": {
    "papermill": {
     "duration": 0.023119,
     "end_time": "2023-12-26T23:07:39.144054",
     "exception": false,
     "start_time": "2023-12-26T23:07:39.120935",
     "status": "completed"
    },
    "tags": []
   },
   "source": [
    "<a id= \"17\"><a/><br>\n",
    "    \n",
    "## **Pclass -- Survived -- Age**"
   ]
  },
  {
   "cell_type": "code",
   "execution_count": 37,
   "id": "1a294d7b",
   "metadata": {
    "execution": {
     "iopub.execute_input": "2023-12-26T23:07:39.193271Z",
     "iopub.status.busy": "2023-12-26T23:07:39.192634Z",
     "iopub.status.idle": "2023-12-26T23:07:41.103747Z",
     "shell.execute_reply": "2023-12-26T23:07:41.102618Z"
    },
    "papermill": {
     "duration": 1.938596,
     "end_time": "2023-12-26T23:07:41.105673",
     "exception": false,
     "start_time": "2023-12-26T23:07:39.167077",
     "status": "completed"
    },
    "tags": []
   },
   "outputs": [
    {
     "data": {
      "image/png": "[encoded data removed]",
      "text/plain": [
       "<Figure size 611.111x900 with 6 Axes>"
      ]
     },
     "metadata": {},
     "output_type": "display_data"
    }
   ],
   "source": [
    "g = sns.FacetGrid(train_df, col = \"Survived\", row = \"Pclass\", )\n",
    "g.map(plt.hist, \"Age\", bins = 25)\n",
    "g.add_legend()\n",
    "plt.show()"
   ]
  },
  {
   "cell_type": "markdown",
   "id": "ad4976f2",
   "metadata": {
    "papermill": {
     "duration": 0.023389,
     "end_time": "2023-12-26T23:07:41.152421",
     "exception": false,
     "start_time": "2023-12-26T23:07:41.129032",
     "status": "completed"
    },
    "tags": []
   },
   "source": [
    "* pclass is important feature for model training."
   ]
  },
  {
   "cell_type": "markdown",
   "id": "edf0a67a",
   "metadata": {
    "papermill": {
     "duration": 0.022485,
     "end_time": "2023-12-26T23:07:41.198268",
     "exception": false,
     "start_time": "2023-12-26T23:07:41.175783",
     "status": "completed"
    },
    "tags": []
   },
   "source": [
    "<a id= \"18\"><a/><br>\n",
    " ## **Embarked -- Sex -- Pclass -- Survived**"
   ]
  },
  {
   "cell_type": "code",
   "execution_count": 38,
   "id": "12bc5848",
   "metadata": {
    "execution": {
     "iopub.execute_input": "2023-12-26T23:07:41.247133Z",
     "iopub.status.busy": "2023-12-26T23:07:41.246746Z",
     "iopub.status.idle": "2023-12-26T23:07:43.031822Z",
     "shell.execute_reply": "2023-12-26T23:07:43.030752Z"
    },
    "papermill": {
     "duration": 1.811898,
     "end_time": "2023-12-26T23:07:43.033726",
     "exception": false,
     "start_time": "2023-12-26T23:07:41.221828",
     "status": "completed"
    },
    "tags": []
   },
   "outputs": [
    {
     "name": "stderr",
     "output_type": "stream",
     "text": [
      "/opt/conda/lib/python3.10/site-packages/seaborn/axisgrid.py:712: UserWarning: Using the pointplot function without specifying `order` is likely to produce an incorrect plot.\n",
      "  warnings.warn(warning)\n",
      "/opt/conda/lib/python3.10/site-packages/seaborn/axisgrid.py:717: UserWarning: Using the pointplot function without specifying `hue_order` is likely to produce an incorrect plot.\n",
      "  warnings.warn(warning)\n",
      "/opt/conda/lib/python3.10/site-packages/seaborn/algorithms.py:98: RuntimeWarning: Mean of empty slice\n",
      "  boot_dist.append(f(*sample, **func_kwargs))\n"
     ]
    },
    {
     "data": {
      "image/png": "[encoded data removed]",
      "text/plain": [
       "<Figure size 398x900 with 3 Axes>"
      ]
     },
     "metadata": {},
     "output_type": "display_data"
    }
   ],
   "source": [
    "g = sns.FacetGrid(train_df, row = \"Embarked\")\n",
    "g.map(sns.pointplot, \"Pclass\",\"Survived\",\"Sex\")\n",
    "g.add_legend()\n",
    "plt.show()"
   ]
  },
  {
   "cell_type": "markdown",
   "id": "632de5c0",
   "metadata": {
    "papermill": {
     "duration": 0.024787,
     "end_time": "2023-12-26T23:07:43.083237",
     "exception": false,
     "start_time": "2023-12-26T23:07:43.058450",
     "status": "completed"
    },
    "tags": []
   },
   "source": [
    "* Female passengers have much better survival rate than males.\n",
    "* males have better survşval rate in pclass 3 in C.\n",
    "* embarked and sex will be used in training."
   ]
  },
  {
   "cell_type": "markdown",
   "id": "28a23ac7",
   "metadata": {
    "papermill": {
     "duration": 0.024968,
     "end_time": "2023-12-26T23:07:43.133333",
     "exception": false,
     "start_time": "2023-12-26T23:07:43.108365",
     "status": "completed"
    },
    "tags": []
   },
   "source": [
    "<a id= \"19\"><a/><br>\n",
    " ## **Embarked -- Sex -- Fare -- Survived**"
   ]
  },
  {
   "cell_type": "code",
   "execution_count": 39,
   "id": "a1605859",
   "metadata": {
    "execution": {
     "iopub.execute_input": "2023-12-26T23:07:43.185922Z",
     "iopub.status.busy": "2023-12-26T23:07:43.185550Z",
     "iopub.status.idle": "2023-12-26T23:07:44.875729Z",
     "shell.execute_reply": "2023-12-26T23:07:44.874720Z"
    },
    "papermill": {
     "duration": 1.718132,
     "end_time": "2023-12-26T23:07:44.877679",
     "exception": false,
     "start_time": "2023-12-26T23:07:43.159547",
     "status": "completed"
    },
    "tags": []
   },
   "outputs": [
    {
     "name": "stderr",
     "output_type": "stream",
     "text": [
      "/opt/conda/lib/python3.10/site-packages/seaborn/axisgrid.py:712: UserWarning: Using the barplot function without specifying `order` is likely to produce an incorrect plot.\n",
      "  warnings.warn(warning)\n"
     ]
    },
    {
     "data": {
      "image/png": "[encoded data removed]",
      "text/plain": [
       "<Figure size 611.111x900 with 6 Axes>"
      ]
     },
     "metadata": {},
     "output_type": "display_data"
    }
   ],
   "source": [
    "g = sns.FacetGrid(train_df, row = \"Embarked\", col = \"Survived\")\n",
    "g.map(sns.barplot, \"Sex\", \"Fare\")\n",
    "g.add_legend()\n",
    "plt.show()"
   ]
  },
  {
   "cell_type": "markdown",
   "id": "421c2a42",
   "metadata": {
    "papermill": {
     "duration": 0.025102,
     "end_time": "2023-12-26T23:07:44.928688",
     "exception": false,
     "start_time": "2023-12-26T23:07:44.903586",
     "status": "completed"
    },
    "tags": []
   },
   "source": [
    "* Passsengers who pay higher fare have better survival. Fare can be used as categorical for training."
   ]
  },
  {
   "cell_type": "markdown",
   "id": "fdf47454",
   "metadata": {
    "papermill": {
     "duration": 0.025709,
     "end_time": "2023-12-26T23:07:44.980472",
     "exception": false,
     "start_time": "2023-12-26T23:07:44.954763",
     "status": "completed"
    },
    "tags": []
   },
   "source": [
    "<a id= \"20\"><a/><br>\n",
    " ## **Fill Missing: Age Feature**"
   ]
  },
  {
   "cell_type": "code",
   "execution_count": 40,
   "id": "1c38bd4a",
   "metadata": {
    "execution": {
     "iopub.execute_input": "2023-12-26T23:07:45.035174Z",
     "iopub.status.busy": "2023-12-26T23:07:45.033763Z",
     "iopub.status.idle": "2023-12-26T23:07:45.055843Z",
     "shell.execute_reply": "2023-12-26T23:07:45.054531Z"
    },
    "papermill": {
     "duration": 0.051649,
     "end_time": "2023-12-26T23:07:45.058463",
     "exception": false,
     "start_time": "2023-12-26T23:07:45.006814",
     "status": "completed"
    },
    "tags": []
   },
   "outputs": [
    {
     "data": {
      "text/html": [
       "<div>\n",
       "<style scoped>\n",
       "    .dataframe tbody tr th:only-of-type {\n",
       "        vertical-align: middle;\n",
       "    }\n",
       "\n",
       "    .dataframe tbody tr th {\n",
       "        vertical-align: top;\n",
       "    }\n",
       "\n",
       "    .dataframe thead th {\n",
       "        text-align: right;\n",
       "    }\n",
       "</style>\n",
       "<table border=\"1\" class=\"dataframe\">\n",
       "  <thead>\n",
       "    <tr style=\"text-align: right;\">\n",
       "      <th></th>\n",
       "      <th>PassengerId</th>\n",
       "      <th>Survived</th>\n",
       "      <th>Pclass</th>\n",
       "      <th>Name</th>\n",
       "      <th>Sex</th>\n",
       "      <th>Age</th>\n",
       "      <th>SibSp</th>\n",
       "      <th>Parch</th>\n",
       "      <th>Ticket</th>\n",
       "      <th>Fare</th>\n",
       "      <th>Cabin</th>\n",
       "      <th>Embarked</th>\n",
       "    </tr>\n",
       "  </thead>\n",
       "  <tbody>\n",
       "    <tr>\n",
       "      <th>5</th>\n",
       "      <td>6</td>\n",
       "      <td>0.0</td>\n",
       "      <td>3</td>\n",
       "      <td>Moran, Mr. James</td>\n",
       "      <td>male</td>\n",
       "      <td>NaN</td>\n",
       "      <td>0</td>\n",
       "      <td>0</td>\n",
       "      <td>330877</td>\n",
       "      <td>8.4583</td>\n",
       "      <td>NaN</td>\n",
       "      <td>Q</td>\n",
       "    </tr>\n",
       "    <tr>\n",
       "      <th>17</th>\n",
       "      <td>18</td>\n",
       "      <td>1.0</td>\n",
       "      <td>2</td>\n",
       "      <td>Williams, Mr. Charles Eugene</td>\n",
       "      <td>male</td>\n",
       "      <td>NaN</td>\n",
       "      <td>0</td>\n",
       "      <td>0</td>\n",
       "      <td>244373</td>\n",
       "      <td>13.0000</td>\n",
       "      <td>NaN</td>\n",
       "      <td>S</td>\n",
       "    </tr>\n",
       "    <tr>\n",
       "      <th>19</th>\n",
       "      <td>20</td>\n",
       "      <td>1.0</td>\n",
       "      <td>3</td>\n",
       "      <td>Masselmani, Mrs. Fatima</td>\n",
       "      <td>female</td>\n",
       "      <td>NaN</td>\n",
       "      <td>0</td>\n",
       "      <td>0</td>\n",
       "      <td>2649</td>\n",
       "      <td>7.2250</td>\n",
       "      <td>NaN</td>\n",
       "      <td>C</td>\n",
       "    </tr>\n",
       "    <tr>\n",
       "      <th>26</th>\n",
       "      <td>27</td>\n",
       "      <td>0.0</td>\n",
       "      <td>3</td>\n",
       "      <td>Emir, Mr. Farred Chehab</td>\n",
       "      <td>male</td>\n",
       "      <td>NaN</td>\n",
       "      <td>0</td>\n",
       "      <td>0</td>\n",
       "      <td>2631</td>\n",
       "      <td>7.2250</td>\n",
       "      <td>NaN</td>\n",
       "      <td>C</td>\n",
       "    </tr>\n",
       "    <tr>\n",
       "      <th>27</th>\n",
       "      <td>29</td>\n",
       "      <td>1.0</td>\n",
       "      <td>3</td>\n",
       "      <td>O'Dwyer, Miss. Ellen \"Nellie\"</td>\n",
       "      <td>female</td>\n",
       "      <td>NaN</td>\n",
       "      <td>0</td>\n",
       "      <td>0</td>\n",
       "      <td>330959</td>\n",
       "      <td>7.8792</td>\n",
       "      <td>NaN</td>\n",
       "      <td>Q</td>\n",
       "    </tr>\n",
       "    <tr>\n",
       "      <th>...</th>\n",
       "      <td>...</td>\n",
       "      <td>...</td>\n",
       "      <td>...</td>\n",
       "      <td>...</td>\n",
       "      <td>...</td>\n",
       "      <td>...</td>\n",
       "      <td>...</td>\n",
       "      <td>...</td>\n",
       "      <td>...</td>\n",
       "      <td>...</td>\n",
       "      <td>...</td>\n",
       "      <td>...</td>\n",
       "    </tr>\n",
       "    <tr>\n",
       "      <th>1289</th>\n",
       "      <td>1300</td>\n",
       "      <td>NaN</td>\n",
       "      <td>3</td>\n",
       "      <td>Riordan, Miss. Johanna Hannah\"\"</td>\n",
       "      <td>female</td>\n",
       "      <td>NaN</td>\n",
       "      <td>0</td>\n",
       "      <td>0</td>\n",
       "      <td>334915</td>\n",
       "      <td>7.7208</td>\n",
       "      <td>NaN</td>\n",
       "      <td>Q</td>\n",
       "    </tr>\n",
       "    <tr>\n",
       "      <th>1291</th>\n",
       "      <td>1302</td>\n",
       "      <td>NaN</td>\n",
       "      <td>3</td>\n",
       "      <td>Naughton, Miss. Hannah</td>\n",
       "      <td>female</td>\n",
       "      <td>NaN</td>\n",
       "      <td>0</td>\n",
       "      <td>0</td>\n",
       "      <td>365237</td>\n",
       "      <td>7.7500</td>\n",
       "      <td>NaN</td>\n",
       "      <td>Q</td>\n",
       "    </tr>\n",
       "    <tr>\n",
       "      <th>1294</th>\n",
       "      <td>1305</td>\n",
       "      <td>NaN</td>\n",
       "      <td>3</td>\n",
       "      <td>Spector, Mr. Woolf</td>\n",
       "      <td>male</td>\n",
       "      <td>NaN</td>\n",
       "      <td>0</td>\n",
       "      <td>0</td>\n",
       "      <td>A.5. 3236</td>\n",
       "      <td>8.0500</td>\n",
       "      <td>NaN</td>\n",
       "      <td>S</td>\n",
       "    </tr>\n",
       "    <tr>\n",
       "      <th>1297</th>\n",
       "      <td>1308</td>\n",
       "      <td>NaN</td>\n",
       "      <td>3</td>\n",
       "      <td>Ware, Mr. Frederick</td>\n",
       "      <td>male</td>\n",
       "      <td>NaN</td>\n",
       "      <td>0</td>\n",
       "      <td>0</td>\n",
       "      <td>359309</td>\n",
       "      <td>8.0500</td>\n",
       "      <td>NaN</td>\n",
       "      <td>S</td>\n",
       "    </tr>\n",
       "    <tr>\n",
       "      <th>1298</th>\n",
       "      <td>1309</td>\n",
       "      <td>NaN</td>\n",
       "      <td>3</td>\n",
       "      <td>Peter, Master. Michael J</td>\n",
       "      <td>male</td>\n",
       "      <td>NaN</td>\n",
       "      <td>1</td>\n",
       "      <td>1</td>\n",
       "      <td>2668</td>\n",
       "      <td>22.3583</td>\n",
       "      <td>NaN</td>\n",
       "      <td>C</td>\n",
       "    </tr>\n",
       "  </tbody>\n",
       "</table>\n",
       "<p>256 rows × 12 columns</p>\n",
       "</div>"
      ],
      "text/plain": [
       "      PassengerId  Survived  Pclass                             Name     Sex  \\\n",
       "5               6       0.0       3                 Moran, Mr. James    male   \n",
       "17             18       1.0       2     Williams, Mr. Charles Eugene    male   \n",
       "19             20       1.0       3          Masselmani, Mrs. Fatima  female   \n",
       "26             27       0.0       3          Emir, Mr. Farred Chehab    male   \n",
       "27             29       1.0       3    O'Dwyer, Miss. Ellen \"Nellie\"  female   \n",
       "...           ...       ...     ...                              ...     ...   \n",
       "1289         1300       NaN       3  Riordan, Miss. Johanna Hannah\"\"  female   \n",
       "1291         1302       NaN       3           Naughton, Miss. Hannah  female   \n",
       "1294         1305       NaN       3               Spector, Mr. Woolf    male   \n",
       "1297         1308       NaN       3              Ware, Mr. Frederick    male   \n",
       "1298         1309       NaN       3         Peter, Master. Michael J    male   \n",
       "\n",
       "      Age  SibSp  Parch     Ticket     Fare Cabin Embarked  \n",
       "5     NaN      0      0     330877   8.4583   NaN        Q  \n",
       "17    NaN      0      0     244373  13.0000   NaN        S  \n",
       "19    NaN      0      0       2649   7.2250   NaN        C  \n",
       "26    NaN      0      0       2631   7.2250   NaN        C  \n",
       "27    NaN      0      0     330959   7.8792   NaN        Q  \n",
       "...   ...    ...    ...        ...      ...   ...      ...  \n",
       "1289  NaN      0      0     334915   7.7208   NaN        Q  \n",
       "1291  NaN      0      0     365237   7.7500   NaN        Q  \n",
       "1294  NaN      0      0  A.5. 3236   8.0500   NaN        S  \n",
       "1297  NaN      0      0     359309   8.0500   NaN        S  \n",
       "1298  NaN      1      1       2668  22.3583   NaN        C  \n",
       "\n",
       "[256 rows x 12 columns]"
      ]
     },
     "execution_count": 40,
     "metadata": {},
     "output_type": "execute_result"
    }
   ],
   "source": [
    "train_df[train_df[\"Age\"].isnull()]"
   ]
  },
  {
   "cell_type": "code",
   "execution_count": 41,
   "id": "701097e1",
   "metadata": {
    "execution": {
     "iopub.execute_input": "2023-12-26T23:07:45.111307Z",
     "iopub.status.busy": "2023-12-26T23:07:45.110962Z",
     "iopub.status.idle": "2023-12-26T23:07:45.338159Z",
     "shell.execute_reply": "2023-12-26T23:07:45.337129Z"
    },
    "papermill": {
     "duration": 0.255928,
     "end_time": "2023-12-26T23:07:45.340910",
     "exception": false,
     "start_time": "2023-12-26T23:07:45.084982",
     "status": "completed"
    },
    "tags": []
   },
   "outputs": [
    {
     "data": {
      "image/png": "[encoded data removed]",
      "text/plain": [
       "<Figure size 500x500 with 1 Axes>"
      ]
     },
     "metadata": {},
     "output_type": "display_data"
    }
   ],
   "source": [
    "sns.catplot(x = \"Sex\", y = \"Age\", data = train_df, kind = \"box\")\n",
    "plt.show()"
   ]
  },
  {
   "cell_type": "markdown",
   "id": "77c2af14",
   "metadata": {
    "papermill": {
     "duration": 0.025181,
     "end_time": "2023-12-26T23:07:45.391748",
     "exception": false,
     "start_time": "2023-12-26T23:07:45.366567",
     "status": "completed"
    },
    "tags": []
   },
   "source": [
    "Sex is not informative for age prediction, age distribution seems to be same."
   ]
  },
  {
   "cell_type": "code",
   "execution_count": 42,
   "id": "aa0e5675",
   "metadata": {
    "execution": {
     "iopub.execute_input": "2023-12-26T23:07:45.444569Z",
     "iopub.status.busy": "2023-12-26T23:07:45.444179Z",
     "iopub.status.idle": "2023-12-26T23:07:45.789890Z",
     "shell.execute_reply": "2023-12-26T23:07:45.788865Z"
    },
    "papermill": {
     "duration": 0.374582,
     "end_time": "2023-12-26T23:07:45.791930",
     "exception": false,
     "start_time": "2023-12-26T23:07:45.417348",
     "status": "completed"
    },
    "tags": []
   },
   "outputs": [
    {
     "data": {
      "image/png": "[encoded data removed]",
      "text/plain": [
       "<Figure size 558.875x500 with 1 Axes>"
      ]
     },
     "metadata": {},
     "output_type": "display_data"
    }
   ],
   "source": [
    "sns.catplot(x = \"Sex\", y = \"Age\", hue = \"Pclass\",data = train_df, kind = \"box\")\n",
    "plt.show()"
   ]
  },
  {
   "cell_type": "markdown",
   "id": "62f94787",
   "metadata": {
    "papermill": {
     "duration": 0.024661,
     "end_time": "2023-12-26T23:07:45.842535",
     "exception": false,
     "start_time": "2023-12-26T23:07:45.817874",
     "status": "completed"
    },
    "tags": []
   },
   "source": [
    "1st class passengers are older than 2nd, and 2nd is older than 3rd class."
   ]
  },
  {
   "cell_type": "code",
   "execution_count": 43,
   "id": "2be17bff",
   "metadata": {
    "execution": {
     "iopub.execute_input": "2023-12-26T23:07:45.894346Z",
     "iopub.status.busy": "2023-12-26T23:07:45.893911Z",
     "iopub.status.idle": "2023-12-26T23:07:46.613468Z",
     "shell.execute_reply": "2023-12-26T23:07:46.612356Z"
    },
    "papermill": {
     "duration": 0.748584,
     "end_time": "2023-12-26T23:07:46.615930",
     "exception": false,
     "start_time": "2023-12-26T23:07:45.867346",
     "status": "completed"
    },
    "tags": []
   },
   "outputs": [
    {
     "data": {
      "image/png": "[encoded data removed]",
      "text/plain": [
       "<Figure size 500x500 with 1 Axes>"
      ]
     },
     "metadata": {},
     "output_type": "display_data"
    },
    {
     "data": {
      "image/png": "[encoded data removed]",
      "text/plain": [
       "<Figure size 500x500 with 1 Axes>"
      ]
     },
     "metadata": {},
     "output_type": "display_data"
    }
   ],
   "source": [
    "sns.catplot(x = \"Parch\", y = \"Age\", data = train_df, kind = \"box\")\n",
    "sns.catplot(x = \"SibSp\", y = \"Age\", data = train_df, kind = \"box\")\n",
    "plt.show()"
   ]
  },
  {
   "cell_type": "code",
   "execution_count": 44,
   "id": "59410085",
   "metadata": {
    "execution": {
     "iopub.execute_input": "2023-12-26T23:07:46.674272Z",
     "iopub.status.busy": "2023-12-26T23:07:46.673645Z",
     "iopub.status.idle": "2023-12-26T23:07:46.677625Z",
     "shell.execute_reply": "2023-12-26T23:07:46.676656Z"
    },
    "papermill": {
     "duration": 0.036926,
     "end_time": "2023-12-26T23:07:46.679607",
     "exception": false,
     "start_time": "2023-12-26T23:07:46.642681",
     "status": "completed"
    },
    "tags": []
   },
   "outputs": [],
   "source": [
    "#train_df[\"Sex\"] = [1 if i == \"male\" else 0 for i in train_df[\"Sex\"]]"
   ]
  },
  {
   "cell_type": "code",
   "execution_count": 45,
   "id": "c1ee5d59",
   "metadata": {
    "execution": {
     "iopub.execute_input": "2023-12-26T23:07:46.736172Z",
     "iopub.status.busy": "2023-12-26T23:07:46.735557Z",
     "iopub.status.idle": "2023-12-26T23:07:46.739033Z",
     "shell.execute_reply": "2023-12-26T23:07:46.738422Z"
    },
    "papermill": {
     "duration": 0.034791,
     "end_time": "2023-12-26T23:07:46.741262",
     "exception": false,
     "start_time": "2023-12-26T23:07:46.706471",
     "status": "completed"
    },
    "tags": []
   },
   "outputs": [],
   "source": [
    "#sns.heatmap(train_df[[\"Age\",\"Sex\",\"SibSp\",\"Parch\",\"Pclass\"]].corr(), annot = True)\n",
    "plt.show()"
   ]
  },
  {
   "cell_type": "markdown",
   "id": "147d64f6",
   "metadata": {
    "papermill": {
     "duration": 0.02636,
     "end_time": "2023-12-26T23:07:46.794571",
     "exception": false,
     "start_time": "2023-12-26T23:07:46.768211",
     "status": "completed"
    },
    "tags": []
   },
   "source": [
    "Age is not correlated with sex but it is correlated with parch, sibsp and pclass."
   ]
  },
  {
   "cell_type": "code",
   "execution_count": null,
   "id": "bd565505",
   "metadata": {
    "papermill": {
     "duration": 0.025996,
     "end_time": "2023-12-26T23:07:46.846695",
     "exception": false,
     "start_time": "2023-12-26T23:07:46.820699",
     "status": "completed"
    },
    "tags": []
   },
   "outputs": [],
   "source": []
  },
  {
   "cell_type": "markdown",
   "id": "b67b889c",
   "metadata": {
    "papermill": {
     "duration": 0.025372,
     "end_time": "2023-12-26T23:07:46.898212",
     "exception": false,
     "start_time": "2023-12-26T23:07:46.872840",
     "status": "completed"
    },
    "tags": []
   },
   "source": [
    "<a id= \"\"><a/><br>\n",
    "# **4- Feature Engineering**"
   ]
  },
  {
   "cell_type": "markdown",
   "id": "abe69dc2",
   "metadata": {
    "papermill": {
     "duration": 0.025041,
     "end_time": "2023-12-26T23:07:46.948615",
     "exception": false,
     "start_time": "2023-12-26T23:07:46.923574",
     "status": "completed"
    },
    "tags": []
   },
   "source": [
    "## Drop Passenger ID and Cabin"
   ]
  },
  {
   "cell_type": "markdown",
   "id": "a5ac81e0",
   "metadata": {
    "papermill": {
     "duration": 0.024929,
     "end_time": "2023-12-26T23:07:46.999011",
     "exception": false,
     "start_time": "2023-12-26T23:07:46.974082",
     "status": "completed"
    },
    "tags": []
   },
   "source": []
  },
  {
   "cell_type": "code",
   "execution_count": 46,
   "id": "2a3bdfd4",
   "metadata": {
    "execution": {
     "iopub.execute_input": "2023-12-26T23:07:47.052564Z",
     "iopub.status.busy": "2023-12-26T23:07:47.051869Z",
     "iopub.status.idle": "2023-12-26T23:07:47.056950Z",
     "shell.execute_reply": "2023-12-26T23:07:47.056219Z"
    },
    "papermill": {
     "duration": 0.034055,
     "end_time": "2023-12-26T23:07:47.058539",
     "exception": false,
     "start_time": "2023-12-26T23:07:47.024484",
     "status": "completed"
    },
    "tags": []
   },
   "outputs": [],
   "source": [
    "train_df.drop(labels = [\"PassengerId\", \"Cabin\"], axis = 1, inplace = True)"
   ]
  },
  {
   "cell_type": "code",
   "execution_count": 47,
   "id": "22f71931",
   "metadata": {
    "execution": {
     "iopub.execute_input": "2023-12-26T23:07:47.113534Z",
     "iopub.status.busy": "2023-12-26T23:07:47.112862Z",
     "iopub.status.idle": "2023-12-26T23:07:47.118419Z",
     "shell.execute_reply": "2023-12-26T23:07:47.117421Z"
    },
    "papermill": {
     "duration": 0.035748,
     "end_time": "2023-12-26T23:07:47.120008",
     "exception": false,
     "start_time": "2023-12-26T23:07:47.084260",
     "status": "completed"
    },
    "tags": []
   },
   "outputs": [
    {
     "data": {
      "text/plain": [
       "Index(['Survived', 'Pclass', 'Name', 'Sex', 'Age', 'SibSp', 'Parch', 'Ticket',\n",
       "       'Fare', 'Embarked'],\n",
       "      dtype='object')"
      ]
     },
     "execution_count": 47,
     "metadata": {},
     "output_type": "execute_result"
    }
   ],
   "source": [
    "train_df.columns"
   ]
  },
  {
   "cell_type": "markdown",
   "id": "eff4f6f7",
   "metadata": {
    "papermill": {
     "duration": 0.025345,
     "end_time": "2023-12-26T23:07:47.171156",
     "exception": false,
     "start_time": "2023-12-26T23:07:47.145811",
     "status": "completed"
    },
    "tags": []
   },
   "source": [
    "<a id= \"\"><a/><br>\n",
    "# **5-Modeling**"
   ]
  },
  {
   "cell_type": "code",
   "execution_count": 48,
   "id": "5fc49a91",
   "metadata": {
    "execution": {
     "iopub.execute_input": "2023-12-26T23:07:47.224130Z",
     "iopub.status.busy": "2023-12-26T23:07:47.223502Z",
     "iopub.status.idle": "2023-12-26T23:07:47.622769Z",
     "shell.execute_reply": "2023-12-26T23:07:47.621241Z"
    },
    "papermill": {
     "duration": 0.428365,
     "end_time": "2023-12-26T23:07:47.625087",
     "exception": false,
     "start_time": "2023-12-26T23:07:47.196722",
     "status": "completed"
    },
    "tags": []
   },
   "outputs": [],
   "source": [
    "from sklearn.model_selection import train_test_split, StratifiedKFold, GridSearchCV\n",
    "from sklearn.linear_model import LogisticRegression\n"
   ]
  },
  {
   "cell_type": "markdown",
   "id": "4ea8112b",
   "metadata": {
    "papermill": {
     "duration": 0.02577,
     "end_time": "2023-12-26T23:07:47.677916",
     "exception": false,
     "start_time": "2023-12-26T23:07:47.652146",
     "status": "completed"
    },
    "tags": []
   },
   "source": [
    "<a id= \"12\"><a/><br>\n",
    "# Train - Test Split"
   ]
  },
  {
   "cell_type": "code",
   "execution_count": null,
   "id": "1f373cd0",
   "metadata": {
    "papermill": {
     "duration": 0.025968,
     "end_time": "2023-12-26T23:07:47.730539",
     "exception": false,
     "start_time": "2023-12-26T23:07:47.704571",
     "status": "completed"
    },
    "tags": []
   },
   "outputs": [],
   "source": []
  },
  {
   "cell_type": "code",
   "execution_count": null,
   "id": "53dd7ce7",
   "metadata": {
    "papermill": {
     "duration": 0.025738,
     "end_time": "2023-12-26T23:07:47.782274",
     "exception": false,
     "start_time": "2023-12-26T23:07:47.756536",
     "status": "completed"
    },
    "tags": []
   },
   "outputs": [],
   "source": []
  },
  {
   "cell_type": "code",
   "execution_count": null,
   "id": "68b33251",
   "metadata": {
    "papermill": {
     "duration": 0.025192,
     "end_time": "2023-12-26T23:07:47.832962",
     "exception": false,
     "start_time": "2023-12-26T23:07:47.807770",
     "status": "completed"
    },
    "tags": []
   },
   "outputs": [],
   "source": []
  },
  {
   "cell_type": "code",
   "execution_count": null,
   "id": "59436e79",
   "metadata": {
    "papermill": {
     "duration": 0.025136,
     "end_time": "2023-12-26T23:07:47.884143",
     "exception": false,
     "start_time": "2023-12-26T23:07:47.859007",
     "status": "completed"
    },
    "tags": []
   },
   "outputs": [],
   "source": []
  },
  {
   "cell_type": "markdown",
   "id": "1cd9b1a3",
   "metadata": {
    "papermill": {
     "duration": 0.025703,
     "end_time": "2023-12-26T23:07:47.935727",
     "exception": false,
     "start_time": "2023-12-26T23:07:47.910024",
     "status": "completed"
    },
    "tags": []
   },
   "source": [
    "<a id= \"13\"><a/><br>\n",
    "# Simple Logistic Regression"
   ]
  },
  {
   "cell_type": "code",
   "execution_count": null,
   "id": "bb7a0edf",
   "metadata": {
    "papermill": {
     "duration": 0.024857,
     "end_time": "2023-12-26T23:07:47.986436",
     "exception": false,
     "start_time": "2023-12-26T23:07:47.961579",
     "status": "completed"
    },
    "tags": []
   },
   "outputs": [],
   "source": []
  }
 ],
 "metadata": {
  "kaggle": {
   "accelerator": "none",
   "dataSources": [
    {
     "databundleVersionId": 26502,
     "sourceId": 3136,
     "sourceType": "competition"
    }
   ],
   "dockerImageVersionId": 30626,
   "isGpuEnabled": false,
   "isInternetEnabled": false,
   "language": "python",
   "sourceType": "notebook"
  },
  "kernelspec": {
   "display_name": "Python 3",
   "language": "python",
   "name": "python3"
  },
  "language_info": {
   "codemirror_mode": {
    "name": "ipython",
    "version": 3
   },
   "file_extension": ".py",
   "mimetype": "text/x-python",
   "name": "python",
   "nbconvert_exporter": "python",
   "pygments_lexer": "ipython3",
   "version": "3.10.12"
  },
  "papermill": {
   "default_parameters": {},
   "duration": 21.814308,
   "end_time": "2023-12-26T23:07:48.735649",
   "environment_variables": {},
   "exception": null,
   "input_path": "__notebook__.ipynb",
   "output_path": "__notebook__.ipynb",
   "parameters": {},
   "start_time": "2023-12-26T23:07:26.921341",
   "version": "2.4.0"
  }
 },
 "nbformat": 4,
 "nbformat_minor": 5
}
