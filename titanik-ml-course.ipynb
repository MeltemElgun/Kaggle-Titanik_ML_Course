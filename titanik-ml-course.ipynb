{
 "cells": [
  {
   "cell_type": "code",
   "execution_count": null,
   "id": "46d1debe",
   "metadata": {
    "papermill": {
     "duration": 0.01301,
     "end_time": "2023-12-26T22:56:22.730314",
     "exception": false,
     "start_time": "2023-12-26T22:56:22.717304",
     "status": "completed"
    },
    "tags": []
   },
   "outputs": [],
   "source": [
    "\n"
   ]
  },
  {
   "cell_type": "markdown",
   "id": "068ff03b",
   "metadata": {
    "_kg_hide-input": true,
    "papermill": {
     "duration": 0.012906,
     "end_time": "2023-12-26T22:56:22.756056",
     "exception": false,
     "start_time": "2023-12-26T22:56:22.743150",
     "status": "completed"
    },
    "tags": []
   },
   "source": [
    "# Introduction\n",
    "I am doing this work for ML education.\n",
    "\n",
    "\n",
    "***Content:***\n",
    "\n",
    "\n",
    "\n",
    "1. [**Load and Check Data**](#1)\n",
    "1.  [**Variable Description**](#2)\n",
    "     * [**Variable Analysis**](#3)\n",
    "       * [**Categorical Analysis**](#4)  \n",
    "       * [**Numerical Analysis**](#5)\n",
    "1.  [**Basic Data Analysis**](#6) \n",
    "1.  [**Outlier Derection**](#7)\n",
    "1.  [**Missing Value**](#8) \n",
    "     * [**Find Missing Value**](#9) \n",
    "     * [**Fill Missing Value**](#10)\n",
    "1.  [**Visulization**](#11) \n",
    "     * [ **Correlation Between Sibsp -- Parch -- Age -- Fare -- Survived**](#12)\n",
    "     * [ **SibSp -- Survived**](#13)\n",
    "     * [ **Parch -- Survived**](#14)\n",
    "     * [ **Pclass -- Survived**](#15)\n",
    "     * [ **Age -- Survived**](#16)\n",
    "     * [ **Pclass -- Survived -- Age**](#17)\n",
    "     * [ **Embarked -- Sex -- Pclass -- Survived**](#18)\n",
    "     * [ **Embarked -- Sex -- Fare -- Survived**](#19)\n",
    "     * [ **Fill Missing: Age Feature**](#20)\n",
    "1.  [**Feature Engineering**](#21)\n",
    "     * [**Name -- Title**](#22)\n",
    "     * [**Family Size**](#23)\n",
    "     * [**Embarked**](#24)\n",
    "     * [**Ticket**](#25)\n",
    "     * [**Pclass**](#26)\n",
    "     * [**Sex**](#27)\n",
    "     * [**Drop Passenger ID and Cabin**](#28)\n",
    "1.  [**Modeling**](#29) \n",
    "     * [**Train - Test Split**](#30)\n",
    "     * [**Simple Logistic Regression**](#31)\n"
   ]
  },
  {
   "cell_type": "code",
   "execution_count": 1,
   "id": "227b99de",
   "metadata": {
    "_cell_guid": "b1076dfc-b9ad-4769-8c92-a6c4dae69d19",
    "_uuid": "8f2839f25d086af736a60e9eeb907d3b93b6e0e5",
    "execution": {
     "iopub.execute_input": "2023-12-26T22:56:22.783067Z",
     "iopub.status.busy": "2023-12-26T22:56:22.782728Z",
     "iopub.status.idle": "2023-12-26T22:56:24.325328Z",
     "shell.execute_reply": "2023-12-26T22:56:24.324268Z"
    },
    "papermill": {
     "duration": 1.559285,
     "end_time": "2023-12-26T22:56:24.328159",
     "exception": false,
     "start_time": "2023-12-26T22:56:22.768874",
     "status": "completed"
    },
    "tags": []
   },
   "outputs": [
    {
     "name": "stdout",
     "output_type": "stream",
     "text": [
      "/kaggle/input/titanic/train.csv\n",
      "/kaggle/input/titanic/test.csv\n",
      "/kaggle/input/titanic/gender_submission.csv\n"
     ]
    }
   ],
   "source": [
    "# This Python 3 environment comes with many helpful analytics libraries installed\n",
    "# It is defined by the kaggle/python Docker image: https://github.com/kaggle/docker-python\n",
    "# For example, here's several helpful packages to load\n",
    "\n",
    "import numpy as np # linear algebra\n",
    "import pandas as pd # data processing, CSV file I/O (e.g. pd.read_csv)\n",
    "import matplotlib.pyplot as plt\n",
    "plt.style.use(\"seaborn-v0_8-whitegrid\")\n",
    "\n",
    "import seaborn as sns\n",
    "\n",
    "from collections import Counter\n",
    "\n",
    "\n",
    "# Input data files are available in the read-only \"../input/\" directory\n",
    "# For example, running this (by clicking run or pressing Shift+Enter) will list all files under the input directory\n",
    "\n",
    "import os\n",
    "for dirname, _, filenames in os.walk('/kaggle/input'):\n",
    "    for filename in filenames:\n",
    "        print(os.path.join(dirname, filename))\n",
    "\n",
    "# You can write up to 20GB to the current directory (/kaggle/working/) that gets preserved as output when you create a version using \"Save & Run All\" \n",
    "# You can also write temporary files to /kaggle/temp/, but they won't be saved outside of the current session"
   ]
  },
  {
   "cell_type": "code",
   "execution_count": 2,
   "id": "f93b14c6",
   "metadata": {
    "execution": {
     "iopub.execute_input": "2023-12-26T22:56:24.357881Z",
     "iopub.status.busy": "2023-12-26T22:56:24.357140Z",
     "iopub.status.idle": "2023-12-26T22:56:24.364203Z",
     "shell.execute_reply": "2023-12-26T22:56:24.363270Z"
    },
    "papermill": {
     "duration": 0.023898,
     "end_time": "2023-12-26T22:56:24.365823",
     "exception": false,
     "start_time": "2023-12-26T22:56:24.341925",
     "status": "completed"
    },
    "tags": []
   },
   "outputs": [
    {
     "data": {
      "text/plain": [
       "'0.12.2'"
      ]
     },
     "execution_count": 2,
     "metadata": {},
     "output_type": "execute_result"
    }
   ],
   "source": [
    "sns.__version__"
   ]
  },
  {
   "cell_type": "code",
   "execution_count": 3,
   "id": "c7ecb608",
   "metadata": {
    "execution": {
     "iopub.execute_input": "2023-12-26T22:56:24.392638Z",
     "iopub.status.busy": "2023-12-26T22:56:24.392246Z",
     "iopub.status.idle": "2023-12-26T22:56:24.398528Z",
     "shell.execute_reply": "2023-12-26T22:56:24.397684Z"
    },
    "papermill": {
     "duration": 0.022604,
     "end_time": "2023-12-26T22:56:24.401045",
     "exception": false,
     "start_time": "2023-12-26T22:56:24.378441",
     "status": "completed"
    },
    "tags": []
   },
   "outputs": [
    {
     "data": {
      "text/plain": [
       "['Solarize_Light2',\n",
       " '_classic_test_patch',\n",
       " '_mpl-gallery',\n",
       " '_mpl-gallery-nogrid',\n",
       " 'bmh',\n",
       " 'classic',\n",
       " 'dark_background',\n",
       " 'fast',\n",
       " 'fivethirtyeight',\n",
       " 'ggplot',\n",
       " 'grayscale',\n",
       " 'seaborn-v0_8',\n",
       " 'seaborn-v0_8-bright',\n",
       " 'seaborn-v0_8-colorblind',\n",
       " 'seaborn-v0_8-dark',\n",
       " 'seaborn-v0_8-dark-palette',\n",
       " 'seaborn-v0_8-darkgrid',\n",
       " 'seaborn-v0_8-deep',\n",
       " 'seaborn-v0_8-muted',\n",
       " 'seaborn-v0_8-notebook',\n",
       " 'seaborn-v0_8-paper',\n",
       " 'seaborn-v0_8-pastel',\n",
       " 'seaborn-v0_8-poster',\n",
       " 'seaborn-v0_8-talk',\n",
       " 'seaborn-v0_8-ticks',\n",
       " 'seaborn-v0_8-white',\n",
       " 'seaborn-v0_8-whitegrid',\n",
       " 'tableau-colorblind10']"
      ]
     },
     "execution_count": 3,
     "metadata": {},
     "output_type": "execute_result"
    }
   ],
   "source": [
    "plt.style.available"
   ]
  },
  {
   "cell_type": "markdown",
   "id": "d90df854",
   "metadata": {
    "papermill": {
     "duration": 0.012937,
     "end_time": "2023-12-26T22:56:24.427097",
     "exception": false,
     "start_time": "2023-12-26T22:56:24.414160",
     "status": "completed"
    },
    "tags": []
   },
   "source": [
    "<a id= \"1\"><a/><br>\n",
    "# **1-Load and Check Data**\n"
   ]
  },
  {
   "cell_type": "code",
   "execution_count": 4,
   "id": "13a8c72d",
   "metadata": {
    "execution": {
     "iopub.execute_input": "2023-12-26T22:56:24.455422Z",
     "iopub.status.busy": "2023-12-26T22:56:24.455035Z",
     "iopub.status.idle": "2023-12-26T22:56:24.492980Z",
     "shell.execute_reply": "2023-12-26T22:56:24.491237Z"
    },
    "papermill": {
     "duration": 0.055657,
     "end_time": "2023-12-26T22:56:24.495894",
     "exception": false,
     "start_time": "2023-12-26T22:56:24.440237",
     "status": "completed"
    },
    "tags": []
   },
   "outputs": [],
   "source": [
    "train_df = pd.read_csv(\"/kaggle/input/titanic/train.csv\")                                \n",
    "test_df = pd.read_csv(\"/kaggle/input/titanic/test.csv\")                                    \n",
    "test_PassengerId = test_df[\"PassengerId\"]"
   ]
  },
  {
   "cell_type": "code",
   "execution_count": 5,
   "id": "472aaa41",
   "metadata": {
    "execution": {
     "iopub.execute_input": "2023-12-26T22:56:24.523996Z",
     "iopub.status.busy": "2023-12-26T22:56:24.523688Z",
     "iopub.status.idle": "2023-12-26T22:56:24.530883Z",
     "shell.execute_reply": "2023-12-26T22:56:24.529417Z"
    },
    "papermill": {
     "duration": 0.023545,
     "end_time": "2023-12-26T22:56:24.533214",
     "exception": false,
     "start_time": "2023-12-26T22:56:24.509669",
     "status": "completed"
    },
    "tags": []
   },
   "outputs": [
    {
     "data": {
      "text/plain": [
       "Index(['PassengerId', 'Survived', 'Pclass', 'Name', 'Sex', 'Age', 'SibSp',\n",
       "       'Parch', 'Ticket', 'Fare', 'Cabin', 'Embarked'],\n",
       "      dtype='object')"
      ]
     },
     "execution_count": 5,
     "metadata": {},
     "output_type": "execute_result"
    }
   ],
   "source": [
    "train_df.columns"
   ]
  },
  {
   "cell_type": "code",
   "execution_count": 6,
   "id": "c97df5b0",
   "metadata": {
    "execution": {
     "iopub.execute_input": "2023-12-26T22:56:24.561410Z",
     "iopub.status.busy": "2023-12-26T22:56:24.560889Z",
     "iopub.status.idle": "2023-12-26T22:56:24.586242Z",
     "shell.execute_reply": "2023-12-26T22:56:24.584951Z"
    },
    "papermill": {
     "duration": 0.041927,
     "end_time": "2023-12-26T22:56:24.588189",
     "exception": false,
     "start_time": "2023-12-26T22:56:24.546262",
     "status": "completed"
    },
    "tags": []
   },
   "outputs": [
    {
     "data": {
      "text/html": [
       "<div>\n",
       "<style scoped>\n",
       "    .dataframe tbody tr th:only-of-type {\n",
       "        vertical-align: middle;\n",
       "    }\n",
       "\n",
       "    .dataframe tbody tr th {\n",
       "        vertical-align: top;\n",
       "    }\n",
       "\n",
       "    .dataframe thead th {\n",
       "        text-align: right;\n",
       "    }\n",
       "</style>\n",
       "<table border=\"1\" class=\"dataframe\">\n",
       "  <thead>\n",
       "    <tr style=\"text-align: right;\">\n",
       "      <th></th>\n",
       "      <th>PassengerId</th>\n",
       "      <th>Survived</th>\n",
       "      <th>Pclass</th>\n",
       "      <th>Name</th>\n",
       "      <th>Sex</th>\n",
       "      <th>Age</th>\n",
       "      <th>SibSp</th>\n",
       "      <th>Parch</th>\n",
       "      <th>Ticket</th>\n",
       "      <th>Fare</th>\n",
       "      <th>Cabin</th>\n",
       "      <th>Embarked</th>\n",
       "    </tr>\n",
       "  </thead>\n",
       "  <tbody>\n",
       "    <tr>\n",
       "      <th>0</th>\n",
       "      <td>1</td>\n",
       "      <td>0</td>\n",
       "      <td>3</td>\n",
       "      <td>Braund, Mr. Owen Harris</td>\n",
       "      <td>male</td>\n",
       "      <td>22.0</td>\n",
       "      <td>1</td>\n",
       "      <td>0</td>\n",
       "      <td>A/5 21171</td>\n",
       "      <td>7.2500</td>\n",
       "      <td>NaN</td>\n",
       "      <td>S</td>\n",
       "    </tr>\n",
       "    <tr>\n",
       "      <th>1</th>\n",
       "      <td>2</td>\n",
       "      <td>1</td>\n",
       "      <td>1</td>\n",
       "      <td>Cumings, Mrs. John Bradley (Florence Briggs Th...</td>\n",
       "      <td>female</td>\n",
       "      <td>38.0</td>\n",
       "      <td>1</td>\n",
       "      <td>0</td>\n",
       "      <td>PC 17599</td>\n",
       "      <td>71.2833</td>\n",
       "      <td>C85</td>\n",
       "      <td>C</td>\n",
       "    </tr>\n",
       "    <tr>\n",
       "      <th>2</th>\n",
       "      <td>3</td>\n",
       "      <td>1</td>\n",
       "      <td>3</td>\n",
       "      <td>Heikkinen, Miss. Laina</td>\n",
       "      <td>female</td>\n",
       "      <td>26.0</td>\n",
       "      <td>0</td>\n",
       "      <td>0</td>\n",
       "      <td>STON/O2. 3101282</td>\n",
       "      <td>7.9250</td>\n",
       "      <td>NaN</td>\n",
       "      <td>S</td>\n",
       "    </tr>\n",
       "    <tr>\n",
       "      <th>3</th>\n",
       "      <td>4</td>\n",
       "      <td>1</td>\n",
       "      <td>1</td>\n",
       "      <td>Futrelle, Mrs. Jacques Heath (Lily May Peel)</td>\n",
       "      <td>female</td>\n",
       "      <td>35.0</td>\n",
       "      <td>1</td>\n",
       "      <td>0</td>\n",
       "      <td>113803</td>\n",
       "      <td>53.1000</td>\n",
       "      <td>C123</td>\n",
       "      <td>S</td>\n",
       "    </tr>\n",
       "    <tr>\n",
       "      <th>4</th>\n",
       "      <td>5</td>\n",
       "      <td>0</td>\n",
       "      <td>3</td>\n",
       "      <td>Allen, Mr. William Henry</td>\n",
       "      <td>male</td>\n",
       "      <td>35.0</td>\n",
       "      <td>0</td>\n",
       "      <td>0</td>\n",
       "      <td>373450</td>\n",
       "      <td>8.0500</td>\n",
       "      <td>NaN</td>\n",
       "      <td>S</td>\n",
       "    </tr>\n",
       "  </tbody>\n",
       "</table>\n",
       "</div>"
      ],
      "text/plain": [
       "   PassengerId  Survived  Pclass  \\\n",
       "0            1         0       3   \n",
       "1            2         1       1   \n",
       "2            3         1       3   \n",
       "3            4         1       1   \n",
       "4            5         0       3   \n",
       "\n",
       "                                                Name     Sex   Age  SibSp  \\\n",
       "0                            Braund, Mr. Owen Harris    male  22.0      1   \n",
       "1  Cumings, Mrs. John Bradley (Florence Briggs Th...  female  38.0      1   \n",
       "2                             Heikkinen, Miss. Laina  female  26.0      0   \n",
       "3       Futrelle, Mrs. Jacques Heath (Lily May Peel)  female  35.0      1   \n",
       "4                           Allen, Mr. William Henry    male  35.0      0   \n",
       "\n",
       "   Parch            Ticket     Fare Cabin Embarked  \n",
       "0      0         A/5 21171   7.2500   NaN        S  \n",
       "1      0          PC 17599  71.2833   C85        C  \n",
       "2      0  STON/O2. 3101282   7.9250   NaN        S  \n",
       "3      0            113803  53.1000  C123        S  \n",
       "4      0            373450   8.0500   NaN        S  "
      ]
     },
     "execution_count": 6,
     "metadata": {},
     "output_type": "execute_result"
    }
   ],
   "source": [
    "train_df.head()"
   ]
  },
  {
   "cell_type": "code",
   "execution_count": 7,
   "id": "86753e14",
   "metadata": {
    "execution": {
     "iopub.execute_input": "2023-12-26T22:56:24.616530Z",
     "iopub.status.busy": "2023-12-26T22:56:24.615470Z",
     "iopub.status.idle": "2023-12-26T22:56:24.726745Z",
     "shell.execute_reply": "2023-12-26T22:56:24.725622Z"
    },
    "papermill": {
     "duration": 0.127608,
     "end_time": "2023-12-26T22:56:24.728914",
     "exception": false,
     "start_time": "2023-12-26T22:56:24.601306",
     "status": "completed"
    },
    "tags": []
   },
   "outputs": [
    {
     "data": {
      "text/html": [
       "<div>\n",
       "<style scoped>\n",
       "    .dataframe tbody tr th:only-of-type {\n",
       "        vertical-align: middle;\n",
       "    }\n",
       "\n",
       "    .dataframe tbody tr th {\n",
       "        vertical-align: top;\n",
       "    }\n",
       "\n",
       "    .dataframe thead th {\n",
       "        text-align: right;\n",
       "    }\n",
       "</style>\n",
       "<table border=\"1\" class=\"dataframe\">\n",
       "  <thead>\n",
       "    <tr style=\"text-align: right;\">\n",
       "      <th></th>\n",
       "      <th>count</th>\n",
       "      <th>mean</th>\n",
       "      <th>std</th>\n",
       "      <th>min</th>\n",
       "      <th>25%</th>\n",
       "      <th>50%</th>\n",
       "      <th>75%</th>\n",
       "      <th>max</th>\n",
       "    </tr>\n",
       "  </thead>\n",
       "  <tbody>\n",
       "    <tr>\n",
       "      <th>PassengerId</th>\n",
       "      <td>891.0</td>\n",
       "      <td>446.000000</td>\n",
       "      <td>257.353842</td>\n",
       "      <td>1.00</td>\n",
       "      <td>223.5000</td>\n",
       "      <td>446.0000</td>\n",
       "      <td>668.5</td>\n",
       "      <td>891.0000</td>\n",
       "    </tr>\n",
       "    <tr>\n",
       "      <th>Survived</th>\n",
       "      <td>891.0</td>\n",
       "      <td>0.383838</td>\n",
       "      <td>0.486592</td>\n",
       "      <td>0.00</td>\n",
       "      <td>0.0000</td>\n",
       "      <td>0.0000</td>\n",
       "      <td>1.0</td>\n",
       "      <td>1.0000</td>\n",
       "    </tr>\n",
       "    <tr>\n",
       "      <th>Pclass</th>\n",
       "      <td>891.0</td>\n",
       "      <td>2.308642</td>\n",
       "      <td>0.836071</td>\n",
       "      <td>1.00</td>\n",
       "      <td>2.0000</td>\n",
       "      <td>3.0000</td>\n",
       "      <td>3.0</td>\n",
       "      <td>3.0000</td>\n",
       "    </tr>\n",
       "    <tr>\n",
       "      <th>Age</th>\n",
       "      <td>714.0</td>\n",
       "      <td>29.699118</td>\n",
       "      <td>14.526497</td>\n",
       "      <td>0.42</td>\n",
       "      <td>20.1250</td>\n",
       "      <td>28.0000</td>\n",
       "      <td>38.0</td>\n",
       "      <td>80.0000</td>\n",
       "    </tr>\n",
       "    <tr>\n",
       "      <th>SibSp</th>\n",
       "      <td>891.0</td>\n",
       "      <td>0.523008</td>\n",
       "      <td>1.102743</td>\n",
       "      <td>0.00</td>\n",
       "      <td>0.0000</td>\n",
       "      <td>0.0000</td>\n",
       "      <td>1.0</td>\n",
       "      <td>8.0000</td>\n",
       "    </tr>\n",
       "    <tr>\n",
       "      <th>Parch</th>\n",
       "      <td>891.0</td>\n",
       "      <td>0.381594</td>\n",
       "      <td>0.806057</td>\n",
       "      <td>0.00</td>\n",
       "      <td>0.0000</td>\n",
       "      <td>0.0000</td>\n",
       "      <td>0.0</td>\n",
       "      <td>6.0000</td>\n",
       "    </tr>\n",
       "    <tr>\n",
       "      <th>Fare</th>\n",
       "      <td>891.0</td>\n",
       "      <td>32.204208</td>\n",
       "      <td>49.693429</td>\n",
       "      <td>0.00</td>\n",
       "      <td>7.9104</td>\n",
       "      <td>14.4542</td>\n",
       "      <td>31.0</td>\n",
       "      <td>512.3292</td>\n",
       "    </tr>\n",
       "  </tbody>\n",
       "</table>\n",
       "</div>"
      ],
      "text/plain": [
       "             count        mean         std   min       25%       50%    75%  \\\n",
       "PassengerId  891.0  446.000000  257.353842  1.00  223.5000  446.0000  668.5   \n",
       "Survived     891.0    0.383838    0.486592  0.00    0.0000    0.0000    1.0   \n",
       "Pclass       891.0    2.308642    0.836071  1.00    2.0000    3.0000    3.0   \n",
       "Age          714.0   29.699118   14.526497  0.42   20.1250   28.0000   38.0   \n",
       "SibSp        891.0    0.523008    1.102743  0.00    0.0000    0.0000    1.0   \n",
       "Parch        891.0    0.381594    0.806057  0.00    0.0000    0.0000    0.0   \n",
       "Fare         891.0   32.204208   49.693429  0.00    7.9104   14.4542   31.0   \n",
       "\n",
       "                  max  \n",
       "PassengerId  891.0000  \n",
       "Survived       1.0000  \n",
       "Pclass         3.0000  \n",
       "Age           80.0000  \n",
       "SibSp          8.0000  \n",
       "Parch          6.0000  \n",
       "Fare         512.3292  "
      ]
     },
     "execution_count": 7,
     "metadata": {},
     "output_type": "execute_result"
    }
   ],
   "source": [
    "train_df.describe().T"
   ]
  },
  {
   "cell_type": "code",
   "execution_count": 8,
   "id": "4903d934",
   "metadata": {
    "execution": {
     "iopub.execute_input": "2023-12-26T22:56:24.821795Z",
     "iopub.status.busy": "2023-12-26T22:56:24.821334Z",
     "iopub.status.idle": "2023-12-26T22:56:24.849149Z",
     "shell.execute_reply": "2023-12-26T22:56:24.847669Z"
    },
    "papermill": {
     "duration": 0.046536,
     "end_time": "2023-12-26T22:56:24.851196",
     "exception": false,
     "start_time": "2023-12-26T22:56:24.804660",
     "status": "completed"
    },
    "tags": []
   },
   "outputs": [
    {
     "name": "stdout",
     "output_type": "stream",
     "text": [
      "<class 'pandas.core.frame.DataFrame'>\n",
      "RangeIndex: 891 entries, 0 to 890\n",
      "Data columns (total 12 columns):\n",
      " #   Column       Non-Null Count  Dtype  \n",
      "---  ------       --------------  -----  \n",
      " 0   PassengerId  891 non-null    int64  \n",
      " 1   Survived     891 non-null    int64  \n",
      " 2   Pclass       891 non-null    int64  \n",
      " 3   Name         891 non-null    object \n",
      " 4   Sex          891 non-null    object \n",
      " 5   Age          714 non-null    float64\n",
      " 6   SibSp        891 non-null    int64  \n",
      " 7   Parch        891 non-null    int64  \n",
      " 8   Ticket       891 non-null    object \n",
      " 9   Fare         891 non-null    float64\n",
      " 10  Cabin        204 non-null    object \n",
      " 11  Embarked     889 non-null    object \n",
      "dtypes: float64(2), int64(5), object(5)\n",
      "memory usage: 83.7+ KB\n"
     ]
    }
   ],
   "source": [
    "train_df.info()"
   ]
  },
  {
   "cell_type": "code",
   "execution_count": 9,
   "id": "f119b82e",
   "metadata": {
    "execution": {
     "iopub.execute_input": "2023-12-26T22:56:24.880264Z",
     "iopub.status.busy": "2023-12-26T22:56:24.879871Z",
     "iopub.status.idle": "2023-12-26T22:56:24.888366Z",
     "shell.execute_reply": "2023-12-26T22:56:24.887225Z"
    },
    "papermill": {
     "duration": 0.026147,
     "end_time": "2023-12-26T22:56:24.891074",
     "exception": false,
     "start_time": "2023-12-26T22:56:24.864927",
     "status": "completed"
    },
    "tags": []
   },
   "outputs": [
    {
     "data": {
      "text/plain": [
       "True"
      ]
     },
     "execution_count": 9,
     "metadata": {},
     "output_type": "execute_result"
    }
   ],
   "source": [
    "train_df.isnull().values.any()"
   ]
  },
  {
   "cell_type": "markdown",
   "id": "0de767e3",
   "metadata": {
    "papermill": {
     "duration": 0.014097,
     "end_time": "2023-12-26T22:56:24.920136",
     "exception": false,
     "start_time": "2023-12-26T22:56:24.906039",
     "status": "completed"
    },
    "tags": []
   },
   "source": [
    "<a id= \"2\"><a/><br>\n",
    "# **2-Variable Description**\n",
    "    \n",
    "    \n",
    "1-PassengerId: unique id number to each passenger<br>\n",
    "2-Survived: passenger survive(1) or died(0)<br>\n",
    "3-Pclass: passenger class<br>\n",
    "4-Name: name<br>\n",
    "5-Sex: gender of passenger<br>\n",
    "6-Age: age of passenger<br>\n",
    "7-SibSp: number of siblings/spouses<br>\n",
    "8-Parch: number of parents/children<br>\n",
    "9-Ticket: ticket number<br>\n",
    "10-Fare: amount of money spent on ticket<br>\n",
    "11-Cabin: cabin category<br>\n",
    "12-Embarked: port where passenger embarked (C = Cherbourg, Q = Queenstown, S = Southampton)<br>"
   ]
  },
  {
   "cell_type": "markdown",
   "id": "f78d9220",
   "metadata": {
    "papermill": {
     "duration": 0.014547,
     "end_time": "2023-12-26T22:56:24.948492",
     "exception": false,
     "start_time": "2023-12-26T22:56:24.933945",
     "status": "completed"
    },
    "tags": []
   },
   "source": [
    "<a id= \"3\"><a/><br>\n",
    "# Variable Analysis                                        \n",
    "\n",
    "**Categorical Variable:** Survived, Pclass,Name, Sex,Sibsp,Embarked, Cabin,  Ticket,and Parch\n",
    "\n",
    "\n",
    "**Numerical Variable:** Fare, age and passengerId"
   ]
  },
  {
   "cell_type": "code",
   "execution_count": 10,
   "id": "d49f67ab",
   "metadata": {
    "execution": {
     "iopub.execute_input": "2023-12-26T22:56:24.978857Z",
     "iopub.status.busy": "2023-12-26T22:56:24.978506Z",
     "iopub.status.idle": "2023-12-26T22:56:24.985127Z",
     "shell.execute_reply": "2023-12-26T22:56:24.983891Z"
    },
    "papermill": {
     "duration": 0.024999,
     "end_time": "2023-12-26T22:56:24.987751",
     "exception": false,
     "start_time": "2023-12-26T22:56:24.962752",
     "status": "completed"
    },
    "tags": []
   },
   "outputs": [
    {
     "data": {
      "text/plain": [
       "array(['male', 'female'], dtype=object)"
      ]
     },
     "execution_count": 10,
     "metadata": {},
     "output_type": "execute_result"
    }
   ],
   "source": [
    "\n",
    "train_df.Sex.value_counts()\n",
    "train_df.Sex.unique()\n"
   ]
  },
  {
   "cell_type": "markdown",
   "id": "07cf1b1e",
   "metadata": {
    "papermill": {
     "duration": 0.013387,
     "end_time": "2023-12-26T22:56:25.015212",
     "exception": false,
     "start_time": "2023-12-26T22:56:25.001825",
     "status": "completed"
    },
    "tags": []
   },
   "source": [
    "<a id= \"4\"><a/><br>\n",
    "# Categorical Variable"
   ]
  },
  {
   "cell_type": "code",
   "execution_count": 11,
   "id": "7d50caab",
   "metadata": {
    "execution": {
     "iopub.execute_input": "2023-12-26T22:56:25.046260Z",
     "iopub.status.busy": "2023-12-26T22:56:25.045862Z",
     "iopub.status.idle": "2023-12-26T22:56:25.052642Z",
     "shell.execute_reply": "2023-12-26T22:56:25.051336Z"
    },
    "papermill": {
     "duration": 0.024422,
     "end_time": "2023-12-26T22:56:25.054570",
     "exception": false,
     "start_time": "2023-12-26T22:56:25.030148",
     "status": "completed"
    },
    "tags": []
   },
   "outputs": [],
   "source": [
    "def bar_plot(variable):\n",
    "    \"\"\"\n",
    "        input: variable ex: \"Sex\"\n",
    "        output: bar plot & value count\n",
    "    \"\"\"\n",
    "    # get feature\n",
    "    var = train_df[variable]\n",
    "    # count number of categorical variable(value/sample)\n",
    "    varValue = var.value_counts()\n",
    "    \n",
    "    # visualize\n",
    "    plt.figure(figsize = (9,3))\n",
    "    plt.bar(varValue.index, varValue)\n",
    "    plt.xticks(varValue.index, varValue.index.values)\n",
    "    plt.ylabel(\"Frequency\")\n",
    "    plt.title(variable)\n",
    "    plt.show()\n",
    "    print(f\"{variable}: \\n {varValue}\")\n",
    "    "
   ]
  },
  {
   "cell_type": "code",
   "execution_count": 12,
   "id": "c10abb3b",
   "metadata": {
    "execution": {
     "iopub.execute_input": "2023-12-26T22:56:25.084753Z",
     "iopub.status.busy": "2023-12-26T22:56:25.084336Z",
     "iopub.status.idle": "2023-12-26T22:56:26.148013Z",
     "shell.execute_reply": "2023-12-26T22:56:26.146700Z"
    },
    "papermill": {
     "duration": 1.082596,
     "end_time": "2023-12-26T22:56:26.151478",
     "exception": false,
     "start_time": "2023-12-26T22:56:25.068882",
     "status": "completed"
    },
    "tags": []
   },
   "outputs": [
    {
     "data": {
      "image/png": "[encoded data removed]",
      "text/plain": [
       "<Figure size 900x300 with 1 Axes>"
      ]
     },
     "metadata": {},
     "output_type": "display_data"
    },
    {
     "name": "stdout",
     "output_type": "stream",
     "text": [
      "Survived: \n",
      " Survived\n",
      "0    549\n",
      "1    342\n",
      "Name: count, dtype: int64\n"
     ]
    },
    {
     "data": {
      "image/png": "[encoded data removed]",
      "text/plain": [
       "<Figure size 900x300 with 1 Axes>"
      ]
     },
     "metadata": {},
     "output_type": "display_data"
    },
    {
     "name": "stdout",
     "output_type": "stream",
     "text": [
      "Sex: \n",
      " Sex\n",
      "male      577\n",
      "female    314\n",
      "Name: count, dtype: int64\n"
     ]
    },
    {
     "data": {
      "image/png": "[encoded data removed]",
      "text/plain": [
       "<Figure size 900x300 with 1 Axes>"
      ]
     },
     "metadata": {},
     "output_type": "display_data"
    },
    {
     "name": "stdout",
     "output_type": "stream",
     "text": [
      "Pclass: \n",
      " Pclass\n",
      "3    491\n",
      "1    216\n",
      "2    184\n",
      "Name: count, dtype: int64\n"
     ]
    },
    {
     "data": {
      "image/png": "[encoded data removed]",
      "text/plain": [
       "<Figure size 900x300 with 1 Axes>"
      ]
     },
     "metadata": {},
     "output_type": "display_data"
    },
    {
     "name": "stdout",
     "output_type": "stream",
     "text": [
      "Embarked: \n",
      " Embarked\n",
      "S    644\n",
      "C    168\n",
      "Q     77\n",
      "Name: count, dtype: int64\n"
     ]
    },
    {
     "data": {
      "image/png": "[encoded data removed]",
      "text/plain": [
       "<Figure size 900x300 with 1 Axes>"
      ]
     },
     "metadata": {},
     "output_type": "display_data"
    },
    {
     "name": "stdout",
     "output_type": "stream",
     "text": [
      "SibSp: \n",
      " SibSp\n",
      "0    608\n",
      "1    209\n",
      "2     28\n",
      "4     18\n",
      "3     16\n",
      "8      7\n",
      "5      5\n",
      "Name: count, dtype: int64\n"
     ]
    },
    {
     "data": {
      "image/png": "[encoded data removed]",
      "text/plain": [
       "<Figure size 900x300 with 1 Axes>"
      ]
     },
     "metadata": {},
     "output_type": "display_data"
    },
    {
     "name": "stdout",
     "output_type": "stream",
     "text": [
      "Parch: \n",
      " Parch\n",
      "0    678\n",
      "1    118\n",
      "2     80\n",
      "5      5\n",
      "3      5\n",
      "4      4\n",
      "6      1\n",
      "Name: count, dtype: int64\n"
     ]
    }
   ],
   "source": [
    "category1 = [\"Survived\",\"Sex\",\"Pclass\",\"Embarked\",\"SibSp\", \"Parch\"]\n",
    "for c in category1:\n",
    "    bar_plot(c)"
   ]
  },
  {
   "cell_type": "markdown",
   "id": "42d0f624",
   "metadata": {
    "papermill": {
     "duration": 0.016217,
     "end_time": "2023-12-26T22:56:26.183957",
     "exception": false,
     "start_time": "2023-12-26T22:56:26.167740",
     "status": "completed"
    },
    "tags": []
   },
   "source": [
    "<a id= \"5\"><a/><br>\n",
    "# Numerical Variable"
   ]
  },
  {
   "cell_type": "code",
   "execution_count": 13,
   "id": "dd391e8d",
   "metadata": {
    "execution": {
     "iopub.execute_input": "2023-12-26T22:56:26.219642Z",
     "iopub.status.busy": "2023-12-26T22:56:26.218684Z",
     "iopub.status.idle": "2023-12-26T22:56:26.224226Z",
     "shell.execute_reply": "2023-12-26T22:56:26.223212Z"
    },
    "papermill": {
     "duration": 0.026755,
     "end_time": "2023-12-26T22:56:26.226765",
     "exception": false,
     "start_time": "2023-12-26T22:56:26.200010",
     "status": "completed"
    },
    "tags": []
   },
   "outputs": [],
   "source": [
    "def plot_hist(variable):\n",
    "    plt.figure(figsize = (9,3))\n",
    "    plt.hist(train_df[variable], bins = 50)\n",
    "    plt.xlabel(variable)\n",
    "    plt.ylabel(\"Frequency\")\n",
    "    plt.title(\"{} distribution with hist\".format(variable))\n",
    "    plt.show()\n"
   ]
  },
  {
   "cell_type": "code",
   "execution_count": 14,
   "id": "06950f5f",
   "metadata": {
    "execution": {
     "iopub.execute_input": "2023-12-26T22:56:26.260779Z",
     "iopub.status.busy": "2023-12-26T22:56:26.260193Z",
     "iopub.status.idle": "2023-12-26T22:56:26.997457Z",
     "shell.execute_reply": "2023-12-26T22:56:26.996055Z"
    },
    "papermill": {
     "duration": 0.75666,
     "end_time": "2023-12-26T22:56:26.999911",
     "exception": false,
     "start_time": "2023-12-26T22:56:26.243251",
     "status": "completed"
    },
    "tags": []
   },
   "outputs": [
    {
     "data": {
      "image/png": "[encoded data removed]",
      "text/plain": [
       "<Figure size 900x300 with 1 Axes>"
      ]
     },
     "metadata": {},
     "output_type": "display_data"
    },
    {
     "data": {
      "image/png": "[encoded data removed]",
      "text/plain": [
       "<Figure size 900x300 with 1 Axes>"
      ]
     },
     "metadata": {},
     "output_type": "display_data"
    },
    {
     "data": {
      "image/png": "[encoded data removed]",
      "text/plain": [
       "<Figure size 900x300 with 1 Axes>"
      ]
     },
     "metadata": {},
     "output_type": "display_data"
    }
   ],
   "source": [
    "numericVar = [\"Fare\", \"Age\",\"PassengerId\"]\n",
    "for n in numericVar:\n",
    "    plot_hist(n)"
   ]
  },
  {
   "cell_type": "markdown",
   "id": "fd7ecd7a",
   "metadata": {
    "papermill": {
     "duration": 0.01615,
     "end_time": "2023-12-26T22:56:27.032540",
     "exception": false,
     "start_time": "2023-12-26T22:56:27.016390",
     "status": "completed"
    },
    "tags": []
   },
   "source": [
    "<a id= \"6\"><a/><br>\n",
    "  # **3-Basic Data Analysis**\n",
    "*     Pclass - Survived\n",
    "*     Sex - Survived\n",
    "*     SibSp - Survived\n",
    "*     Parch - Survived"
   ]
  },
  {
   "cell_type": "code",
   "execution_count": 15,
   "id": "231b6351",
   "metadata": {
    "execution": {
     "iopub.execute_input": "2023-12-26T22:56:27.067186Z",
     "iopub.status.busy": "2023-12-26T22:56:27.066871Z",
     "iopub.status.idle": "2023-12-26T22:56:27.088643Z",
     "shell.execute_reply": "2023-12-26T22:56:27.087060Z"
    },
    "papermill": {
     "duration": 0.041538,
     "end_time": "2023-12-26T22:56:27.090710",
     "exception": false,
     "start_time": "2023-12-26T22:56:27.049172",
     "status": "completed"
    },
    "tags": []
   },
   "outputs": [
    {
     "data": {
      "text/html": [
       "<div>\n",
       "<style scoped>\n",
       "    .dataframe tbody tr th:only-of-type {\n",
       "        vertical-align: middle;\n",
       "    }\n",
       "\n",
       "    .dataframe tbody tr th {\n",
       "        vertical-align: top;\n",
       "    }\n",
       "\n",
       "    .dataframe thead th {\n",
       "        text-align: right;\n",
       "    }\n",
       "</style>\n",
       "<table border=\"1\" class=\"dataframe\">\n",
       "  <thead>\n",
       "    <tr style=\"text-align: right;\">\n",
       "      <th></th>\n",
       "      <th>Pclass</th>\n",
       "      <th>Survived</th>\n",
       "      <th>Age</th>\n",
       "    </tr>\n",
       "  </thead>\n",
       "  <tbody>\n",
       "    <tr>\n",
       "      <th>0</th>\n",
       "      <td>1</td>\n",
       "      <td>0.629630</td>\n",
       "      <td>38.233441</td>\n",
       "    </tr>\n",
       "    <tr>\n",
       "      <th>1</th>\n",
       "      <td>2</td>\n",
       "      <td>0.472826</td>\n",
       "      <td>29.877630</td>\n",
       "    </tr>\n",
       "    <tr>\n",
       "      <th>2</th>\n",
       "      <td>3</td>\n",
       "      <td>0.242363</td>\n",
       "      <td>25.140620</td>\n",
       "    </tr>\n",
       "  </tbody>\n",
       "</table>\n",
       "</div>"
      ],
      "text/plain": [
       "   Pclass  Survived        Age\n",
       "0       1  0.629630  38.233441\n",
       "1       2  0.472826  29.877630\n",
       "2       3  0.242363  25.140620"
      ]
     },
     "execution_count": 15,
     "metadata": {},
     "output_type": "execute_result"
    }
   ],
   "source": [
    "# Plcass vs Survived\n",
    "train_df[[\"Pclass\",\"Survived\",\"Age\"]].groupby([\"Pclass\"], as_index = False).mean().sort_values(by=\"Survived\",ascending = False)\n"
   ]
  },
  {
   "cell_type": "code",
   "execution_count": 16,
   "id": "53076184",
   "metadata": {
    "execution": {
     "iopub.execute_input": "2023-12-26T22:56:27.124381Z",
     "iopub.status.busy": "2023-12-26T22:56:27.124076Z",
     "iopub.status.idle": "2023-12-26T22:56:27.137538Z",
     "shell.execute_reply": "2023-12-26T22:56:27.135875Z"
    },
    "papermill": {
     "duration": 0.032837,
     "end_time": "2023-12-26T22:56:27.139713",
     "exception": false,
     "start_time": "2023-12-26T22:56:27.106876",
     "status": "completed"
    },
    "tags": []
   },
   "outputs": [
    {
     "data": {
      "text/html": [
       "<div>\n",
       "<style scoped>\n",
       "    .dataframe tbody tr th:only-of-type {\n",
       "        vertical-align: middle;\n",
       "    }\n",
       "\n",
       "    .dataframe tbody tr th {\n",
       "        vertical-align: top;\n",
       "    }\n",
       "\n",
       "    .dataframe thead th {\n",
       "        text-align: right;\n",
       "    }\n",
       "</style>\n",
       "<table border=\"1\" class=\"dataframe\">\n",
       "  <thead>\n",
       "    <tr style=\"text-align: right;\">\n",
       "      <th></th>\n",
       "      <th>Sex</th>\n",
       "      <th>Survived</th>\n",
       "    </tr>\n",
       "  </thead>\n",
       "  <tbody>\n",
       "    <tr>\n",
       "      <th>0</th>\n",
       "      <td>female</td>\n",
       "      <td>0.742038</td>\n",
       "    </tr>\n",
       "    <tr>\n",
       "      <th>1</th>\n",
       "      <td>male</td>\n",
       "      <td>0.188908</td>\n",
       "    </tr>\n",
       "  </tbody>\n",
       "</table>\n",
       "</div>"
      ],
      "text/plain": [
       "      Sex  Survived\n",
       "0  female  0.742038\n",
       "1    male  0.188908"
      ]
     },
     "execution_count": 16,
     "metadata": {},
     "output_type": "execute_result"
    }
   ],
   "source": [
    "# Sex vs Survived\n",
    "#as_index -index numara verir\n",
    "train_df[[\"Sex\",\"Survived\"]].groupby([\"Sex\"], as_index = False).mean().sort_values(by=\"Survived\",ascending = False)"
   ]
  },
  {
   "cell_type": "code",
   "execution_count": 17,
   "id": "dd1fbb50",
   "metadata": {
    "execution": {
     "iopub.execute_input": "2023-12-26T22:56:27.176409Z",
     "iopub.status.busy": "2023-12-26T22:56:27.176049Z",
     "iopub.status.idle": "2023-12-26T22:56:27.190863Z",
     "shell.execute_reply": "2023-12-26T22:56:27.189039Z"
    },
    "papermill": {
     "duration": 0.037207,
     "end_time": "2023-12-26T22:56:27.193674",
     "exception": false,
     "start_time": "2023-12-26T22:56:27.156467",
     "status": "completed"
    },
    "tags": []
   },
   "outputs": [
    {
     "data": {
      "text/html": [
       "<div>\n",
       "<style scoped>\n",
       "    .dataframe tbody tr th:only-of-type {\n",
       "        vertical-align: middle;\n",
       "    }\n",
       "\n",
       "    .dataframe tbody tr th {\n",
       "        vertical-align: top;\n",
       "    }\n",
       "\n",
       "    .dataframe thead th {\n",
       "        text-align: right;\n",
       "    }\n",
       "</style>\n",
       "<table border=\"1\" class=\"dataframe\">\n",
       "  <thead>\n",
       "    <tr style=\"text-align: right;\">\n",
       "      <th></th>\n",
       "      <th>SibSp</th>\n",
       "      <th>Survived</th>\n",
       "    </tr>\n",
       "  </thead>\n",
       "  <tbody>\n",
       "    <tr>\n",
       "      <th>1</th>\n",
       "      <td>1</td>\n",
       "      <td>0.535885</td>\n",
       "    </tr>\n",
       "    <tr>\n",
       "      <th>2</th>\n",
       "      <td>2</td>\n",
       "      <td>0.464286</td>\n",
       "    </tr>\n",
       "    <tr>\n",
       "      <th>0</th>\n",
       "      <td>0</td>\n",
       "      <td>0.345395</td>\n",
       "    </tr>\n",
       "    <tr>\n",
       "      <th>3</th>\n",
       "      <td>3</td>\n",
       "      <td>0.250000</td>\n",
       "    </tr>\n",
       "    <tr>\n",
       "      <th>4</th>\n",
       "      <td>4</td>\n",
       "      <td>0.166667</td>\n",
       "    </tr>\n",
       "    <tr>\n",
       "      <th>5</th>\n",
       "      <td>5</td>\n",
       "      <td>0.000000</td>\n",
       "    </tr>\n",
       "    <tr>\n",
       "      <th>6</th>\n",
       "      <td>8</td>\n",
       "      <td>0.000000</td>\n",
       "    </tr>\n",
       "  </tbody>\n",
       "</table>\n",
       "</div>"
      ],
      "text/plain": [
       "   SibSp  Survived\n",
       "1      1  0.535885\n",
       "2      2  0.464286\n",
       "0      0  0.345395\n",
       "3      3  0.250000\n",
       "4      4  0.166667\n",
       "5      5  0.000000\n",
       "6      8  0.000000"
      ]
     },
     "execution_count": 17,
     "metadata": {},
     "output_type": "execute_result"
    }
   ],
   "source": [
    "# Sibsp vs Survived\n",
    "train_df[[\"SibSp\",\"Survived\"]].groupby([\"SibSp\"], as_index = False).mean().sort_values(by=\"Survived\",ascending = False)"
   ]
  },
  {
   "cell_type": "code",
   "execution_count": 18,
   "id": "627d73ae",
   "metadata": {
    "execution": {
     "iopub.execute_input": "2023-12-26T22:56:27.230058Z",
     "iopub.status.busy": "2023-12-26T22:56:27.229661Z",
     "iopub.status.idle": "2023-12-26T22:56:27.242196Z",
     "shell.execute_reply": "2023-12-26T22:56:27.241164Z"
    },
    "papermill": {
     "duration": 0.034365,
     "end_time": "2023-12-26T22:56:27.245428",
     "exception": false,
     "start_time": "2023-12-26T22:56:27.211063",
     "status": "completed"
    },
    "tags": []
   },
   "outputs": [
    {
     "data": {
      "text/html": [
       "<div>\n",
       "<style scoped>\n",
       "    .dataframe tbody tr th:only-of-type {\n",
       "        vertical-align: middle;\n",
       "    }\n",
       "\n",
       "    .dataframe tbody tr th {\n",
       "        vertical-align: top;\n",
       "    }\n",
       "\n",
       "    .dataframe thead th {\n",
       "        text-align: right;\n",
       "    }\n",
       "</style>\n",
       "<table border=\"1\" class=\"dataframe\">\n",
       "  <thead>\n",
       "    <tr style=\"text-align: right;\">\n",
       "      <th></th>\n",
       "      <th>Parch</th>\n",
       "      <th>Survived</th>\n",
       "    </tr>\n",
       "  </thead>\n",
       "  <tbody>\n",
       "    <tr>\n",
       "      <th>3</th>\n",
       "      <td>3</td>\n",
       "      <td>0.600000</td>\n",
       "    </tr>\n",
       "    <tr>\n",
       "      <th>1</th>\n",
       "      <td>1</td>\n",
       "      <td>0.550847</td>\n",
       "    </tr>\n",
       "    <tr>\n",
       "      <th>2</th>\n",
       "      <td>2</td>\n",
       "      <td>0.500000</td>\n",
       "    </tr>\n",
       "    <tr>\n",
       "      <th>0</th>\n",
       "      <td>0</td>\n",
       "      <td>0.343658</td>\n",
       "    </tr>\n",
       "    <tr>\n",
       "      <th>5</th>\n",
       "      <td>5</td>\n",
       "      <td>0.200000</td>\n",
       "    </tr>\n",
       "    <tr>\n",
       "      <th>4</th>\n",
       "      <td>4</td>\n",
       "      <td>0.000000</td>\n",
       "    </tr>\n",
       "    <tr>\n",
       "      <th>6</th>\n",
       "      <td>6</td>\n",
       "      <td>0.000000</td>\n",
       "    </tr>\n",
       "  </tbody>\n",
       "</table>\n",
       "</div>"
      ],
      "text/plain": [
       "   Parch  Survived\n",
       "3      3  0.600000\n",
       "1      1  0.550847\n",
       "2      2  0.500000\n",
       "0      0  0.343658\n",
       "5      5  0.200000\n",
       "4      4  0.000000\n",
       "6      6  0.000000"
      ]
     },
     "execution_count": 18,
     "metadata": {},
     "output_type": "execute_result"
    }
   ],
   "source": [
    "# Parch vs Survived\n",
    "train_df[[\"Parch\",\"Survived\"]].groupby([\"Parch\"], as_index = False).mean().sort_values(by=\"Survived\",ascending = False)"
   ]
  },
  {
   "cell_type": "markdown",
   "id": "76857d65",
   "metadata": {
    "papermill": {
     "duration": 0.016854,
     "end_time": "2023-12-26T22:56:27.280476",
     "exception": false,
     "start_time": "2023-12-26T22:56:27.263622",
     "status": "completed"
    },
    "tags": []
   },
   "source": [
    "<a id= \"7\"><a/><br>\n",
    "# **4-Outlier Detection**"
   ]
  },
  {
   "cell_type": "markdown",
   "id": "23981b03",
   "metadata": {
    "papermill": {
     "duration": 0.017104,
     "end_time": "2023-12-26T22:56:27.315213",
     "exception": false,
     "start_time": "2023-12-26T22:56:27.298109",
     "status": "completed"
    },
    "tags": []
   },
   "source": [
    "**\"Aykırı değer\"** "
   ]
  },
  {
   "cell_type": "code",
   "execution_count": 19,
   "id": "4f264d88",
   "metadata": {
    "execution": {
     "iopub.execute_input": "2023-12-26T22:56:27.352543Z",
     "iopub.status.busy": "2023-12-26T22:56:27.352120Z",
     "iopub.status.idle": "2023-12-26T22:56:27.358926Z",
     "shell.execute_reply": "2023-12-26T22:56:27.357860Z"
    },
    "papermill": {
     "duration": 0.027916,
     "end_time": "2023-12-26T22:56:27.361142",
     "exception": false,
     "start_time": "2023-12-26T22:56:27.333226",
     "status": "completed"
    },
    "tags": []
   },
   "outputs": [],
   "source": [
    "def detect_outliers(df,features):\n",
    "    outlier_indices=[]\n",
    "    for  c in features:\n",
    "        #1st Quartile \"yüdeklik dilim\" \n",
    "        Q1=np.percentile(df[c],25)\n",
    "        #3st Quartile\n",
    "        Q3=np.percentile(df[c],75)\n",
    "        #IQR\n",
    "        IQR=Q3-Q1\n",
    "        #Outlier step\n",
    "        outlier_step=IQR *1.5\n",
    "        #detect outlier and their indeces\n",
    "        outlier_list_col=df[(df[c]<Q1 - outlier_step) | (df[c]> Q3 + outlier_step)].index\n",
    "     \n",
    "        #store indeces\n",
    "        outlier_indices.extend(outlier_list_col)\n",
    "        \n",
    "    outlier_indices=Counter(outlier_indices)\n",
    "    multiple_outliers=list(i for i, v in outlier_indices.items() if v>2)\n",
    "    return multiple_outliers\n",
    "    "
   ]
  },
  {
   "cell_type": "code",
   "execution_count": 20,
   "id": "324713eb",
   "metadata": {
    "execution": {
     "iopub.execute_input": "2023-12-26T22:56:27.398811Z",
     "iopub.status.busy": "2023-12-26T22:56:27.398229Z",
     "iopub.status.idle": "2023-12-26T22:56:27.419567Z",
     "shell.execute_reply": "2023-12-26T22:56:27.418647Z"
    },
    "papermill": {
     "duration": 0.042821,
     "end_time": "2023-12-26T22:56:27.421494",
     "exception": false,
     "start_time": "2023-12-26T22:56:27.378673",
     "status": "completed"
    },
    "tags": []
   },
   "outputs": [
    {
     "data": {
      "text/html": [
       "<div>\n",
       "<style scoped>\n",
       "    .dataframe tbody tr th:only-of-type {\n",
       "        vertical-align: middle;\n",
       "    }\n",
       "\n",
       "    .dataframe tbody tr th {\n",
       "        vertical-align: top;\n",
       "    }\n",
       "\n",
       "    .dataframe thead th {\n",
       "        text-align: right;\n",
       "    }\n",
       "</style>\n",
       "<table border=\"1\" class=\"dataframe\">\n",
       "  <thead>\n",
       "    <tr style=\"text-align: right;\">\n",
       "      <th></th>\n",
       "      <th>PassengerId</th>\n",
       "      <th>Survived</th>\n",
       "      <th>Pclass</th>\n",
       "      <th>Name</th>\n",
       "      <th>Sex</th>\n",
       "      <th>Age</th>\n",
       "      <th>SibSp</th>\n",
       "      <th>Parch</th>\n",
       "      <th>Ticket</th>\n",
       "      <th>Fare</th>\n",
       "      <th>Cabin</th>\n",
       "      <th>Embarked</th>\n",
       "    </tr>\n",
       "  </thead>\n",
       "  <tbody>\n",
       "    <tr>\n",
       "      <th>27</th>\n",
       "      <td>28</td>\n",
       "      <td>0</td>\n",
       "      <td>1</td>\n",
       "      <td>Fortune, Mr. Charles Alexander</td>\n",
       "      <td>male</td>\n",
       "      <td>19.0</td>\n",
       "      <td>3</td>\n",
       "      <td>2</td>\n",
       "      <td>19950</td>\n",
       "      <td>263.00</td>\n",
       "      <td>C23 C25 C27</td>\n",
       "      <td>S</td>\n",
       "    </tr>\n",
       "    <tr>\n",
       "      <th>88</th>\n",
       "      <td>89</td>\n",
       "      <td>1</td>\n",
       "      <td>1</td>\n",
       "      <td>Fortune, Miss. Mabel Helen</td>\n",
       "      <td>female</td>\n",
       "      <td>23.0</td>\n",
       "      <td>3</td>\n",
       "      <td>2</td>\n",
       "      <td>19950</td>\n",
       "      <td>263.00</td>\n",
       "      <td>C23 C25 C27</td>\n",
       "      <td>S</td>\n",
       "    </tr>\n",
       "    <tr>\n",
       "      <th>159</th>\n",
       "      <td>160</td>\n",
       "      <td>0</td>\n",
       "      <td>3</td>\n",
       "      <td>Sage, Master. Thomas Henry</td>\n",
       "      <td>male</td>\n",
       "      <td>NaN</td>\n",
       "      <td>8</td>\n",
       "      <td>2</td>\n",
       "      <td>CA. 2343</td>\n",
       "      <td>69.55</td>\n",
       "      <td>NaN</td>\n",
       "      <td>S</td>\n",
       "    </tr>\n",
       "    <tr>\n",
       "      <th>180</th>\n",
       "      <td>181</td>\n",
       "      <td>0</td>\n",
       "      <td>3</td>\n",
       "      <td>Sage, Miss. Constance Gladys</td>\n",
       "      <td>female</td>\n",
       "      <td>NaN</td>\n",
       "      <td>8</td>\n",
       "      <td>2</td>\n",
       "      <td>CA. 2343</td>\n",
       "      <td>69.55</td>\n",
       "      <td>NaN</td>\n",
       "      <td>S</td>\n",
       "    </tr>\n",
       "    <tr>\n",
       "      <th>201</th>\n",
       "      <td>202</td>\n",
       "      <td>0</td>\n",
       "      <td>3</td>\n",
       "      <td>Sage, Mr. Frederick</td>\n",
       "      <td>male</td>\n",
       "      <td>NaN</td>\n",
       "      <td>8</td>\n",
       "      <td>2</td>\n",
       "      <td>CA. 2343</td>\n",
       "      <td>69.55</td>\n",
       "      <td>NaN</td>\n",
       "      <td>S</td>\n",
       "    </tr>\n",
       "    <tr>\n",
       "      <th>324</th>\n",
       "      <td>325</td>\n",
       "      <td>0</td>\n",
       "      <td>3</td>\n",
       "      <td>Sage, Mr. George John Jr</td>\n",
       "      <td>male</td>\n",
       "      <td>NaN</td>\n",
       "      <td>8</td>\n",
       "      <td>2</td>\n",
       "      <td>CA. 2343</td>\n",
       "      <td>69.55</td>\n",
       "      <td>NaN</td>\n",
       "      <td>S</td>\n",
       "    </tr>\n",
       "    <tr>\n",
       "      <th>341</th>\n",
       "      <td>342</td>\n",
       "      <td>1</td>\n",
       "      <td>1</td>\n",
       "      <td>Fortune, Miss. Alice Elizabeth</td>\n",
       "      <td>female</td>\n",
       "      <td>24.0</td>\n",
       "      <td>3</td>\n",
       "      <td>2</td>\n",
       "      <td>19950</td>\n",
       "      <td>263.00</td>\n",
       "      <td>C23 C25 C27</td>\n",
       "      <td>S</td>\n",
       "    </tr>\n",
       "    <tr>\n",
       "      <th>792</th>\n",
       "      <td>793</td>\n",
       "      <td>0</td>\n",
       "      <td>3</td>\n",
       "      <td>Sage, Miss. Stella Anna</td>\n",
       "      <td>female</td>\n",
       "      <td>NaN</td>\n",
       "      <td>8</td>\n",
       "      <td>2</td>\n",
       "      <td>CA. 2343</td>\n",
       "      <td>69.55</td>\n",
       "      <td>NaN</td>\n",
       "      <td>S</td>\n",
       "    </tr>\n",
       "    <tr>\n",
       "      <th>846</th>\n",
       "      <td>847</td>\n",
       "      <td>0</td>\n",
       "      <td>3</td>\n",
       "      <td>Sage, Mr. Douglas Bullen</td>\n",
       "      <td>male</td>\n",
       "      <td>NaN</td>\n",
       "      <td>8</td>\n",
       "      <td>2</td>\n",
       "      <td>CA. 2343</td>\n",
       "      <td>69.55</td>\n",
       "      <td>NaN</td>\n",
       "      <td>S</td>\n",
       "    </tr>\n",
       "    <tr>\n",
       "      <th>863</th>\n",
       "      <td>864</td>\n",
       "      <td>0</td>\n",
       "      <td>3</td>\n",
       "      <td>Sage, Miss. Dorothy Edith \"Dolly\"</td>\n",
       "      <td>female</td>\n",
       "      <td>NaN</td>\n",
       "      <td>8</td>\n",
       "      <td>2</td>\n",
       "      <td>CA. 2343</td>\n",
       "      <td>69.55</td>\n",
       "      <td>NaN</td>\n",
       "      <td>S</td>\n",
       "    </tr>\n",
       "  </tbody>\n",
       "</table>\n",
       "</div>"
      ],
      "text/plain": [
       "     PassengerId  Survived  Pclass                               Name     Sex  \\\n",
       "27            28         0       1     Fortune, Mr. Charles Alexander    male   \n",
       "88            89         1       1         Fortune, Miss. Mabel Helen  female   \n",
       "159          160         0       3         Sage, Master. Thomas Henry    male   \n",
       "180          181         0       3       Sage, Miss. Constance Gladys  female   \n",
       "201          202         0       3                Sage, Mr. Frederick    male   \n",
       "324          325         0       3           Sage, Mr. George John Jr    male   \n",
       "341          342         1       1     Fortune, Miss. Alice Elizabeth  female   \n",
       "792          793         0       3            Sage, Miss. Stella Anna  female   \n",
       "846          847         0       3           Sage, Mr. Douglas Bullen    male   \n",
       "863          864         0       3  Sage, Miss. Dorothy Edith \"Dolly\"  female   \n",
       "\n",
       "      Age  SibSp  Parch    Ticket    Fare        Cabin Embarked  \n",
       "27   19.0      3      2     19950  263.00  C23 C25 C27        S  \n",
       "88   23.0      3      2     19950  263.00  C23 C25 C27        S  \n",
       "159   NaN      8      2  CA. 2343   69.55          NaN        S  \n",
       "180   NaN      8      2  CA. 2343   69.55          NaN        S  \n",
       "201   NaN      8      2  CA. 2343   69.55          NaN        S  \n",
       "324   NaN      8      2  CA. 2343   69.55          NaN        S  \n",
       "341  24.0      3      2     19950  263.00  C23 C25 C27        S  \n",
       "792   NaN      8      2  CA. 2343   69.55          NaN        S  \n",
       "846   NaN      8      2  CA. 2343   69.55          NaN        S  \n",
       "863   NaN      8      2  CA. 2343   69.55          NaN        S  "
      ]
     },
     "execution_count": 20,
     "metadata": {},
     "output_type": "execute_result"
    }
   ],
   "source": [
    "train_df.loc[detect_outliers(train_df,[\"Age\",\"SibSp\",\"Parch\",\"Fare\"])]"
   ]
  },
  {
   "cell_type": "code",
   "execution_count": 21,
   "id": "fc008530",
   "metadata": {
    "execution": {
     "iopub.execute_input": "2023-12-26T22:56:27.458335Z",
     "iopub.status.busy": "2023-12-26T22:56:27.457976Z",
     "iopub.status.idle": "2023-12-26T22:56:27.469408Z",
     "shell.execute_reply": "2023-12-26T22:56:27.468208Z"
    },
    "papermill": {
     "duration": 0.032729,
     "end_time": "2023-12-26T22:56:27.471744",
     "exception": false,
     "start_time": "2023-12-26T22:56:27.439015",
     "status": "completed"
    },
    "tags": []
   },
   "outputs": [],
   "source": [
    "#drop outliers\n",
    "train_df = train_df.drop(detect_outliers(train_df,[\"Age\",\"SibSp\",\"Parch\",\"Fare\"]),axis = 0).reset_index(drop = True)"
   ]
  },
  {
   "cell_type": "markdown",
   "id": "bb2745cf",
   "metadata": {
    "papermill": {
     "duration": 0.017535,
     "end_time": "2023-12-26T22:56:27.507294",
     "exception": false,
     "start_time": "2023-12-26T22:56:27.489759",
     "status": "completed"
    },
    "tags": []
   },
   "source": [
    "<a id= \"8\"><a/><br>\n",
    "# **5-Missing Value**"
   ]
  },
  {
   "cell_type": "markdown",
   "id": "c63acb67",
   "metadata": {
    "papermill": {
     "duration": 0.017637,
     "end_time": "2023-12-26T22:56:27.542978",
     "exception": false,
     "start_time": "2023-12-26T22:56:27.525341",
     "status": "completed"
    },
    "tags": []
   },
   "source": [
    "* Find Missing Value\n",
    "* Fill Missing Value"
   ]
  },
  {
   "cell_type": "code",
   "execution_count": 22,
   "id": "3e53c131",
   "metadata": {
    "execution": {
     "iopub.execute_input": "2023-12-26T22:56:27.581821Z",
     "iopub.status.busy": "2023-12-26T22:56:27.581211Z",
     "iopub.status.idle": "2023-12-26T22:56:27.589518Z",
     "shell.execute_reply": "2023-12-26T22:56:27.588664Z"
    },
    "papermill": {
     "duration": 0.030476,
     "end_time": "2023-12-26T22:56:27.592049",
     "exception": false,
     "start_time": "2023-12-26T22:56:27.561573",
     "status": "completed"
    },
    "tags": []
   },
   "outputs": [],
   "source": [
    "train_df_len = len(train_df)\n",
    "train_df = pd.concat([train_df,test_df],axis = 0).reset_index(drop = True)"
   ]
  },
  {
   "cell_type": "code",
   "execution_count": 23,
   "id": "9f9bd689",
   "metadata": {
    "execution": {
     "iopub.execute_input": "2023-12-26T22:56:27.628942Z",
     "iopub.status.busy": "2023-12-26T22:56:27.628170Z",
     "iopub.status.idle": "2023-12-26T22:56:27.642258Z",
     "shell.execute_reply": "2023-12-26T22:56:27.641258Z"
    },
    "papermill": {
     "duration": 0.035279,
     "end_time": "2023-12-26T22:56:27.644754",
     "exception": false,
     "start_time": "2023-12-26T22:56:27.609475",
     "status": "completed"
    },
    "tags": []
   },
   "outputs": [
    {
     "data": {
      "text/html": [
       "<div>\n",
       "<style scoped>\n",
       "    .dataframe tbody tr th:only-of-type {\n",
       "        vertical-align: middle;\n",
       "    }\n",
       "\n",
       "    .dataframe tbody tr th {\n",
       "        vertical-align: top;\n",
       "    }\n",
       "\n",
       "    .dataframe thead th {\n",
       "        text-align: right;\n",
       "    }\n",
       "</style>\n",
       "<table border=\"1\" class=\"dataframe\">\n",
       "  <thead>\n",
       "    <tr style=\"text-align: right;\">\n",
       "      <th></th>\n",
       "      <th>PassengerId</th>\n",
       "      <th>Survived</th>\n",
       "      <th>Pclass</th>\n",
       "      <th>Name</th>\n",
       "      <th>Sex</th>\n",
       "      <th>Age</th>\n",
       "      <th>SibSp</th>\n",
       "      <th>Parch</th>\n",
       "      <th>Ticket</th>\n",
       "      <th>Fare</th>\n",
       "      <th>Cabin</th>\n",
       "      <th>Embarked</th>\n",
       "    </tr>\n",
       "  </thead>\n",
       "  <tbody>\n",
       "    <tr>\n",
       "      <th>0</th>\n",
       "      <td>1</td>\n",
       "      <td>0.0</td>\n",
       "      <td>3</td>\n",
       "      <td>Braund, Mr. Owen Harris</td>\n",
       "      <td>male</td>\n",
       "      <td>22.0</td>\n",
       "      <td>1</td>\n",
       "      <td>0</td>\n",
       "      <td>A/5 21171</td>\n",
       "      <td>7.2500</td>\n",
       "      <td>NaN</td>\n",
       "      <td>S</td>\n",
       "    </tr>\n",
       "    <tr>\n",
       "      <th>1</th>\n",
       "      <td>2</td>\n",
       "      <td>1.0</td>\n",
       "      <td>1</td>\n",
       "      <td>Cumings, Mrs. John Bradley (Florence Briggs Th...</td>\n",
       "      <td>female</td>\n",
       "      <td>38.0</td>\n",
       "      <td>1</td>\n",
       "      <td>0</td>\n",
       "      <td>PC 17599</td>\n",
       "      <td>71.2833</td>\n",
       "      <td>C85</td>\n",
       "      <td>C</td>\n",
       "    </tr>\n",
       "    <tr>\n",
       "      <th>2</th>\n",
       "      <td>3</td>\n",
       "      <td>1.0</td>\n",
       "      <td>3</td>\n",
       "      <td>Heikkinen, Miss. Laina</td>\n",
       "      <td>female</td>\n",
       "      <td>26.0</td>\n",
       "      <td>0</td>\n",
       "      <td>0</td>\n",
       "      <td>STON/O2. 3101282</td>\n",
       "      <td>7.9250</td>\n",
       "      <td>NaN</td>\n",
       "      <td>S</td>\n",
       "    </tr>\n",
       "    <tr>\n",
       "      <th>3</th>\n",
       "      <td>4</td>\n",
       "      <td>1.0</td>\n",
       "      <td>1</td>\n",
       "      <td>Futrelle, Mrs. Jacques Heath (Lily May Peel)</td>\n",
       "      <td>female</td>\n",
       "      <td>35.0</td>\n",
       "      <td>1</td>\n",
       "      <td>0</td>\n",
       "      <td>113803</td>\n",
       "      <td>53.1000</td>\n",
       "      <td>C123</td>\n",
       "      <td>S</td>\n",
       "    </tr>\n",
       "    <tr>\n",
       "      <th>4</th>\n",
       "      <td>5</td>\n",
       "      <td>0.0</td>\n",
       "      <td>3</td>\n",
       "      <td>Allen, Mr. William Henry</td>\n",
       "      <td>male</td>\n",
       "      <td>35.0</td>\n",
       "      <td>0</td>\n",
       "      <td>0</td>\n",
       "      <td>373450</td>\n",
       "      <td>8.0500</td>\n",
       "      <td>NaN</td>\n",
       "      <td>S</td>\n",
       "    </tr>\n",
       "  </tbody>\n",
       "</table>\n",
       "</div>"
      ],
      "text/plain": [
       "   PassengerId  Survived  Pclass  \\\n",
       "0            1       0.0       3   \n",
       "1            2       1.0       1   \n",
       "2            3       1.0       3   \n",
       "3            4       1.0       1   \n",
       "4            5       0.0       3   \n",
       "\n",
       "                                                Name     Sex   Age  SibSp  \\\n",
       "0                            Braund, Mr. Owen Harris    male  22.0      1   \n",
       "1  Cumings, Mrs. John Bradley (Florence Briggs Th...  female  38.0      1   \n",
       "2                             Heikkinen, Miss. Laina  female  26.0      0   \n",
       "3       Futrelle, Mrs. Jacques Heath (Lily May Peel)  female  35.0      1   \n",
       "4                           Allen, Mr. William Henry    male  35.0      0   \n",
       "\n",
       "   Parch            Ticket     Fare Cabin Embarked  \n",
       "0      0         A/5 21171   7.2500   NaN        S  \n",
       "1      0          PC 17599  71.2833   C85        C  \n",
       "2      0  STON/O2. 3101282   7.9250   NaN        S  \n",
       "3      0            113803  53.1000  C123        S  \n",
       "4      0            373450   8.0500   NaN        S  "
      ]
     },
     "execution_count": 23,
     "metadata": {},
     "output_type": "execute_result"
    }
   ],
   "source": [
    "train_df.head()"
   ]
  },
  {
   "cell_type": "markdown",
   "id": "5ab41f81",
   "metadata": {
    "_kg_hide-input": true,
    "papermill": {
     "duration": 0.017523,
     "end_time": "2023-12-26T22:56:27.679802",
     "exception": false,
     "start_time": "2023-12-26T22:56:27.662279",
     "status": "completed"
    },
    "tags": []
   },
   "source": [
    "<a id= \"9\"><a/><br>\n",
    "# Find Missing Value"
   ]
  },
  {
   "cell_type": "code",
   "execution_count": 24,
   "id": "d489b256",
   "metadata": {
    "execution": {
     "iopub.execute_input": "2023-12-26T22:56:27.718223Z",
     "iopub.status.busy": "2023-12-26T22:56:27.717691Z",
     "iopub.status.idle": "2023-12-26T22:56:27.725654Z",
     "shell.execute_reply": "2023-12-26T22:56:27.724443Z"
    },
    "papermill": {
     "duration": 0.030017,
     "end_time": "2023-12-26T22:56:27.727853",
     "exception": false,
     "start_time": "2023-12-26T22:56:27.697836",
     "status": "completed"
    },
    "tags": []
   },
   "outputs": [
    {
     "data": {
      "text/plain": [
       "Index(['Survived', 'Age', 'Fare', 'Cabin', 'Embarked'], dtype='object')"
      ]
     },
     "execution_count": 24,
     "metadata": {},
     "output_type": "execute_result"
    }
   ],
   "source": [
    "train_df.columns[train_df.isnull().any()]"
   ]
  },
  {
   "cell_type": "code",
   "execution_count": 25,
   "id": "0a9177a3",
   "metadata": {
    "_kg_hide-input": true,
    "_kg_hide-output": true,
    "execution": {
     "iopub.execute_input": "2023-12-26T22:56:27.768572Z",
     "iopub.status.busy": "2023-12-26T22:56:27.767963Z",
     "iopub.status.idle": "2023-12-26T22:56:27.775983Z",
     "shell.execute_reply": "2023-12-26T22:56:27.774692Z"
    },
    "papermill": {
     "duration": 0.031691,
     "end_time": "2023-12-26T22:56:27.778101",
     "exception": false,
     "start_time": "2023-12-26T22:56:27.746410",
     "status": "completed"
    },
    "tags": []
   },
   "outputs": [
    {
     "data": {
      "text/plain": [
       "PassengerId       0\n",
       "Survived        418\n",
       "Pclass            0\n",
       "Name              0\n",
       "Sex               0\n",
       "Age             256\n",
       "SibSp             0\n",
       "Parch             0\n",
       "Ticket            0\n",
       "Fare              1\n",
       "Cabin          1007\n",
       "Embarked          2\n",
       "dtype: int64"
      ]
     },
     "execution_count": 25,
     "metadata": {},
     "output_type": "execute_result"
    }
   ],
   "source": [
    "train_df.isnull().sum()"
   ]
  },
  {
   "cell_type": "markdown",
   "id": "fedbbdc0",
   "metadata": {
    "papermill": {
     "duration": 0.017134,
     "end_time": "2023-12-26T22:56:27.812935",
     "exception": false,
     "start_time": "2023-12-26T22:56:27.795801",
     "status": "completed"
    },
    "tags": []
   },
   "source": [
    "<a id= \"10\"><a/><br>\n",
    "# Fill Missing Value"
   ]
  },
  {
   "cell_type": "markdown",
   "id": "042ac73f",
   "metadata": {
    "papermill": {
     "duration": 0.017957,
     "end_time": "2023-12-26T22:56:27.850268",
     "exception": false,
     "start_time": "2023-12-26T22:56:27.832311",
     "status": "completed"
    },
    "tags": []
   },
   "source": [
    "* Embarked has 2 missing value\n",
    "* Fare has only 1"
   ]
  },
  {
   "cell_type": "code",
   "execution_count": 26,
   "id": "ecb2ac2e",
   "metadata": {
    "execution": {
     "iopub.execute_input": "2023-12-26T22:56:27.887391Z",
     "iopub.status.busy": "2023-12-26T22:56:27.886261Z",
     "iopub.status.idle": "2023-12-26T22:56:27.899911Z",
     "shell.execute_reply": "2023-12-26T22:56:27.899027Z"
    },
    "papermill": {
     "duration": 0.034221,
     "end_time": "2023-12-26T22:56:27.901839",
     "exception": false,
     "start_time": "2023-12-26T22:56:27.867618",
     "status": "completed"
    },
    "tags": []
   },
   "outputs": [
    {
     "data": {
      "text/html": [
       "<div>\n",
       "<style scoped>\n",
       "    .dataframe tbody tr th:only-of-type {\n",
       "        vertical-align: middle;\n",
       "    }\n",
       "\n",
       "    .dataframe tbody tr th {\n",
       "        vertical-align: top;\n",
       "    }\n",
       "\n",
       "    .dataframe thead th {\n",
       "        text-align: right;\n",
       "    }\n",
       "</style>\n",
       "<table border=\"1\" class=\"dataframe\">\n",
       "  <thead>\n",
       "    <tr style=\"text-align: right;\">\n",
       "      <th></th>\n",
       "      <th>PassengerId</th>\n",
       "      <th>Survived</th>\n",
       "      <th>Pclass</th>\n",
       "      <th>Name</th>\n",
       "      <th>Sex</th>\n",
       "      <th>Age</th>\n",
       "      <th>SibSp</th>\n",
       "      <th>Parch</th>\n",
       "      <th>Ticket</th>\n",
       "      <th>Fare</th>\n",
       "      <th>Cabin</th>\n",
       "      <th>Embarked</th>\n",
       "    </tr>\n",
       "  </thead>\n",
       "  <tbody>\n",
       "    <tr>\n",
       "      <th>60</th>\n",
       "      <td>62</td>\n",
       "      <td>1.0</td>\n",
       "      <td>1</td>\n",
       "      <td>Icard, Miss. Amelie</td>\n",
       "      <td>female</td>\n",
       "      <td>38.0</td>\n",
       "      <td>0</td>\n",
       "      <td>0</td>\n",
       "      <td>113572</td>\n",
       "      <td>80.0</td>\n",
       "      <td>B28</td>\n",
       "      <td>NaN</td>\n",
       "    </tr>\n",
       "    <tr>\n",
       "      <th>821</th>\n",
       "      <td>830</td>\n",
       "      <td>1.0</td>\n",
       "      <td>1</td>\n",
       "      <td>Stone, Mrs. George Nelson (Martha Evelyn)</td>\n",
       "      <td>female</td>\n",
       "      <td>62.0</td>\n",
       "      <td>0</td>\n",
       "      <td>0</td>\n",
       "      <td>113572</td>\n",
       "      <td>80.0</td>\n",
       "      <td>B28</td>\n",
       "      <td>NaN</td>\n",
       "    </tr>\n",
       "  </tbody>\n",
       "</table>\n",
       "</div>"
      ],
      "text/plain": [
       "     PassengerId  Survived  Pclass                                       Name  \\\n",
       "60            62       1.0       1                        Icard, Miss. Amelie   \n",
       "821          830       1.0       1  Stone, Mrs. George Nelson (Martha Evelyn)   \n",
       "\n",
       "        Sex   Age  SibSp  Parch  Ticket  Fare Cabin Embarked  \n",
       "60   female  38.0      0      0  113572  80.0   B28      NaN  \n",
       "821  female  62.0      0      0  113572  80.0   B28      NaN  "
      ]
     },
     "execution_count": 26,
     "metadata": {},
     "output_type": "execute_result"
    }
   ],
   "source": [
    "train_df[train_df[\"Embarked\"].isnull()]"
   ]
  },
  {
   "cell_type": "code",
   "execution_count": 27,
   "id": "dc220d06",
   "metadata": {
    "execution": {
     "iopub.execute_input": "2023-12-26T22:56:27.939343Z",
     "iopub.status.busy": "2023-12-26T22:56:27.938414Z",
     "iopub.status.idle": "2023-12-26T22:56:28.141103Z",
     "shell.execute_reply": "2023-12-26T22:56:28.139976Z"
    },
    "papermill": {
     "duration": 0.22421,
     "end_time": "2023-12-26T22:56:28.143504",
     "exception": false,
     "start_time": "2023-12-26T22:56:27.919294",
     "status": "completed"
    },
    "tags": []
   },
   "outputs": [
    {
     "data": {
      "image/png": "[encoded data removed]",
      "text/plain": [
       "<Figure size 640x480 with 1 Axes>"
      ]
     },
     "metadata": {},
     "output_type": "display_data"
    }
   ],
   "source": [
    "train_df.boxplot(column=\"Fare\",by = \"Embarked\")\n",
    "plt.show()"
   ]
  },
  {
   "cell_type": "code",
   "execution_count": 28,
   "id": "d0ae5c92",
   "metadata": {
    "execution": {
     "iopub.execute_input": "2023-12-26T22:56:28.183535Z",
     "iopub.status.busy": "2023-12-26T22:56:28.183156Z",
     "iopub.status.idle": "2023-12-26T22:56:28.196650Z",
     "shell.execute_reply": "2023-12-26T22:56:28.195281Z"
    },
    "papermill": {
     "duration": 0.035915,
     "end_time": "2023-12-26T22:56:28.199256",
     "exception": false,
     "start_time": "2023-12-26T22:56:28.163341",
     "status": "completed"
    },
    "tags": []
   },
   "outputs": [
    {
     "data": {
      "text/html": [
       "<div>\n",
       "<style scoped>\n",
       "    .dataframe tbody tr th:only-of-type {\n",
       "        vertical-align: middle;\n",
       "    }\n",
       "\n",
       "    .dataframe tbody tr th {\n",
       "        vertical-align: top;\n",
       "    }\n",
       "\n",
       "    .dataframe thead th {\n",
       "        text-align: right;\n",
       "    }\n",
       "</style>\n",
       "<table border=\"1\" class=\"dataframe\">\n",
       "  <thead>\n",
       "    <tr style=\"text-align: right;\">\n",
       "      <th></th>\n",
       "      <th>PassengerId</th>\n",
       "      <th>Survived</th>\n",
       "      <th>Pclass</th>\n",
       "      <th>Name</th>\n",
       "      <th>Sex</th>\n",
       "      <th>Age</th>\n",
       "      <th>SibSp</th>\n",
       "      <th>Parch</th>\n",
       "      <th>Ticket</th>\n",
       "      <th>Fare</th>\n",
       "      <th>Cabin</th>\n",
       "      <th>Embarked</th>\n",
       "    </tr>\n",
       "  </thead>\n",
       "  <tbody>\n",
       "  </tbody>\n",
       "</table>\n",
       "</div>"
      ],
      "text/plain": [
       "Empty DataFrame\n",
       "Columns: [PassengerId, Survived, Pclass, Name, Sex, Age, SibSp, Parch, Ticket, Fare, Cabin, Embarked]\n",
       "Index: []"
      ]
     },
     "execution_count": 28,
     "metadata": {},
     "output_type": "execute_result"
    }
   ],
   "source": [
    "train_df[\"Embarked\"] = train_df[\"Embarked\"].fillna(\"C\")\n",
    "train_df[train_df[\"Embarked\"].isnull()]"
   ]
  },
  {
   "cell_type": "code",
   "execution_count": 29,
   "id": "ebae2eb3",
   "metadata": {
    "execution": {
     "iopub.execute_input": "2023-12-26T22:56:28.237624Z",
     "iopub.status.busy": "2023-12-26T22:56:28.236975Z",
     "iopub.status.idle": "2023-12-26T22:56:28.250652Z",
     "shell.execute_reply": "2023-12-26T22:56:28.249223Z"
    },
    "papermill": {
     "duration": 0.035073,
     "end_time": "2023-12-26T22:56:28.252409",
     "exception": false,
     "start_time": "2023-12-26T22:56:28.217336",
     "status": "completed"
    },
    "tags": []
   },
   "outputs": [
    {
     "data": {
      "text/html": [
       "<div>\n",
       "<style scoped>\n",
       "    .dataframe tbody tr th:only-of-type {\n",
       "        vertical-align: middle;\n",
       "    }\n",
       "\n",
       "    .dataframe tbody tr th {\n",
       "        vertical-align: top;\n",
       "    }\n",
       "\n",
       "    .dataframe thead th {\n",
       "        text-align: right;\n",
       "    }\n",
       "</style>\n",
       "<table border=\"1\" class=\"dataframe\">\n",
       "  <thead>\n",
       "    <tr style=\"text-align: right;\">\n",
       "      <th></th>\n",
       "      <th>PassengerId</th>\n",
       "      <th>Survived</th>\n",
       "      <th>Pclass</th>\n",
       "      <th>Name</th>\n",
       "      <th>Sex</th>\n",
       "      <th>Age</th>\n",
       "      <th>SibSp</th>\n",
       "      <th>Parch</th>\n",
       "      <th>Ticket</th>\n",
       "      <th>Fare</th>\n",
       "      <th>Cabin</th>\n",
       "      <th>Embarked</th>\n",
       "    </tr>\n",
       "  </thead>\n",
       "  <tbody>\n",
       "    <tr>\n",
       "      <th>1033</th>\n",
       "      <td>1044</td>\n",
       "      <td>NaN</td>\n",
       "      <td>3</td>\n",
       "      <td>Storey, Mr. Thomas</td>\n",
       "      <td>male</td>\n",
       "      <td>60.5</td>\n",
       "      <td>0</td>\n",
       "      <td>0</td>\n",
       "      <td>3701</td>\n",
       "      <td>NaN</td>\n",
       "      <td>NaN</td>\n",
       "      <td>S</td>\n",
       "    </tr>\n",
       "  </tbody>\n",
       "</table>\n",
       "</div>"
      ],
      "text/plain": [
       "      PassengerId  Survived  Pclass                Name   Sex   Age  SibSp  \\\n",
       "1033         1044       NaN       3  Storey, Mr. Thomas  male  60.5      0   \n",
       "\n",
       "      Parch Ticket  Fare Cabin Embarked  \n",
       "1033      0   3701   NaN   NaN        S  "
      ]
     },
     "execution_count": 29,
     "metadata": {},
     "output_type": "execute_result"
    }
   ],
   "source": [
    "train_df[train_df[\"Fare\"].isnull()]"
   ]
  },
  {
   "cell_type": "code",
   "execution_count": 30,
   "id": "4b720262",
   "metadata": {
    "execution": {
     "iopub.execute_input": "2023-12-26T22:56:28.292133Z",
     "iopub.status.busy": "2023-12-26T22:56:28.291322Z",
     "iopub.status.idle": "2023-12-26T22:56:28.299738Z",
     "shell.execute_reply": "2023-12-26T22:56:28.298775Z"
    },
    "papermill": {
     "duration": 0.030992,
     "end_time": "2023-12-26T22:56:28.302123",
     "exception": false,
     "start_time": "2023-12-26T22:56:28.271131",
     "status": "completed"
    },
    "tags": []
   },
   "outputs": [
    {
     "data": {
      "text/plain": [
       "0        7.2500\n",
       "2        7.9250\n",
       "4        8.0500\n",
       "5        8.4583\n",
       "7       21.0750\n",
       "         ...   \n",
       "1293     7.7750\n",
       "1294     8.0500\n",
       "1296     7.2500\n",
       "1297     8.0500\n",
       "1298    22.3583\n",
       "Name: Fare, Length: 702, dtype: float64"
      ]
     },
     "execution_count": 30,
     "metadata": {},
     "output_type": "execute_result"
    }
   ],
   "source": [
    "train_df[train_df[\"Pclass\"] == 3][\"Fare\"]"
   ]
  },
  {
   "cell_type": "code",
   "execution_count": 31,
   "id": "2885d7bd",
   "metadata": {
    "execution": {
     "iopub.execute_input": "2023-12-26T22:56:28.341099Z",
     "iopub.status.busy": "2023-12-26T22:56:28.340551Z",
     "iopub.status.idle": "2023-12-26T22:56:28.347141Z",
     "shell.execute_reply": "2023-12-26T22:56:28.345679Z"
    },
    "papermill": {
     "duration": 0.029205,
     "end_time": "2023-12-26T22:56:28.349751",
     "exception": false,
     "start_time": "2023-12-26T22:56:28.320546",
     "status": "completed"
    },
    "tags": []
   },
   "outputs": [],
   "source": [
    "train_df[\"Fare\"] = train_df[\"Fare\"].fillna(np.mean(train_df[train_df[\"Pclass\"] == 3][\"Fare\"]))"
   ]
  },
  {
   "cell_type": "markdown",
   "id": "9f143b6a",
   "metadata": {
    "papermill": {
     "duration": 0.018367,
     "end_time": "2023-12-26T22:56:28.387738",
     "exception": false,
     "start_time": "2023-12-26T22:56:28.369371",
     "status": "completed"
    },
    "tags": []
   },
   "source": [
    "<a id= \"11\"><a/><br>\n",
    " # **6-Visulization**"
   ]
  },
  {
   "cell_type": "markdown",
   "id": "c6bcfa3a",
   "metadata": {
    "papermill": {
     "duration": 0.019477,
     "end_time": "2023-12-26T22:56:28.425944",
     "exception": false,
     "start_time": "2023-12-26T22:56:28.406467",
     "status": "completed"
    },
    "tags": []
   },
   "source": [
    "<a id= \"12\"><a/><br>\n",
    "   ## **Correlation Between Sibsp -- Parch -- Age -- Fare -- Survived**"
   ]
  },
  {
   "cell_type": "code",
   "execution_count": 32,
   "id": "807eee9c",
   "metadata": {
    "execution": {
     "iopub.execute_input": "2023-12-26T22:56:28.465898Z",
     "iopub.status.busy": "2023-12-26T22:56:28.465481Z",
     "iopub.status.idle": "2023-12-26T22:56:28.718230Z",
     "shell.execute_reply": "2023-12-26T22:56:28.717395Z"
    },
    "papermill": {
     "duration": 0.274373,
     "end_time": "2023-12-26T22:56:28.720172",
     "exception": false,
     "start_time": "2023-12-26T22:56:28.445799",
     "status": "completed"
    },
    "tags": []
   },
   "outputs": [
    {
     "data": {
      "image/png": "[encoded data removed]",
      "text/plain": [
       "<Figure size 640x480 with 2 Axes>"
      ]
     },
     "metadata": {},
     "output_type": "display_data"
    }
   ],
   "source": [
    "list1=[\"SibSp\",\"Parch\" ,\"Age\" , \"Fare\" ,\"Survived\"]\n",
    "#correlation matrix -aralarındaki ilişki \n",
    "sns.heatmap(train_df[list1].corr(),annot=True,fmt=\".2f\")\n",
    "plt.show()"
   ]
  },
  {
   "cell_type": "raw",
   "id": "cd98f1c8",
   "metadata": {
    "papermill": {
     "duration": 0.018017,
     "end_time": "2023-12-26T22:56:28.756634",
     "exception": false,
     "start_time": "2023-12-26T22:56:28.738617",
     "status": "completed"
    },
    "tags": []
   },
   "source": [
    "Fare feature seems to have correlation with survived feature (0.26)."
   ]
  },
  {
   "cell_type": "markdown",
   "id": "136fdd70",
   "metadata": {
    "_kg_hide-input": true,
    "papermill": {
     "duration": 0.018111,
     "end_time": "2023-12-26T22:56:28.794504",
     "exception": false,
     "start_time": "2023-12-26T22:56:28.776393",
     "status": "completed"
    },
    "tags": []
   },
   "source": [
    " <a id= \"13\"><a/><br> \n",
    "##     **SibSp -- Survived**"
   ]
  },
  {
   "cell_type": "code",
   "execution_count": 33,
   "id": "4250e0f1",
   "metadata": {
    "execution": {
     "iopub.execute_input": "2023-12-26T22:56:28.834402Z",
     "iopub.status.busy": "2023-12-26T22:56:28.833817Z",
     "iopub.status.idle": "2023-12-26T22:56:29.385565Z",
     "shell.execute_reply": "2023-12-26T22:56:29.383991Z"
    },
    "papermill": {
     "duration": 0.574252,
     "end_time": "2023-12-26T22:56:29.387456",
     "exception": false,
     "start_time": "2023-12-26T22:56:28.813204",
     "status": "completed"
    },
    "tags": []
   },
   "outputs": [
    {
     "name": "stderr",
     "output_type": "stream",
     "text": [
      "/opt/conda/lib/python3.10/site-packages/seaborn/algorithms.py:98: RuntimeWarning: Mean of empty slice\n",
      "  boot_dist.append(f(*sample, **func_kwargs))\n",
      "/opt/conda/lib/python3.10/site-packages/numpy/lib/nanfunctions.py:1556: RuntimeWarning: All-NaN slice encountered\n",
      "  return function_base._ureduce(a,\n"
     ]
    },
    {
     "data": {
      "image/png": "[encoded data removed]",
      "text/plain": [
       "<Figure size 500x500 with 1 Axes>"
      ]
     },
     "metadata": {},
     "output_type": "display_data"
    }
   ],
   "source": [
    "g = sns.catplot(x = \"SibSp\", y = \"Survived\", data = train_df,\n",
    "    kind=\"bar\",height=5 )\n",
    "g.set_ylabels(\"Survived Probability\")\n",
    "plt.show()"
   ]
  },
  {
   "cell_type": "markdown",
   "id": "65ddbd62",
   "metadata": {
    "papermill": {
     "duration": 0.018321,
     "end_time": "2023-12-26T22:56:29.424571",
     "exception": false,
     "start_time": "2023-12-26T22:56:29.406250",
     "status": "completed"
    },
    "tags": []
   },
   "source": [
    "* Having a lot of SibSp have less chance to survive.\n",
    "* if sibsp == 0 or 1 or 2, passenger has more chance to survive\n",
    "* we can consider a new feature describing these categories."
   ]
  },
  {
   "cell_type": "markdown",
   "id": "0bf56b77",
   "metadata": {
    "papermill": {
     "duration": 0.018928,
     "end_time": "2023-12-26T22:56:29.463289",
     "exception": false,
     "start_time": "2023-12-26T22:56:29.444361",
     "status": "completed"
    },
    "tags": []
   },
   "source": [
    "<a id= \"14\"><a/><br> \n",
    "## **Parch -- Survived**"
   ]
  },
  {
   "cell_type": "code",
   "execution_count": 34,
   "id": "da33a909",
   "metadata": {
    "execution": {
     "iopub.execute_input": "2023-12-26T22:56:29.503034Z",
     "iopub.status.busy": "2023-12-26T22:56:29.502713Z",
     "iopub.status.idle": "2023-12-26T22:56:30.150382Z",
     "shell.execute_reply": "2023-12-26T22:56:30.149647Z"
    },
    "papermill": {
     "duration": 0.669684,
     "end_time": "2023-12-26T22:56:30.152108",
     "exception": false,
     "start_time": "2023-12-26T22:56:29.482424",
     "status": "completed"
    },
    "tags": []
   },
   "outputs": [
    {
     "name": "stderr",
     "output_type": "stream",
     "text": [
      "/opt/conda/lib/python3.10/site-packages/seaborn/algorithms.py:98: RuntimeWarning: Mean of empty slice\n",
      "  boot_dist.append(f(*sample, **func_kwargs))\n",
      "/opt/conda/lib/python3.10/site-packages/numpy/lib/nanfunctions.py:1556: RuntimeWarning: All-NaN slice encountered\n",
      "  return function_base._ureduce(a,\n"
     ]
    },
    {
     "data": {
      "image/png": "[encoded data removed]",
      "text/plain": [
       "<Figure size 500x500 with 1 Axes>"
      ]
     },
     "metadata": {},
     "output_type": "display_data"
    }
   ],
   "source": [
    "g = sns.catplot(x = \"Parch\", y = \"Survived\", kind = \"bar\", data = train_df,)\n",
    "g.set_ylabels(\"Survived Probability\")\n",
    "plt.show()"
   ]
  },
  {
   "cell_type": "markdown",
   "id": "28cba532",
   "metadata": {
    "papermill": {
     "duration": 0.020254,
     "end_time": "2023-12-26T22:56:30.192839",
     "exception": false,
     "start_time": "2023-12-26T22:56:30.172585",
     "status": "completed"
    },
    "tags": []
   },
   "source": [
    "* Sibsp and parch can be used for new feature extraction with th = 3\n",
    "* small familes have more chance to survive.\n",
    "* there is a std in survival of passenger with parch = 3"
   ]
  },
  {
   "cell_type": "markdown",
   "id": "c6656d38",
   "metadata": {
    "papermill": {
     "duration": 0.020461,
     "end_time": "2023-12-26T22:56:30.236559",
     "exception": false,
     "start_time": "2023-12-26T22:56:30.216098",
     "status": "completed"
    },
    "tags": []
   },
   "source": [
    "<a id= \"15\"><a/><br> \n",
    "## **Pclass -- Survived**"
   ]
  },
  {
   "cell_type": "code",
   "execution_count": 35,
   "id": "7ad89356",
   "metadata": {
    "execution": {
     "iopub.execute_input": "2023-12-26T22:56:30.280842Z",
     "iopub.status.busy": "2023-12-26T22:56:30.280143Z",
     "iopub.status.idle": "2023-12-26T22:56:30.654774Z",
     "shell.execute_reply": "2023-12-26T22:56:30.653222Z"
    },
    "papermill": {
     "duration": 0.399551,
     "end_time": "2023-12-26T22:56:30.657996",
     "exception": false,
     "start_time": "2023-12-26T22:56:30.258445",
     "status": "completed"
    },
    "tags": []
   },
   "outputs": [
    {
     "data": {
      "image/png": "[encoded data removed]",
      "text/plain": [
       "<Figure size 500x500 with 1 Axes>"
      ]
     },
     "metadata": {},
     "output_type": "display_data"
    }
   ],
   "source": [
    "g = sns.catplot(x = \"Pclass\", y = \"Survived\", data = train_df, kind = \"bar\")\n",
    "g.set_ylabels(\"Survived Probability\")\n",
    "plt.show()"
   ]
  },
  {
   "cell_type": "markdown",
   "id": "de4b7669",
   "metadata": {
    "papermill": {
     "duration": 0.020968,
     "end_time": "2023-12-26T22:56:30.700686",
     "exception": false,
     "start_time": "2023-12-26T22:56:30.679718",
     "status": "completed"
    },
    "tags": []
   },
   "source": [
    "<a id= \"16\"><a/><br> \n",
    "## **Age -- Survived**"
   ]
  },
  {
   "cell_type": "markdown",
   "id": "0c8e8bf6",
   "metadata": {
    "papermill": {
     "duration": 0.02083,
     "end_time": "2023-12-26T22:56:30.742988",
     "exception": false,
     "start_time": "2023-12-26T22:56:30.722158",
     "status": "completed"
    },
    "tags": []
   },
   "source": [
    "<a id= \"17\"><a/><br>\n",
    "    \n",
    "## **Pclass -- Survived -- Age**"
   ]
  },
  {
   "cell_type": "markdown",
   "id": "504ed747",
   "metadata": {
    "papermill": {
     "duration": 0.02007,
     "end_time": "2023-12-26T22:56:30.783904",
     "exception": false,
     "start_time": "2023-12-26T22:56:30.763834",
     "status": "completed"
    },
    "tags": []
   },
   "source": [
    "<a id= \"18\"><a/><br>\n",
    " ## **Embarked -- Sex -- Pclass -- Survived**"
   ]
  },
  {
   "cell_type": "markdown",
   "id": "24e6ddc9",
   "metadata": {
    "papermill": {
     "duration": 0.020304,
     "end_time": "2023-12-26T22:56:30.824805",
     "exception": false,
     "start_time": "2023-12-26T22:56:30.804501",
     "status": "completed"
    },
    "tags": []
   },
   "source": [
    "<a id= \"19\"><a/><br>\n",
    " ## **Embarked -- Sex -- Fare -- Survived**"
   ]
  },
  {
   "cell_type": "markdown",
   "id": "d9740e61",
   "metadata": {
    "papermill": {
     "duration": 0.019451,
     "end_time": "2023-12-26T22:56:30.866195",
     "exception": false,
     "start_time": "2023-12-26T22:56:30.846744",
     "status": "completed"
    },
    "tags": []
   },
   "source": [
    "<a id= \"20\"><a/><br>\n",
    " ## **Fill Missing: Age Feature**"
   ]
  },
  {
   "cell_type": "markdown",
   "id": "fa497fdd",
   "metadata": {
    "papermill": {
     "duration": 0.020281,
     "end_time": "2023-12-26T22:56:30.906480",
     "exception": false,
     "start_time": "2023-12-26T22:56:30.886199",
     "status": "completed"
    },
    "tags": []
   },
   "source": [
    "<a id= \"\"><a/><br>\n",
    "# **4- Feature Engineering**"
   ]
  },
  {
   "cell_type": "markdown",
   "id": "5f613523",
   "metadata": {
    "papermill": {
     "duration": 0.019623,
     "end_time": "2023-12-26T22:56:30.946346",
     "exception": false,
     "start_time": "2023-12-26T22:56:30.926723",
     "status": "completed"
    },
    "tags": []
   },
   "source": [
    "## Drop Passenger ID and Cabin"
   ]
  },
  {
   "cell_type": "markdown",
   "id": "66385505",
   "metadata": {
    "papermill": {
     "duration": 0.019881,
     "end_time": "2023-12-26T22:56:30.986234",
     "exception": false,
     "start_time": "2023-12-26T22:56:30.966353",
     "status": "completed"
    },
    "tags": []
   },
   "source": []
  },
  {
   "cell_type": "code",
   "execution_count": 36,
   "id": "b3ad5459",
   "metadata": {
    "execution": {
     "iopub.execute_input": "2023-12-26T22:56:31.028029Z",
     "iopub.status.busy": "2023-12-26T22:56:31.027709Z",
     "iopub.status.idle": "2023-12-26T22:56:31.034116Z",
     "shell.execute_reply": "2023-12-26T22:56:31.032665Z"
    },
    "papermill": {
     "duration": 0.029828,
     "end_time": "2023-12-26T22:56:31.036343",
     "exception": false,
     "start_time": "2023-12-26T22:56:31.006515",
     "status": "completed"
    },
    "tags": []
   },
   "outputs": [],
   "source": [
    "train_df.drop(labels = [\"PassengerId\", \"Cabin\"], axis = 1, inplace = True)"
   ]
  },
  {
   "cell_type": "code",
   "execution_count": 37,
   "id": "4ab68233",
   "metadata": {
    "execution": {
     "iopub.execute_input": "2023-12-26T22:56:31.081255Z",
     "iopub.status.busy": "2023-12-26T22:56:31.080815Z",
     "iopub.status.idle": "2023-12-26T22:56:31.088256Z",
     "shell.execute_reply": "2023-12-26T22:56:31.086590Z"
    },
    "papermill": {
     "duration": 0.032258,
     "end_time": "2023-12-26T22:56:31.090479",
     "exception": false,
     "start_time": "2023-12-26T22:56:31.058221",
     "status": "completed"
    },
    "tags": []
   },
   "outputs": [
    {
     "data": {
      "text/plain": [
       "Index(['Survived', 'Pclass', 'Name', 'Sex', 'Age', 'SibSp', 'Parch', 'Ticket',\n",
       "       'Fare', 'Embarked'],\n",
       "      dtype='object')"
      ]
     },
     "execution_count": 37,
     "metadata": {},
     "output_type": "execute_result"
    }
   ],
   "source": [
    "train_df.columns"
   ]
  },
  {
   "cell_type": "markdown",
   "id": "e1b00871",
   "metadata": {
    "papermill": {
     "duration": 0.019602,
     "end_time": "2023-12-26T22:56:31.130124",
     "exception": false,
     "start_time": "2023-12-26T22:56:31.110522",
     "status": "completed"
    },
    "tags": []
   },
   "source": [
    "<a id= \"\"><a/><br>\n",
    "# **5-Modeling**"
   ]
  },
  {
   "cell_type": "code",
   "execution_count": 38,
   "id": "c65dc702",
   "metadata": {
    "execution": {
     "iopub.execute_input": "2023-12-26T22:56:31.173950Z",
     "iopub.status.busy": "2023-12-26T22:56:31.173542Z",
     "iopub.status.idle": "2023-12-26T22:56:31.655297Z",
     "shell.execute_reply": "2023-12-26T22:56:31.654011Z"
    },
    "papermill": {
     "duration": 0.507595,
     "end_time": "2023-12-26T22:56:31.657799",
     "exception": false,
     "start_time": "2023-12-26T22:56:31.150204",
     "status": "completed"
    },
    "tags": []
   },
   "outputs": [],
   "source": [
    "from sklearn.model_selection import train_test_split, StratifiedKFold, GridSearchCV\n",
    "from sklearn.linear_model import LogisticRegression\n"
   ]
  },
  {
   "cell_type": "markdown",
   "id": "f4573177",
   "metadata": {
    "papermill": {
     "duration": 0.020711,
     "end_time": "2023-12-26T22:56:31.699780",
     "exception": false,
     "start_time": "2023-12-26T22:56:31.679069",
     "status": "completed"
    },
    "tags": []
   },
   "source": [
    "<a id= \"12\"><a/><br>\n",
    "# Train - Test Split"
   ]
  },
  {
   "cell_type": "code",
   "execution_count": null,
   "id": "c358dec5",
   "metadata": {
    "papermill": {
     "duration": 0.020144,
     "end_time": "2023-12-26T22:56:31.741104",
     "exception": false,
     "start_time": "2023-12-26T22:56:31.720960",
     "status": "completed"
    },
    "tags": []
   },
   "outputs": [],
   "source": []
  },
  {
   "cell_type": "code",
   "execution_count": null,
   "id": "812b5818",
   "metadata": {
    "papermill": {
     "duration": 0.020045,
     "end_time": "2023-12-26T22:56:31.781905",
     "exception": false,
     "start_time": "2023-12-26T22:56:31.761860",
     "status": "completed"
    },
    "tags": []
   },
   "outputs": [],
   "source": []
  },
  {
   "cell_type": "code",
   "execution_count": null,
   "id": "ddf373aa",
   "metadata": {
    "papermill": {
     "duration": 0.02179,
     "end_time": "2023-12-26T22:56:31.824088",
     "exception": false,
     "start_time": "2023-12-26T22:56:31.802298",
     "status": "completed"
    },
    "tags": []
   },
   "outputs": [],
   "source": []
  },
  {
   "cell_type": "code",
   "execution_count": null,
   "id": "13701d19",
   "metadata": {
    "papermill": {
     "duration": 0.01989,
     "end_time": "2023-12-26T22:56:31.867304",
     "exception": false,
     "start_time": "2023-12-26T22:56:31.847414",
     "status": "completed"
    },
    "tags": []
   },
   "outputs": [],
   "source": []
  },
  {
   "cell_type": "markdown",
   "id": "519d9a68",
   "metadata": {
    "papermill": {
     "duration": 0.020256,
     "end_time": "2023-12-26T22:56:31.907971",
     "exception": false,
     "start_time": "2023-12-26T22:56:31.887715",
     "status": "completed"
    },
    "tags": []
   },
   "source": [
    "<a id= \"13\"><a/><br>\n",
    "# Simple Logistic Regression"
   ]
  },
  {
   "cell_type": "code",
   "execution_count": null,
   "id": "d97e7bcd",
   "metadata": {
    "papermill": {
     "duration": 0.020063,
     "end_time": "2023-12-26T22:56:31.948290",
     "exception": false,
     "start_time": "2023-12-26T22:56:31.928227",
     "status": "completed"
    },
    "tags": []
   },
   "outputs": [],
   "source": []
  }
 ],
 "metadata": {
  "kaggle": {
   "accelerator": "none",
   "dataSources": [
    {
     "databundleVersionId": 26502,
     "sourceId": 3136,
     "sourceType": "competition"
    }
   ],
   "dockerImageVersionId": 30626,
   "isGpuEnabled": false,
   "isInternetEnabled": false,
   "language": "python",
   "sourceType": "notebook"
  },
  "kernelspec": {
   "display_name": "Python 3",
   "language": "python",
   "name": "python3"
  },
  "language_info": {
   "codemirror_mode": {
    "name": "ipython",
    "version": 3
   },
   "file_extension": ".py",
   "mimetype": "text/x-python",
   "name": "python",
   "nbconvert_exporter": "python",
   "pygments_lexer": "ipython3",
   "version": "3.10.12"
  },
  "papermill": {
   "default_parameters": {},
   "duration": 12.428415,
   "end_time": "2023-12-26T22:56:32.490576",
   "environment_variables": {},
   "exception": null,
   "input_path": "__notebook__.ipynb",
   "output_path": "__notebook__.ipynb",
   "parameters": {},
   "start_time": "2023-12-26T22:56:20.062161",
   "version": "2.4.0"
  }
 },
 "nbformat": 4,
 "nbformat_minor": 5
}
