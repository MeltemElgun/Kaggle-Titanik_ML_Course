{
 "cells": [
  {
   "cell_type": "code",
   "execution_count": 1,
   "id": "f633fc29",
   "metadata": {
    "_cell_guid": "b1076dfc-b9ad-4769-8c92-a6c4dae69d19",
    "_uuid": "8f2839f25d086af736a60e9eeb907d3b93b6e0e5",
    "execution": {
     "iopub.execute_input": "2023-12-25T03:29:07.361474Z",
     "iopub.status.busy": "2023-12-25T03:29:07.361037Z",
     "iopub.status.idle": "2023-12-25T03:29:09.171104Z",
     "shell.execute_reply": "2023-12-25T03:29:09.169782Z"
    },
    "papermill": {
     "duration": 1.827285,
     "end_time": "2023-12-25T03:29:09.173887",
     "exception": false,
     "start_time": "2023-12-25T03:29:07.346602",
     "status": "completed"
    },
    "tags": []
   },
   "outputs": [
    {
     "name": "stderr",
     "output_type": "stream",
     "text": [
      "/tmp/ipykernel_19/157868721.py:8: MatplotlibDeprecationWarning: The seaborn styles shipped by Matplotlib are deprecated since 3.6, as they no longer correspond to the styles shipped by seaborn. However, they will remain available as 'seaborn-v0_8-<style>'. Alternatively, directly use the seaborn API instead.\n",
      "  plt.style.use(\"seaborn-whitegrid\")\n"
     ]
    },
    {
     "name": "stdout",
     "output_type": "stream",
     "text": [
      "/kaggle/input/titanic/train.csv\n",
      "/kaggle/input/titanic/test.csv\n",
      "/kaggle/input/titanic/gender_submission.csv\n"
     ]
    }
   ],
   "source": [
    "# This Python 3 environment comes with many helpful analytics libraries installed\n",
    "# It is defined by the kaggle/python Docker image: https://github.com/kaggle/docker-python\n",
    "# For example, here's several helpful packages to load\n",
    "\n",
    "import numpy as np # linear algebra\n",
    "import pandas as pd # data processing, CSV file I/O (e.g. pd.read_csv)\n",
    "import matplotlib.pyplot as plt\n",
    "plt.style.use(\"seaborn-whitegrid\")\n",
    "\n",
    "import seaborn as sns\n",
    "\n",
    "from collections import Counter\n",
    "\n",
    "\n",
    "# Input data files are available in the read-only \"../input/\" directory\n",
    "# For example, running this (by clicking run or pressing Shift+Enter) will list all files under the input directory\n",
    "\n",
    "import os\n",
    "for dirname, _, filenames in os.walk('/kaggle/input'):\n",
    "    for filename in filenames:\n",
    "        print(os.path.join(dirname, filename))\n",
    "\n",
    "# You can write up to 20GB to the current directory (/kaggle/working/) that gets preserved as output when you create a version using \"Save & Run All\" \n",
    "# You can also write temporary files to /kaggle/temp/, but they won't be saved outside of the current session"
   ]
  },
  {
   "cell_type": "markdown",
   "id": "28ee4325",
   "metadata": {
    "papermill": {
     "duration": 0.012368,
     "end_time": "2023-12-25T03:29:09.199238",
     "exception": false,
     "start_time": "2023-12-25T03:29:09.186870",
     "status": "completed"
    },
    "tags": []
   },
   "source": [
    "# Introduction\n",
    "I am doing this work for ML education.\n",
    "\n",
    "\n",
    "***Content:***\n",
    "\n",
    "\n",
    "\n",
    "1. [**Load and Check Data**](#1)\n",
    "\n",
    "2. [**Variable Description**](#2)\n",
    "  *      [**Variable Analysis**](#3)  \n",
    "    *       [**Categorical Analysis**](#4)  \n",
    "    *       [**Numerical Analysis**](#5)\n",
    "3. [**Basic Data Analysis**](#6)\n",
    "4. [**Missing Value**](#7) \n",
    "    *       [**Find Missing Value**](#8)  \n",
    "    *       [**Fill Missing Value**](#9)\n",
    "5. [**Modeling**](#10) \n",
    "    *       [**Train - Test Split**](#11)\n",
    "    *       [**Simple Logistic Regression**](#12)"
   ]
  },
  {
   "cell_type": "markdown",
   "id": "dee00de1",
   "metadata": {
    "papermill": {
     "duration": 0.012412,
     "end_time": "2023-12-25T03:29:09.224272",
     "exception": false,
     "start_time": "2023-12-25T03:29:09.211860",
     "status": "completed"
    },
    "tags": []
   },
   "source": [
    "<a id= \"1\"><a/><br>\n",
    "# **1-Load and Check Data**\n"
   ]
  },
  {
   "cell_type": "code",
   "execution_count": 2,
   "id": "452dc783",
   "metadata": {
    "execution": {
     "iopub.execute_input": "2023-12-25T03:29:09.251990Z",
     "iopub.status.busy": "2023-12-25T03:29:09.251010Z",
     "iopub.status.idle": "2023-12-25T03:29:09.294902Z",
     "shell.execute_reply": "2023-12-25T03:29:09.294079Z"
    },
    "papermill": {
     "duration": 0.060503,
     "end_time": "2023-12-25T03:29:09.297465",
     "exception": false,
     "start_time": "2023-12-25T03:29:09.236962",
     "status": "completed"
    },
    "tags": []
   },
   "outputs": [],
   "source": [
    "train_df = pd.read_csv(\"/kaggle/input/titanic/train.csv\")                                \n",
    "test_df = pd.read_csv(\"/kaggle/input/titanic/test.csv\")                                    \n",
    "test_PassengerId = test_df[\"PassengerId\"]"
   ]
  },
  {
   "cell_type": "code",
   "execution_count": 3,
   "id": "94cd5b94",
   "metadata": {
    "execution": {
     "iopub.execute_input": "2023-12-25T03:29:09.325395Z",
     "iopub.status.busy": "2023-12-25T03:29:09.324613Z",
     "iopub.status.idle": "2023-12-25T03:29:09.333502Z",
     "shell.execute_reply": "2023-12-25T03:29:09.332410Z"
    },
    "papermill": {
     "duration": 0.025196,
     "end_time": "2023-12-25T03:29:09.335689",
     "exception": false,
     "start_time": "2023-12-25T03:29:09.310493",
     "status": "completed"
    },
    "tags": []
   },
   "outputs": [
    {
     "data": {
      "text/plain": [
       "Index(['PassengerId', 'Survived', 'Pclass', 'Name', 'Sex', 'Age', 'SibSp',\n",
       "       'Parch', 'Ticket', 'Fare', 'Cabin', 'Embarked'],\n",
       "      dtype='object')"
      ]
     },
     "execution_count": 3,
     "metadata": {},
     "output_type": "execute_result"
    }
   ],
   "source": [
    "train_df.columns"
   ]
  },
  {
   "cell_type": "code",
   "execution_count": 4,
   "id": "07f77ecb",
   "metadata": {
    "execution": {
     "iopub.execute_input": "2023-12-25T03:29:09.363933Z",
     "iopub.status.busy": "2023-12-25T03:29:09.363011Z",
     "iopub.status.idle": "2023-12-25T03:29:09.389454Z",
     "shell.execute_reply": "2023-12-25T03:29:09.388312Z"
    },
    "papermill": {
     "duration": 0.043391,
     "end_time": "2023-12-25T03:29:09.391953",
     "exception": false,
     "start_time": "2023-12-25T03:29:09.348562",
     "status": "completed"
    },
    "tags": []
   },
   "outputs": [
    {
     "data": {
      "text/html": [
       "<div>\n",
       "<style scoped>\n",
       "    .dataframe tbody tr th:only-of-type {\n",
       "        vertical-align: middle;\n",
       "    }\n",
       "\n",
       "    .dataframe tbody tr th {\n",
       "        vertical-align: top;\n",
       "    }\n",
       "\n",
       "    .dataframe thead th {\n",
       "        text-align: right;\n",
       "    }\n",
       "</style>\n",
       "<table border=\"1\" class=\"dataframe\">\n",
       "  <thead>\n",
       "    <tr style=\"text-align: right;\">\n",
       "      <th></th>\n",
       "      <th>PassengerId</th>\n",
       "      <th>Survived</th>\n",
       "      <th>Pclass</th>\n",
       "      <th>Name</th>\n",
       "      <th>Sex</th>\n",
       "      <th>Age</th>\n",
       "      <th>SibSp</th>\n",
       "      <th>Parch</th>\n",
       "      <th>Ticket</th>\n",
       "      <th>Fare</th>\n",
       "      <th>Cabin</th>\n",
       "      <th>Embarked</th>\n",
       "    </tr>\n",
       "  </thead>\n",
       "  <tbody>\n",
       "    <tr>\n",
       "      <th>0</th>\n",
       "      <td>1</td>\n",
       "      <td>0</td>\n",
       "      <td>3</td>\n",
       "      <td>Braund, Mr. Owen Harris</td>\n",
       "      <td>male</td>\n",
       "      <td>22.0</td>\n",
       "      <td>1</td>\n",
       "      <td>0</td>\n",
       "      <td>A/5 21171</td>\n",
       "      <td>7.2500</td>\n",
       "      <td>NaN</td>\n",
       "      <td>S</td>\n",
       "    </tr>\n",
       "    <tr>\n",
       "      <th>1</th>\n",
       "      <td>2</td>\n",
       "      <td>1</td>\n",
       "      <td>1</td>\n",
       "      <td>Cumings, Mrs. John Bradley (Florence Briggs Th...</td>\n",
       "      <td>female</td>\n",
       "      <td>38.0</td>\n",
       "      <td>1</td>\n",
       "      <td>0</td>\n",
       "      <td>PC 17599</td>\n",
       "      <td>71.2833</td>\n",
       "      <td>C85</td>\n",
       "      <td>C</td>\n",
       "    </tr>\n",
       "    <tr>\n",
       "      <th>2</th>\n",
       "      <td>3</td>\n",
       "      <td>1</td>\n",
       "      <td>3</td>\n",
       "      <td>Heikkinen, Miss. Laina</td>\n",
       "      <td>female</td>\n",
       "      <td>26.0</td>\n",
       "      <td>0</td>\n",
       "      <td>0</td>\n",
       "      <td>STON/O2. 3101282</td>\n",
       "      <td>7.9250</td>\n",
       "      <td>NaN</td>\n",
       "      <td>S</td>\n",
       "    </tr>\n",
       "    <tr>\n",
       "      <th>3</th>\n",
       "      <td>4</td>\n",
       "      <td>1</td>\n",
       "      <td>1</td>\n",
       "      <td>Futrelle, Mrs. Jacques Heath (Lily May Peel)</td>\n",
       "      <td>female</td>\n",
       "      <td>35.0</td>\n",
       "      <td>1</td>\n",
       "      <td>0</td>\n",
       "      <td>113803</td>\n",
       "      <td>53.1000</td>\n",
       "      <td>C123</td>\n",
       "      <td>S</td>\n",
       "    </tr>\n",
       "    <tr>\n",
       "      <th>4</th>\n",
       "      <td>5</td>\n",
       "      <td>0</td>\n",
       "      <td>3</td>\n",
       "      <td>Allen, Mr. William Henry</td>\n",
       "      <td>male</td>\n",
       "      <td>35.0</td>\n",
       "      <td>0</td>\n",
       "      <td>0</td>\n",
       "      <td>373450</td>\n",
       "      <td>8.0500</td>\n",
       "      <td>NaN</td>\n",
       "      <td>S</td>\n",
       "    </tr>\n",
       "  </tbody>\n",
       "</table>\n",
       "</div>"
      ],
      "text/plain": [
       "   PassengerId  Survived  Pclass  \\\n",
       "0            1         0       3   \n",
       "1            2         1       1   \n",
       "2            3         1       3   \n",
       "3            4         1       1   \n",
       "4            5         0       3   \n",
       "\n",
       "                                                Name     Sex   Age  SibSp  \\\n",
       "0                            Braund, Mr. Owen Harris    male  22.0      1   \n",
       "1  Cumings, Mrs. John Bradley (Florence Briggs Th...  female  38.0      1   \n",
       "2                             Heikkinen, Miss. Laina  female  26.0      0   \n",
       "3       Futrelle, Mrs. Jacques Heath (Lily May Peel)  female  35.0      1   \n",
       "4                           Allen, Mr. William Henry    male  35.0      0   \n",
       "\n",
       "   Parch            Ticket     Fare Cabin Embarked  \n",
       "0      0         A/5 21171   7.2500   NaN        S  \n",
       "1      0          PC 17599  71.2833   C85        C  \n",
       "2      0  STON/O2. 3101282   7.9250   NaN        S  \n",
       "3      0            113803  53.1000  C123        S  \n",
       "4      0            373450   8.0500   NaN        S  "
      ]
     },
     "execution_count": 4,
     "metadata": {},
     "output_type": "execute_result"
    }
   ],
   "source": [
    "train_df.head()"
   ]
  },
  {
   "cell_type": "code",
   "execution_count": 5,
   "id": "bcc330da",
   "metadata": {
    "execution": {
     "iopub.execute_input": "2023-12-25T03:29:09.420577Z",
     "iopub.status.busy": "2023-12-25T03:29:09.419733Z",
     "iopub.status.idle": "2023-12-25T03:29:09.540133Z",
     "shell.execute_reply": "2023-12-25T03:29:09.538818Z"
    },
    "papermill": {
     "duration": 0.137723,
     "end_time": "2023-12-25T03:29:09.542848",
     "exception": false,
     "start_time": "2023-12-25T03:29:09.405125",
     "status": "completed"
    },
    "tags": []
   },
   "outputs": [
    {
     "data": {
      "text/html": [
       "<div>\n",
       "<style scoped>\n",
       "    .dataframe tbody tr th:only-of-type {\n",
       "        vertical-align: middle;\n",
       "    }\n",
       "\n",
       "    .dataframe tbody tr th {\n",
       "        vertical-align: top;\n",
       "    }\n",
       "\n",
       "    .dataframe thead th {\n",
       "        text-align: right;\n",
       "    }\n",
       "</style>\n",
       "<table border=\"1\" class=\"dataframe\">\n",
       "  <thead>\n",
       "    <tr style=\"text-align: right;\">\n",
       "      <th></th>\n",
       "      <th>count</th>\n",
       "      <th>mean</th>\n",
       "      <th>std</th>\n",
       "      <th>min</th>\n",
       "      <th>25%</th>\n",
       "      <th>50%</th>\n",
       "      <th>75%</th>\n",
       "      <th>max</th>\n",
       "    </tr>\n",
       "  </thead>\n",
       "  <tbody>\n",
       "    <tr>\n",
       "      <th>PassengerId</th>\n",
       "      <td>891.0</td>\n",
       "      <td>446.000000</td>\n",
       "      <td>257.353842</td>\n",
       "      <td>1.00</td>\n",
       "      <td>223.5000</td>\n",
       "      <td>446.0000</td>\n",
       "      <td>668.5</td>\n",
       "      <td>891.0000</td>\n",
       "    </tr>\n",
       "    <tr>\n",
       "      <th>Survived</th>\n",
       "      <td>891.0</td>\n",
       "      <td>0.383838</td>\n",
       "      <td>0.486592</td>\n",
       "      <td>0.00</td>\n",
       "      <td>0.0000</td>\n",
       "      <td>0.0000</td>\n",
       "      <td>1.0</td>\n",
       "      <td>1.0000</td>\n",
       "    </tr>\n",
       "    <tr>\n",
       "      <th>Pclass</th>\n",
       "      <td>891.0</td>\n",
       "      <td>2.308642</td>\n",
       "      <td>0.836071</td>\n",
       "      <td>1.00</td>\n",
       "      <td>2.0000</td>\n",
       "      <td>3.0000</td>\n",
       "      <td>3.0</td>\n",
       "      <td>3.0000</td>\n",
       "    </tr>\n",
       "    <tr>\n",
       "      <th>Age</th>\n",
       "      <td>714.0</td>\n",
       "      <td>29.699118</td>\n",
       "      <td>14.526497</td>\n",
       "      <td>0.42</td>\n",
       "      <td>20.1250</td>\n",
       "      <td>28.0000</td>\n",
       "      <td>38.0</td>\n",
       "      <td>80.0000</td>\n",
       "    </tr>\n",
       "    <tr>\n",
       "      <th>SibSp</th>\n",
       "      <td>891.0</td>\n",
       "      <td>0.523008</td>\n",
       "      <td>1.102743</td>\n",
       "      <td>0.00</td>\n",
       "      <td>0.0000</td>\n",
       "      <td>0.0000</td>\n",
       "      <td>1.0</td>\n",
       "      <td>8.0000</td>\n",
       "    </tr>\n",
       "    <tr>\n",
       "      <th>Parch</th>\n",
       "      <td>891.0</td>\n",
       "      <td>0.381594</td>\n",
       "      <td>0.806057</td>\n",
       "      <td>0.00</td>\n",
       "      <td>0.0000</td>\n",
       "      <td>0.0000</td>\n",
       "      <td>0.0</td>\n",
       "      <td>6.0000</td>\n",
       "    </tr>\n",
       "    <tr>\n",
       "      <th>Fare</th>\n",
       "      <td>891.0</td>\n",
       "      <td>32.204208</td>\n",
       "      <td>49.693429</td>\n",
       "      <td>0.00</td>\n",
       "      <td>7.9104</td>\n",
       "      <td>14.4542</td>\n",
       "      <td>31.0</td>\n",
       "      <td>512.3292</td>\n",
       "    </tr>\n",
       "  </tbody>\n",
       "</table>\n",
       "</div>"
      ],
      "text/plain": [
       "             count        mean         std   min       25%       50%    75%  \\\n",
       "PassengerId  891.0  446.000000  257.353842  1.00  223.5000  446.0000  668.5   \n",
       "Survived     891.0    0.383838    0.486592  0.00    0.0000    0.0000    1.0   \n",
       "Pclass       891.0    2.308642    0.836071  1.00    2.0000    3.0000    3.0   \n",
       "Age          714.0   29.699118   14.526497  0.42   20.1250   28.0000   38.0   \n",
       "SibSp        891.0    0.523008    1.102743  0.00    0.0000    0.0000    1.0   \n",
       "Parch        891.0    0.381594    0.806057  0.00    0.0000    0.0000    0.0   \n",
       "Fare         891.0   32.204208   49.693429  0.00    7.9104   14.4542   31.0   \n",
       "\n",
       "                  max  \n",
       "PassengerId  891.0000  \n",
       "Survived       1.0000  \n",
       "Pclass         3.0000  \n",
       "Age           80.0000  \n",
       "SibSp          8.0000  \n",
       "Parch          6.0000  \n",
       "Fare         512.3292  "
      ]
     },
     "execution_count": 5,
     "metadata": {},
     "output_type": "execute_result"
    }
   ],
   "source": [
    "train_df.describe().T"
   ]
  },
  {
   "cell_type": "code",
   "execution_count": 6,
   "id": "bd8692dd",
   "metadata": {
    "execution": {
     "iopub.execute_input": "2023-12-25T03:29:09.571837Z",
     "iopub.status.busy": "2023-12-25T03:29:09.571458Z",
     "iopub.status.idle": "2023-12-25T03:29:09.579756Z",
     "shell.execute_reply": "2023-12-25T03:29:09.578617Z"
    },
    "papermill": {
     "duration": 0.025604,
     "end_time": "2023-12-25T03:29:09.582259",
     "exception": false,
     "start_time": "2023-12-25T03:29:09.556655",
     "status": "completed"
    },
    "tags": []
   },
   "outputs": [
    {
     "data": {
      "text/plain": [
       "PassengerId      int64\n",
       "Survived         int64\n",
       "Pclass           int64\n",
       "Name            object\n",
       "Sex             object\n",
       "Age            float64\n",
       "SibSp            int64\n",
       "Parch            int64\n",
       "Ticket          object\n",
       "Fare           float64\n",
       "Cabin           object\n",
       "Embarked        object\n",
       "dtype: object"
      ]
     },
     "execution_count": 6,
     "metadata": {},
     "output_type": "execute_result"
    }
   ],
   "source": [
    "train_df.dtypes"
   ]
  },
  {
   "cell_type": "code",
   "execution_count": 7,
   "id": "928b12a2",
   "metadata": {
    "execution": {
     "iopub.execute_input": "2023-12-25T03:29:09.612622Z",
     "iopub.status.busy": "2023-12-25T03:29:09.612212Z",
     "iopub.status.idle": "2023-12-25T03:29:09.619781Z",
     "shell.execute_reply": "2023-12-25T03:29:09.618819Z"
    },
    "papermill": {
     "duration": 0.025866,
     "end_time": "2023-12-25T03:29:09.622162",
     "exception": false,
     "start_time": "2023-12-25T03:29:09.596296",
     "status": "completed"
    },
    "tags": []
   },
   "outputs": [
    {
     "data": {
      "text/plain": [
       "True"
      ]
     },
     "execution_count": 7,
     "metadata": {},
     "output_type": "execute_result"
    }
   ],
   "source": [
    "train_df.isnull().values.any()"
   ]
  },
  {
   "cell_type": "code",
   "execution_count": 8,
   "id": "7467e0fa",
   "metadata": {
    "execution": {
     "iopub.execute_input": "2023-12-25T03:29:09.652359Z",
     "iopub.status.busy": "2023-12-25T03:29:09.651933Z",
     "iopub.status.idle": "2023-12-25T03:29:09.660517Z",
     "shell.execute_reply": "2023-12-25T03:29:09.659727Z"
    },
    "papermill": {
     "duration": 0.026031,
     "end_time": "2023-12-25T03:29:09.662533",
     "exception": false,
     "start_time": "2023-12-25T03:29:09.636502",
     "status": "completed"
    },
    "tags": []
   },
   "outputs": [
    {
     "data": {
      "text/plain": [
       "PassengerId      0\n",
       "Survived         0\n",
       "Pclass           0\n",
       "Name             0\n",
       "Sex              0\n",
       "Age            177\n",
       "SibSp            0\n",
       "Parch            0\n",
       "Ticket           0\n",
       "Fare             0\n",
       "Cabin          687\n",
       "Embarked         2\n",
       "dtype: int64"
      ]
     },
     "execution_count": 8,
     "metadata": {},
     "output_type": "execute_result"
    }
   ],
   "source": [
    "train_df.isnull().sum()"
   ]
  },
  {
   "cell_type": "code",
   "execution_count": null,
   "id": "efbc31bd",
   "metadata": {
    "papermill": {
     "duration": 0.013932,
     "end_time": "2023-12-25T03:29:09.690560",
     "exception": false,
     "start_time": "2023-12-25T03:29:09.676628",
     "status": "completed"
    },
    "tags": []
   },
   "outputs": [],
   "source": []
  },
  {
   "cell_type": "markdown",
   "id": "36e17a23",
   "metadata": {
    "papermill": {
     "duration": 0.013667,
     "end_time": "2023-12-25T03:29:09.718285",
     "exception": false,
     "start_time": "2023-12-25T03:29:09.704618",
     "status": "completed"
    },
    "tags": []
   },
   "source": [
    "<a id= \"2\"><a/><br>\n",
    "# **2-Variable Description**\n",
    "    \n",
    "    \n",
    "1-PassengerId: unique id number to each passenger<br>\n",
    "2-Survived: passenger survive(1) or died(0)<br>\n",
    "3-Pclass: passenger class<br>\n",
    "4-Name: name<br>\n",
    "5-Sex: gender of passenger<br>\n",
    "6-Age: age of passenger<br>\n",
    "7-SibSp: number of siblings/spouses<br>\n",
    "8-Parch: number of parents/children<br>\n",
    "9-Ticket: ticket number<br>\n",
    "10-Fare: amount of money spent on ticket<br>\n",
    "11-Cabin: cabin category<br>\n",
    "12-Embarked: port where passenger embarked (C = Cherbourg, Q = Queenstown, S = Southampton)<br>"
   ]
  },
  {
   "cell_type": "code",
   "execution_count": 9,
   "id": "1c6fc75b",
   "metadata": {
    "execution": {
     "iopub.execute_input": "2023-12-25T03:29:09.748704Z",
     "iopub.status.busy": "2023-12-25T03:29:09.748305Z",
     "iopub.status.idle": "2023-12-25T03:29:09.774546Z",
     "shell.execute_reply": "2023-12-25T03:29:09.773264Z"
    },
    "papermill": {
     "duration": 0.044272,
     "end_time": "2023-12-25T03:29:09.776900",
     "exception": false,
     "start_time": "2023-12-25T03:29:09.732628",
     "status": "completed"
    },
    "tags": []
   },
   "outputs": [
    {
     "name": "stdout",
     "output_type": "stream",
     "text": [
      "<class 'pandas.core.frame.DataFrame'>\n",
      "RangeIndex: 891 entries, 0 to 890\n",
      "Data columns (total 12 columns):\n",
      " #   Column       Non-Null Count  Dtype  \n",
      "---  ------       --------------  -----  \n",
      " 0   PassengerId  891 non-null    int64  \n",
      " 1   Survived     891 non-null    int64  \n",
      " 2   Pclass       891 non-null    int64  \n",
      " 3   Name         891 non-null    object \n",
      " 4   Sex          891 non-null    object \n",
      " 5   Age          714 non-null    float64\n",
      " 6   SibSp        891 non-null    int64  \n",
      " 7   Parch        891 non-null    int64  \n",
      " 8   Ticket       891 non-null    object \n",
      " 9   Fare         891 non-null    float64\n",
      " 10  Cabin        204 non-null    object \n",
      " 11  Embarked     889 non-null    object \n",
      "dtypes: float64(2), int64(5), object(5)\n",
      "memory usage: 83.7+ KB\n"
     ]
    }
   ],
   "source": [
    "train_df.info()"
   ]
  },
  {
   "cell_type": "markdown",
   "id": "9e64f2e7",
   "metadata": {
    "papermill": {
     "duration": 0.013969,
     "end_time": "2023-12-25T03:29:09.805110",
     "exception": false,
     "start_time": "2023-12-25T03:29:09.791141",
     "status": "completed"
    },
    "tags": []
   },
   "source": [
    "<a id= \"3\"><a/><br>\n",
    "# Variable Analysis                                        \n",
    "\n",
    "**Categorical Variable:** Survived, Sex, Pclass, Embarked, Cabin, Name, Ticket, Sibsp and Parch\n",
    "\n",
    "\n",
    "**Numerical Variable:** Fare, age and passengerId"
   ]
  },
  {
   "cell_type": "markdown",
   "id": "c6142ff0",
   "metadata": {
    "papermill": {
     "duration": 0.013819,
     "end_time": "2023-12-25T03:29:09.833074",
     "exception": false,
     "start_time": "2023-12-25T03:29:09.819255",
     "status": "completed"
    },
    "tags": []
   },
   "source": [
    "<a id= \"4\"><a/><br>\n",
    "# Categorical Variable"
   ]
  },
  {
   "cell_type": "code",
   "execution_count": 10,
   "id": "17c2c623",
   "metadata": {
    "execution": {
     "iopub.execute_input": "2023-12-25T03:29:09.863268Z",
     "iopub.status.busy": "2023-12-25T03:29:09.862871Z",
     "iopub.status.idle": "2023-12-25T03:29:09.870372Z",
     "shell.execute_reply": "2023-12-25T03:29:09.869414Z"
    },
    "papermill": {
     "duration": 0.025515,
     "end_time": "2023-12-25T03:29:09.872700",
     "exception": false,
     "start_time": "2023-12-25T03:29:09.847185",
     "status": "completed"
    },
    "tags": []
   },
   "outputs": [],
   "source": [
    "def bar_plot(variable):\n",
    "    \"\"\"\n",
    "        input: variable ex: \"Sex\"\n",
    "        output: bar plot & value count\n",
    "    \"\"\"\n",
    "    # get feature\n",
    "    var = train_df[variable]\n",
    "    # count number of categorical variable(value/sample)\n",
    "    varValue = var.value_counts()\n",
    "    \n",
    "    # visualize\n",
    "    plt.figure(figsize = (9,3))\n",
    "    plt.bar(varValue.index, varValue)\n",
    "    plt.xticks(varValue.index, varValue.index.values)\n",
    "    plt.ylabel(\"Frequency\")\n",
    "    plt.title(variable)\n",
    "    plt.show()\n",
    "    print(\"{}: \\n {}\".format(variable,varValue))\n",
    "    "
   ]
  },
  {
   "cell_type": "code",
   "execution_count": 11,
   "id": "3848b1cf",
   "metadata": {
    "execution": {
     "iopub.execute_input": "2023-12-25T03:29:09.903523Z",
     "iopub.status.busy": "2023-12-25T03:29:09.903088Z",
     "iopub.status.idle": "2023-12-25T03:29:11.448431Z",
     "shell.execute_reply": "2023-12-25T03:29:11.447412Z"
    },
    "papermill": {
     "duration": 1.563979,
     "end_time": "2023-12-25T03:29:11.450833",
     "exception": false,
     "start_time": "2023-12-25T03:29:09.886854",
     "status": "completed"
    },
    "tags": []
   },
   "outputs": [
    {
     "data": {
      "image/png": "[encoded data removed]",
      "text/plain": [
       "<Figure size 900x300 with 1 Axes>"
      ]
     },
     "metadata": {},
     "output_type": "display_data"
    },
    {
     "name": "stdout",
     "output_type": "stream",
     "text": [
      "Survived: \n",
      " Survived\n",
      "0    549\n",
      "1    342\n",
      "Name: count, dtype: int64\n"
     ]
    },
    {
     "data": {
      "image/png": "[encoded data removed]",
      "text/plain": [
       "<Figure size 900x300 with 1 Axes>"
      ]
     },
     "metadata": {},
     "output_type": "display_data"
    },
    {
     "name": "stdout",
     "output_type": "stream",
     "text": [
      "Sex: \n",
      " Sex\n",
      "male      577\n",
      "female    314\n",
      "Name: count, dtype: int64\n"
     ]
    },
    {
     "data": {
      "image/png": "[encoded data removed]",
      "text/plain": [
       "<Figure size 900x300 with 1 Axes>"
      ]
     },
     "metadata": {},
     "output_type": "display_data"
    },
    {
     "name": "stdout",
     "output_type": "stream",
     "text": [
      "Pclass: \n",
      " Pclass\n",
      "3    491\n",
      "1    216\n",
      "2    184\n",
      "Name: count, dtype: int64\n"
     ]
    },
    {
     "data": {
      "image/png": "[encoded data removed]",
      "text/plain": [
       "<Figure size 900x300 with 1 Axes>"
      ]
     },
     "metadata": {},
     "output_type": "display_data"
    },
    {
     "name": "stdout",
     "output_type": "stream",
     "text": [
      "Embarked: \n",
      " Embarked\n",
      "S    644\n",
      "C    168\n",
      "Q     77\n",
      "Name: count, dtype: int64\n"
     ]
    },
    {
     "data": {
      "image/png": "[encoded data removed]",
      "text/plain": [
       "<Figure size 900x300 with 1 Axes>"
      ]
     },
     "metadata": {},
     "output_type": "display_data"
    },
    {
     "name": "stdout",
     "output_type": "stream",
     "text": [
      "SibSp: \n",
      " SibSp\n",
      "0    608\n",
      "1    209\n",
      "2     28\n",
      "4     18\n",
      "3     16\n",
      "8      7\n",
      "5      5\n",
      "Name: count, dtype: int64\n"
     ]
    },
    {
     "data": {
      "image/png": "[encoded data removed]",
      "text/plain": [
       "<Figure size 900x300 with 1 Axes>"
      ]
     },
     "metadata": {},
     "output_type": "display_data"
    },
    {
     "name": "stdout",
     "output_type": "stream",
     "text": [
      "Parch: \n",
      " Parch\n",
      "0    678\n",
      "1    118\n",
      "2     80\n",
      "5      5\n",
      "3      5\n",
      "4      4\n",
      "6      1\n",
      "Name: count, dtype: int64\n"
     ]
    }
   ],
   "source": [
    "category1 = [\"Survived\",\"Sex\",\"Pclass\",\"Embarked\",\"SibSp\", \"Parch\"]\n",
    "for c in category1:\n",
    "    bar_plot(c)"
   ]
  },
  {
   "cell_type": "markdown",
   "id": "57d89899",
   "metadata": {
    "papermill": {
     "duration": 0.077767,
     "end_time": "2023-12-25T03:29:11.545575",
     "exception": false,
     "start_time": "2023-12-25T03:29:11.467808",
     "status": "completed"
    },
    "tags": []
   },
   "source": [
    "<a id= \"5\"><a/><br>\n",
    "# Numerical Variable"
   ]
  },
  {
   "cell_type": "code",
   "execution_count": 12,
   "id": "d3d096e7",
   "metadata": {
    "execution": {
     "iopub.execute_input": "2023-12-25T03:29:11.582845Z",
     "iopub.status.busy": "2023-12-25T03:29:11.582428Z",
     "iopub.status.idle": "2023-12-25T03:29:11.588401Z",
     "shell.execute_reply": "2023-12-25T03:29:11.587399Z"
    },
    "papermill": {
     "duration": 0.027959,
     "end_time": "2023-12-25T03:29:11.590541",
     "exception": false,
     "start_time": "2023-12-25T03:29:11.562582",
     "status": "completed"
    },
    "tags": []
   },
   "outputs": [],
   "source": [
    "def plot_hist(variable):\n",
    "    plt.figure(figsize = (9,3))\n",
    "    plt.hist(train_df[variable], bins = 50)\n",
    "    plt.xlabel(variable)\n",
    "    plt.ylabel(\"Frequency\")\n",
    "    plt.title(\"{} distribution with hist\".format(variable))\n",
    "    plt.show()\n"
   ]
  },
  {
   "cell_type": "code",
   "execution_count": 13,
   "id": "3744474e",
   "metadata": {
    "execution": {
     "iopub.execute_input": "2023-12-25T03:29:11.625784Z",
     "iopub.status.busy": "2023-12-25T03:29:11.625364Z",
     "iopub.status.idle": "2023-12-25T03:29:12.757621Z",
     "shell.execute_reply": "2023-12-25T03:29:12.756501Z"
    },
    "papermill": {
     "duration": 1.153461,
     "end_time": "2023-12-25T03:29:12.760855",
     "exception": false,
     "start_time": "2023-12-25T03:29:11.607394",
     "status": "completed"
    },
    "tags": []
   },
   "outputs": [
    {
     "data": {
      "image/png": "[encoded data removed]",
      "text/plain": [
       "<Figure size 900x300 with 1 Axes>"
      ]
     },
     "metadata": {},
     "output_type": "display_data"
    },
    {
     "data": {
      "image/png": "[encoded data removed]",
      "text/plain": [
       "<Figure size 900x300 with 1 Axes>"
      ]
     },
     "metadata": {},
     "output_type": "display_data"
    },
    {
     "data": {
      "image/png": "[encoded data removed]",
      "text/plain": [
       "<Figure size 900x300 with 1 Axes>"
      ]
     },
     "metadata": {},
     "output_type": "display_data"
    }
   ],
   "source": [
    "numericVar = [\"Fare\", \"Age\",\"PassengerId\"]\n",
    "for n in numericVar:\n",
    "    plot_hist(n)"
   ]
  },
  {
   "cell_type": "markdown",
   "id": "37425129",
   "metadata": {
    "papermill": {
     "duration": 0.020056,
     "end_time": "2023-12-25T03:29:12.805357",
     "exception": false,
     "start_time": "2023-12-25T03:29:12.785301",
     "status": "completed"
    },
    "tags": []
   },
   "source": [
    "<a id= \"6\"><a/><br>\n",
    "  # **3-Basic Data Analysis**\n",
    "*     Pclass - Survived\n",
    "*     Sex - Survived\n",
    "*     SibSp - Survived\n",
    "*     Parch - Survived"
   ]
  },
  {
   "cell_type": "code",
   "execution_count": 14,
   "id": "f434b0d9",
   "metadata": {
    "execution": {
     "iopub.execute_input": "2023-12-25T03:29:12.842964Z",
     "iopub.status.busy": "2023-12-25T03:29:12.842593Z",
     "iopub.status.idle": "2023-12-25T03:29:12.865266Z",
     "shell.execute_reply": "2023-12-25T03:29:12.864083Z"
    },
    "papermill": {
     "duration": 0.044446,
     "end_time": "2023-12-25T03:29:12.867733",
     "exception": false,
     "start_time": "2023-12-25T03:29:12.823287",
     "status": "completed"
    },
    "tags": []
   },
   "outputs": [
    {
     "data": {
      "text/html": [
       "<div>\n",
       "<style scoped>\n",
       "    .dataframe tbody tr th:only-of-type {\n",
       "        vertical-align: middle;\n",
       "    }\n",
       "\n",
       "    .dataframe tbody tr th {\n",
       "        vertical-align: top;\n",
       "    }\n",
       "\n",
       "    .dataframe thead th {\n",
       "        text-align: right;\n",
       "    }\n",
       "</style>\n",
       "<table border=\"1\" class=\"dataframe\">\n",
       "  <thead>\n",
       "    <tr style=\"text-align: right;\">\n",
       "      <th></th>\n",
       "      <th>Pclass</th>\n",
       "      <th>Survived</th>\n",
       "    </tr>\n",
       "  </thead>\n",
       "  <tbody>\n",
       "    <tr>\n",
       "      <th>0</th>\n",
       "      <td>1</td>\n",
       "      <td>0.629630</td>\n",
       "    </tr>\n",
       "    <tr>\n",
       "      <th>1</th>\n",
       "      <td>2</td>\n",
       "      <td>0.472826</td>\n",
       "    </tr>\n",
       "    <tr>\n",
       "      <th>2</th>\n",
       "      <td>3</td>\n",
       "      <td>0.242363</td>\n",
       "    </tr>\n",
       "  </tbody>\n",
       "</table>\n",
       "</div>"
      ],
      "text/plain": [
       "   Pclass  Survived\n",
       "0       1  0.629630\n",
       "1       2  0.472826\n",
       "2       3  0.242363"
      ]
     },
     "execution_count": 14,
     "metadata": {},
     "output_type": "execute_result"
    }
   ],
   "source": [
    "# Plcass vs Survived\n",
    "train_df[[\"Pclass\",\"Survived\"]].groupby([\"Pclass\"], as_index = False).mean().sort_values(by=\"Survived\",ascending = False)"
   ]
  },
  {
   "cell_type": "code",
   "execution_count": 15,
   "id": "e77c918e",
   "metadata": {
    "execution": {
     "iopub.execute_input": "2023-12-25T03:29:12.907968Z",
     "iopub.status.busy": "2023-12-25T03:29:12.907123Z",
     "iopub.status.idle": "2023-12-25T03:29:12.926294Z",
     "shell.execute_reply": "2023-12-25T03:29:12.925191Z"
    },
    "papermill": {
     "duration": 0.044114,
     "end_time": "2023-12-25T03:29:12.930240",
     "exception": false,
     "start_time": "2023-12-25T03:29:12.886126",
     "status": "completed"
    },
    "tags": []
   },
   "outputs": [
    {
     "data": {
      "text/html": [
       "<div>\n",
       "<style scoped>\n",
       "    .dataframe tbody tr th:only-of-type {\n",
       "        vertical-align: middle;\n",
       "    }\n",
       "\n",
       "    .dataframe tbody tr th {\n",
       "        vertical-align: top;\n",
       "    }\n",
       "\n",
       "    .dataframe thead th {\n",
       "        text-align: right;\n",
       "    }\n",
       "</style>\n",
       "<table border=\"1\" class=\"dataframe\">\n",
       "  <thead>\n",
       "    <tr style=\"text-align: right;\">\n",
       "      <th></th>\n",
       "      <th>Sex</th>\n",
       "      <th>Survived</th>\n",
       "    </tr>\n",
       "  </thead>\n",
       "  <tbody>\n",
       "    <tr>\n",
       "      <th>0</th>\n",
       "      <td>female</td>\n",
       "      <td>0.742038</td>\n",
       "    </tr>\n",
       "    <tr>\n",
       "      <th>1</th>\n",
       "      <td>male</td>\n",
       "      <td>0.188908</td>\n",
       "    </tr>\n",
       "  </tbody>\n",
       "</table>\n",
       "</div>"
      ],
      "text/plain": [
       "      Sex  Survived\n",
       "0  female  0.742038\n",
       "1    male  0.188908"
      ]
     },
     "execution_count": 15,
     "metadata": {},
     "output_type": "execute_result"
    }
   ],
   "source": [
    "# Sex vs Survived\n",
    "train_df[[\"Sex\",\"Survived\"]].groupby([\"Sex\"], as_index = False).mean().sort_values(by=\"Survived\",ascending = False)"
   ]
  },
  {
   "cell_type": "code",
   "execution_count": 16,
   "id": "8eac594b",
   "metadata": {
    "execution": {
     "iopub.execute_input": "2023-12-25T03:29:12.970394Z",
     "iopub.status.busy": "2023-12-25T03:29:12.970004Z",
     "iopub.status.idle": "2023-12-25T03:29:12.986782Z",
     "shell.execute_reply": "2023-12-25T03:29:12.985791Z"
    },
    "papermill": {
     "duration": 0.038628,
     "end_time": "2023-12-25T03:29:12.988887",
     "exception": false,
     "start_time": "2023-12-25T03:29:12.950259",
     "status": "completed"
    },
    "tags": []
   },
   "outputs": [
    {
     "data": {
      "text/html": [
       "<div>\n",
       "<style scoped>\n",
       "    .dataframe tbody tr th:only-of-type {\n",
       "        vertical-align: middle;\n",
       "    }\n",
       "\n",
       "    .dataframe tbody tr th {\n",
       "        vertical-align: top;\n",
       "    }\n",
       "\n",
       "    .dataframe thead th {\n",
       "        text-align: right;\n",
       "    }\n",
       "</style>\n",
       "<table border=\"1\" class=\"dataframe\">\n",
       "  <thead>\n",
       "    <tr style=\"text-align: right;\">\n",
       "      <th></th>\n",
       "      <th>SibSp</th>\n",
       "      <th>Survived</th>\n",
       "    </tr>\n",
       "  </thead>\n",
       "  <tbody>\n",
       "    <tr>\n",
       "      <th>1</th>\n",
       "      <td>1</td>\n",
       "      <td>0.535885</td>\n",
       "    </tr>\n",
       "    <tr>\n",
       "      <th>2</th>\n",
       "      <td>2</td>\n",
       "      <td>0.464286</td>\n",
       "    </tr>\n",
       "    <tr>\n",
       "      <th>0</th>\n",
       "      <td>0</td>\n",
       "      <td>0.345395</td>\n",
       "    </tr>\n",
       "    <tr>\n",
       "      <th>3</th>\n",
       "      <td>3</td>\n",
       "      <td>0.250000</td>\n",
       "    </tr>\n",
       "    <tr>\n",
       "      <th>4</th>\n",
       "      <td>4</td>\n",
       "      <td>0.166667</td>\n",
       "    </tr>\n",
       "    <tr>\n",
       "      <th>5</th>\n",
       "      <td>5</td>\n",
       "      <td>0.000000</td>\n",
       "    </tr>\n",
       "    <tr>\n",
       "      <th>6</th>\n",
       "      <td>8</td>\n",
       "      <td>0.000000</td>\n",
       "    </tr>\n",
       "  </tbody>\n",
       "</table>\n",
       "</div>"
      ],
      "text/plain": [
       "   SibSp  Survived\n",
       "1      1  0.535885\n",
       "2      2  0.464286\n",
       "0      0  0.345395\n",
       "3      3  0.250000\n",
       "4      4  0.166667\n",
       "5      5  0.000000\n",
       "6      8  0.000000"
      ]
     },
     "execution_count": 16,
     "metadata": {},
     "output_type": "execute_result"
    }
   ],
   "source": [
    "# Sibsp vs Survived\n",
    "train_df[[\"SibSp\",\"Survived\"]].groupby([\"SibSp\"], as_index = False).mean().sort_values(by=\"Survived\",ascending = False)"
   ]
  },
  {
   "cell_type": "code",
   "execution_count": 17,
   "id": "c2a1bb2c",
   "metadata": {
    "execution": {
     "iopub.execute_input": "2023-12-25T03:29:13.028634Z",
     "iopub.status.busy": "2023-12-25T03:29:13.028035Z",
     "iopub.status.idle": "2023-12-25T03:29:13.040577Z",
     "shell.execute_reply": "2023-12-25T03:29:13.039777Z"
    },
    "papermill": {
     "duration": 0.034832,
     "end_time": "2023-12-25T03:29:13.042689",
     "exception": false,
     "start_time": "2023-12-25T03:29:13.007857",
     "status": "completed"
    },
    "tags": []
   },
   "outputs": [
    {
     "data": {
      "text/html": [
       "<div>\n",
       "<style scoped>\n",
       "    .dataframe tbody tr th:only-of-type {\n",
       "        vertical-align: middle;\n",
       "    }\n",
       "\n",
       "    .dataframe tbody tr th {\n",
       "        vertical-align: top;\n",
       "    }\n",
       "\n",
       "    .dataframe thead th {\n",
       "        text-align: right;\n",
       "    }\n",
       "</style>\n",
       "<table border=\"1\" class=\"dataframe\">\n",
       "  <thead>\n",
       "    <tr style=\"text-align: right;\">\n",
       "      <th></th>\n",
       "      <th>Parch</th>\n",
       "      <th>Survived</th>\n",
       "    </tr>\n",
       "  </thead>\n",
       "  <tbody>\n",
       "    <tr>\n",
       "      <th>3</th>\n",
       "      <td>3</td>\n",
       "      <td>0.600000</td>\n",
       "    </tr>\n",
       "    <tr>\n",
       "      <th>1</th>\n",
       "      <td>1</td>\n",
       "      <td>0.550847</td>\n",
       "    </tr>\n",
       "    <tr>\n",
       "      <th>2</th>\n",
       "      <td>2</td>\n",
       "      <td>0.500000</td>\n",
       "    </tr>\n",
       "    <tr>\n",
       "      <th>0</th>\n",
       "      <td>0</td>\n",
       "      <td>0.343658</td>\n",
       "    </tr>\n",
       "    <tr>\n",
       "      <th>5</th>\n",
       "      <td>5</td>\n",
       "      <td>0.200000</td>\n",
       "    </tr>\n",
       "    <tr>\n",
       "      <th>4</th>\n",
       "      <td>4</td>\n",
       "      <td>0.000000</td>\n",
       "    </tr>\n",
       "    <tr>\n",
       "      <th>6</th>\n",
       "      <td>6</td>\n",
       "      <td>0.000000</td>\n",
       "    </tr>\n",
       "  </tbody>\n",
       "</table>\n",
       "</div>"
      ],
      "text/plain": [
       "   Parch  Survived\n",
       "3      3  0.600000\n",
       "1      1  0.550847\n",
       "2      2  0.500000\n",
       "0      0  0.343658\n",
       "5      5  0.200000\n",
       "4      4  0.000000\n",
       "6      6  0.000000"
      ]
     },
     "execution_count": 17,
     "metadata": {},
     "output_type": "execute_result"
    }
   ],
   "source": [
    "# Parch vs Survived\n",
    "train_df[[\"Parch\",\"Survived\"]].groupby([\"Parch\"], as_index = False).mean().sort_values(by=\"Survived\",ascending = False)"
   ]
  },
  {
   "cell_type": "markdown",
   "id": "f5af2908",
   "metadata": {
    "papermill": {
     "duration": 0.018574,
     "end_time": "2023-12-25T03:29:13.080280",
     "exception": false,
     "start_time": "2023-12-25T03:29:13.061706",
     "status": "completed"
    },
    "tags": []
   },
   "source": [
    "<a id= \"7\"><a/><br>\n",
    "# **4-Missing Value**"
   ]
  },
  {
   "cell_type": "markdown",
   "id": "adcbeb60",
   "metadata": {
    "papermill": {
     "duration": 0.019066,
     "end_time": "2023-12-25T03:29:13.118934",
     "exception": false,
     "start_time": "2023-12-25T03:29:13.099868",
     "status": "completed"
    },
    "tags": []
   },
   "source": [
    "* Find Missing Value\n",
    "* Fill Missing Value"
   ]
  },
  {
   "cell_type": "code",
   "execution_count": 18,
   "id": "4be52053",
   "metadata": {
    "execution": {
     "iopub.execute_input": "2023-12-25T03:29:13.159376Z",
     "iopub.status.busy": "2023-12-25T03:29:13.158732Z",
     "iopub.status.idle": "2023-12-25T03:29:13.166762Z",
     "shell.execute_reply": "2023-12-25T03:29:13.165940Z"
    },
    "papermill": {
     "duration": 0.030864,
     "end_time": "2023-12-25T03:29:13.168970",
     "exception": false,
     "start_time": "2023-12-25T03:29:13.138106",
     "status": "completed"
    },
    "tags": []
   },
   "outputs": [],
   "source": [
    "train_df_len = len(train_df)\n",
    "train_df = pd.concat([train_df,test_df],axis = 0).reset_index(drop = True)"
   ]
  },
  {
   "cell_type": "code",
   "execution_count": 19,
   "id": "1fda4f47",
   "metadata": {
    "execution": {
     "iopub.execute_input": "2023-12-25T03:29:13.210149Z",
     "iopub.status.busy": "2023-12-25T03:29:13.209552Z",
     "iopub.status.idle": "2023-12-25T03:29:13.226950Z",
     "shell.execute_reply": "2023-12-25T03:29:13.226182Z"
    },
    "papermill": {
     "duration": 0.040181,
     "end_time": "2023-12-25T03:29:13.229119",
     "exception": false,
     "start_time": "2023-12-25T03:29:13.188938",
     "status": "completed"
    },
    "tags": []
   },
   "outputs": [
    {
     "data": {
      "text/html": [
       "<div>\n",
       "<style scoped>\n",
       "    .dataframe tbody tr th:only-of-type {\n",
       "        vertical-align: middle;\n",
       "    }\n",
       "\n",
       "    .dataframe tbody tr th {\n",
       "        vertical-align: top;\n",
       "    }\n",
       "\n",
       "    .dataframe thead th {\n",
       "        text-align: right;\n",
       "    }\n",
       "</style>\n",
       "<table border=\"1\" class=\"dataframe\">\n",
       "  <thead>\n",
       "    <tr style=\"text-align: right;\">\n",
       "      <th></th>\n",
       "      <th>PassengerId</th>\n",
       "      <th>Survived</th>\n",
       "      <th>Pclass</th>\n",
       "      <th>Name</th>\n",
       "      <th>Sex</th>\n",
       "      <th>Age</th>\n",
       "      <th>SibSp</th>\n",
       "      <th>Parch</th>\n",
       "      <th>Ticket</th>\n",
       "      <th>Fare</th>\n",
       "      <th>Cabin</th>\n",
       "      <th>Embarked</th>\n",
       "    </tr>\n",
       "  </thead>\n",
       "  <tbody>\n",
       "    <tr>\n",
       "      <th>0</th>\n",
       "      <td>1</td>\n",
       "      <td>0.0</td>\n",
       "      <td>3</td>\n",
       "      <td>Braund, Mr. Owen Harris</td>\n",
       "      <td>male</td>\n",
       "      <td>22.0</td>\n",
       "      <td>1</td>\n",
       "      <td>0</td>\n",
       "      <td>A/5 21171</td>\n",
       "      <td>7.2500</td>\n",
       "      <td>NaN</td>\n",
       "      <td>S</td>\n",
       "    </tr>\n",
       "    <tr>\n",
       "      <th>1</th>\n",
       "      <td>2</td>\n",
       "      <td>1.0</td>\n",
       "      <td>1</td>\n",
       "      <td>Cumings, Mrs. John Bradley (Florence Briggs Th...</td>\n",
       "      <td>female</td>\n",
       "      <td>38.0</td>\n",
       "      <td>1</td>\n",
       "      <td>0</td>\n",
       "      <td>PC 17599</td>\n",
       "      <td>71.2833</td>\n",
       "      <td>C85</td>\n",
       "      <td>C</td>\n",
       "    </tr>\n",
       "    <tr>\n",
       "      <th>2</th>\n",
       "      <td>3</td>\n",
       "      <td>1.0</td>\n",
       "      <td>3</td>\n",
       "      <td>Heikkinen, Miss. Laina</td>\n",
       "      <td>female</td>\n",
       "      <td>26.0</td>\n",
       "      <td>0</td>\n",
       "      <td>0</td>\n",
       "      <td>STON/O2. 3101282</td>\n",
       "      <td>7.9250</td>\n",
       "      <td>NaN</td>\n",
       "      <td>S</td>\n",
       "    </tr>\n",
       "    <tr>\n",
       "      <th>3</th>\n",
       "      <td>4</td>\n",
       "      <td>1.0</td>\n",
       "      <td>1</td>\n",
       "      <td>Futrelle, Mrs. Jacques Heath (Lily May Peel)</td>\n",
       "      <td>female</td>\n",
       "      <td>35.0</td>\n",
       "      <td>1</td>\n",
       "      <td>0</td>\n",
       "      <td>113803</td>\n",
       "      <td>53.1000</td>\n",
       "      <td>C123</td>\n",
       "      <td>S</td>\n",
       "    </tr>\n",
       "    <tr>\n",
       "      <th>4</th>\n",
       "      <td>5</td>\n",
       "      <td>0.0</td>\n",
       "      <td>3</td>\n",
       "      <td>Allen, Mr. William Henry</td>\n",
       "      <td>male</td>\n",
       "      <td>35.0</td>\n",
       "      <td>0</td>\n",
       "      <td>0</td>\n",
       "      <td>373450</td>\n",
       "      <td>8.0500</td>\n",
       "      <td>NaN</td>\n",
       "      <td>S</td>\n",
       "    </tr>\n",
       "  </tbody>\n",
       "</table>\n",
       "</div>"
      ],
      "text/plain": [
       "   PassengerId  Survived  Pclass  \\\n",
       "0            1       0.0       3   \n",
       "1            2       1.0       1   \n",
       "2            3       1.0       3   \n",
       "3            4       1.0       1   \n",
       "4            5       0.0       3   \n",
       "\n",
       "                                                Name     Sex   Age  SibSp  \\\n",
       "0                            Braund, Mr. Owen Harris    male  22.0      1   \n",
       "1  Cumings, Mrs. John Bradley (Florence Briggs Th...  female  38.0      1   \n",
       "2                             Heikkinen, Miss. Laina  female  26.0      0   \n",
       "3       Futrelle, Mrs. Jacques Heath (Lily May Peel)  female  35.0      1   \n",
       "4                           Allen, Mr. William Henry    male  35.0      0   \n",
       "\n",
       "   Parch            Ticket     Fare Cabin Embarked  \n",
       "0      0         A/5 21171   7.2500   NaN        S  \n",
       "1      0          PC 17599  71.2833   C85        C  \n",
       "2      0  STON/O2. 3101282   7.9250   NaN        S  \n",
       "3      0            113803  53.1000  C123        S  \n",
       "4      0            373450   8.0500   NaN        S  "
      ]
     },
     "execution_count": 19,
     "metadata": {},
     "output_type": "execute_result"
    }
   ],
   "source": [
    "train_df.head()"
   ]
  },
  {
   "cell_type": "markdown",
   "id": "dd121635",
   "metadata": {
    "papermill": {
     "duration": 0.019106,
     "end_time": "2023-12-25T03:29:13.267536",
     "exception": false,
     "start_time": "2023-12-25T03:29:13.248430",
     "status": "completed"
    },
    "tags": []
   },
   "source": [
    "<a id= \"8\"><a/><br>\n",
    "# Find Missing Value"
   ]
  },
  {
   "cell_type": "code",
   "execution_count": 20,
   "id": "3c4de904",
   "metadata": {
    "execution": {
     "iopub.execute_input": "2023-12-25T03:29:13.308678Z",
     "iopub.status.busy": "2023-12-25T03:29:13.307685Z",
     "iopub.status.idle": "2023-12-25T03:29:13.317314Z",
     "shell.execute_reply": "2023-12-25T03:29:13.316266Z"
    },
    "papermill": {
     "duration": 0.03294,
     "end_time": "2023-12-25T03:29:13.319802",
     "exception": false,
     "start_time": "2023-12-25T03:29:13.286862",
     "status": "completed"
    },
    "tags": []
   },
   "outputs": [
    {
     "data": {
      "text/plain": [
       "Index(['Survived', 'Age', 'Fare', 'Cabin', 'Embarked'], dtype='object')"
      ]
     },
     "execution_count": 20,
     "metadata": {},
     "output_type": "execute_result"
    }
   ],
   "source": [
    "train_df.columns[train_df.isnull().any()]"
   ]
  },
  {
   "cell_type": "code",
   "execution_count": 21,
   "id": "69be6e8a",
   "metadata": {
    "execution": {
     "iopub.execute_input": "2023-12-25T03:29:13.360971Z",
     "iopub.status.busy": "2023-12-25T03:29:13.360175Z",
     "iopub.status.idle": "2023-12-25T03:29:13.370540Z",
     "shell.execute_reply": "2023-12-25T03:29:13.369220Z"
    },
    "papermill": {
     "duration": 0.034113,
     "end_time": "2023-12-25T03:29:13.373313",
     "exception": false,
     "start_time": "2023-12-25T03:29:13.339200",
     "status": "completed"
    },
    "tags": []
   },
   "outputs": [
    {
     "data": {
      "text/plain": [
       "PassengerId       0\n",
       "Survived        418\n",
       "Pclass            0\n",
       "Name              0\n",
       "Sex               0\n",
       "Age             263\n",
       "SibSp             0\n",
       "Parch             0\n",
       "Ticket            0\n",
       "Fare              1\n",
       "Cabin          1014\n",
       "Embarked          2\n",
       "dtype: int64"
      ]
     },
     "execution_count": 21,
     "metadata": {},
     "output_type": "execute_result"
    }
   ],
   "source": [
    "train_df.isnull().sum()"
   ]
  },
  {
   "cell_type": "markdown",
   "id": "605472cc",
   "metadata": {
    "papermill": {
     "duration": 0.019778,
     "end_time": "2023-12-25T03:29:13.412789",
     "exception": false,
     "start_time": "2023-12-25T03:29:13.393011",
     "status": "completed"
    },
    "tags": []
   },
   "source": [
    "<a id= \"9\"><a/><br>\n",
    "# Fill Missing Value"
   ]
  },
  {
   "cell_type": "markdown",
   "id": "c6468287",
   "metadata": {
    "papermill": {
     "duration": 0.025085,
     "end_time": "2023-12-25T03:29:13.462485",
     "exception": false,
     "start_time": "2023-12-25T03:29:13.437400",
     "status": "completed"
    },
    "tags": []
   },
   "source": [
    "* Embarked has 2 missing value\n",
    "* Fare has only 1"
   ]
  },
  {
   "cell_type": "code",
   "execution_count": 22,
   "id": "cca98e0f",
   "metadata": {
    "execution": {
     "iopub.execute_input": "2023-12-25T03:29:13.507891Z",
     "iopub.status.busy": "2023-12-25T03:29:13.507208Z",
     "iopub.status.idle": "2023-12-25T03:29:13.524725Z",
     "shell.execute_reply": "2023-12-25T03:29:13.523425Z"
    },
    "papermill": {
     "duration": 0.042923,
     "end_time": "2023-12-25T03:29:13.528694",
     "exception": false,
     "start_time": "2023-12-25T03:29:13.485771",
     "status": "completed"
    },
    "tags": []
   },
   "outputs": [
    {
     "data": {
      "text/html": [
       "<div>\n",
       "<style scoped>\n",
       "    .dataframe tbody tr th:only-of-type {\n",
       "        vertical-align: middle;\n",
       "    }\n",
       "\n",
       "    .dataframe tbody tr th {\n",
       "        vertical-align: top;\n",
       "    }\n",
       "\n",
       "    .dataframe thead th {\n",
       "        text-align: right;\n",
       "    }\n",
       "</style>\n",
       "<table border=\"1\" class=\"dataframe\">\n",
       "  <thead>\n",
       "    <tr style=\"text-align: right;\">\n",
       "      <th></th>\n",
       "      <th>PassengerId</th>\n",
       "      <th>Survived</th>\n",
       "      <th>Pclass</th>\n",
       "      <th>Name</th>\n",
       "      <th>Sex</th>\n",
       "      <th>Age</th>\n",
       "      <th>SibSp</th>\n",
       "      <th>Parch</th>\n",
       "      <th>Ticket</th>\n",
       "      <th>Fare</th>\n",
       "      <th>Cabin</th>\n",
       "      <th>Embarked</th>\n",
       "    </tr>\n",
       "  </thead>\n",
       "  <tbody>\n",
       "    <tr>\n",
       "      <th>61</th>\n",
       "      <td>62</td>\n",
       "      <td>1.0</td>\n",
       "      <td>1</td>\n",
       "      <td>Icard, Miss. Amelie</td>\n",
       "      <td>female</td>\n",
       "      <td>38.0</td>\n",
       "      <td>0</td>\n",
       "      <td>0</td>\n",
       "      <td>113572</td>\n",
       "      <td>80.0</td>\n",
       "      <td>B28</td>\n",
       "      <td>NaN</td>\n",
       "    </tr>\n",
       "    <tr>\n",
       "      <th>829</th>\n",
       "      <td>830</td>\n",
       "      <td>1.0</td>\n",
       "      <td>1</td>\n",
       "      <td>Stone, Mrs. George Nelson (Martha Evelyn)</td>\n",
       "      <td>female</td>\n",
       "      <td>62.0</td>\n",
       "      <td>0</td>\n",
       "      <td>0</td>\n",
       "      <td>113572</td>\n",
       "      <td>80.0</td>\n",
       "      <td>B28</td>\n",
       "      <td>NaN</td>\n",
       "    </tr>\n",
       "  </tbody>\n",
       "</table>\n",
       "</div>"
      ],
      "text/plain": [
       "     PassengerId  Survived  Pclass                                       Name  \\\n",
       "61            62       1.0       1                        Icard, Miss. Amelie   \n",
       "829          830       1.0       1  Stone, Mrs. George Nelson (Martha Evelyn)   \n",
       "\n",
       "        Sex   Age  SibSp  Parch  Ticket  Fare Cabin Embarked  \n",
       "61   female  38.0      0      0  113572  80.0   B28      NaN  \n",
       "829  female  62.0      0      0  113572  80.0   B28      NaN  "
      ]
     },
     "execution_count": 22,
     "metadata": {},
     "output_type": "execute_result"
    }
   ],
   "source": [
    "train_df[train_df[\"Embarked\"].isnull()]"
   ]
  },
  {
   "cell_type": "code",
   "execution_count": 23,
   "id": "74a09b5d",
   "metadata": {
    "execution": {
     "iopub.execute_input": "2023-12-25T03:29:13.572405Z",
     "iopub.status.busy": "2023-12-25T03:29:13.571111Z",
     "iopub.status.idle": "2023-12-25T03:29:13.881080Z",
     "shell.execute_reply": "2023-12-25T03:29:13.879956Z"
    },
    "papermill": {
     "duration": 0.335209,
     "end_time": "2023-12-25T03:29:13.884286",
     "exception": false,
     "start_time": "2023-12-25T03:29:13.549077",
     "status": "completed"
    },
    "tags": []
   },
   "outputs": [
    {
     "data": {
      "image/png": "[encoded data removed]",
      "text/plain": [
       "<Figure size 640x480 with 1 Axes>"
      ]
     },
     "metadata": {},
     "output_type": "display_data"
    }
   ],
   "source": [
    "train_df.boxplot(column=\"Fare\",by = \"Embarked\")\n",
    "plt.show()"
   ]
  },
  {
   "cell_type": "code",
   "execution_count": 24,
   "id": "210dc123",
   "metadata": {
    "execution": {
     "iopub.execute_input": "2023-12-25T03:29:13.936609Z",
     "iopub.status.busy": "2023-12-25T03:29:13.936097Z",
     "iopub.status.idle": "2023-12-25T03:29:13.951937Z",
     "shell.execute_reply": "2023-12-25T03:29:13.950750Z"
    },
    "papermill": {
     "duration": 0.045541,
     "end_time": "2023-12-25T03:29:13.954855",
     "exception": false,
     "start_time": "2023-12-25T03:29:13.909314",
     "status": "completed"
    },
    "tags": []
   },
   "outputs": [
    {
     "data": {
      "text/html": [
       "<div>\n",
       "<style scoped>\n",
       "    .dataframe tbody tr th:only-of-type {\n",
       "        vertical-align: middle;\n",
       "    }\n",
       "\n",
       "    .dataframe tbody tr th {\n",
       "        vertical-align: top;\n",
       "    }\n",
       "\n",
       "    .dataframe thead th {\n",
       "        text-align: right;\n",
       "    }\n",
       "</style>\n",
       "<table border=\"1\" class=\"dataframe\">\n",
       "  <thead>\n",
       "    <tr style=\"text-align: right;\">\n",
       "      <th></th>\n",
       "      <th>PassengerId</th>\n",
       "      <th>Survived</th>\n",
       "      <th>Pclass</th>\n",
       "      <th>Name</th>\n",
       "      <th>Sex</th>\n",
       "      <th>Age</th>\n",
       "      <th>SibSp</th>\n",
       "      <th>Parch</th>\n",
       "      <th>Ticket</th>\n",
       "      <th>Fare</th>\n",
       "      <th>Cabin</th>\n",
       "      <th>Embarked</th>\n",
       "    </tr>\n",
       "  </thead>\n",
       "  <tbody>\n",
       "  </tbody>\n",
       "</table>\n",
       "</div>"
      ],
      "text/plain": [
       "Empty DataFrame\n",
       "Columns: [PassengerId, Survived, Pclass, Name, Sex, Age, SibSp, Parch, Ticket, Fare, Cabin, Embarked]\n",
       "Index: []"
      ]
     },
     "execution_count": 24,
     "metadata": {},
     "output_type": "execute_result"
    }
   ],
   "source": [
    "train_df[\"Embarked\"] = train_df[\"Embarked\"].fillna(\"C\")\n",
    "train_df[train_df[\"Embarked\"].isnull()]"
   ]
  },
  {
   "cell_type": "code",
   "execution_count": 25,
   "id": "bbd7ec47",
   "metadata": {
    "execution": {
     "iopub.execute_input": "2023-12-25T03:29:13.998856Z",
     "iopub.status.busy": "2023-12-25T03:29:13.998451Z",
     "iopub.status.idle": "2023-12-25T03:29:14.017730Z",
     "shell.execute_reply": "2023-12-25T03:29:14.016484Z"
    },
    "papermill": {
     "duration": 0.044119,
     "end_time": "2023-12-25T03:29:14.020207",
     "exception": false,
     "start_time": "2023-12-25T03:29:13.976088",
     "status": "completed"
    },
    "tags": []
   },
   "outputs": [
    {
     "data": {
      "text/html": [
       "<div>\n",
       "<style scoped>\n",
       "    .dataframe tbody tr th:only-of-type {\n",
       "        vertical-align: middle;\n",
       "    }\n",
       "\n",
       "    .dataframe tbody tr th {\n",
       "        vertical-align: top;\n",
       "    }\n",
       "\n",
       "    .dataframe thead th {\n",
       "        text-align: right;\n",
       "    }\n",
       "</style>\n",
       "<table border=\"1\" class=\"dataframe\">\n",
       "  <thead>\n",
       "    <tr style=\"text-align: right;\">\n",
       "      <th></th>\n",
       "      <th>PassengerId</th>\n",
       "      <th>Survived</th>\n",
       "      <th>Pclass</th>\n",
       "      <th>Name</th>\n",
       "      <th>Sex</th>\n",
       "      <th>Age</th>\n",
       "      <th>SibSp</th>\n",
       "      <th>Parch</th>\n",
       "      <th>Ticket</th>\n",
       "      <th>Fare</th>\n",
       "      <th>Cabin</th>\n",
       "      <th>Embarked</th>\n",
       "    </tr>\n",
       "  </thead>\n",
       "  <tbody>\n",
       "    <tr>\n",
       "      <th>1043</th>\n",
       "      <td>1044</td>\n",
       "      <td>NaN</td>\n",
       "      <td>3</td>\n",
       "      <td>Storey, Mr. Thomas</td>\n",
       "      <td>male</td>\n",
       "      <td>60.5</td>\n",
       "      <td>0</td>\n",
       "      <td>0</td>\n",
       "      <td>3701</td>\n",
       "      <td>NaN</td>\n",
       "      <td>NaN</td>\n",
       "      <td>S</td>\n",
       "    </tr>\n",
       "  </tbody>\n",
       "</table>\n",
       "</div>"
      ],
      "text/plain": [
       "      PassengerId  Survived  Pclass                Name   Sex   Age  SibSp  \\\n",
       "1043         1044       NaN       3  Storey, Mr. Thomas  male  60.5      0   \n",
       "\n",
       "      Parch Ticket  Fare Cabin Embarked  \n",
       "1043      0   3701   NaN   NaN        S  "
      ]
     },
     "execution_count": 25,
     "metadata": {},
     "output_type": "execute_result"
    }
   ],
   "source": [
    "train_df[train_df[\"Fare\"].isnull()]"
   ]
  },
  {
   "cell_type": "code",
   "execution_count": 26,
   "id": "866068a1",
   "metadata": {
    "execution": {
     "iopub.execute_input": "2023-12-25T03:29:14.065379Z",
     "iopub.status.busy": "2023-12-25T03:29:14.064555Z",
     "iopub.status.idle": "2023-12-25T03:29:14.072327Z",
     "shell.execute_reply": "2023-12-25T03:29:14.071499Z"
    },
    "papermill": {
     "duration": 0.032539,
     "end_time": "2023-12-25T03:29:14.074798",
     "exception": false,
     "start_time": "2023-12-25T03:29:14.042259",
     "status": "completed"
    },
    "tags": []
   },
   "outputs": [],
   "source": [
    "train_df[\"Fare\"] = train_df[\"Fare\"].fillna(np.mean(train_df[train_df[\"Pclass\"] == 3][\"Fare\"]))"
   ]
  },
  {
   "cell_type": "markdown",
   "id": "0f59bd78",
   "metadata": {
    "papermill": {
     "duration": 0.021942,
     "end_time": "2023-12-25T03:29:14.117553",
     "exception": false,
     "start_time": "2023-12-25T03:29:14.095611",
     "status": "completed"
    },
    "tags": []
   },
   "source": [
    "**Drop Passenger ID and Cabin**"
   ]
  },
  {
   "cell_type": "code",
   "execution_count": 27,
   "id": "d9dec549",
   "metadata": {
    "execution": {
     "iopub.execute_input": "2023-12-25T03:29:14.162756Z",
     "iopub.status.busy": "2023-12-25T03:29:14.161638Z",
     "iopub.status.idle": "2023-12-25T03:29:14.169258Z",
     "shell.execute_reply": "2023-12-25T03:29:14.168425Z"
    },
    "papermill": {
     "duration": 0.033202,
     "end_time": "2023-12-25T03:29:14.171769",
     "exception": false,
     "start_time": "2023-12-25T03:29:14.138567",
     "status": "completed"
    },
    "tags": []
   },
   "outputs": [],
   "source": [
    "train_df.drop(labels = [\"PassengerId\", \"Cabin\"], axis = 1, inplace = True)"
   ]
  },
  {
   "cell_type": "code",
   "execution_count": 28,
   "id": "f50210ef",
   "metadata": {
    "execution": {
     "iopub.execute_input": "2023-12-25T03:29:14.218090Z",
     "iopub.status.busy": "2023-12-25T03:29:14.216820Z",
     "iopub.status.idle": "2023-12-25T03:29:14.225072Z",
     "shell.execute_reply": "2023-12-25T03:29:14.223993Z"
    },
    "papermill": {
     "duration": 0.033788,
     "end_time": "2023-12-25T03:29:14.227496",
     "exception": false,
     "start_time": "2023-12-25T03:29:14.193708",
     "status": "completed"
    },
    "tags": []
   },
   "outputs": [
    {
     "data": {
      "text/plain": [
       "Index(['Survived', 'Pclass', 'Name', 'Sex', 'Age', 'SibSp', 'Parch', 'Ticket',\n",
       "       'Fare', 'Embarked'],\n",
       "      dtype='object')"
      ]
     },
     "execution_count": 28,
     "metadata": {},
     "output_type": "execute_result"
    }
   ],
   "source": [
    "train_df.columns"
   ]
  },
  {
   "cell_type": "markdown",
   "id": "e4241034",
   "metadata": {
    "papermill": {
     "duration": 0.020988,
     "end_time": "2023-12-25T03:29:14.269739",
     "exception": false,
     "start_time": "2023-12-25T03:29:14.248751",
     "status": "completed"
    },
    "tags": []
   },
   "source": [
    "<a id= \"10\"><a/><br>\n",
    "# **5-Modeling**"
   ]
  },
  {
   "cell_type": "markdown",
   "id": "c858927c",
   "metadata": {
    "papermill": {
     "duration": 0.020669,
     "end_time": "2023-12-25T03:29:14.311497",
     "exception": false,
     "start_time": "2023-12-25T03:29:14.290828",
     "status": "completed"
    },
    "tags": []
   },
   "source": [
    "<a id= \"11\"><a/><br>\n",
    "# Train - Test Split"
   ]
  },
  {
   "cell_type": "markdown",
   "id": "fefdca2e",
   "metadata": {
    "papermill": {
     "duration": 0.020894,
     "end_time": "2023-12-25T03:29:14.353412",
     "exception": false,
     "start_time": "2023-12-25T03:29:14.332518",
     "status": "completed"
    },
    "tags": []
   },
   "source": [
    "<a id= \"12\"><a/><br>\n",
    "# Simple Logistic Regression"
   ]
  }
 ],
 "metadata": {
  "kaggle": {
   "accelerator": "none",
   "dataSources": [
    {
     "databundleVersionId": 26502,
     "sourceId": 3136,
     "sourceType": "competition"
    }
   ],
   "dockerImageVersionId": 30626,
   "isGpuEnabled": false,
   "isInternetEnabled": false,
   "language": "python",
   "sourceType": "notebook"
  },
  "kernelspec": {
   "display_name": "Python 3",
   "language": "python",
   "name": "python3"
  },
  "language_info": {
   "codemirror_mode": {
    "name": "ipython",
    "version": 3
   },
   "file_extension": ".py",
   "mimetype": "text/x-python",
   "name": "python",
   "nbconvert_exporter": "python",
   "pygments_lexer": "ipython3",
   "version": "3.10.12"
  },
  "papermill": {
   "default_parameters": {},
   "duration": 11.089656,
   "end_time": "2023-12-25T03:29:14.996558",
   "environment_variables": {},
   "exception": null,
   "input_path": "__notebook__.ipynb",
   "output_path": "__notebook__.ipynb",
   "parameters": {},
   "start_time": "2023-12-25T03:29:03.906902",
   "version": "2.4.0"
  }
 },
 "nbformat": 4,
 "nbformat_minor": 5
}
