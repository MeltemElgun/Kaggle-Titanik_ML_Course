{
 "cells": [
  {
   "cell_type": "code",
   "execution_count": null,
   "id": "37ad0fda",
   "metadata": {
    "papermill": {
     "duration": 0.022697,
     "end_time": "2023-12-26T22:33:58.503208",
     "exception": false,
     "start_time": "2023-12-26T22:33:58.480511",
     "status": "completed"
    },
    "tags": []
   },
   "outputs": [],
   "source": [
    "\n"
   ]
  },
  {
   "cell_type": "markdown",
   "id": "b476cbfa",
   "metadata": {
    "_kg_hide-input": true,
    "papermill": {
     "duration": 0.019791,
     "end_time": "2023-12-26T22:33:58.543217",
     "exception": false,
     "start_time": "2023-12-26T22:33:58.523426",
     "status": "completed"
    },
    "tags": []
   },
   "source": [
    "# Introduction\n",
    "I am doing this work for ML education.\n",
    "\n",
    "\n",
    "***Content:***\n",
    "\n",
    "\n",
    "\n",
    "1. [**Load and Check Data**](#1)\n",
    "1.  [**Variable Description**](#2)\n",
    "     * [**Variable Analysis**](#3)\n",
    "       * [**Categorical Analysis**](#4)  \n",
    "       * [**Numerical Analysis**](#5)\n",
    "1.  [**Basic Data Analysis**](#6) \n",
    "1.  [**Outlier Derection**](#7)\n",
    "1.  [**Missing Value**](#8) \n",
    "     * [**Find Missing Value**](#9) \n",
    "     * [**Fill Missing Value**](#10)\n",
    "1.  [**Visulization**](#11) \n",
    "     * [ **Correlation Between Sibsp -- Parch -- Age -- Fare -- Survived**](#12)\n",
    "     * [ **SibSp -- Survived**](#13)\n",
    "     * [ **Parch -- Survived**](#14)\n",
    "     * [ **Pclass -- Survived**](#15)\n",
    "     * [ **Age -- Survived**](#16)\n",
    "     * [ **Pclass -- Survived -- Age**](#17)\n",
    "     * [ **Embarked -- Sex -- Pclass -- Survived**](#18)\n",
    "     * [ **Embarked -- Sex -- Fare -- Survived**](#19)\n",
    "     * [ **Fill Missing: Age FeatureCorrelation Between Sibsp -- Parch -- Age -- Fare -- Survived**](#20)\n",
    "     * [ **SibSp -- Survived**](#21)\n",
    "     * [ **Parch -- Survived**](#22)\n",
    "     * [ **Pclass -- Survived**](#23)\n",
    "     * [ **Age -- Survived**](#24)\n",
    "     * [ **Pclass -- Survived -- Age**](#25)\n",
    "     * [ **Embarked -- Sex -- Pclass -- Survived**](#26)\n",
    "     * [ **Embarked -- Sex -- Fare -- Survived**](#27)\n",
    "     * [ **Fill Missing: Age Feature**](#28)\n",
    "1.  [**Feature Engineering**](#29)\n",
    "     * [**Name -- Title**](#30)\n",
    "     * [**Family Size**](#31)\n",
    "     * [**Embarked**](#32)\n",
    "     * [**Ticket**](#33)\n",
    "     * [**Pclass**](#34)\n",
    "     * [**Sex**](#35)\n",
    "     * [**Drop Passenger ID and Cabin**](#36)\n",
    "1.  [**Modeling**](#37) \n",
    "     * [**Train - Test Split**](#38)\n",
    "     * [**Simple Logistic Regression**](#39)\n"
   ]
  },
  {
   "cell_type": "code",
   "execution_count": 1,
   "id": "cb822c44",
   "metadata": {
    "_cell_guid": "b1076dfc-b9ad-4769-8c92-a6c4dae69d19",
    "_uuid": "8f2839f25d086af736a60e9eeb907d3b93b6e0e5",
    "execution": {
     "iopub.execute_input": "2023-12-26T22:33:58.585518Z",
     "iopub.status.busy": "2023-12-26T22:33:58.584553Z",
     "iopub.status.idle": "2023-12-26T22:34:00.523066Z",
     "shell.execute_reply": "2023-12-26T22:34:00.521230Z"
    },
    "papermill": {
     "duration": 1.962499,
     "end_time": "2023-12-26T22:34:00.525703",
     "exception": false,
     "start_time": "2023-12-26T22:33:58.563204",
     "status": "completed"
    },
    "tags": []
   },
   "outputs": [
    {
     "name": "stdout",
     "output_type": "stream",
     "text": [
      "/kaggle/input/titanic/train.csv\n",
      "/kaggle/input/titanic/test.csv\n",
      "/kaggle/input/titanic/gender_submission.csv\n"
     ]
    }
   ],
   "source": [
    "# This Python 3 environment comes with many helpful analytics libraries installed\n",
    "# It is defined by the kaggle/python Docker image: https://github.com/kaggle/docker-python\n",
    "# For example, here's several helpful packages to load\n",
    "\n",
    "import numpy as np # linear algebra\n",
    "import pandas as pd # data processing, CSV file I/O (e.g. pd.read_csv)\n",
    "import matplotlib.pyplot as plt\n",
    "plt.style.use(\"seaborn-v0_8-whitegrid\")\n",
    "\n",
    "import seaborn as sns\n",
    "\n",
    "from collections import Counter\n",
    "\n",
    "\n",
    "# Input data files are available in the read-only \"../input/\" directory\n",
    "# For example, running this (by clicking run or pressing Shift+Enter) will list all files under the input directory\n",
    "\n",
    "import os\n",
    "for dirname, _, filenames in os.walk('/kaggle/input'):\n",
    "    for filename in filenames:\n",
    "        print(os.path.join(dirname, filename))\n",
    "\n",
    "# You can write up to 20GB to the current directory (/kaggle/working/) that gets preserved as output when you create a version using \"Save & Run All\" \n",
    "# You can also write temporary files to /kaggle/temp/, but they won't be saved outside of the current session"
   ]
  },
  {
   "cell_type": "code",
   "execution_count": 2,
   "id": "b4281168",
   "metadata": {
    "execution": {
     "iopub.execute_input": "2023-12-26T22:34:00.566175Z",
     "iopub.status.busy": "2023-12-26T22:34:00.565617Z",
     "iopub.status.idle": "2023-12-26T22:34:00.576475Z",
     "shell.execute_reply": "2023-12-26T22:34:00.575390Z"
    },
    "papermill": {
     "duration": 0.034047,
     "end_time": "2023-12-26T22:34:00.578998",
     "exception": false,
     "start_time": "2023-12-26T22:34:00.544951",
     "status": "completed"
    },
    "tags": []
   },
   "outputs": [
    {
     "data": {
      "text/plain": [
       "'0.12.2'"
      ]
     },
     "execution_count": 2,
     "metadata": {},
     "output_type": "execute_result"
    }
   ],
   "source": [
    "sns.__version__"
   ]
  },
  {
   "cell_type": "code",
   "execution_count": 3,
   "id": "4fe42ec3",
   "metadata": {
    "execution": {
     "iopub.execute_input": "2023-12-26T22:34:00.619921Z",
     "iopub.status.busy": "2023-12-26T22:34:00.619413Z",
     "iopub.status.idle": "2023-12-26T22:34:00.628956Z",
     "shell.execute_reply": "2023-12-26T22:34:00.627574Z"
    },
    "papermill": {
     "duration": 0.033513,
     "end_time": "2023-12-26T22:34:00.631640",
     "exception": false,
     "start_time": "2023-12-26T22:34:00.598127",
     "status": "completed"
    },
    "tags": []
   },
   "outputs": [
    {
     "data": {
      "text/plain": [
       "['Solarize_Light2',\n",
       " '_classic_test_patch',\n",
       " '_mpl-gallery',\n",
       " '_mpl-gallery-nogrid',\n",
       " 'bmh',\n",
       " 'classic',\n",
       " 'dark_background',\n",
       " 'fast',\n",
       " 'fivethirtyeight',\n",
       " 'ggplot',\n",
       " 'grayscale',\n",
       " 'seaborn-v0_8',\n",
       " 'seaborn-v0_8-bright',\n",
       " 'seaborn-v0_8-colorblind',\n",
       " 'seaborn-v0_8-dark',\n",
       " 'seaborn-v0_8-dark-palette',\n",
       " 'seaborn-v0_8-darkgrid',\n",
       " 'seaborn-v0_8-deep',\n",
       " 'seaborn-v0_8-muted',\n",
       " 'seaborn-v0_8-notebook',\n",
       " 'seaborn-v0_8-paper',\n",
       " 'seaborn-v0_8-pastel',\n",
       " 'seaborn-v0_8-poster',\n",
       " 'seaborn-v0_8-talk',\n",
       " 'seaborn-v0_8-ticks',\n",
       " 'seaborn-v0_8-white',\n",
       " 'seaborn-v0_8-whitegrid',\n",
       " 'tableau-colorblind10']"
      ]
     },
     "execution_count": 3,
     "metadata": {},
     "output_type": "execute_result"
    }
   ],
   "source": [
    "plt.style.available"
   ]
  },
  {
   "cell_type": "markdown",
   "id": "3badff1e",
   "metadata": {
    "papermill": {
     "duration": 0.019408,
     "end_time": "2023-12-26T22:34:00.670815",
     "exception": false,
     "start_time": "2023-12-26T22:34:00.651407",
     "status": "completed"
    },
    "tags": []
   },
   "source": [
    "<a id= \"1\"><a/><br>\n",
    "# **1-Load and Check Data**\n"
   ]
  },
  {
   "cell_type": "code",
   "execution_count": 4,
   "id": "f0f90767",
   "metadata": {
    "execution": {
     "iopub.execute_input": "2023-12-26T22:34:00.711440Z",
     "iopub.status.busy": "2023-12-26T22:34:00.710965Z",
     "iopub.status.idle": "2023-12-26T22:34:00.766304Z",
     "shell.execute_reply": "2023-12-26T22:34:00.764764Z"
    },
    "papermill": {
     "duration": 0.079167,
     "end_time": "2023-12-26T22:34:00.769182",
     "exception": false,
     "start_time": "2023-12-26T22:34:00.690015",
     "status": "completed"
    },
    "tags": []
   },
   "outputs": [],
   "source": [
    "train_df = pd.read_csv(\"/kaggle/input/titanic/train.csv\")                                \n",
    "test_df = pd.read_csv(\"/kaggle/input/titanic/test.csv\")                                    \n",
    "test_PassengerId = test_df[\"PassengerId\"]"
   ]
  },
  {
   "cell_type": "code",
   "execution_count": 5,
   "id": "1f53f81a",
   "metadata": {
    "execution": {
     "iopub.execute_input": "2023-12-26T22:34:00.812229Z",
     "iopub.status.busy": "2023-12-26T22:34:00.811685Z",
     "iopub.status.idle": "2023-12-26T22:34:00.820429Z",
     "shell.execute_reply": "2023-12-26T22:34:00.819242Z"
    },
    "papermill": {
     "duration": 0.033773,
     "end_time": "2023-12-26T22:34:00.823102",
     "exception": false,
     "start_time": "2023-12-26T22:34:00.789329",
     "status": "completed"
    },
    "tags": []
   },
   "outputs": [
    {
     "data": {
      "text/plain": [
       "Index(['PassengerId', 'Survived', 'Pclass', 'Name', 'Sex', 'Age', 'SibSp',\n",
       "       'Parch', 'Ticket', 'Fare', 'Cabin', 'Embarked'],\n",
       "      dtype='object')"
      ]
     },
     "execution_count": 5,
     "metadata": {},
     "output_type": "execute_result"
    }
   ],
   "source": [
    "train_df.columns"
   ]
  },
  {
   "cell_type": "code",
   "execution_count": 6,
   "id": "c0d916a1",
   "metadata": {
    "execution": {
     "iopub.execute_input": "2023-12-26T22:34:00.867361Z",
     "iopub.status.busy": "2023-12-26T22:34:00.866774Z",
     "iopub.status.idle": "2023-12-26T22:34:00.894873Z",
     "shell.execute_reply": "2023-12-26T22:34:00.893888Z"
    },
    "papermill": {
     "duration": 0.054569,
     "end_time": "2023-12-26T22:34:00.897820",
     "exception": false,
     "start_time": "2023-12-26T22:34:00.843251",
     "status": "completed"
    },
    "tags": []
   },
   "outputs": [
    {
     "data": {
      "text/html": [
       "<div>\n",
       "<style scoped>\n",
       "    .dataframe tbody tr th:only-of-type {\n",
       "        vertical-align: middle;\n",
       "    }\n",
       "\n",
       "    .dataframe tbody tr th {\n",
       "        vertical-align: top;\n",
       "    }\n",
       "\n",
       "    .dataframe thead th {\n",
       "        text-align: right;\n",
       "    }\n",
       "</style>\n",
       "<table border=\"1\" class=\"dataframe\">\n",
       "  <thead>\n",
       "    <tr style=\"text-align: right;\">\n",
       "      <th></th>\n",
       "      <th>PassengerId</th>\n",
       "      <th>Survived</th>\n",
       "      <th>Pclass</th>\n",
       "      <th>Name</th>\n",
       "      <th>Sex</th>\n",
       "      <th>Age</th>\n",
       "      <th>SibSp</th>\n",
       "      <th>Parch</th>\n",
       "      <th>Ticket</th>\n",
       "      <th>Fare</th>\n",
       "      <th>Cabin</th>\n",
       "      <th>Embarked</th>\n",
       "    </tr>\n",
       "  </thead>\n",
       "  <tbody>\n",
       "    <tr>\n",
       "      <th>0</th>\n",
       "      <td>1</td>\n",
       "      <td>0</td>\n",
       "      <td>3</td>\n",
       "      <td>Braund, Mr. Owen Harris</td>\n",
       "      <td>male</td>\n",
       "      <td>22.0</td>\n",
       "      <td>1</td>\n",
       "      <td>0</td>\n",
       "      <td>A/5 21171</td>\n",
       "      <td>7.2500</td>\n",
       "      <td>NaN</td>\n",
       "      <td>S</td>\n",
       "    </tr>\n",
       "    <tr>\n",
       "      <th>1</th>\n",
       "      <td>2</td>\n",
       "      <td>1</td>\n",
       "      <td>1</td>\n",
       "      <td>Cumings, Mrs. John Bradley (Florence Briggs Th...</td>\n",
       "      <td>female</td>\n",
       "      <td>38.0</td>\n",
       "      <td>1</td>\n",
       "      <td>0</td>\n",
       "      <td>PC 17599</td>\n",
       "      <td>71.2833</td>\n",
       "      <td>C85</td>\n",
       "      <td>C</td>\n",
       "    </tr>\n",
       "    <tr>\n",
       "      <th>2</th>\n",
       "      <td>3</td>\n",
       "      <td>1</td>\n",
       "      <td>3</td>\n",
       "      <td>Heikkinen, Miss. Laina</td>\n",
       "      <td>female</td>\n",
       "      <td>26.0</td>\n",
       "      <td>0</td>\n",
       "      <td>0</td>\n",
       "      <td>STON/O2. 3101282</td>\n",
       "      <td>7.9250</td>\n",
       "      <td>NaN</td>\n",
       "      <td>S</td>\n",
       "    </tr>\n",
       "    <tr>\n",
       "      <th>3</th>\n",
       "      <td>4</td>\n",
       "      <td>1</td>\n",
       "      <td>1</td>\n",
       "      <td>Futrelle, Mrs. Jacques Heath (Lily May Peel)</td>\n",
       "      <td>female</td>\n",
       "      <td>35.0</td>\n",
       "      <td>1</td>\n",
       "      <td>0</td>\n",
       "      <td>113803</td>\n",
       "      <td>53.1000</td>\n",
       "      <td>C123</td>\n",
       "      <td>S</td>\n",
       "    </tr>\n",
       "    <tr>\n",
       "      <th>4</th>\n",
       "      <td>5</td>\n",
       "      <td>0</td>\n",
       "      <td>3</td>\n",
       "      <td>Allen, Mr. William Henry</td>\n",
       "      <td>male</td>\n",
       "      <td>35.0</td>\n",
       "      <td>0</td>\n",
       "      <td>0</td>\n",
       "      <td>373450</td>\n",
       "      <td>8.0500</td>\n",
       "      <td>NaN</td>\n",
       "      <td>S</td>\n",
       "    </tr>\n",
       "  </tbody>\n",
       "</table>\n",
       "</div>"
      ],
      "text/plain": [
       "   PassengerId  Survived  Pclass  \\\n",
       "0            1         0       3   \n",
       "1            2         1       1   \n",
       "2            3         1       3   \n",
       "3            4         1       1   \n",
       "4            5         0       3   \n",
       "\n",
       "                                                Name     Sex   Age  SibSp  \\\n",
       "0                            Braund, Mr. Owen Harris    male  22.0      1   \n",
       "1  Cumings, Mrs. John Bradley (Florence Briggs Th...  female  38.0      1   \n",
       "2                             Heikkinen, Miss. Laina  female  26.0      0   \n",
       "3       Futrelle, Mrs. Jacques Heath (Lily May Peel)  female  35.0      1   \n",
       "4                           Allen, Mr. William Henry    male  35.0      0   \n",
       "\n",
       "   Parch            Ticket     Fare Cabin Embarked  \n",
       "0      0         A/5 21171   7.2500   NaN        S  \n",
       "1      0          PC 17599  71.2833   C85        C  \n",
       "2      0  STON/O2. 3101282   7.9250   NaN        S  \n",
       "3      0            113803  53.1000  C123        S  \n",
       "4      0            373450   8.0500   NaN        S  "
      ]
     },
     "execution_count": 6,
     "metadata": {},
     "output_type": "execute_result"
    }
   ],
   "source": [
    "train_df.head()"
   ]
  },
  {
   "cell_type": "code",
   "execution_count": 7,
   "id": "d861cec1",
   "metadata": {
    "execution": {
     "iopub.execute_input": "2023-12-26T22:34:00.944868Z",
     "iopub.status.busy": "2023-12-26T22:34:00.944264Z",
     "iopub.status.idle": "2023-12-26T22:34:01.074703Z",
     "shell.execute_reply": "2023-12-26T22:34:01.073540Z"
    },
    "papermill": {
     "duration": 0.159114,
     "end_time": "2023-12-26T22:34:01.077886",
     "exception": false,
     "start_time": "2023-12-26T22:34:00.918772",
     "status": "completed"
    },
    "tags": []
   },
   "outputs": [
    {
     "data": {
      "text/html": [
       "<div>\n",
       "<style scoped>\n",
       "    .dataframe tbody tr th:only-of-type {\n",
       "        vertical-align: middle;\n",
       "    }\n",
       "\n",
       "    .dataframe tbody tr th {\n",
       "        vertical-align: top;\n",
       "    }\n",
       "\n",
       "    .dataframe thead th {\n",
       "        text-align: right;\n",
       "    }\n",
       "</style>\n",
       "<table border=\"1\" class=\"dataframe\">\n",
       "  <thead>\n",
       "    <tr style=\"text-align: right;\">\n",
       "      <th></th>\n",
       "      <th>count</th>\n",
       "      <th>mean</th>\n",
       "      <th>std</th>\n",
       "      <th>min</th>\n",
       "      <th>25%</th>\n",
       "      <th>50%</th>\n",
       "      <th>75%</th>\n",
       "      <th>max</th>\n",
       "    </tr>\n",
       "  </thead>\n",
       "  <tbody>\n",
       "    <tr>\n",
       "      <th>PassengerId</th>\n",
       "      <td>891.0</td>\n",
       "      <td>446.000000</td>\n",
       "      <td>257.353842</td>\n",
       "      <td>1.00</td>\n",
       "      <td>223.5000</td>\n",
       "      <td>446.0000</td>\n",
       "      <td>668.5</td>\n",
       "      <td>891.0000</td>\n",
       "    </tr>\n",
       "    <tr>\n",
       "      <th>Survived</th>\n",
       "      <td>891.0</td>\n",
       "      <td>0.383838</td>\n",
       "      <td>0.486592</td>\n",
       "      <td>0.00</td>\n",
       "      <td>0.0000</td>\n",
       "      <td>0.0000</td>\n",
       "      <td>1.0</td>\n",
       "      <td>1.0000</td>\n",
       "    </tr>\n",
       "    <tr>\n",
       "      <th>Pclass</th>\n",
       "      <td>891.0</td>\n",
       "      <td>2.308642</td>\n",
       "      <td>0.836071</td>\n",
       "      <td>1.00</td>\n",
       "      <td>2.0000</td>\n",
       "      <td>3.0000</td>\n",
       "      <td>3.0</td>\n",
       "      <td>3.0000</td>\n",
       "    </tr>\n",
       "    <tr>\n",
       "      <th>Age</th>\n",
       "      <td>714.0</td>\n",
       "      <td>29.699118</td>\n",
       "      <td>14.526497</td>\n",
       "      <td>0.42</td>\n",
       "      <td>20.1250</td>\n",
       "      <td>28.0000</td>\n",
       "      <td>38.0</td>\n",
       "      <td>80.0000</td>\n",
       "    </tr>\n",
       "    <tr>\n",
       "      <th>SibSp</th>\n",
       "      <td>891.0</td>\n",
       "      <td>0.523008</td>\n",
       "      <td>1.102743</td>\n",
       "      <td>0.00</td>\n",
       "      <td>0.0000</td>\n",
       "      <td>0.0000</td>\n",
       "      <td>1.0</td>\n",
       "      <td>8.0000</td>\n",
       "    </tr>\n",
       "    <tr>\n",
       "      <th>Parch</th>\n",
       "      <td>891.0</td>\n",
       "      <td>0.381594</td>\n",
       "      <td>0.806057</td>\n",
       "      <td>0.00</td>\n",
       "      <td>0.0000</td>\n",
       "      <td>0.0000</td>\n",
       "      <td>0.0</td>\n",
       "      <td>6.0000</td>\n",
       "    </tr>\n",
       "    <tr>\n",
       "      <th>Fare</th>\n",
       "      <td>891.0</td>\n",
       "      <td>32.204208</td>\n",
       "      <td>49.693429</td>\n",
       "      <td>0.00</td>\n",
       "      <td>7.9104</td>\n",
       "      <td>14.4542</td>\n",
       "      <td>31.0</td>\n",
       "      <td>512.3292</td>\n",
       "    </tr>\n",
       "  </tbody>\n",
       "</table>\n",
       "</div>"
      ],
      "text/plain": [
       "             count        mean         std   min       25%       50%    75%  \\\n",
       "PassengerId  891.0  446.000000  257.353842  1.00  223.5000  446.0000  668.5   \n",
       "Survived     891.0    0.383838    0.486592  0.00    0.0000    0.0000    1.0   \n",
       "Pclass       891.0    2.308642    0.836071  1.00    2.0000    3.0000    3.0   \n",
       "Age          714.0   29.699118   14.526497  0.42   20.1250   28.0000   38.0   \n",
       "SibSp        891.0    0.523008    1.102743  0.00    0.0000    0.0000    1.0   \n",
       "Parch        891.0    0.381594    0.806057  0.00    0.0000    0.0000    0.0   \n",
       "Fare         891.0   32.204208   49.693429  0.00    7.9104   14.4542   31.0   \n",
       "\n",
       "                  max  \n",
       "PassengerId  891.0000  \n",
       "Survived       1.0000  \n",
       "Pclass         3.0000  \n",
       "Age           80.0000  \n",
       "SibSp          8.0000  \n",
       "Parch          6.0000  \n",
       "Fare         512.3292  "
      ]
     },
     "execution_count": 7,
     "metadata": {},
     "output_type": "execute_result"
    }
   ],
   "source": [
    "train_df.describe().T"
   ]
  },
  {
   "cell_type": "code",
   "execution_count": 8,
   "id": "7de650ea",
   "metadata": {
    "execution": {
     "iopub.execute_input": "2023-12-26T22:34:01.123859Z",
     "iopub.status.busy": "2023-12-26T22:34:01.123443Z",
     "iopub.status.idle": "2023-12-26T22:34:01.154089Z",
     "shell.execute_reply": "2023-12-26T22:34:01.152573Z"
    },
    "papermill": {
     "duration": 0.057448,
     "end_time": "2023-12-26T22:34:01.157074",
     "exception": false,
     "start_time": "2023-12-26T22:34:01.099626",
     "status": "completed"
    },
    "tags": []
   },
   "outputs": [
    {
     "name": "stdout",
     "output_type": "stream",
     "text": [
      "<class 'pandas.core.frame.DataFrame'>\n",
      "RangeIndex: 891 entries, 0 to 890\n",
      "Data columns (total 12 columns):\n",
      " #   Column       Non-Null Count  Dtype  \n",
      "---  ------       --------------  -----  \n",
      " 0   PassengerId  891 non-null    int64  \n",
      " 1   Survived     891 non-null    int64  \n",
      " 2   Pclass       891 non-null    int64  \n",
      " 3   Name         891 non-null    object \n",
      " 4   Sex          891 non-null    object \n",
      " 5   Age          714 non-null    float64\n",
      " 6   SibSp        891 non-null    int64  \n",
      " 7   Parch        891 non-null    int64  \n",
      " 8   Ticket       891 non-null    object \n",
      " 9   Fare         891 non-null    float64\n",
      " 10  Cabin        204 non-null    object \n",
      " 11  Embarked     889 non-null    object \n",
      "dtypes: float64(2), int64(5), object(5)\n",
      "memory usage: 83.7+ KB\n"
     ]
    }
   ],
   "source": [
    "train_df.info()"
   ]
  },
  {
   "cell_type": "code",
   "execution_count": 9,
   "id": "804bc1c1",
   "metadata": {
    "execution": {
     "iopub.execute_input": "2023-12-26T22:34:01.306979Z",
     "iopub.status.busy": "2023-12-26T22:34:01.306581Z",
     "iopub.status.idle": "2023-12-26T22:34:01.315267Z",
     "shell.execute_reply": "2023-12-26T22:34:01.313869Z"
    },
    "papermill": {
     "duration": 0.034821,
     "end_time": "2023-12-26T22:34:01.318083",
     "exception": false,
     "start_time": "2023-12-26T22:34:01.283262",
     "status": "completed"
    },
    "tags": []
   },
   "outputs": [
    {
     "data": {
      "text/plain": [
       "True"
      ]
     },
     "execution_count": 9,
     "metadata": {},
     "output_type": "execute_result"
    }
   ],
   "source": [
    "train_df.isnull().values.any()"
   ]
  },
  {
   "cell_type": "markdown",
   "id": "39b6ff48",
   "metadata": {
    "papermill": {
     "duration": 0.023188,
     "end_time": "2023-12-26T22:34:01.363035",
     "exception": false,
     "start_time": "2023-12-26T22:34:01.339847",
     "status": "completed"
    },
    "tags": []
   },
   "source": [
    "<a id= \"2\"><a/><br>\n",
    "# **2-Variable Description**\n",
    "    \n",
    "    \n",
    "1-PassengerId: unique id number to each passenger<br>\n",
    "2-Survived: passenger survive(1) or died(0)<br>\n",
    "3-Pclass: passenger class<br>\n",
    "4-Name: name<br>\n",
    "5-Sex: gender of passenger<br>\n",
    "6-Age: age of passenger<br>\n",
    "7-SibSp: number of siblings/spouses<br>\n",
    "8-Parch: number of parents/children<br>\n",
    "9-Ticket: ticket number<br>\n",
    "10-Fare: amount of money spent on ticket<br>\n",
    "11-Cabin: cabin category<br>\n",
    "12-Embarked: port where passenger embarked (C = Cherbourg, Q = Queenstown, S = Southampton)<br>"
   ]
  },
  {
   "cell_type": "markdown",
   "id": "f4506a9f",
   "metadata": {
    "papermill": {
     "duration": 0.021178,
     "end_time": "2023-12-26T22:34:01.405846",
     "exception": false,
     "start_time": "2023-12-26T22:34:01.384668",
     "status": "completed"
    },
    "tags": []
   },
   "source": [
    "<a id= \"3\"><a/><br>\n",
    "# Variable Analysis                                        \n",
    "\n",
    "**Categorical Variable:** Survived, Pclass,Name, Sex,Sibsp,Embarked, Cabin,  Ticket,and Parch\n",
    "\n",
    "\n",
    "**Numerical Variable:** Fare, age and passengerId"
   ]
  },
  {
   "cell_type": "code",
   "execution_count": 10,
   "id": "8a9ea225",
   "metadata": {
    "execution": {
     "iopub.execute_input": "2023-12-26T22:34:01.452222Z",
     "iopub.status.busy": "2023-12-26T22:34:01.451818Z",
     "iopub.status.idle": "2023-12-26T22:34:01.460795Z",
     "shell.execute_reply": "2023-12-26T22:34:01.459525Z"
    },
    "papermill": {
     "duration": 0.035908,
     "end_time": "2023-12-26T22:34:01.463479",
     "exception": false,
     "start_time": "2023-12-26T22:34:01.427571",
     "status": "completed"
    },
    "tags": []
   },
   "outputs": [
    {
     "data": {
      "text/plain": [
       "array(['male', 'female'], dtype=object)"
      ]
     },
     "execution_count": 10,
     "metadata": {},
     "output_type": "execute_result"
    }
   ],
   "source": [
    "\n",
    "train_df.Sex.value_counts()\n",
    "train_df.Sex.unique()\n"
   ]
  },
  {
   "cell_type": "markdown",
   "id": "89995d27",
   "metadata": {
    "papermill": {
     "duration": 0.020672,
     "end_time": "2023-12-26T22:34:01.505717",
     "exception": false,
     "start_time": "2023-12-26T22:34:01.485045",
     "status": "completed"
    },
    "tags": []
   },
   "source": [
    "<a id= \"4\"><a/><br>\n",
    "# Categorical Variable"
   ]
  },
  {
   "cell_type": "code",
   "execution_count": 11,
   "id": "553bccd7",
   "metadata": {
    "execution": {
     "iopub.execute_input": "2023-12-26T22:34:01.550325Z",
     "iopub.status.busy": "2023-12-26T22:34:01.549932Z",
     "iopub.status.idle": "2023-12-26T22:34:01.557825Z",
     "shell.execute_reply": "2023-12-26T22:34:01.556482Z"
    },
    "papermill": {
     "duration": 0.033452,
     "end_time": "2023-12-26T22:34:01.560474",
     "exception": false,
     "start_time": "2023-12-26T22:34:01.527022",
     "status": "completed"
    },
    "tags": []
   },
   "outputs": [],
   "source": [
    "def bar_plot(variable):\n",
    "    \"\"\"\n",
    "        input: variable ex: \"Sex\"\n",
    "        output: bar plot & value count\n",
    "    \"\"\"\n",
    "    # get feature\n",
    "    var = train_df[variable]\n",
    "    # count number of categorical variable(value/sample)\n",
    "    varValue = var.value_counts()\n",
    "    \n",
    "    # visualize\n",
    "    plt.figure(figsize = (9,3))\n",
    "    plt.bar(varValue.index, varValue)\n",
    "    plt.xticks(varValue.index, varValue.index.values)\n",
    "    plt.ylabel(\"Frequency\")\n",
    "    plt.title(variable)\n",
    "    plt.show()\n",
    "    print(f\"{variable}: \\n {varValue}\")\n",
    "    "
   ]
  },
  {
   "cell_type": "code",
   "execution_count": 12,
   "id": "6ee32d75",
   "metadata": {
    "execution": {
     "iopub.execute_input": "2023-12-26T22:34:01.604346Z",
     "iopub.status.busy": "2023-12-26T22:34:01.603952Z",
     "iopub.status.idle": "2023-12-26T22:34:03.195952Z",
     "shell.execute_reply": "2023-12-26T22:34:03.193592Z"
    },
    "papermill": {
     "duration": 1.618783,
     "end_time": "2023-12-26T22:34:03.199854",
     "exception": false,
     "start_time": "2023-12-26T22:34:01.581071",
     "status": "completed"
    },
    "tags": []
   },
   "outputs": [
    {
     "data": {
      "image/png": "[encoded data removed]",
      "text/plain": [
       "<Figure size 900x300 with 1 Axes>"
      ]
     },
     "metadata": {},
     "output_type": "display_data"
    },
    {
     "name": "stdout",
     "output_type": "stream",
     "text": [
      "Survived: \n",
      " Survived\n",
      "0    549\n",
      "1    342\n",
      "Name: count, dtype: int64\n"
     ]
    },
    {
     "data": {
      "image/png": "[encoded data removed]",
      "text/plain": [
       "<Figure size 900x300 with 1 Axes>"
      ]
     },
     "metadata": {},
     "output_type": "display_data"
    },
    {
     "name": "stdout",
     "output_type": "stream",
     "text": [
      "Sex: \n",
      " Sex\n",
      "male      577\n",
      "female    314\n",
      "Name: count, dtype: int64\n"
     ]
    },
    {
     "data": {
      "image/png": "[encoded data removed]",
      "text/plain": [
       "<Figure size 900x300 with 1 Axes>"
      ]
     },
     "metadata": {},
     "output_type": "display_data"
    },
    {
     "name": "stdout",
     "output_type": "stream",
     "text": [
      "Pclass: \n",
      " Pclass\n",
      "3    491\n",
      "1    216\n",
      "2    184\n",
      "Name: count, dtype: int64\n"
     ]
    },
    {
     "data": {
      "image/png": "[encoded data removed]",
      "text/plain": [
       "<Figure size 900x300 with 1 Axes>"
      ]
     },
     "metadata": {},
     "output_type": "display_data"
    },
    {
     "name": "stdout",
     "output_type": "stream",
     "text": [
      "Embarked: \n",
      " Embarked\n",
      "S    644\n",
      "C    168\n",
      "Q     77\n",
      "Name: count, dtype: int64\n"
     ]
    },
    {
     "data": {
      "image/png": "[encoded data removed]",
      "text/plain": [
       "<Figure size 900x300 with 1 Axes>"
      ]
     },
     "metadata": {},
     "output_type": "display_data"
    },
    {
     "name": "stdout",
     "output_type": "stream",
     "text": [
      "SibSp: \n",
      " SibSp\n",
      "0    608\n",
      "1    209\n",
      "2     28\n",
      "4     18\n",
      "3     16\n",
      "8      7\n",
      "5      5\n",
      "Name: count, dtype: int64\n"
     ]
    },
    {
     "data": {
      "image/png": "[encoded data removed]",
      "text/plain": [
       "<Figure size 900x300 with 1 Axes>"
      ]
     },
     "metadata": {},
     "output_type": "display_data"
    },
    {
     "name": "stdout",
     "output_type": "stream",
     "text": [
      "Parch: \n",
      " Parch\n",
      "0    678\n",
      "1    118\n",
      "2     80\n",
      "5      5\n",
      "3      5\n",
      "4      4\n",
      "6      1\n",
      "Name: count, dtype: int64\n"
     ]
    }
   ],
   "source": [
    "category1 = [\"Survived\",\"Sex\",\"Pclass\",\"Embarked\",\"SibSp\", \"Parch\"]\n",
    "for c in category1:\n",
    "    bar_plot(c)"
   ]
  },
  {
   "cell_type": "markdown",
   "id": "40ce6cd3",
   "metadata": {
    "papermill": {
     "duration": 0.027054,
     "end_time": "2023-12-26T22:34:03.254721",
     "exception": false,
     "start_time": "2023-12-26T22:34:03.227667",
     "status": "completed"
    },
    "tags": []
   },
   "source": [
    "<a id= \"5\"><a/><br>\n",
    "# Numerical Variable"
   ]
  },
  {
   "cell_type": "code",
   "execution_count": 13,
   "id": "71cec813",
   "metadata": {
    "execution": {
     "iopub.execute_input": "2023-12-26T22:34:03.304192Z",
     "iopub.status.busy": "2023-12-26T22:34:03.303398Z",
     "iopub.status.idle": "2023-12-26T22:34:03.310439Z",
     "shell.execute_reply": "2023-12-26T22:34:03.309158Z"
    },
    "papermill": {
     "duration": 0.034554,
     "end_time": "2023-12-26T22:34:03.312823",
     "exception": false,
     "start_time": "2023-12-26T22:34:03.278269",
     "status": "completed"
    },
    "tags": []
   },
   "outputs": [],
   "source": [
    "def plot_hist(variable):\n",
    "    plt.figure(figsize = (9,3))\n",
    "    plt.hist(train_df[variable], bins = 50)\n",
    "    plt.xlabel(variable)\n",
    "    plt.ylabel(\"Frequency\")\n",
    "    plt.title(\"{} distribution with hist\".format(variable))\n",
    "    plt.show()\n"
   ]
  },
  {
   "cell_type": "code",
   "execution_count": 14,
   "id": "8e168668",
   "metadata": {
    "execution": {
     "iopub.execute_input": "2023-12-26T22:34:03.374183Z",
     "iopub.status.busy": "2023-12-26T22:34:03.373777Z",
     "iopub.status.idle": "2023-12-26T22:34:04.584215Z",
     "shell.execute_reply": "2023-12-26T22:34:04.582776Z"
    },
    "papermill": {
     "duration": 1.247688,
     "end_time": "2023-12-26T22:34:04.587221",
     "exception": false,
     "start_time": "2023-12-26T22:34:03.339533",
     "status": "completed"
    },
    "tags": []
   },
   "outputs": [
    {
     "data": {
      "image/png": "[encoded data removed]",
      "text/plain": [
       "<Figure size 900x300 with 1 Axes>"
      ]
     },
     "metadata": {},
     "output_type": "display_data"
    },
    {
     "data": {
      "image/png": "[encoded data removed]",
      "text/plain": [
       "<Figure size 900x300 with 1 Axes>"
      ]
     },
     "metadata": {},
     "output_type": "display_data"
    },
    {
     "data": {
      "image/png": "[encoded data removed]",
      "text/plain": [
       "<Figure size 900x300 with 1 Axes>"
      ]
     },
     "metadata": {},
     "output_type": "display_data"
    }
   ],
   "source": [
    "numericVar = [\"Fare\", \"Age\",\"PassengerId\"]\n",
    "for n in numericVar:\n",
    "    plot_hist(n)"
   ]
  },
  {
   "cell_type": "markdown",
   "id": "7838fd3e",
   "metadata": {
    "papermill": {
     "duration": 0.024623,
     "end_time": "2023-12-26T22:34:04.637318",
     "exception": false,
     "start_time": "2023-12-26T22:34:04.612695",
     "status": "completed"
    },
    "tags": []
   },
   "source": [
    "<a id= \"6\"><a/><br>\n",
    "  # **3-Basic Data Analysis**\n",
    "*     Pclass - Survived\n",
    "*     Sex - Survived\n",
    "*     SibSp - Survived\n",
    "*     Parch - Survived"
   ]
  },
  {
   "cell_type": "code",
   "execution_count": 15,
   "id": "4cfc859f",
   "metadata": {
    "execution": {
     "iopub.execute_input": "2023-12-26T22:34:04.688681Z",
     "iopub.status.busy": "2023-12-26T22:34:04.688254Z",
     "iopub.status.idle": "2023-12-26T22:34:04.716277Z",
     "shell.execute_reply": "2023-12-26T22:34:04.714918Z"
    },
    "papermill": {
     "duration": 0.056951,
     "end_time": "2023-12-26T22:34:04.719018",
     "exception": false,
     "start_time": "2023-12-26T22:34:04.662067",
     "status": "completed"
    },
    "tags": []
   },
   "outputs": [
    {
     "data": {
      "text/html": [
       "<div>\n",
       "<style scoped>\n",
       "    .dataframe tbody tr th:only-of-type {\n",
       "        vertical-align: middle;\n",
       "    }\n",
       "\n",
       "    .dataframe tbody tr th {\n",
       "        vertical-align: top;\n",
       "    }\n",
       "\n",
       "    .dataframe thead th {\n",
       "        text-align: right;\n",
       "    }\n",
       "</style>\n",
       "<table border=\"1\" class=\"dataframe\">\n",
       "  <thead>\n",
       "    <tr style=\"text-align: right;\">\n",
       "      <th></th>\n",
       "      <th>Pclass</th>\n",
       "      <th>Survived</th>\n",
       "      <th>Age</th>\n",
       "    </tr>\n",
       "  </thead>\n",
       "  <tbody>\n",
       "    <tr>\n",
       "      <th>0</th>\n",
       "      <td>1</td>\n",
       "      <td>0.629630</td>\n",
       "      <td>38.233441</td>\n",
       "    </tr>\n",
       "    <tr>\n",
       "      <th>1</th>\n",
       "      <td>2</td>\n",
       "      <td>0.472826</td>\n",
       "      <td>29.877630</td>\n",
       "    </tr>\n",
       "    <tr>\n",
       "      <th>2</th>\n",
       "      <td>3</td>\n",
       "      <td>0.242363</td>\n",
       "      <td>25.140620</td>\n",
       "    </tr>\n",
       "  </tbody>\n",
       "</table>\n",
       "</div>"
      ],
      "text/plain": [
       "   Pclass  Survived        Age\n",
       "0       1  0.629630  38.233441\n",
       "1       2  0.472826  29.877630\n",
       "2       3  0.242363  25.140620"
      ]
     },
     "execution_count": 15,
     "metadata": {},
     "output_type": "execute_result"
    }
   ],
   "source": [
    "# Plcass vs Survived\n",
    "train_df[[\"Pclass\",\"Survived\",\"Age\"]].groupby([\"Pclass\"], as_index = False).mean().sort_values(by=\"Survived\",ascending = False)\n"
   ]
  },
  {
   "cell_type": "code",
   "execution_count": 16,
   "id": "20fcd80e",
   "metadata": {
    "execution": {
     "iopub.execute_input": "2023-12-26T22:34:04.772496Z",
     "iopub.status.busy": "2023-12-26T22:34:04.771841Z",
     "iopub.status.idle": "2023-12-26T22:34:04.791117Z",
     "shell.execute_reply": "2023-12-26T22:34:04.790171Z"
    },
    "papermill": {
     "duration": 0.048648,
     "end_time": "2023-12-26T22:34:04.793376",
     "exception": false,
     "start_time": "2023-12-26T22:34:04.744728",
     "status": "completed"
    },
    "tags": []
   },
   "outputs": [
    {
     "data": {
      "text/html": [
       "<div>\n",
       "<style scoped>\n",
       "    .dataframe tbody tr th:only-of-type {\n",
       "        vertical-align: middle;\n",
       "    }\n",
       "\n",
       "    .dataframe tbody tr th {\n",
       "        vertical-align: top;\n",
       "    }\n",
       "\n",
       "    .dataframe thead th {\n",
       "        text-align: right;\n",
       "    }\n",
       "</style>\n",
       "<table border=\"1\" class=\"dataframe\">\n",
       "  <thead>\n",
       "    <tr style=\"text-align: right;\">\n",
       "      <th></th>\n",
       "      <th>Sex</th>\n",
       "      <th>Survived</th>\n",
       "    </tr>\n",
       "  </thead>\n",
       "  <tbody>\n",
       "    <tr>\n",
       "      <th>0</th>\n",
       "      <td>female</td>\n",
       "      <td>0.742038</td>\n",
       "    </tr>\n",
       "    <tr>\n",
       "      <th>1</th>\n",
       "      <td>male</td>\n",
       "      <td>0.188908</td>\n",
       "    </tr>\n",
       "  </tbody>\n",
       "</table>\n",
       "</div>"
      ],
      "text/plain": [
       "      Sex  Survived\n",
       "0  female  0.742038\n",
       "1    male  0.188908"
      ]
     },
     "execution_count": 16,
     "metadata": {},
     "output_type": "execute_result"
    }
   ],
   "source": [
    "# Sex vs Survived\n",
    "#as_index -index numara verir\n",
    "train_df[[\"Sex\",\"Survived\"]].groupby([\"Sex\"], as_index = False).mean().sort_values(by=\"Survived\",ascending = False)"
   ]
  },
  {
   "cell_type": "code",
   "execution_count": 17,
   "id": "707417aa",
   "metadata": {
    "execution": {
     "iopub.execute_input": "2023-12-26T22:34:04.847301Z",
     "iopub.status.busy": "2023-12-26T22:34:04.846853Z",
     "iopub.status.idle": "2023-12-26T22:34:04.865505Z",
     "shell.execute_reply": "2023-12-26T22:34:04.864393Z"
    },
    "papermill": {
     "duration": 0.04884,
     "end_time": "2023-12-26T22:34:04.867897",
     "exception": false,
     "start_time": "2023-12-26T22:34:04.819057",
     "status": "completed"
    },
    "tags": []
   },
   "outputs": [
    {
     "data": {
      "text/html": [
       "<div>\n",
       "<style scoped>\n",
       "    .dataframe tbody tr th:only-of-type {\n",
       "        vertical-align: middle;\n",
       "    }\n",
       "\n",
       "    .dataframe tbody tr th {\n",
       "        vertical-align: top;\n",
       "    }\n",
       "\n",
       "    .dataframe thead th {\n",
       "        text-align: right;\n",
       "    }\n",
       "</style>\n",
       "<table border=\"1\" class=\"dataframe\">\n",
       "  <thead>\n",
       "    <tr style=\"text-align: right;\">\n",
       "      <th></th>\n",
       "      <th>SibSp</th>\n",
       "      <th>Survived</th>\n",
       "    </tr>\n",
       "  </thead>\n",
       "  <tbody>\n",
       "    <tr>\n",
       "      <th>1</th>\n",
       "      <td>1</td>\n",
       "      <td>0.535885</td>\n",
       "    </tr>\n",
       "    <tr>\n",
       "      <th>2</th>\n",
       "      <td>2</td>\n",
       "      <td>0.464286</td>\n",
       "    </tr>\n",
       "    <tr>\n",
       "      <th>0</th>\n",
       "      <td>0</td>\n",
       "      <td>0.345395</td>\n",
       "    </tr>\n",
       "    <tr>\n",
       "      <th>3</th>\n",
       "      <td>3</td>\n",
       "      <td>0.250000</td>\n",
       "    </tr>\n",
       "    <tr>\n",
       "      <th>4</th>\n",
       "      <td>4</td>\n",
       "      <td>0.166667</td>\n",
       "    </tr>\n",
       "    <tr>\n",
       "      <th>5</th>\n",
       "      <td>5</td>\n",
       "      <td>0.000000</td>\n",
       "    </tr>\n",
       "    <tr>\n",
       "      <th>6</th>\n",
       "      <td>8</td>\n",
       "      <td>0.000000</td>\n",
       "    </tr>\n",
       "  </tbody>\n",
       "</table>\n",
       "</div>"
      ],
      "text/plain": [
       "   SibSp  Survived\n",
       "1      1  0.535885\n",
       "2      2  0.464286\n",
       "0      0  0.345395\n",
       "3      3  0.250000\n",
       "4      4  0.166667\n",
       "5      5  0.000000\n",
       "6      8  0.000000"
      ]
     },
     "execution_count": 17,
     "metadata": {},
     "output_type": "execute_result"
    }
   ],
   "source": [
    "# Sibsp vs Survived\n",
    "train_df[[\"SibSp\",\"Survived\"]].groupby([\"SibSp\"], as_index = False).mean().sort_values(by=\"Survived\",ascending = False)"
   ]
  },
  {
   "cell_type": "code",
   "execution_count": 18,
   "id": "87be69ba",
   "metadata": {
    "execution": {
     "iopub.execute_input": "2023-12-26T22:34:04.923278Z",
     "iopub.status.busy": "2023-12-26T22:34:04.922176Z",
     "iopub.status.idle": "2023-12-26T22:34:04.941298Z",
     "shell.execute_reply": "2023-12-26T22:34:04.939768Z"
    },
    "papermill": {
     "duration": 0.049583,
     "end_time": "2023-12-26T22:34:04.944175",
     "exception": false,
     "start_time": "2023-12-26T22:34:04.894592",
     "status": "completed"
    },
    "tags": []
   },
   "outputs": [
    {
     "data": {
      "text/html": [
       "<div>\n",
       "<style scoped>\n",
       "    .dataframe tbody tr th:only-of-type {\n",
       "        vertical-align: middle;\n",
       "    }\n",
       "\n",
       "    .dataframe tbody tr th {\n",
       "        vertical-align: top;\n",
       "    }\n",
       "\n",
       "    .dataframe thead th {\n",
       "        text-align: right;\n",
       "    }\n",
       "</style>\n",
       "<table border=\"1\" class=\"dataframe\">\n",
       "  <thead>\n",
       "    <tr style=\"text-align: right;\">\n",
       "      <th></th>\n",
       "      <th>Parch</th>\n",
       "      <th>Survived</th>\n",
       "    </tr>\n",
       "  </thead>\n",
       "  <tbody>\n",
       "    <tr>\n",
       "      <th>3</th>\n",
       "      <td>3</td>\n",
       "      <td>0.600000</td>\n",
       "    </tr>\n",
       "    <tr>\n",
       "      <th>1</th>\n",
       "      <td>1</td>\n",
       "      <td>0.550847</td>\n",
       "    </tr>\n",
       "    <tr>\n",
       "      <th>2</th>\n",
       "      <td>2</td>\n",
       "      <td>0.500000</td>\n",
       "    </tr>\n",
       "    <tr>\n",
       "      <th>0</th>\n",
       "      <td>0</td>\n",
       "      <td>0.343658</td>\n",
       "    </tr>\n",
       "    <tr>\n",
       "      <th>5</th>\n",
       "      <td>5</td>\n",
       "      <td>0.200000</td>\n",
       "    </tr>\n",
       "    <tr>\n",
       "      <th>4</th>\n",
       "      <td>4</td>\n",
       "      <td>0.000000</td>\n",
       "    </tr>\n",
       "    <tr>\n",
       "      <th>6</th>\n",
       "      <td>6</td>\n",
       "      <td>0.000000</td>\n",
       "    </tr>\n",
       "  </tbody>\n",
       "</table>\n",
       "</div>"
      ],
      "text/plain": [
       "   Parch  Survived\n",
       "3      3  0.600000\n",
       "1      1  0.550847\n",
       "2      2  0.500000\n",
       "0      0  0.343658\n",
       "5      5  0.200000\n",
       "4      4  0.000000\n",
       "6      6  0.000000"
      ]
     },
     "execution_count": 18,
     "metadata": {},
     "output_type": "execute_result"
    }
   ],
   "source": [
    "# Parch vs Survived\n",
    "train_df[[\"Parch\",\"Survived\"]].groupby([\"Parch\"], as_index = False).mean().sort_values(by=\"Survived\",ascending = False)"
   ]
  },
  {
   "cell_type": "markdown",
   "id": "5f930b62",
   "metadata": {
    "papermill": {
     "duration": 0.027036,
     "end_time": "2023-12-26T22:34:04.997695",
     "exception": false,
     "start_time": "2023-12-26T22:34:04.970659",
     "status": "completed"
    },
    "tags": []
   },
   "source": [
    "<a id= \"7\"><a/><br>\n",
    "# **4-Outlier Detection**"
   ]
  },
  {
   "cell_type": "markdown",
   "id": "09aa7cdf",
   "metadata": {
    "papermill": {
     "duration": 0.025535,
     "end_time": "2023-12-26T22:34:05.049688",
     "exception": false,
     "start_time": "2023-12-26T22:34:05.024153",
     "status": "completed"
    },
    "tags": []
   },
   "source": [
    "**\"Aykırı değer\"** "
   ]
  },
  {
   "cell_type": "code",
   "execution_count": 19,
   "id": "3501014b",
   "metadata": {
    "execution": {
     "iopub.execute_input": "2023-12-26T22:34:05.104004Z",
     "iopub.status.busy": "2023-12-26T22:34:05.103618Z",
     "iopub.status.idle": "2023-12-26T22:34:05.112672Z",
     "shell.execute_reply": "2023-12-26T22:34:05.110964Z"
    },
    "papermill": {
     "duration": 0.039479,
     "end_time": "2023-12-26T22:34:05.115466",
     "exception": false,
     "start_time": "2023-12-26T22:34:05.075987",
     "status": "completed"
    },
    "tags": []
   },
   "outputs": [],
   "source": [
    "def detect_outliers(df,features):\n",
    "    outlier_indices=[]\n",
    "    for  c in features:\n",
    "        #1st Quartile \"yüdeklik dilim\" \n",
    "        Q1=np.percentile(df[c],25)\n",
    "        #3st Quartile\n",
    "        Q3=np.percentile(df[c],75)\n",
    "        #IQR\n",
    "        IQR=Q3-Q1\n",
    "        #Outlier step\n",
    "        outlier_step=IQR *1.5\n",
    "        #detect outlier and their indeces\n",
    "        outlier_list_col=df[(df[c]<Q1 - outlier_step) | (df[c]> Q3 + outlier_step)].index\n",
    "     \n",
    "        #store indeces\n",
    "        outlier_indices.extend(outlier_list_col)\n",
    "        \n",
    "    outlier_indices=Counter(outlier_indices)\n",
    "    multiple_outliers=list(i for i, v in outlier_indices.items() if v>2)\n",
    "    return multiple_outliers\n",
    "    "
   ]
  },
  {
   "cell_type": "code",
   "execution_count": 20,
   "id": "a7ff75bf",
   "metadata": {
    "execution": {
     "iopub.execute_input": "2023-12-26T22:34:05.169103Z",
     "iopub.status.busy": "2023-12-26T22:34:05.168712Z",
     "iopub.status.idle": "2023-12-26T22:34:05.198017Z",
     "shell.execute_reply": "2023-12-26T22:34:05.196518Z"
    },
    "papermill": {
     "duration": 0.059794,
     "end_time": "2023-12-26T22:34:05.201043",
     "exception": false,
     "start_time": "2023-12-26T22:34:05.141249",
     "status": "completed"
    },
    "tags": []
   },
   "outputs": [
    {
     "data": {
      "text/html": [
       "<div>\n",
       "<style scoped>\n",
       "    .dataframe tbody tr th:only-of-type {\n",
       "        vertical-align: middle;\n",
       "    }\n",
       "\n",
       "    .dataframe tbody tr th {\n",
       "        vertical-align: top;\n",
       "    }\n",
       "\n",
       "    .dataframe thead th {\n",
       "        text-align: right;\n",
       "    }\n",
       "</style>\n",
       "<table border=\"1\" class=\"dataframe\">\n",
       "  <thead>\n",
       "    <tr style=\"text-align: right;\">\n",
       "      <th></th>\n",
       "      <th>PassengerId</th>\n",
       "      <th>Survived</th>\n",
       "      <th>Pclass</th>\n",
       "      <th>Name</th>\n",
       "      <th>Sex</th>\n",
       "      <th>Age</th>\n",
       "      <th>SibSp</th>\n",
       "      <th>Parch</th>\n",
       "      <th>Ticket</th>\n",
       "      <th>Fare</th>\n",
       "      <th>Cabin</th>\n",
       "      <th>Embarked</th>\n",
       "    </tr>\n",
       "  </thead>\n",
       "  <tbody>\n",
       "    <tr>\n",
       "      <th>27</th>\n",
       "      <td>28</td>\n",
       "      <td>0</td>\n",
       "      <td>1</td>\n",
       "      <td>Fortune, Mr. Charles Alexander</td>\n",
       "      <td>male</td>\n",
       "      <td>19.0</td>\n",
       "      <td>3</td>\n",
       "      <td>2</td>\n",
       "      <td>19950</td>\n",
       "      <td>263.00</td>\n",
       "      <td>C23 C25 C27</td>\n",
       "      <td>S</td>\n",
       "    </tr>\n",
       "    <tr>\n",
       "      <th>88</th>\n",
       "      <td>89</td>\n",
       "      <td>1</td>\n",
       "      <td>1</td>\n",
       "      <td>Fortune, Miss. Mabel Helen</td>\n",
       "      <td>female</td>\n",
       "      <td>23.0</td>\n",
       "      <td>3</td>\n",
       "      <td>2</td>\n",
       "      <td>19950</td>\n",
       "      <td>263.00</td>\n",
       "      <td>C23 C25 C27</td>\n",
       "      <td>S</td>\n",
       "    </tr>\n",
       "    <tr>\n",
       "      <th>159</th>\n",
       "      <td>160</td>\n",
       "      <td>0</td>\n",
       "      <td>3</td>\n",
       "      <td>Sage, Master. Thomas Henry</td>\n",
       "      <td>male</td>\n",
       "      <td>NaN</td>\n",
       "      <td>8</td>\n",
       "      <td>2</td>\n",
       "      <td>CA. 2343</td>\n",
       "      <td>69.55</td>\n",
       "      <td>NaN</td>\n",
       "      <td>S</td>\n",
       "    </tr>\n",
       "    <tr>\n",
       "      <th>180</th>\n",
       "      <td>181</td>\n",
       "      <td>0</td>\n",
       "      <td>3</td>\n",
       "      <td>Sage, Miss. Constance Gladys</td>\n",
       "      <td>female</td>\n",
       "      <td>NaN</td>\n",
       "      <td>8</td>\n",
       "      <td>2</td>\n",
       "      <td>CA. 2343</td>\n",
       "      <td>69.55</td>\n",
       "      <td>NaN</td>\n",
       "      <td>S</td>\n",
       "    </tr>\n",
       "    <tr>\n",
       "      <th>201</th>\n",
       "      <td>202</td>\n",
       "      <td>0</td>\n",
       "      <td>3</td>\n",
       "      <td>Sage, Mr. Frederick</td>\n",
       "      <td>male</td>\n",
       "      <td>NaN</td>\n",
       "      <td>8</td>\n",
       "      <td>2</td>\n",
       "      <td>CA. 2343</td>\n",
       "      <td>69.55</td>\n",
       "      <td>NaN</td>\n",
       "      <td>S</td>\n",
       "    </tr>\n",
       "    <tr>\n",
       "      <th>324</th>\n",
       "      <td>325</td>\n",
       "      <td>0</td>\n",
       "      <td>3</td>\n",
       "      <td>Sage, Mr. George John Jr</td>\n",
       "      <td>male</td>\n",
       "      <td>NaN</td>\n",
       "      <td>8</td>\n",
       "      <td>2</td>\n",
       "      <td>CA. 2343</td>\n",
       "      <td>69.55</td>\n",
       "      <td>NaN</td>\n",
       "      <td>S</td>\n",
       "    </tr>\n",
       "    <tr>\n",
       "      <th>341</th>\n",
       "      <td>342</td>\n",
       "      <td>1</td>\n",
       "      <td>1</td>\n",
       "      <td>Fortune, Miss. Alice Elizabeth</td>\n",
       "      <td>female</td>\n",
       "      <td>24.0</td>\n",
       "      <td>3</td>\n",
       "      <td>2</td>\n",
       "      <td>19950</td>\n",
       "      <td>263.00</td>\n",
       "      <td>C23 C25 C27</td>\n",
       "      <td>S</td>\n",
       "    </tr>\n",
       "    <tr>\n",
       "      <th>792</th>\n",
       "      <td>793</td>\n",
       "      <td>0</td>\n",
       "      <td>3</td>\n",
       "      <td>Sage, Miss. Stella Anna</td>\n",
       "      <td>female</td>\n",
       "      <td>NaN</td>\n",
       "      <td>8</td>\n",
       "      <td>2</td>\n",
       "      <td>CA. 2343</td>\n",
       "      <td>69.55</td>\n",
       "      <td>NaN</td>\n",
       "      <td>S</td>\n",
       "    </tr>\n",
       "    <tr>\n",
       "      <th>846</th>\n",
       "      <td>847</td>\n",
       "      <td>0</td>\n",
       "      <td>3</td>\n",
       "      <td>Sage, Mr. Douglas Bullen</td>\n",
       "      <td>male</td>\n",
       "      <td>NaN</td>\n",
       "      <td>8</td>\n",
       "      <td>2</td>\n",
       "      <td>CA. 2343</td>\n",
       "      <td>69.55</td>\n",
       "      <td>NaN</td>\n",
       "      <td>S</td>\n",
       "    </tr>\n",
       "    <tr>\n",
       "      <th>863</th>\n",
       "      <td>864</td>\n",
       "      <td>0</td>\n",
       "      <td>3</td>\n",
       "      <td>Sage, Miss. Dorothy Edith \"Dolly\"</td>\n",
       "      <td>female</td>\n",
       "      <td>NaN</td>\n",
       "      <td>8</td>\n",
       "      <td>2</td>\n",
       "      <td>CA. 2343</td>\n",
       "      <td>69.55</td>\n",
       "      <td>NaN</td>\n",
       "      <td>S</td>\n",
       "    </tr>\n",
       "  </tbody>\n",
       "</table>\n",
       "</div>"
      ],
      "text/plain": [
       "     PassengerId  Survived  Pclass                               Name     Sex  \\\n",
       "27            28         0       1     Fortune, Mr. Charles Alexander    male   \n",
       "88            89         1       1         Fortune, Miss. Mabel Helen  female   \n",
       "159          160         0       3         Sage, Master. Thomas Henry    male   \n",
       "180          181         0       3       Sage, Miss. Constance Gladys  female   \n",
       "201          202         0       3                Sage, Mr. Frederick    male   \n",
       "324          325         0       3           Sage, Mr. George John Jr    male   \n",
       "341          342         1       1     Fortune, Miss. Alice Elizabeth  female   \n",
       "792          793         0       3            Sage, Miss. Stella Anna  female   \n",
       "846          847         0       3           Sage, Mr. Douglas Bullen    male   \n",
       "863          864         0       3  Sage, Miss. Dorothy Edith \"Dolly\"  female   \n",
       "\n",
       "      Age  SibSp  Parch    Ticket    Fare        Cabin Embarked  \n",
       "27   19.0      3      2     19950  263.00  C23 C25 C27        S  \n",
       "88   23.0      3      2     19950  263.00  C23 C25 C27        S  \n",
       "159   NaN      8      2  CA. 2343   69.55          NaN        S  \n",
       "180   NaN      8      2  CA. 2343   69.55          NaN        S  \n",
       "201   NaN      8      2  CA. 2343   69.55          NaN        S  \n",
       "324   NaN      8      2  CA. 2343   69.55          NaN        S  \n",
       "341  24.0      3      2     19950  263.00  C23 C25 C27        S  \n",
       "792   NaN      8      2  CA. 2343   69.55          NaN        S  \n",
       "846   NaN      8      2  CA. 2343   69.55          NaN        S  \n",
       "863   NaN      8      2  CA. 2343   69.55          NaN        S  "
      ]
     },
     "execution_count": 20,
     "metadata": {},
     "output_type": "execute_result"
    }
   ],
   "source": [
    "train_df.loc[detect_outliers(train_df,[\"Age\",\"SibSp\",\"Parch\",\"Fare\"])]"
   ]
  },
  {
   "cell_type": "code",
   "execution_count": 21,
   "id": "600d3203",
   "metadata": {
    "execution": {
     "iopub.execute_input": "2023-12-26T22:34:05.259885Z",
     "iopub.status.busy": "2023-12-26T22:34:05.258864Z",
     "iopub.status.idle": "2023-12-26T22:34:05.272819Z",
     "shell.execute_reply": "2023-12-26T22:34:05.271740Z"
    },
    "papermill": {
     "duration": 0.047133,
     "end_time": "2023-12-26T22:34:05.275807",
     "exception": false,
     "start_time": "2023-12-26T22:34:05.228674",
     "status": "completed"
    },
    "tags": []
   },
   "outputs": [],
   "source": [
    "#drop outliers\n",
    "train_df = train_df.drop(detect_outliers(train_df,[\"Age\",\"SibSp\",\"Parch\",\"Fare\"]),axis = 0).reset_index(drop = True)"
   ]
  },
  {
   "cell_type": "markdown",
   "id": "b7e66287",
   "metadata": {
    "papermill": {
     "duration": 0.026908,
     "end_time": "2023-12-26T22:34:05.330130",
     "exception": false,
     "start_time": "2023-12-26T22:34:05.303222",
     "status": "completed"
    },
    "tags": []
   },
   "source": [
    "<a id= \"8\"><a/><br>\n",
    "# **4-Missing Value**"
   ]
  },
  {
   "cell_type": "markdown",
   "id": "af697ca5",
   "metadata": {
    "papermill": {
     "duration": 0.027708,
     "end_time": "2023-12-26T22:34:05.385596",
     "exception": false,
     "start_time": "2023-12-26T22:34:05.357888",
     "status": "completed"
    },
    "tags": []
   },
   "source": [
    "* Find Missing Value\n",
    "* Fill Missing Value"
   ]
  },
  {
   "cell_type": "code",
   "execution_count": 22,
   "id": "0025aa47",
   "metadata": {
    "execution": {
     "iopub.execute_input": "2023-12-26T22:34:05.445644Z",
     "iopub.status.busy": "2023-12-26T22:34:05.444840Z",
     "iopub.status.idle": "2023-12-26T22:34:05.453812Z",
     "shell.execute_reply": "2023-12-26T22:34:05.452786Z"
    },
    "papermill": {
     "duration": 0.043646,
     "end_time": "2023-12-26T22:34:05.456667",
     "exception": false,
     "start_time": "2023-12-26T22:34:05.413021",
     "status": "completed"
    },
    "tags": []
   },
   "outputs": [],
   "source": [
    "train_df_len = len(train_df)\n",
    "train_df = pd.concat([train_df,test_df],axis = 0).reset_index(drop = True)"
   ]
  },
  {
   "cell_type": "code",
   "execution_count": 23,
   "id": "f1a6110e",
   "metadata": {
    "execution": {
     "iopub.execute_input": "2023-12-26T22:34:05.515216Z",
     "iopub.status.busy": "2023-12-26T22:34:05.514409Z",
     "iopub.status.idle": "2023-12-26T22:34:05.533666Z",
     "shell.execute_reply": "2023-12-26T22:34:05.532378Z"
    },
    "papermill": {
     "duration": 0.051702,
     "end_time": "2023-12-26T22:34:05.536617",
     "exception": false,
     "start_time": "2023-12-26T22:34:05.484915",
     "status": "completed"
    },
    "tags": []
   },
   "outputs": [
    {
     "data": {
      "text/html": [
       "<div>\n",
       "<style scoped>\n",
       "    .dataframe tbody tr th:only-of-type {\n",
       "        vertical-align: middle;\n",
       "    }\n",
       "\n",
       "    .dataframe tbody tr th {\n",
       "        vertical-align: top;\n",
       "    }\n",
       "\n",
       "    .dataframe thead th {\n",
       "        text-align: right;\n",
       "    }\n",
       "</style>\n",
       "<table border=\"1\" class=\"dataframe\">\n",
       "  <thead>\n",
       "    <tr style=\"text-align: right;\">\n",
       "      <th></th>\n",
       "      <th>PassengerId</th>\n",
       "      <th>Survived</th>\n",
       "      <th>Pclass</th>\n",
       "      <th>Name</th>\n",
       "      <th>Sex</th>\n",
       "      <th>Age</th>\n",
       "      <th>SibSp</th>\n",
       "      <th>Parch</th>\n",
       "      <th>Ticket</th>\n",
       "      <th>Fare</th>\n",
       "      <th>Cabin</th>\n",
       "      <th>Embarked</th>\n",
       "    </tr>\n",
       "  </thead>\n",
       "  <tbody>\n",
       "    <tr>\n",
       "      <th>0</th>\n",
       "      <td>1</td>\n",
       "      <td>0.0</td>\n",
       "      <td>3</td>\n",
       "      <td>Braund, Mr. Owen Harris</td>\n",
       "      <td>male</td>\n",
       "      <td>22.0</td>\n",
       "      <td>1</td>\n",
       "      <td>0</td>\n",
       "      <td>A/5 21171</td>\n",
       "      <td>7.2500</td>\n",
       "      <td>NaN</td>\n",
       "      <td>S</td>\n",
       "    </tr>\n",
       "    <tr>\n",
       "      <th>1</th>\n",
       "      <td>2</td>\n",
       "      <td>1.0</td>\n",
       "      <td>1</td>\n",
       "      <td>Cumings, Mrs. John Bradley (Florence Briggs Th...</td>\n",
       "      <td>female</td>\n",
       "      <td>38.0</td>\n",
       "      <td>1</td>\n",
       "      <td>0</td>\n",
       "      <td>PC 17599</td>\n",
       "      <td>71.2833</td>\n",
       "      <td>C85</td>\n",
       "      <td>C</td>\n",
       "    </tr>\n",
       "    <tr>\n",
       "      <th>2</th>\n",
       "      <td>3</td>\n",
       "      <td>1.0</td>\n",
       "      <td>3</td>\n",
       "      <td>Heikkinen, Miss. Laina</td>\n",
       "      <td>female</td>\n",
       "      <td>26.0</td>\n",
       "      <td>0</td>\n",
       "      <td>0</td>\n",
       "      <td>STON/O2. 3101282</td>\n",
       "      <td>7.9250</td>\n",
       "      <td>NaN</td>\n",
       "      <td>S</td>\n",
       "    </tr>\n",
       "    <tr>\n",
       "      <th>3</th>\n",
       "      <td>4</td>\n",
       "      <td>1.0</td>\n",
       "      <td>1</td>\n",
       "      <td>Futrelle, Mrs. Jacques Heath (Lily May Peel)</td>\n",
       "      <td>female</td>\n",
       "      <td>35.0</td>\n",
       "      <td>1</td>\n",
       "      <td>0</td>\n",
       "      <td>113803</td>\n",
       "      <td>53.1000</td>\n",
       "      <td>C123</td>\n",
       "      <td>S</td>\n",
       "    </tr>\n",
       "    <tr>\n",
       "      <th>4</th>\n",
       "      <td>5</td>\n",
       "      <td>0.0</td>\n",
       "      <td>3</td>\n",
       "      <td>Allen, Mr. William Henry</td>\n",
       "      <td>male</td>\n",
       "      <td>35.0</td>\n",
       "      <td>0</td>\n",
       "      <td>0</td>\n",
       "      <td>373450</td>\n",
       "      <td>8.0500</td>\n",
       "      <td>NaN</td>\n",
       "      <td>S</td>\n",
       "    </tr>\n",
       "  </tbody>\n",
       "</table>\n",
       "</div>"
      ],
      "text/plain": [
       "   PassengerId  Survived  Pclass  \\\n",
       "0            1       0.0       3   \n",
       "1            2       1.0       1   \n",
       "2            3       1.0       3   \n",
       "3            4       1.0       1   \n",
       "4            5       0.0       3   \n",
       "\n",
       "                                                Name     Sex   Age  SibSp  \\\n",
       "0                            Braund, Mr. Owen Harris    male  22.0      1   \n",
       "1  Cumings, Mrs. John Bradley (Florence Briggs Th...  female  38.0      1   \n",
       "2                             Heikkinen, Miss. Laina  female  26.0      0   \n",
       "3       Futrelle, Mrs. Jacques Heath (Lily May Peel)  female  35.0      1   \n",
       "4                           Allen, Mr. William Henry    male  35.0      0   \n",
       "\n",
       "   Parch            Ticket     Fare Cabin Embarked  \n",
       "0      0         A/5 21171   7.2500   NaN        S  \n",
       "1      0          PC 17599  71.2833   C85        C  \n",
       "2      0  STON/O2. 3101282   7.9250   NaN        S  \n",
       "3      0            113803  53.1000  C123        S  \n",
       "4      0            373450   8.0500   NaN        S  "
      ]
     },
     "execution_count": 23,
     "metadata": {},
     "output_type": "execute_result"
    }
   ],
   "source": [
    "train_df.head()"
   ]
  },
  {
   "cell_type": "markdown",
   "id": "43502bc7",
   "metadata": {
    "_kg_hide-input": true,
    "papermill": {
     "duration": 0.028726,
     "end_time": "2023-12-26T22:34:05.592861",
     "exception": false,
     "start_time": "2023-12-26T22:34:05.564135",
     "status": "completed"
    },
    "tags": []
   },
   "source": [
    "<a id= \"9\"><a/><br>\n",
    "# Find Missing Value"
   ]
  },
  {
   "cell_type": "code",
   "execution_count": 24,
   "id": "8160feb5",
   "metadata": {
    "execution": {
     "iopub.execute_input": "2023-12-26T22:34:05.649749Z",
     "iopub.status.busy": "2023-12-26T22:34:05.649300Z",
     "iopub.status.idle": "2023-12-26T22:34:05.659050Z",
     "shell.execute_reply": "2023-12-26T22:34:05.657905Z"
    },
    "papermill": {
     "duration": 0.041271,
     "end_time": "2023-12-26T22:34:05.661537",
     "exception": false,
     "start_time": "2023-12-26T22:34:05.620266",
     "status": "completed"
    },
    "tags": []
   },
   "outputs": [
    {
     "data": {
      "text/plain": [
       "Index(['Survived', 'Age', 'Fare', 'Cabin', 'Embarked'], dtype='object')"
      ]
     },
     "execution_count": 24,
     "metadata": {},
     "output_type": "execute_result"
    }
   ],
   "source": [
    "train_df.columns[train_df.isnull().any()]"
   ]
  },
  {
   "cell_type": "code",
   "execution_count": 25,
   "id": "97f04fdc",
   "metadata": {
    "_kg_hide-input": true,
    "_kg_hide-output": true,
    "execution": {
     "iopub.execute_input": "2023-12-26T22:34:05.718151Z",
     "iopub.status.busy": "2023-12-26T22:34:05.717471Z",
     "iopub.status.idle": "2023-12-26T22:34:05.728333Z",
     "shell.execute_reply": "2023-12-26T22:34:05.726814Z"
    },
    "papermill": {
     "duration": 0.042603,
     "end_time": "2023-12-26T22:34:05.731217",
     "exception": false,
     "start_time": "2023-12-26T22:34:05.688614",
     "status": "completed"
    },
    "tags": []
   },
   "outputs": [
    {
     "data": {
      "text/plain": [
       "PassengerId       0\n",
       "Survived        418\n",
       "Pclass            0\n",
       "Name              0\n",
       "Sex               0\n",
       "Age             256\n",
       "SibSp             0\n",
       "Parch             0\n",
       "Ticket            0\n",
       "Fare              1\n",
       "Cabin          1007\n",
       "Embarked          2\n",
       "dtype: int64"
      ]
     },
     "execution_count": 25,
     "metadata": {},
     "output_type": "execute_result"
    }
   ],
   "source": [
    "train_df.isnull().sum()"
   ]
  },
  {
   "cell_type": "markdown",
   "id": "715806c9",
   "metadata": {
    "papermill": {
     "duration": 0.026847,
     "end_time": "2023-12-26T22:34:05.785399",
     "exception": false,
     "start_time": "2023-12-26T22:34:05.758552",
     "status": "completed"
    },
    "tags": []
   },
   "source": [
    "<a id= \"10\"><a/><br>\n",
    "# Fill Missing Value"
   ]
  },
  {
   "cell_type": "markdown",
   "id": "8eb2df66",
   "metadata": {
    "papermill": {
     "duration": 0.027056,
     "end_time": "2023-12-26T22:34:05.839173",
     "exception": false,
     "start_time": "2023-12-26T22:34:05.812117",
     "status": "completed"
    },
    "tags": []
   },
   "source": [
    "* Embarked has 2 missing value\n",
    "* Fare has only 1"
   ]
  },
  {
   "cell_type": "code",
   "execution_count": 26,
   "id": "171cc125",
   "metadata": {
    "execution": {
     "iopub.execute_input": "2023-12-26T22:34:05.895933Z",
     "iopub.status.busy": "2023-12-26T22:34:05.895132Z",
     "iopub.status.idle": "2023-12-26T22:34:05.913811Z",
     "shell.execute_reply": "2023-12-26T22:34:05.912200Z"
    },
    "papermill": {
     "duration": 0.050249,
     "end_time": "2023-12-26T22:34:05.916575",
     "exception": false,
     "start_time": "2023-12-26T22:34:05.866326",
     "status": "completed"
    },
    "tags": []
   },
   "outputs": [
    {
     "data": {
      "text/html": [
       "<div>\n",
       "<style scoped>\n",
       "    .dataframe tbody tr th:only-of-type {\n",
       "        vertical-align: middle;\n",
       "    }\n",
       "\n",
       "    .dataframe tbody tr th {\n",
       "        vertical-align: top;\n",
       "    }\n",
       "\n",
       "    .dataframe thead th {\n",
       "        text-align: right;\n",
       "    }\n",
       "</style>\n",
       "<table border=\"1\" class=\"dataframe\">\n",
       "  <thead>\n",
       "    <tr style=\"text-align: right;\">\n",
       "      <th></th>\n",
       "      <th>PassengerId</th>\n",
       "      <th>Survived</th>\n",
       "      <th>Pclass</th>\n",
       "      <th>Name</th>\n",
       "      <th>Sex</th>\n",
       "      <th>Age</th>\n",
       "      <th>SibSp</th>\n",
       "      <th>Parch</th>\n",
       "      <th>Ticket</th>\n",
       "      <th>Fare</th>\n",
       "      <th>Cabin</th>\n",
       "      <th>Embarked</th>\n",
       "    </tr>\n",
       "  </thead>\n",
       "  <tbody>\n",
       "    <tr>\n",
       "      <th>60</th>\n",
       "      <td>62</td>\n",
       "      <td>1.0</td>\n",
       "      <td>1</td>\n",
       "      <td>Icard, Miss. Amelie</td>\n",
       "      <td>female</td>\n",
       "      <td>38.0</td>\n",
       "      <td>0</td>\n",
       "      <td>0</td>\n",
       "      <td>113572</td>\n",
       "      <td>80.0</td>\n",
       "      <td>B28</td>\n",
       "      <td>NaN</td>\n",
       "    </tr>\n",
       "    <tr>\n",
       "      <th>821</th>\n",
       "      <td>830</td>\n",
       "      <td>1.0</td>\n",
       "      <td>1</td>\n",
       "      <td>Stone, Mrs. George Nelson (Martha Evelyn)</td>\n",
       "      <td>female</td>\n",
       "      <td>62.0</td>\n",
       "      <td>0</td>\n",
       "      <td>0</td>\n",
       "      <td>113572</td>\n",
       "      <td>80.0</td>\n",
       "      <td>B28</td>\n",
       "      <td>NaN</td>\n",
       "    </tr>\n",
       "  </tbody>\n",
       "</table>\n",
       "</div>"
      ],
      "text/plain": [
       "     PassengerId  Survived  Pclass                                       Name  \\\n",
       "60            62       1.0       1                        Icard, Miss. Amelie   \n",
       "821          830       1.0       1  Stone, Mrs. George Nelson (Martha Evelyn)   \n",
       "\n",
       "        Sex   Age  SibSp  Parch  Ticket  Fare Cabin Embarked  \n",
       "60   female  38.0      0      0  113572  80.0   B28      NaN  \n",
       "821  female  62.0      0      0  113572  80.0   B28      NaN  "
      ]
     },
     "execution_count": 26,
     "metadata": {},
     "output_type": "execute_result"
    }
   ],
   "source": [
    "train_df[train_df[\"Embarked\"].isnull()]"
   ]
  },
  {
   "cell_type": "code",
   "execution_count": 27,
   "id": "3c265e8a",
   "metadata": {
    "execution": {
     "iopub.execute_input": "2023-12-26T22:34:05.973572Z",
     "iopub.status.busy": "2023-12-26T22:34:05.973135Z",
     "iopub.status.idle": "2023-12-26T22:34:06.306942Z",
     "shell.execute_reply": "2023-12-26T22:34:06.305948Z"
    },
    "papermill": {
     "duration": 0.36554,
     "end_time": "2023-12-26T22:34:06.309305",
     "exception": false,
     "start_time": "2023-12-26T22:34:05.943765",
     "status": "completed"
    },
    "tags": []
   },
   "outputs": [
    {
     "data": {
      "image/png": "[encoded data removed]",
      "text/plain": [
       "<Figure size 640x480 with 1 Axes>"
      ]
     },
     "metadata": {},
     "output_type": "display_data"
    }
   ],
   "source": [
    "train_df.boxplot(column=\"Fare\",by = \"Embarked\")\n",
    "plt.show()"
   ]
  },
  {
   "cell_type": "code",
   "execution_count": 28,
   "id": "9447f2fe",
   "metadata": {
    "execution": {
     "iopub.execute_input": "2023-12-26T22:34:06.369404Z",
     "iopub.status.busy": "2023-12-26T22:34:06.368625Z",
     "iopub.status.idle": "2023-12-26T22:34:06.384926Z",
     "shell.execute_reply": "2023-12-26T22:34:06.383566Z"
    },
    "papermill": {
     "duration": 0.049698,
     "end_time": "2023-12-26T22:34:06.387562",
     "exception": false,
     "start_time": "2023-12-26T22:34:06.337864",
     "status": "completed"
    },
    "tags": []
   },
   "outputs": [
    {
     "data": {
      "text/html": [
       "<div>\n",
       "<style scoped>\n",
       "    .dataframe tbody tr th:only-of-type {\n",
       "        vertical-align: middle;\n",
       "    }\n",
       "\n",
       "    .dataframe tbody tr th {\n",
       "        vertical-align: top;\n",
       "    }\n",
       "\n",
       "    .dataframe thead th {\n",
       "        text-align: right;\n",
       "    }\n",
       "</style>\n",
       "<table border=\"1\" class=\"dataframe\">\n",
       "  <thead>\n",
       "    <tr style=\"text-align: right;\">\n",
       "      <th></th>\n",
       "      <th>PassengerId</th>\n",
       "      <th>Survived</th>\n",
       "      <th>Pclass</th>\n",
       "      <th>Name</th>\n",
       "      <th>Sex</th>\n",
       "      <th>Age</th>\n",
       "      <th>SibSp</th>\n",
       "      <th>Parch</th>\n",
       "      <th>Ticket</th>\n",
       "      <th>Fare</th>\n",
       "      <th>Cabin</th>\n",
       "      <th>Embarked</th>\n",
       "    </tr>\n",
       "  </thead>\n",
       "  <tbody>\n",
       "  </tbody>\n",
       "</table>\n",
       "</div>"
      ],
      "text/plain": [
       "Empty DataFrame\n",
       "Columns: [PassengerId, Survived, Pclass, Name, Sex, Age, SibSp, Parch, Ticket, Fare, Cabin, Embarked]\n",
       "Index: []"
      ]
     },
     "execution_count": 28,
     "metadata": {},
     "output_type": "execute_result"
    }
   ],
   "source": [
    "train_df[\"Embarked\"] = train_df[\"Embarked\"].fillna(\"C\")\n",
    "train_df[train_df[\"Embarked\"].isnull()]"
   ]
  },
  {
   "cell_type": "code",
   "execution_count": 29,
   "id": "937169da",
   "metadata": {
    "execution": {
     "iopub.execute_input": "2023-12-26T22:34:06.445697Z",
     "iopub.status.busy": "2023-12-26T22:34:06.445223Z",
     "iopub.status.idle": "2023-12-26T22:34:06.464317Z",
     "shell.execute_reply": "2023-12-26T22:34:06.463396Z"
    },
    "papermill": {
     "duration": 0.051324,
     "end_time": "2023-12-26T22:34:06.466739",
     "exception": false,
     "start_time": "2023-12-26T22:34:06.415415",
     "status": "completed"
    },
    "tags": []
   },
   "outputs": [
    {
     "data": {
      "text/html": [
       "<div>\n",
       "<style scoped>\n",
       "    .dataframe tbody tr th:only-of-type {\n",
       "        vertical-align: middle;\n",
       "    }\n",
       "\n",
       "    .dataframe tbody tr th {\n",
       "        vertical-align: top;\n",
       "    }\n",
       "\n",
       "    .dataframe thead th {\n",
       "        text-align: right;\n",
       "    }\n",
       "</style>\n",
       "<table border=\"1\" class=\"dataframe\">\n",
       "  <thead>\n",
       "    <tr style=\"text-align: right;\">\n",
       "      <th></th>\n",
       "      <th>PassengerId</th>\n",
       "      <th>Survived</th>\n",
       "      <th>Pclass</th>\n",
       "      <th>Name</th>\n",
       "      <th>Sex</th>\n",
       "      <th>Age</th>\n",
       "      <th>SibSp</th>\n",
       "      <th>Parch</th>\n",
       "      <th>Ticket</th>\n",
       "      <th>Fare</th>\n",
       "      <th>Cabin</th>\n",
       "      <th>Embarked</th>\n",
       "    </tr>\n",
       "  </thead>\n",
       "  <tbody>\n",
       "    <tr>\n",
       "      <th>1033</th>\n",
       "      <td>1044</td>\n",
       "      <td>NaN</td>\n",
       "      <td>3</td>\n",
       "      <td>Storey, Mr. Thomas</td>\n",
       "      <td>male</td>\n",
       "      <td>60.5</td>\n",
       "      <td>0</td>\n",
       "      <td>0</td>\n",
       "      <td>3701</td>\n",
       "      <td>NaN</td>\n",
       "      <td>NaN</td>\n",
       "      <td>S</td>\n",
       "    </tr>\n",
       "  </tbody>\n",
       "</table>\n",
       "</div>"
      ],
      "text/plain": [
       "      PassengerId  Survived  Pclass                Name   Sex   Age  SibSp  \\\n",
       "1033         1044       NaN       3  Storey, Mr. Thomas  male  60.5      0   \n",
       "\n",
       "      Parch Ticket  Fare Cabin Embarked  \n",
       "1033      0   3701   NaN   NaN        S  "
      ]
     },
     "execution_count": 29,
     "metadata": {},
     "output_type": "execute_result"
    }
   ],
   "source": [
    "train_df[train_df[\"Fare\"].isnull()]"
   ]
  },
  {
   "cell_type": "code",
   "execution_count": 30,
   "id": "d282734a",
   "metadata": {
    "execution": {
     "iopub.execute_input": "2023-12-26T22:34:06.526546Z",
     "iopub.status.busy": "2023-12-26T22:34:06.525623Z",
     "iopub.status.idle": "2023-12-26T22:34:06.537197Z",
     "shell.execute_reply": "2023-12-26T22:34:06.535853Z"
    },
    "papermill": {
     "duration": 0.045536,
     "end_time": "2023-12-26T22:34:06.540644",
     "exception": false,
     "start_time": "2023-12-26T22:34:06.495108",
     "status": "completed"
    },
    "tags": []
   },
   "outputs": [
    {
     "data": {
      "text/plain": [
       "0        7.2500\n",
       "2        7.9250\n",
       "4        8.0500\n",
       "5        8.4583\n",
       "7       21.0750\n",
       "         ...   \n",
       "1293     7.7750\n",
       "1294     8.0500\n",
       "1296     7.2500\n",
       "1297     8.0500\n",
       "1298    22.3583\n",
       "Name: Fare, Length: 702, dtype: float64"
      ]
     },
     "execution_count": 30,
     "metadata": {},
     "output_type": "execute_result"
    }
   ],
   "source": [
    "train_df[train_df[\"Pclass\"] == 3][\"Fare\"]"
   ]
  },
  {
   "cell_type": "code",
   "execution_count": 31,
   "id": "79a1c69d",
   "metadata": {
    "execution": {
     "iopub.execute_input": "2023-12-26T22:34:06.603323Z",
     "iopub.status.busy": "2023-12-26T22:34:06.602341Z",
     "iopub.status.idle": "2023-12-26T22:34:06.611308Z",
     "shell.execute_reply": "2023-12-26T22:34:06.610359Z"
    },
    "papermill": {
     "duration": 0.043768,
     "end_time": "2023-12-26T22:34:06.614032",
     "exception": false,
     "start_time": "2023-12-26T22:34:06.570264",
     "status": "completed"
    },
    "tags": []
   },
   "outputs": [],
   "source": [
    "train_df[\"Fare\"] = train_df[\"Fare\"].fillna(np.mean(train_df[train_df[\"Pclass\"] == 3][\"Fare\"]))"
   ]
  },
  {
   "cell_type": "markdown",
   "id": "fcec5933",
   "metadata": {
    "papermill": {
     "duration": 0.029451,
     "end_time": "2023-12-26T22:34:06.674636",
     "exception": false,
     "start_time": "2023-12-26T22:34:06.645185",
     "status": "completed"
    },
    "tags": []
   },
   "source": [
    "<a id= \"11\"><a/><br>\n",
    " # **6-Visulization**"
   ]
  },
  {
   "cell_type": "markdown",
   "id": "401d1c02",
   "metadata": {
    "papermill": {
     "duration": 0.029424,
     "end_time": "2023-12-26T22:34:06.733531",
     "exception": false,
     "start_time": "2023-12-26T22:34:06.704107",
     "status": "completed"
    },
    "tags": []
   },
   "source": []
  },
  {
   "cell_type": "markdown",
   "id": "fd3dbc3b",
   "metadata": {
    "papermill": {
     "duration": 0.030541,
     "end_time": "2023-12-26T22:34:06.793724",
     "exception": false,
     "start_time": "2023-12-26T22:34:06.763183",
     "status": "completed"
    },
    "tags": []
   },
   "source": [
    "<a id= \"12\"><a/><br>\n",
    "  # **Correlation Between Sibsp -- Parch -- Age -- Fare -- Survived**"
   ]
  },
  {
   "cell_type": "code",
   "execution_count": 32,
   "id": "be9cacf1",
   "metadata": {
    "execution": {
     "iopub.execute_input": "2023-12-26T22:34:06.856289Z",
     "iopub.status.busy": "2023-12-26T22:34:06.855792Z",
     "iopub.status.idle": "2023-12-26T22:34:07.253859Z",
     "shell.execute_reply": "2023-12-26T22:34:07.252203Z"
    },
    "papermill": {
     "duration": 0.432282,
     "end_time": "2023-12-26T22:34:07.256878",
     "exception": false,
     "start_time": "2023-12-26T22:34:06.824596",
     "status": "completed"
    },
    "tags": []
   },
   "outputs": [
    {
     "data": {
      "image/png": "[encoded data removed]",
      "text/plain": [
       "<Figure size 640x480 with 2 Axes>"
      ]
     },
     "metadata": {},
     "output_type": "display_data"
    }
   ],
   "source": [
    "list1=[\"SibSp\",\"Parch\" ,\"Age\" , \"Fare\" ,\"Survived\"]\n",
    "#correlation matrix -aralarındaki ilişki \n",
    "sns.heatmap(train_df[list1].corr(),annot=True,fmt=\".2f\")\n",
    "plt.show()"
   ]
  },
  {
   "cell_type": "raw",
   "id": "6073fdb7",
   "metadata": {
    "papermill": {
     "duration": 0.029247,
     "end_time": "2023-12-26T22:34:07.315479",
     "exception": false,
     "start_time": "2023-12-26T22:34:07.286232",
     "status": "completed"
    },
    "tags": []
   },
   "source": [
    "Fare feature seems to have correlation with survived feature (0.26)."
   ]
  },
  {
   "cell_type": "markdown",
   "id": "8452b094",
   "metadata": {
    "_kg_hide-input": true,
    "papermill": {
     "duration": 0.028729,
     "end_time": "2023-12-26T22:34:07.373631",
     "exception": false,
     "start_time": "2023-12-26T22:34:07.344902",
     "status": "completed"
    },
    "tags": []
   },
   "source": [
    "<a id= \"13\"><a/><br> \n",
    "#  **SibSp -- Survived**"
   ]
  },
  {
   "cell_type": "code",
   "execution_count": 33,
   "id": "625a47ff",
   "metadata": {
    "execution": {
     "iopub.execute_input": "2023-12-26T22:34:07.434994Z",
     "iopub.status.busy": "2023-12-26T22:34:07.434575Z",
     "iopub.status.idle": "2023-12-26T22:34:08.366772Z",
     "shell.execute_reply": "2023-12-26T22:34:08.365394Z"
    },
    "papermill": {
     "duration": 0.965566,
     "end_time": "2023-12-26T22:34:08.369515",
     "exception": false,
     "start_time": "2023-12-26T22:34:07.403949",
     "status": "completed"
    },
    "tags": []
   },
   "outputs": [
    {
     "name": "stderr",
     "output_type": "stream",
     "text": [
      "/opt/conda/lib/python3.10/site-packages/seaborn/algorithms.py:98: RuntimeWarning: Mean of empty slice\n",
      "  boot_dist.append(f(*sample, **func_kwargs))\n",
      "/opt/conda/lib/python3.10/site-packages/numpy/lib/nanfunctions.py:1556: RuntimeWarning: All-NaN slice encountered\n",
      "  return function_base._ureduce(a,\n"
     ]
    },
    {
     "data": {
      "image/png": "[encoded data removed]",
      "text/plain": [
       "<Figure size 500x500 with 1 Axes>"
      ]
     },
     "metadata": {},
     "output_type": "display_data"
    }
   ],
   "source": [
    "g = sns.catplot(x = \"SibSp\", y = \"Survived\", data = train_df,\n",
    "    kind=\"bar\",height=5 )\n",
    "g.set_ylabels(\"Survived Probability\")\n",
    "plt.show()"
   ]
  },
  {
   "cell_type": "markdown",
   "id": "e7c4c29d",
   "metadata": {
    "papermill": {
     "duration": 0.030931,
     "end_time": "2023-12-26T22:34:08.430224",
     "exception": false,
     "start_time": "2023-12-26T22:34:08.399293",
     "status": "completed"
    },
    "tags": []
   },
   "source": []
  },
  {
   "cell_type": "markdown",
   "id": "4906b5cd",
   "metadata": {
    "papermill": {
     "duration": 0.029013,
     "end_time": "2023-12-26T22:34:08.489641",
     "exception": false,
     "start_time": "2023-12-26T22:34:08.460628",
     "status": "completed"
    },
    "tags": []
   },
   "source": []
  },
  {
   "cell_type": "markdown",
   "id": "52544002",
   "metadata": {
    "papermill": {
     "duration": 0.02905,
     "end_time": "2023-12-26T22:34:08.548259",
     "exception": false,
     "start_time": "2023-12-26T22:34:08.519209",
     "status": "completed"
    },
    "tags": []
   },
   "source": []
  },
  {
   "cell_type": "markdown",
   "id": "8746507a",
   "metadata": {
    "papermill": {
     "duration": 0.029132,
     "end_time": "2023-12-26T22:34:08.606982",
     "exception": false,
     "start_time": "2023-12-26T22:34:08.577850",
     "status": "completed"
    },
    "tags": []
   },
   "source": []
  },
  {
   "cell_type": "markdown",
   "id": "edde700b",
   "metadata": {
    "papermill": {
     "duration": 0.029522,
     "end_time": "2023-12-26T22:34:08.665813",
     "exception": false,
     "start_time": "2023-12-26T22:34:08.636291",
     "status": "completed"
    },
    "tags": []
   },
   "source": []
  },
  {
   "cell_type": "markdown",
   "id": "4968b830",
   "metadata": {
    "papermill": {
     "duration": 0.029547,
     "end_time": "2023-12-26T22:34:08.724873",
     "exception": false,
     "start_time": "2023-12-26T22:34:08.695326",
     "status": "completed"
    },
    "tags": []
   },
   "source": []
  },
  {
   "cell_type": "markdown",
   "id": "498a116b",
   "metadata": {
    "papermill": {
     "duration": 0.02996,
     "end_time": "2023-12-26T22:34:08.785474",
     "exception": false,
     "start_time": "2023-12-26T22:34:08.755514",
     "status": "completed"
    },
    "tags": []
   },
   "source": [
    "# Drop Passenger ID and Cabin"
   ]
  },
  {
   "cell_type": "markdown",
   "id": "4758a407",
   "metadata": {
    "papermill": {
     "duration": 0.029984,
     "end_time": "2023-12-26T22:34:08.844873",
     "exception": false,
     "start_time": "2023-12-26T22:34:08.814889",
     "status": "completed"
    },
    "tags": []
   },
   "source": []
  },
  {
   "cell_type": "code",
   "execution_count": 34,
   "id": "ab1b5d79",
   "metadata": {
    "execution": {
     "iopub.execute_input": "2023-12-26T22:34:08.906764Z",
     "iopub.status.busy": "2023-12-26T22:34:08.906329Z",
     "iopub.status.idle": "2023-12-26T22:34:08.912317Z",
     "shell.execute_reply": "2023-12-26T22:34:08.911574Z"
    },
    "papermill": {
     "duration": 0.039842,
     "end_time": "2023-12-26T22:34:08.914572",
     "exception": false,
     "start_time": "2023-12-26T22:34:08.874730",
     "status": "completed"
    },
    "tags": []
   },
   "outputs": [],
   "source": [
    "train_df.drop(labels = [\"PassengerId\", \"Cabin\"], axis = 1, inplace = True)"
   ]
  },
  {
   "cell_type": "code",
   "execution_count": 35,
   "id": "c004a61e",
   "metadata": {
    "execution": {
     "iopub.execute_input": "2023-12-26T22:34:08.979409Z",
     "iopub.status.busy": "2023-12-26T22:34:08.978919Z",
     "iopub.status.idle": "2023-12-26T22:34:08.985503Z",
     "shell.execute_reply": "2023-12-26T22:34:08.984646Z"
    },
    "papermill": {
     "duration": 0.041974,
     "end_time": "2023-12-26T22:34:08.988358",
     "exception": false,
     "start_time": "2023-12-26T22:34:08.946384",
     "status": "completed"
    },
    "tags": []
   },
   "outputs": [
    {
     "data": {
      "text/plain": [
       "Index(['Survived', 'Pclass', 'Name', 'Sex', 'Age', 'SibSp', 'Parch', 'Ticket',\n",
       "       'Fare', 'Embarked'],\n",
       "      dtype='object')"
      ]
     },
     "execution_count": 35,
     "metadata": {},
     "output_type": "execute_result"
    }
   ],
   "source": [
    "train_df.columns"
   ]
  },
  {
   "cell_type": "markdown",
   "id": "3a767b40",
   "metadata": {
    "papermill": {
     "duration": 0.031184,
     "end_time": "2023-12-26T22:34:09.052150",
     "exception": false,
     "start_time": "2023-12-26T22:34:09.020966",
     "status": "completed"
    },
    "tags": []
   },
   "source": [
    "<a id= \"\"><a/><br>\n",
    "# **5-Modeling**"
   ]
  },
  {
   "cell_type": "code",
   "execution_count": 36,
   "id": "eff43d8d",
   "metadata": {
    "execution": {
     "iopub.execute_input": "2023-12-26T22:34:09.114043Z",
     "iopub.status.busy": "2023-12-26T22:34:09.113573Z",
     "iopub.status.idle": "2023-12-26T22:34:09.582159Z",
     "shell.execute_reply": "2023-12-26T22:34:09.580545Z"
    },
    "papermill": {
     "duration": 0.503945,
     "end_time": "2023-12-26T22:34:09.585576",
     "exception": false,
     "start_time": "2023-12-26T22:34:09.081631",
     "status": "completed"
    },
    "tags": []
   },
   "outputs": [],
   "source": [
    "from sklearn.model_selection import train_test_split, StratifiedKFold, GridSearchCV\n",
    "from sklearn.linear_model import LogisticRegression\n"
   ]
  },
  {
   "cell_type": "markdown",
   "id": "c04530bc",
   "metadata": {
    "papermill": {
     "duration": 0.030786,
     "end_time": "2023-12-26T22:34:09.647256",
     "exception": false,
     "start_time": "2023-12-26T22:34:09.616470",
     "status": "completed"
    },
    "tags": []
   },
   "source": [
    "<a id= \"12\"><a/><br>\n",
    "# Train - Test Split"
   ]
  },
  {
   "cell_type": "code",
   "execution_count": null,
   "id": "6cb61381",
   "metadata": {
    "papermill": {
     "duration": 0.029786,
     "end_time": "2023-12-26T22:34:09.706500",
     "exception": false,
     "start_time": "2023-12-26T22:34:09.676714",
     "status": "completed"
    },
    "tags": []
   },
   "outputs": [],
   "source": []
  },
  {
   "cell_type": "code",
   "execution_count": null,
   "id": "36ce1729",
   "metadata": {
    "papermill": {
     "duration": 0.029146,
     "end_time": "2023-12-26T22:34:09.765000",
     "exception": false,
     "start_time": "2023-12-26T22:34:09.735854",
     "status": "completed"
    },
    "tags": []
   },
   "outputs": [],
   "source": []
  },
  {
   "cell_type": "code",
   "execution_count": null,
   "id": "348e04b2",
   "metadata": {
    "papermill": {
     "duration": 0.029153,
     "end_time": "2023-12-26T22:34:09.823913",
     "exception": false,
     "start_time": "2023-12-26T22:34:09.794760",
     "status": "completed"
    },
    "tags": []
   },
   "outputs": [],
   "source": []
  },
  {
   "cell_type": "code",
   "execution_count": null,
   "id": "105262c5",
   "metadata": {
    "papermill": {
     "duration": 0.029385,
     "end_time": "2023-12-26T22:34:09.883141",
     "exception": false,
     "start_time": "2023-12-26T22:34:09.853756",
     "status": "completed"
    },
    "tags": []
   },
   "outputs": [],
   "source": []
  },
  {
   "cell_type": "markdown",
   "id": "711aa98f",
   "metadata": {
    "papermill": {
     "duration": 0.029235,
     "end_time": "2023-12-26T22:34:09.941916",
     "exception": false,
     "start_time": "2023-12-26T22:34:09.912681",
     "status": "completed"
    },
    "tags": []
   },
   "source": [
    "<a id= \"13\"><a/><br>\n",
    "# Simple Logistic Regression"
   ]
  },
  {
   "cell_type": "code",
   "execution_count": null,
   "id": "dd3f0a17",
   "metadata": {
    "papermill": {
     "duration": 0.029149,
     "end_time": "2023-12-26T22:34:10.000841",
     "exception": false,
     "start_time": "2023-12-26T22:34:09.971692",
     "status": "completed"
    },
    "tags": []
   },
   "outputs": [],
   "source": []
  }
 ],
 "metadata": {
  "kaggle": {
   "accelerator": "none",
   "dataSources": [
    {
     "databundleVersionId": 26502,
     "sourceId": 3136,
     "sourceType": "competition"
    }
   ],
   "dockerImageVersionId": 30626,
   "isGpuEnabled": false,
   "isInternetEnabled": false,
   "language": "python",
   "sourceType": "notebook"
  },
  "kernelspec": {
   "display_name": "Python 3",
   "language": "python",
   "name": "python3"
  },
  "language_info": {
   "codemirror_mode": {
    "name": "ipython",
    "version": 3
   },
   "file_extension": ".py",
   "mimetype": "text/x-python",
   "name": "python",
   "nbconvert_exporter": "python",
   "pygments_lexer": "ipython3",
   "version": "3.10.12"
  },
  "papermill": {
   "default_parameters": {},
   "duration": 15.961419,
   "end_time": "2023-12-26T22:34:10.755207",
   "environment_variables": {},
   "exception": null,
   "input_path": "__notebook__.ipynb",
   "output_path": "__notebook__.ipynb",
   "parameters": {},
   "start_time": "2023-12-26T22:33:54.793788",
   "version": "2.4.0"
  }
 },
 "nbformat": 4,
 "nbformat_minor": 5
}
